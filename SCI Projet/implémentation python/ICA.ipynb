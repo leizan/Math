{
 "cells": [
  {
   "cell_type": "code",
   "execution_count": 1,
   "metadata": {},
   "outputs": [],
   "source": [
    "import numpy as np\n",
    "import scipy.io as sio\n",
    "from numpy import linalg as LA\n",
    "import math\n",
    "import sounddevice as sd"
   ]
  },
  {
   "cell_type": "code",
   "execution_count": 2,
   "metadata": {},
   "outputs": [],
   "source": [
    "#Blanchisement of signal\n",
    "dataSignal = sio.loadmat(\"SignauxMelange.mat\")\n",
    "x1 = np.array(dataSignal['v_melange_out_1']).reshape(1,88200)\n",
    "x2 = np.array(dataSignal['v_melange_out_2']).reshape(1,88200)\n",
    "n= x1.shape[1]\n",
    "X = np.concatenate((x1, x2), axis=0)\n",
    "w, v = LA.eig(X.dot(X.T))\n",
    "D = np.diag(w**(-1/2))\n",
    "xTilde = np.dot(v, D).dot(v.T).dot(X)\n",
    "\n",
    "#Choose randomly the value of w1 and w2 \n",
    "w1 = np.array([[0.7],[-0.6]]) # (0.5,0.2) pire   (0.7, 0.8)\n",
    "w2 = np.array([[0.35],[0.21]]) "
   ]
  },
  {
   "cell_type": "code",
   "execution_count": 3,
   "metadata": {},
   "outputs": [],
   "source": [
    "def Firstcompo(w):\n",
    "    #while(LA.norm(w-w_1)>0.1): # colinear condition de convergence est different\n",
    "    for i in range(1000):\n",
    "        gPrime = np.sum(1.- np.tanh(w.T.dot(xTilde))**2)/n \n",
    "        g = xTilde * np.tanh(w.T.dot(xTilde))\n",
    "        g = np.sum(g, axis=1,keepdims=True)/n\n",
    "        wPlus = g - gPrime*w\n",
    "        w=wPlus/LA.norm(wPlus)\n",
    "    return w"
   ]
  },
  {
   "cell_type": "code",
   "execution_count": 4,
   "metadata": {},
   "outputs": [],
   "source": [
    "#Load reference signals\n",
    "dataReference = sio.loadmat(\"SignauxReference.mat\")    \n",
    "s1 =  np.array(dataReference['v_melange_in_1']).reshape(1,88200)\n",
    "s2 =  np.array(dataReference['v_melange_in_2']).reshape(1,88200)"
   ]
  },
  {
   "cell_type": "code",
   "execution_count": 5,
   "metadata": {},
   "outputs": [],
   "source": [
    "def EQMN(s, sHat):\n",
    "    eqmn=1-(float(s.dot(sHat.T))/(LA.norm(s)*LA.norm(sHat)))**2\n",
    "    return 10*math.log(eqmn)"
   ]
  },
  {
   "cell_type": "code",
   "execution_count": 6,
   "metadata": {},
   "outputs": [
    {
     "name": "stdout",
     "output_type": "stream",
     "text": [
      "EQMN:\n",
      "-55.53635209994206\n",
      "EQMN:\n",
      "-55.28980563482729\n"
     ]
    }
   ],
   "source": [
    "#Get the first w\n",
    "w1=Firstcompo(w1)\n",
    "\n",
    "\n",
    "# Implement orthogonalization of Gram-Schmidt  \n",
    "w2=w2-float(w1.T.dot(w2))*w1\n",
    "w2=w2/LA.norm(w2)\n",
    "\n",
    "\n",
    "y1 = w1.T.dot(xTilde)\n",
    "eqmn_1_w1 = EQMN(y1, s1)\n",
    "eqmn_2_w1 = EQMN(y1, s2)\n",
    "print(\"EQMN:\")\n",
    "print(eqmn_1_w1)\n",
    "\n",
    "y2 = w2.T.dot(xTilde)\n",
    "eqmn_1_w2 = EQMN(y2, s1)\n",
    "eqmn_2_w2 = EQMN(y2, s2)\n",
    "print(\"EQMN:\")\n",
    "print(eqmn_2_w2)\n"
   ]
  },
  {
   "cell_type": "code",
   "execution_count": 7,
   "metadata": {},
   "outputs": [
    {
     "name": "stdout",
     "output_type": "stream",
     "text": [
      "The mixed signal 1.\n"
     ]
    }
   ],
   "source": [
    "print(\"The mixed signal 1.\")\n",
    "sd.play(x1.reshape(88200,),44100)"
   ]
  },
  {
   "cell_type": "code",
   "execution_count": 8,
   "metadata": {},
   "outputs": [
    {
     "name": "stdout",
     "output_type": "stream",
     "text": [
      "The mixed signal 2.\n"
     ]
    }
   ],
   "source": [
    "print(\"The mixed signal 2.\")\n",
    "sd.play(x2.reshape(88200,),44100)"
   ]
  },
  {
   "cell_type": "code",
   "execution_count": 9,
   "metadata": {},
   "outputs": [
    {
     "name": "stdout",
     "output_type": "stream",
     "text": [
      "The reference signal 1.\n"
     ]
    }
   ],
   "source": [
    "print(\"The reference signal 1.\")\n",
    "sd.play(s1.reshape(88200,),44100)"
   ]
  },
  {
   "cell_type": "code",
   "execution_count": 10,
   "metadata": {},
   "outputs": [
    {
     "name": "stdout",
     "output_type": "stream",
     "text": [
      "The reference signal 2.\n"
     ]
    }
   ],
   "source": [
    "print(\"The reference signal 2.\")\n",
    "sd.play(s2.reshape(88200,),44100)"
   ]
  },
  {
   "cell_type": "code",
   "execution_count": 11,
   "metadata": {},
   "outputs": [
    {
     "name": "stdout",
     "output_type": "stream",
     "text": [
      "The seperated signal 1.\n"
     ]
    }
   ],
   "source": [
    "print(\"The seperated signal 1.\")\n",
    "sd.play(y1.reshape(88200,),44100)"
   ]
  },
  {
   "cell_type": "code",
   "execution_count": 12,
   "metadata": {},
   "outputs": [
    {
     "name": "stdout",
     "output_type": "stream",
     "text": [
      "The seperated signal 2.\n"
     ]
    }
   ],
   "source": [
    "print(\"The seperated signal 2.\")\n",
    "sd.play(y2.reshape(88200,),44100)"
   ]
  }
 ],
 "metadata": {
  "kernelspec": {
   "display_name": "Python 3",
   "language": "python",
   "name": "python3"
  },
  "language_info": {
   "codemirror_mode": {
    "name": "ipython",
    "version": 3
   },
   "file_extension": ".py",
   "mimetype": "text/x-python",
   "name": "python",
   "nbconvert_exporter": "python",
   "pygments_lexer": "ipython3",
   "version": "3.6.8"
  }
 },
 "nbformat": 4,
 "nbformat_minor": 2
}
