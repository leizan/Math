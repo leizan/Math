{
 "cells": [
  {
   "cell_type": "code",
   "execution_count": 1,
   "metadata": {},
   "outputs": [],
   "source": [
    "import numpy as np\n",
    "import scipy.io as sio\n",
    "from numpy import linalg as LA\n",
    "import math\n",
    "import sounddevice as sd"
   ]
  },
  {
   "cell_type": "code",
   "execution_count": 2,
   "metadata": {},
   "outputs": [],
   "source": [
    "#Calculating all the correlation matrix\n",
    "def autoCor(x1, x2, N, T):\n",
    "    K = int(T/N)\n",
    "    R11 = np.zeros((N,N))\n",
    "    R12 = np.zeros((N,N))\n",
    "    R21 = np.zeros((N,N))\n",
    "    R22 = np.zeros((N,N))\n",
    "    for k in range(K):\n",
    "        x1k= x1[k*N:(k+1)*N,:]\n",
    "        x1kT= x1[k*N:(k+1)*N,:].T\n",
    "        x2k= x2[k*N:(k+1)*N,:]\n",
    "        x2kT= x2[k*N:(k+1)*N,:].T\n",
    "        R11+= x1k.dot(x1kT)\n",
    "        R12+= x1k.dot(x2kT)\n",
    "        R21+= x2k.dot(x1kT)\n",
    "        R22+= x2k.dot(x2kT)\n",
    "    R11/=K\n",
    "    R12/=K\n",
    "    R21/=K\n",
    "    R22/=K\n",
    "    return (R11, R12, R21, R22)\n"
   ]
  },
  {
   "cell_type": "code",
   "execution_count": 3,
   "metadata": {},
   "outputs": [],
   "source": [
    "#Calculationg off and trace of the matix \n",
    "def offTr(R):\n",
    "    row = R.shape[0]\n",
    "    tr = np.trace(R)\n",
    "    sm = np.sum(R) \n",
    "    off = (sm -tr)/(row*(row-1))\n",
    "    tr/=row\n",
    "    return (tr, off)"
   ]
  },
  {
   "cell_type": "code",
   "execution_count": 4,
   "metadata": {},
   "outputs": [],
   "source": [
    "#L’erreur  quadratique  moyenne  normalisée\n",
    "def EQMN(s, sHat):\n",
    "    eqmn=1-(float(s.dot(sHat.T))/(LA.norm(s)*LA.norm(sHat)))**2\n",
    "    return 10*math.log(eqmn)"
   ]
  },
  {
   "cell_type": "code",
   "execution_count": 5,
   "metadata": {},
   "outputs": [
    {
     "name": "stdout",
     "output_type": "stream",
     "text": [
      "EQMN:\n",
      "-59.702225593945634\n",
      "EQMN:\n",
      "-78.88699088906348\n"
     ]
    }
   ],
   "source": [
    "#Load data\n",
    "dataSignal = sio.loadmat(\"SignauxMelange.mat\")\n",
    "x1 = np.array(dataSignal['v_melange_out_1']).reshape(88200,1)\n",
    "x2 = np.array(dataSignal['v_melange_out_2']).reshape(88200,1)\n",
    "dataReference = sio.loadmat(\"SignauxReference.mat\")    \n",
    "s1 =  np.array(dataReference['v_melange_in_1']).reshape(1,88200)\n",
    "s2 =  np.array(dataReference['v_melange_in_2']).reshape(1,88200)\n",
    "\n",
    "#Concatenation of x1 and x2 to form X\n",
    "X = np.concatenate((x1.T, x2.T), axis=0)\n",
    "\n",
    "#The size of window\n",
    "N = 10\n",
    "T = x1.shape[0]\n",
    "\n",
    "(R11, R12, R21, R22) = autoCor(x1, x2, N, T)   \n",
    "(T11, F11) =  offTr(R11) \n",
    "(T12, F12) =  offTr(R12) \n",
    "(T22, F22) =  offTr(R22) \n",
    "\n",
    "#Go to watch paper \n",
    "variance=0\n",
    "#The calculation all coefficients\n",
    "alpha = 2*F12*T12-(F11*(T22-variance)+F22*(T11-variance))\n",
    "beta=2*(T12**2-(T11-variance)*(T22-variance))\n",
    "gama=(F11*(T22-variance)-F22*(T11-variance))**2+4*(F12*(T22-variance)-T12*F22)*(F12*(T11-variance)-T12*F11)\n",
    "\n",
    "d1=alpha-math.sqrt(gama)\n",
    "d2=alpha+math.sqrt(gama)\n",
    "\n",
    "A = np.array([[beta*F11-(T11-variance)*d1, beta*F12-T12*d2],[beta*F12-T12*d1, beta*F22-(T22-variance)*d2]])\n",
    "\n",
    "row_norms = LA.norm(A,axis=1).reshape(2,1)\n",
    "A = A / row_norms\n",
    "\n",
    "sEstime=LA.inv(A).dot(X)\n",
    "\n",
    "eqmn_1 = EQMN(s2, sEstime[0])\n",
    "eqmn_2= EQMN(s1, sEstime[1])\n",
    "\n",
    "print(\"EQMN:\")\n",
    "print(eqmn_1)\n",
    "print(\"EQMN:\")\n",
    "print(eqmn_2)"
   ]
  },
  {
   "cell_type": "code",
   "execution_count": 7,
   "metadata": {},
   "outputs": [
    {
     "name": "stdout",
     "output_type": "stream",
     "text": [
      "The mixed signal 1.\n"
     ]
    }
   ],
   "source": [
    "print(\"The mixed signal 1.\")\n",
    "sd.play(x1.reshape(88200,),44100)"
   ]
  },
  {
   "cell_type": "code",
   "execution_count": 8,
   "metadata": {},
   "outputs": [
    {
     "name": "stdout",
     "output_type": "stream",
     "text": [
      "The mixed signal 2.\n"
     ]
    }
   ],
   "source": [
    "print(\"The mixed signal 2.\")\n",
    "sd.play(x2.reshape(88200,),44100)"
   ]
  },
  {
   "cell_type": "code",
   "execution_count": 9,
   "metadata": {},
   "outputs": [
    {
     "name": "stdout",
     "output_type": "stream",
     "text": [
      "The reference signal 1.\n"
     ]
    }
   ],
   "source": [
    "print(\"The reference signal 1.\")\n",
    "sd.play(s1.reshape(88200,),44100)"
   ]
  },
  {
   "cell_type": "code",
   "execution_count": 10,
   "metadata": {},
   "outputs": [
    {
     "name": "stdout",
     "output_type": "stream",
     "text": [
      "The reference signal 2.\n"
     ]
    }
   ],
   "source": [
    "print(\"The reference signal 2.\")\n",
    "sd.play(s2.reshape(88200,),44100)"
   ]
  },
  {
   "cell_type": "code",
   "execution_count": 11,
   "metadata": {},
   "outputs": [
    {
     "name": "stdout",
     "output_type": "stream",
     "text": [
      "The seperated signal 1.\n"
     ]
    }
   ],
   "source": [
    "print(\"The seperated signal 1.\")\n",
    "sd.play(sEstime[0].reshape(88200,),44100)"
   ]
  },
  {
   "cell_type": "code",
   "execution_count": 12,
   "metadata": {},
   "outputs": [
    {
     "name": "stdout",
     "output_type": "stream",
     "text": [
      "The seperated signal 2.\n"
     ]
    }
   ],
   "source": [
    "print(\"The seperated signal 2.\")\n",
    "sd.play(sEstime[1].reshape(88200,),44100)"
   ]
  }
 ],
 "metadata": {
  "kernelspec": {
   "display_name": "Python 3",
   "language": "python",
   "name": "python3"
  },
  "language_info": {
   "codemirror_mode": {
    "name": "ipython",
    "version": 3
   },
   "file_extension": ".py",
   "mimetype": "text/x-python",
   "name": "python",
   "nbconvert_exporter": "python",
   "pygments_lexer": "ipython3",
   "version": "3.6.8"
  }
 },
 "nbformat": 4,
 "nbformat_minor": 2
}
