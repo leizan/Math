{
 "cells": [
  {
   "cell_type": "code",
   "execution_count": 63,
   "metadata": {},
   "outputs": [],
   "source": [
    "import cv2 as cv\n",
    "import numpy as np\n",
    "import matplotlib.pyplot as plt"
   ]
  },
  {
   "cell_type": "code",
   "execution_count": 7,
   "metadata": {},
   "outputs": [
    {
     "data": {
      "text/plain": [
       "255"
      ]
     },
     "execution_count": 7,
     "metadata": {},
     "output_type": "execute_result"
    }
   ],
   "source": [
    "img = cv.imread(\"glasscelling.jpg\")\n",
    "cv.imshow('img',img)\n",
    "cv.waitKey(0)"
   ]
  },
  {
   "cell_type": "code",
   "execution_count": 8,
   "metadata": {},
   "outputs": [],
   "source": [
    "cameraMatrix= np.zeros((3,3))\n",
    "cameraMatrix[0][0] = 760.906\n",
    "cameraMatrix[1][1] = 760.906\n",
    "cameraMatrix[0][2] = 626.164\n",
    "cameraMatrix[1][2] = 368.235 \n",
    "cameraMatrix[2][2] = 1\n",
    "distCoeffs = np.array([0.0915489, -0.23991, 0, 0, 0.111233]) \n",
    "dst = cv.undistort(img, cameraMatrix, distCoeffs)"
   ]
  },
  {
   "cell_type": "code",
   "execution_count": 9,
   "metadata": {},
   "outputs": [
    {
     "data": {
      "text/plain": [
       "255"
      ]
     },
     "execution_count": 9,
     "metadata": {},
     "output_type": "execute_result"
    }
   ],
   "source": [
    "cv.imshow('img',img)\n",
    "cv.imshow('dst',dst)\n",
    "cv.waitKey(0)"
   ]
  },
  {
   "cell_type": "code",
   "execution_count": 10,
   "metadata": {},
   "outputs": [],
   "source": [
    "def draw_circle(event,x,y,flags,param):\n",
    "    global mouseX,mouseY\n",
    "    if event == cv.EVENT_LBUTTONDBLCLK:\n",
    "        cv.circle(img,(x,y),100,(255,0,0),-1)\n",
    "        mouseX,mouseY = x,y"
   ]
  },
  {
   "cell_type": "code",
   "execution_count": 15,
   "metadata": {},
   "outputs": [],
   "source": [
    "cv.namedWindow('mouseCallBack')\n",
    "cv.setMouseCallback('mouseCallBack', draw_circle)"
   ]
  },
  {
   "cell_type": "code",
   "execution_count": 19,
   "metadata": {},
   "outputs": [
    {
     "name": "stdout",
     "output_type": "stream",
     "text": [
      "Start Mouse Position: 774, 346\n",
      "End Mouse Position: 940, 373\n",
      "Start Mouse Position: 417, 426\n",
      "End Mouse Position: 573, 450\n",
      "Start Mouse Position: 626, 368\n",
      "End Mouse Position: 874, 492\n",
      "Start Mouse Position: 4, 480\n",
      "End Mouse Position: 1173, 642\n",
      "Start Mouse Position: 2, 578\n",
      "End Mouse Position: 532, 642\n",
      "Start Mouse Position: 643, 135\n",
      "End Mouse Position: 1198, 247\n",
      "Start Mouse Position: 1278, 540\n",
      "End Mouse Position: 1005, 614\n",
      "Start Mouse Position: 3, 213\n",
      "End Mouse Position: 420, 282\n",
      "Start Mouse Position: 1, 10\n",
      "End Mouse Position: 631, 140\n",
      "Start Mouse Position: 1127, 8\n",
      "End Mouse Position: 760, 715\n",
      "Start Mouse Position: 670, 6\n",
      "End Mouse Position: 522, 710\n"
     ]
    },
    {
     "ename": "KeyboardInterrupt",
     "evalue": "",
     "output_type": "error",
     "traceback": [
      "\u001b[0;31m---------------------------------------------------------------------------\u001b[0m",
      "\u001b[0;31mKeyboardInterrupt\u001b[0m                         Traceback (most recent call last)",
      "\u001b[0;32m<ipython-input-19-7defdb47b060>\u001b[0m in \u001b[0;36m<module>\u001b[0;34m\u001b[0m\n\u001b[1;32m     23\u001b[0m     \u001b[0mcv\u001b[0m\u001b[0;34m.\u001b[0m\u001b[0msetMouseCallback\u001b[0m\u001b[0;34m(\u001b[0m\u001b[0;34m'real image'\u001b[0m\u001b[0;34m,\u001b[0m \u001b[0mon_mouse\u001b[0m\u001b[0;34m,\u001b[0m \u001b[0;36m0\u001b[0m\u001b[0;34m)\u001b[0m\u001b[0;34m\u001b[0m\u001b[0;34m\u001b[0m\u001b[0m\n\u001b[1;32m     24\u001b[0m     \u001b[0mcv\u001b[0m\u001b[0;34m.\u001b[0m\u001b[0mimshow\u001b[0m\u001b[0;34m(\u001b[0m\u001b[0;34m'real image'\u001b[0m\u001b[0;34m,\u001b[0m \u001b[0mdst\u001b[0m\u001b[0;34m)\u001b[0m\u001b[0;34m\u001b[0m\u001b[0;34m\u001b[0m\u001b[0m\n\u001b[0;32m---> 25\u001b[0;31m     \u001b[0mcv\u001b[0m\u001b[0;34m.\u001b[0m\u001b[0mwaitKey\u001b[0m \u001b[0;34m(\u001b[0m\u001b[0;36m10000\u001b[0m\u001b[0;34m)\u001b[0m \u001b[0;31m# 显示 10000 ms 即 10s 后消失\u001b[0m\u001b[0;34m\u001b[0m\u001b[0;34m\u001b[0m\u001b[0m\n\u001b[0m\u001b[1;32m     26\u001b[0m     \u001b[0mcv\u001b[0m\u001b[0;34m.\u001b[0m\u001b[0mdestroyAllWindows\u001b[0m\u001b[0;34m(\u001b[0m\u001b[0;34m)\u001b[0m\u001b[0;34m\u001b[0m\u001b[0;34m\u001b[0m\u001b[0m\n",
      "\u001b[0;31mKeyboardInterrupt\u001b[0m: "
     ]
    }
   ],
   "source": [
    "from time import time\n",
    "boxes = []\n",
    "def on_mouse(event, x, y, flags, params):\n",
    "    # global img\n",
    "    t = time()\n",
    "\n",
    "    if event == cv.EVENT_LBUTTONDOWN:\n",
    "        print('Start Mouse Position: '+str(x)+', '+str(y))\n",
    "        sbox = (x, y)\n",
    "        boxes.append(sbox)\n",
    "    elif event == cv.EVENT_LBUTTONUP:\n",
    "        print('End Mouse Position: '+str(x)+', '+str(y))\n",
    "        ebox = (x, y)\n",
    "        boxes.append(ebox)\n",
    "        thickness = 1 \n",
    "        lineType = 4\n",
    "        point_color = (0, 255, 0)\n",
    "        cv.line(dst, boxes[-2], boxes[-1], point_color, thickness, lineType)\n",
    "\n",
    "count = 0\n",
    "while(1):\n",
    "    cv.namedWindow('real image')\n",
    "    cv.setMouseCallback('real image', on_mouse, 0)\n",
    "    cv.imshow('real image', dst)\n",
    "    cv.waitKey (10000) # 显示 10000 ms 即 10s 后消失\n",
    "    cv.destroyAllWindows()"
   ]
  },
  {
   "cell_type": "code",
   "execution_count": 88,
   "metadata": {},
   "outputs": [
    {
     "name": "stderr",
     "output_type": "stream",
     "text": [
      "/homes/n17zan/.local/lib/python3.6/site-packages/ipykernel_launcher.py:35: DeprecationWarning: `as_dcm` is deprecated!\n",
      "as_dcm is renamed to as_matrix in scipy 1.4.0 and will be removed in scipy 1.6.0\n"
     ]
    }
   ],
   "source": [
    "import numpy as np\n",
    "import copy as cp\n",
    "from scipy.spatial.transform import Rotation as Rot\n",
    "\n",
    "###\n",
    "# Generate an articial 3D rectangle of specific dimentions in front of the camera, \n",
    "#parallel to the image plane, as a set of 3D points expressed in homogeneous coordinates\n",
    "#(therefore, each point is 4-dimensional). Their coordinates are expressed \n",
    "#in the coordinate frame of the camera (which coincides with the world)\n",
    "\n",
    "z = 0.3\n",
    "rec_dim = 0.1\n",
    "npts = 1000\n",
    "\n",
    "rectangle = []\n",
    "rectangle += [[-rec_dim/2 + (rec_dim*i)/npts, -rec_dim/2, z, 1.] for i in range(0, npts)] # Append upper edge\n",
    "rectangle += [[rec_dim/2, -rec_dim/2 + (rec_dim*i)/npts, z, 1.] for i in range(0, npts)] # Append right rectangle\n",
    "rectangle += [[rec_dim/2 - (rec_dim*i)/npts, rec_dim/2, z, 1.] for i in range(0, npts)] # Append lower edge\n",
    "rectangle += [[-rec_dim/2, rec_dim/2 - (rec_dim*i)/npts, z, 1.] for i in range(0, npts)] # Append left edge\n",
    "rectangle = np.array(rectangle).T # Change to numpy.array type and transpose\n",
    "###\n",
    "\n",
    "###\n",
    "# Generate an artificial 3D cube as 6 faces of the 3D rectangle\n",
    "new_face = cp.deepcopy(rectangle)\n",
    "new_face[2, :] += rec_dim\n",
    "half_cube = np.concatenate((rectangle, new_face), axis=1)\n",
    "half_cube[2, :] -= z\n",
    "\n",
    "half_cube_1 = cp.deepcopy(half_cube) # This should store the front and back face\n",
    "\n",
    "half_cube[2, :] -= (rec_dim/2) # Translating to the center of origin in order to apply rotation around the centroid of the points\n",
    "\n",
    "r = Rot.from_euler('xyz', [0.0, np.pi/2, 0]) # Specify the desired rotation as a sequence of 3 Euler angles\n",
    "rot_matrix = r.as_dcm() # Obtain the corresponding 3x3 rotation matrix\n",
    "hom_rot_matrix = np.eye(4)\n",
    "hom_rot_matrix[:3, :3] = rot_matrix\n",
    "\n",
    "half_cube_2 = np.matmul(hom_rot_matrix, half_cube) # Apply rotation\n",
    "half_cube_2[2, :] += (rec_dim/2) # Restore points to their original translation. This should store the left and right cube faces\n",
    "\n",
    "cube = np.concatenate((half_cube_1, half_cube_2), axis=1)\n",
    "###"
   ]
  },
  {
   "cell_type": "code",
   "execution_count": 100,
   "metadata": {},
   "outputs": [],
   "source": [
    "affineMatrix = np.concatenate((cameraMatrix, np.zeros((3,1))), axis = 1)\n",
    "coordinate_2D = np.dot(affineMatrix,rectangle)"
   ]
  },
  {
   "cell_type": "code",
   "execution_count": 95,
   "metadata": {},
   "outputs": [
    {
     "data": {
      "text/plain": [
       "<matplotlib.collections.PathCollection at 0x7ff7c09569b0>"
      ]
     },
     "execution_count": 95,
     "metadata": {},
     "output_type": "execute_result"
    },
    {
     "data": {
      "image/png": "[encoded data removed]",
      "text/plain": [
       "<Figure size 432x288 with 1 Axes>"
      ]
     },
     "metadata": {
      "needs_background": "light"
     },
     "output_type": "display_data"
    }
   ],
   "source": [
    "coordinate_2D_Nor = coordinate_2D/coordinate_2D[-1,:]\n",
    "plt.scatter(coordinate_2D_Nor[0,:],coordinate_2D_Nor[1,:])"
   ]
  },
  {
   "cell_type": "code",
   "execution_count": 102,
   "metadata": {},
   "outputs": [],
   "source": [
    "affineMatrix_double = np.copy(affineMatrix)\n",
    "affineMatrix_double[0][0]*=2\n",
    "affineMatrix_double[1][1]*=2\n",
    "coordinate_2D_double = np.dot(affineMatrix_double,rectangle)"
   ]
  },
  {
   "cell_type": "code",
   "execution_count": 105,
   "metadata": {},
   "outputs": [],
   "source": [
    "affineMatrix_half = np.copy(affineMatrix)\n",
    "affineMatrix_half[0][0]/=2\n",
    "affineMatrix_half[1][1]/=2"
   ]
  }
 ],
 "metadata": {
  "kernelspec": {
   "display_name": "Python 3",
   "language": "python",
   "name": "python3"
  },
  "language_info": {
   "codemirror_mode": {
    "name": "ipython",
    "version": 3
   },
   "file_extension": ".py",
   "mimetype": "text/x-python",
   "name": "python",
   "nbconvert_exporter": "python",
   "pygments_lexer": "ipython3",
   "version": "3.6.9"
  }
 },
 "nbformat": 4,
 "nbformat_minor": 2
}
