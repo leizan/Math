{
 "cells": [
  {
   "cell_type": "markdown",
   "metadata": {},
   "source": [
    "<img\n",
    "src=\"https://www.imt-atlantique.fr/sites/default/files/Images/Ecole/charte-graphique/IMT_Atlantique_logo_RVB_Baseline_400x272.jpg\"\n",
    "WIDTH=200 HEIGHT=200>\n",
    "\n",
    "<CENTER>\n",
    "</br>\n",
    "<p><font size=\"5\"> TAF MCE - 2019</span></p>\n",
    "<p><font size=\"4\">  UE Numerical Methods </font></p>\n",
    "<p></p>\n",
    "<p><font size=\"5\">  Notebook 05: JuliaOpt - Julia optimization libraries - statement</font></p>\n",
    "</p></br>\n",
    "</p>\n",
    "</CENTER>\n",
    "\n",
    "---------------------------"
   ]
  },
  {
   "cell_type": "markdown",
   "metadata": {},
   "source": [
    "# <span style=\"color:#00B8DE\"> I - Symbolic computation for optimization with Sympy</span>\n",
    "\n",
    "Sympy is a Python library for symbolic computation that can be interfaced simply with Julia. It can be used when possible to get closed form solution of optimization problems. Inside Julia, additional Julia syntaxes can be used to work with Sympy.\n",
    "\n",
    "## Refs:\n",
    "\n",
    "> - https://www.sympy.org/ (sympy website)\n",
    "> - https://github.com/JuliaPy/SymPy.jl (SymPy Julia interface)\n",
    "> - http://mth229.github.io/symbolic.html (tuto)\n",
    "> - https://github.com/jverzani/SymPy.jl/blob/master/examples/tutorial.md (tuto)\n"
   ]
  },
  {
   "cell_type": "code",
   "execution_count": 1,
   "metadata": {},
   "outputs": [],
   "source": [
    "#using Pkg\n",
    "#Pkg.add(\"SymPy\")\n",
    "#Pkg.build(\"SpecialFunctions\")"
   ]
  },
  {
   "cell_type": "markdown",
   "metadata": {},
   "source": [
    "## <span style=\"color:#00B8DE\"> a) - Example </span>"
   ]
  },
  {
   "cell_type": "code",
   "execution_count": 2,
   "metadata": {},
   "outputs": [
    {
     "data": {
      "text/latex": [
       "\\[ \\left[ \\begin{array}{r}- \\frac{1}{4} - \\frac{\\sqrt{39} i}{4}\\\\- \\frac{1}{4} + \\frac{\\sqrt{39} i}{4}\\end{array} \\right] \\]"
      ],
      "text/plain": [
       "2-element Array{Sym,1}:\n",
       " -1/4 - sqrt(39)*I/4\n",
       " -1/4 + sqrt(39)*I/4"
      ]
     },
     "execution_count": 2,
     "metadata": {},
     "output_type": "execute_result"
    }
   ],
   "source": [
    "using SymPy\n",
    "#using LaTeXStrings\n",
    "\n",
    "@vars z\n",
    "solve((2z^2+z+5)')"
   ]
  },
  {
   "cell_type": "code",
   "execution_count": 3,
   "metadata": {},
   "outputs": [
    {
     "data": {
      "text/latex": [
       "\\begin{equation*}4 z^{3} + 2 z + 6\\end{equation*}"
      ],
      "text/plain": [
       "   3          \n",
       "4⋅z  + 2⋅z + 6"
      ]
     },
     "execution_count": 3,
     "metadata": {},
     "output_type": "execute_result"
    }
   ],
   "source": [
    "diff(z^4+z^2+6z,z)"
   ]
  },
  {
   "cell_type": "code",
   "execution_count": 4,
   "metadata": {},
   "outputs": [
    {
     "data": {
      "text/plain": [
       "(1, -1)"
      ]
     },
     "execution_count": 4,
     "metadata": {},
     "output_type": "execute_result"
    }
   ],
   "source": [
    "a = symbols(\"a\",positive=true)\n",
    "b = symbols(\"b\",negative=true)\n",
    "diff(abs(a)),diff(abs(b))"
   ]
  },
  {
   "cell_type": "markdown",
   "metadata": {},
   "source": [
    "## <span style=\"color:#00B8DE\"> b) - Constrained optimization: equality constraint </span>\n",
    "\n",
    "Using Sympy solve \n",
    "\n",
    "$$\n",
    "\\left\\{\n",
    "\\begin{array}{l}\n",
    "{\\text{opt}}_{x,y}\\; f(x,y) = xy \\\\\n",
    "{\\text {s.t.}}\\; h(x,y) = \\left(\\dfrac x a \\right)^2 + \\left(\\dfrac y b \\right)^2-1=0\n",
    "\\end{array}\n",
    "\\right.\n",
    "$$"
   ]
  },
  {
   "cell_type": "code",
   "execution_count": 5,
   "metadata": {},
   "outputs": [
    {
     "data": {
      "text/plain": [
       "4-element Array{Dict{Any,Any},1}:\n",
       " Dict(λ => -a*b/2,x => -sqrt(2)*a/2,y => -sqrt(2)*b/2)\n",
       " Dict(λ => a*b/2,x => -sqrt(2)*a/2,y => sqrt(2)*b/2)  \n",
       " Dict(λ => a*b/2,x => sqrt(2)*a/2,y => -sqrt(2)*b/2)  \n",
       " Dict(λ => -a*b/2,x => sqrt(2)*a/2,y => sqrt(2)*b/2)  "
      ]
     },
     "execution_count": 5,
     "metadata": {},
     "output_type": "execute_result"
    }
   ],
   "source": [
    "import SymPy\n",
    "# Parameters & functions\n",
    "@vars x y\n",
    "a,b    = symbols(\"a b\", positive=true)\n",
    "λ      = symbols(\"λ\",real=true)\n",
    "f(x,y) = x*y\n",
    "h(x,y) = x^2/a^2 + y^2/b^2 - 1\n",
    "# Solution\n",
    "l(x,y,λ) = f(x,y)+λ*(h(x,y))  #l(x,y,λ) = f(x,y)+λ(h(x,y)) wrong expression!!!\n",
    "KKT_eqs = [diff(l(x,y,λ),x),diff(l(x,y,λ),y),h(x,y)]\n",
    "\n",
    "p = solve(KKT_eqs, [x, y, λ],dict=True)"
   ]
  },
  {
   "cell_type": "markdown",
   "metadata": {},
   "source": [
    "## <span style=\"color:#00B8DE\"> c) - Constrained optimization: inequality constraint </span>\n",
    "\n",
    "Using Sympy solve \n",
    "\n",
    "$$\n",
    "\\left\\{\n",
    "\\begin{array}{l}\n",
    "{\\text{opt}}_{x,y}\\; f(x,y) = xy \\\\\n",
    "{\\text {s.t.}}\\; g_1(x,y) = (\\frac x a)^2 + (\\frac y b)^2\\leq 1;\\quad g_2(x,y) = -bx-ay+ab \\leq 0\n",
    "\\end{array}\n",
    "\\right.\n",
    "$$"
   ]
  },
  {
   "cell_type": "code",
   "execution_count": 6,
   "metadata": {},
   "outputs": [
    {
     "data": {
      "text/plain": [
       "2-element Array{Dict{Any,Any},1}:\n",
       " Dict(x => 0,µ1 => a*b/2,y => b,µ2 => 1)\n",
       " Dict(x => a,µ1 => a*b/2,y => 0,µ2 => 1)"
      ]
     },
     "execution_count": 6,
     "metadata": {},
     "output_type": "execute_result"
    }
   ],
   "source": [
    "# parameters & functions\n",
    "#-----------------------\n",
    "@vars x y\n",
    "a,b    = symbols(\"a b\", positive=true)\n",
    "µ1,µ2  = symbols(\"µ1 µ2\",real=true)\n",
    "f(x,y) = x*y\n",
    "g1(x,y) = x^2/a^2 + y^2/b^2 - 1\n",
    "g2(x,y) = -b*x-a*y+a*b\n",
    "l(x,y,µ1,µ2) = f(x,y)+µ1*g1(x,y)+µ2*g2(x,y)\n",
    "KKT_eqs = [diff(l(x,y,µ1,µ2),x),diff(l(x,y,µ1,µ2),y),µ1*g1(x,y),µ2*g2(x,y),g1(x,y),g2(x,y)]\n",
    "# Solution\n",
    "#-----------\n",
    "p = solve(KKT_eqs, [x, y,µ1,µ2 ],dict=True)"
   ]
  },
  {
   "cell_type": "markdown",
   "metadata": {},
   "source": [
    "# <span style=\"color:#00B8DE\"> II - Using JuliaOpt</span>\n",
    "\n",
    "If high performance numerical optimization is searched for optimization, one can look at **JuliaOpt** (http://www.juliaopt.org/), an organization that brings together packages related to optimization. In particular it supplies\n",
    "\n",
    "> - Julia standalone packages such as **Optim.jl** or **Convex.jl**\n",
    "> - modeling languages\n",
    "> - external solver interfaces\n",
    "<!-- >![alt text](./optim_overview.png) -->\n",
    "\n",
    "#### *Note:* **MathProgBase** library is an API (Application Programming Interface) for mathematical optimization solvers that has been replaced recently by **MathOptInterface**\n"
   ]
  },
  {
   "cell_type": "markdown",
   "metadata": {},
   "source": [
    "## Refs:\n",
    "\n",
    "> - https://www.juliaopt.org/ (JuliaOpt)\n",
    "> - http://www.juliaopt.org/packages/ (JuliaOpt packages list)\n",
    "> - https://github.com/JuliaOpt/Convex.jl (Convex)\n",
    "> - https://convexjl.readthedocs.io/en/latest/\n",
    "> - http://www.juliaopt.org/JuMP.jl/v0.19.0/ (JuMP)\n",
    "> - https://github.com/JuliaOpt/MathOptInterface.jl (MathOptInterface)"
   ]
  },
  {
   "cell_type": "markdown",
   "metadata": {},
   "source": [
    "## <span style=\"color:#00B8DE\"> a) Minimizing Rosenborck's function with Optim.jl</span>\n",
    "\n",
    "**Optim.jl**: a project to implement basic optimization algorithms in pure Julia for univariate and multivariate optimization.\n",
    "\n",
    "\n",
    "https://github.com/JuliaNLSolvers/Optim.jl\n",
    "\n",
    "Minimize Rosenbrock's $f({\\bf x})=\\sum_{i=1:n-1}[(1-{\\bf x}_i)^2+100(x_{i+1}-x_i^2)^2]$ with library **Optim.jl**\n",
    "using the conjugate gradient method. \n",
    "> - First let the algorithm compute the gradient by itself. Compare several optimization methods.\n",
    "> - Then, call the optimization function supplying the gradient function. \n",
    "> - Compare execution time\n",
    "\n",
    "Choose for instance $n=10$."
   ]
  },
  {
   "cell_type": "code",
   "execution_count": 7,
   "metadata": {},
   "outputs": [
    {
     "name": "stdout",
     "output_type": "stream",
     "text": [
      "\u001b[32m\u001b[1m  Updating\u001b[22m\u001b[39m registry at `~/.julia/registries/General`\n",
      "\u001b[32m\u001b[1m  Updating\u001b[22m\u001b[39m git-repo `https://github.com/JuliaRegistries/General.git`\n",
      "\u001b[?25l\u001b[2K\u001b[?25h\u001b[32m\u001b[1m Resolving\u001b[22m\u001b[39m package versions...\n",
      "\u001b[32m\u001b[1m  Updating\u001b[22m\u001b[39m `~/.julia/environments/v1.2/Project.toml`\n",
      "\u001b[90m [no changes]\u001b[39m\n",
      "\u001b[32m\u001b[1m  Updating\u001b[22m\u001b[39m `~/.julia/environments/v1.2/Manifest.toml`\n",
      "\u001b[90m [no changes]\u001b[39m\n"
     ]
    }
   ],
   "source": [
    "using Pkg\n",
    "Pkg.add(\"Optim\")"
   ]
  },
  {
   "cell_type": "code",
   "execution_count": 8,
   "metadata": {},
   "outputs": [],
   "source": [
    "using Optim"
   ]
  },
  {
   "cell_type": "code",
   "execution_count": 9,
   "metadata": {},
   "outputs": [
    {
     "data": {
      "text/plain": [
       "rosenbrock (generic function with 1 method)"
      ]
     },
     "execution_count": 9,
     "metadata": {},
     "output_type": "execute_result"
    }
   ],
   "source": [
    "rosenbrock(x) = sum([(1.0 - x[i])^2 + 100.0 * (x[i+1] - x[i]^2)^2 for i in range(1,stop=9)])"
   ]
  },
  {
   "cell_type": "code",
   "execution_count": 11,
   "metadata": {},
   "outputs": [
    {
     "data": {
      "text/plain": [
       " * Status: failure (objective increased between iterations) (line search failed)\n",
       "\n",
       " * Candidate solution\n",
       "    Minimizer: [1.00e+00, 1.00e+00, 1.00e+00,  ...]\n",
       "    Minimum:   7.517991e-17\n",
       "\n",
       " * Found with\n",
       "    Algorithm:     Newton's Method\n",
       "    Initial Point: [0.00e+00, 0.00e+00, 0.00e+00,  ...]\n",
       "\n",
       " * Convergence measures\n",
       "    |x - x'|               = 1.14e-14 ≰ 0.0e+00\n",
       "    |x - x'|/|x'|          = 1.14e-14 ≰ 0.0e+00\n",
       "    |f(x) - f(x')|         = 6.73e-23 ≰ 0.0e+00\n",
       "    |f(x) - f(x')|/|f(x')| = 8.95e-07 ≰ 0.0e+00\n",
       "    |g(x)|                 = 1.05e-07 ≰ 1.0e-08\n",
       "\n",
       " * Work counters\n",
       "    Seconds run:   1  (vs limit Inf)\n",
       "    Iterations:    25\n",
       "    f(x) calls:    122\n",
       "    ∇f(x) calls:   122\n",
       "    ∇²f(x) calls:  26\n"
      ]
     },
     "execution_count": 11,
     "metadata": {},
     "output_type": "execute_result"
    }
   ],
   "source": [
    "result = optimize(rosenbrock, zeros(10), Newton())"
   ]
  },
  {
   "cell_type": "code",
   "execution_count": 12,
   "metadata": {},
   "outputs": [
    {
     "data": {
      "text/plain": [
       " * Status: success\n",
       "\n",
       " * Candidate solution\n",
       "    Minimizer: [1.00e+00, 1.00e+00, 1.00e+00,  ...]\n",
       "    Minimum:   1.812227e-16\n",
       "\n",
       " * Found with\n",
       "    Algorithm:     Conjugate Gradient\n",
       "    Initial Point: [0.00e+00, 0.00e+00, 0.00e+00,  ...]\n",
       "\n",
       " * Convergence measures\n",
       "    |x - x'|               = 2.09e-11 ≰ 0.0e+00\n",
       "    |x - x'|/|x'|          = 2.09e-11 ≰ 0.0e+00\n",
       "    |f(x) - f(x')|         = 1.63e-18 ≰ 0.0e+00\n",
       "    |f(x) - f(x')|/|f(x')| = 9.00e-03 ≰ 0.0e+00\n",
       "    |g(x)|                 = 7.52e-09 ≤ 1.0e-08\n",
       "\n",
       " * Work counters\n",
       "    Seconds run:   0  (vs limit Inf)\n",
       "    Iterations:    194\n",
       "    f(x) calls:    405\n",
       "    ∇f(x) calls:   212\n"
      ]
     },
     "execution_count": 12,
     "metadata": {},
     "output_type": "execute_result"
    }
   ],
   "source": [
    "result = optimize(rosenbrock, zeros(10), ConjugateGradient())"
   ]
  },
  {
   "cell_type": "code",
   "execution_count": 13,
   "metadata": {},
   "outputs": [
    {
     "data": {
      "text/plain": [
       " * Status: failure (reached maximum number of iterations) (line search failed)\n",
       "\n",
       " * Candidate solution\n",
       "    Minimizer: [9.97e-01, 9.94e-01, 9.89e-01,  ...]\n",
       "    Minimum:   3.899416e-01\n",
       "\n",
       " * Found with\n",
       "    Algorithm:     Gradient Descent\n",
       "    Initial Point: [0.00e+00, 0.00e+00, 0.00e+00,  ...]\n",
       "\n",
       " * Convergence measures\n",
       "    |x - x'|               = 7.29e-04 ≰ 0.0e+00\n",
       "    |x - x'|/|x'|          = 7.31e-04 ≰ 0.0e+00\n",
       "    |f(x) - f(x')|         = 1.19e-03 ≰ 0.0e+00\n",
       "    |f(x) - f(x')|/|f(x')| = 3.06e-03 ≰ 0.0e+00\n",
       "    |g(x)|                 = 5.96e-01 ≰ 1.0e-08\n",
       "\n",
       " * Work counters\n",
       "    Seconds run:   0  (vs limit Inf)\n",
       "    Iterations:    1000\n",
       "    f(x) calls:    2502\n",
       "    ∇f(x) calls:   2502\n"
      ]
     },
     "execution_count": 13,
     "metadata": {},
     "output_type": "execute_result"
    }
   ],
   "source": [
    "result = optimize(rosenbrock, zeros(10), GradientDescent())"
   ]
  },
  {
   "cell_type": "code",
   "execution_count": 14,
   "metadata": {},
   "outputs": [
    {
     "data": {
      "text/plain": [
       "∇_Ros! (generic function with 1 method)"
      ]
     },
     "execution_count": 14,
     "metadata": {},
     "output_type": "execute_result"
    }
   ],
   "source": [
    "function ∇_Ros!(∇,x)\n",
    "    ∇[1] = -2*(1-x[1])-400*(x[2]-x[1]^2)*x[1]\n",
    "    for i in range(2,stop=9)\n",
    "        ∇[i] = -2*(1-x[i])-400*(x[i+1]-x[i]^2)*x[i] +200*(x[i]-x[i-1]^2)\n",
    "    end\n",
    "    ∇[10] = 200*(x[10]-x[9]^2)\n",
    "end"
   ]
  },
  {
   "cell_type": "code",
   "execution_count": 15,
   "metadata": {},
   "outputs": [
    {
     "data": {
      "text/plain": [
       " * Status: success\n",
       "\n",
       " * Candidate solution\n",
       "    Minimizer: [1.00e+00, 1.00e+00, 1.00e+00,  ...]\n",
       "    Minimum:   5.953138e-25\n",
       "\n",
       " * Found with\n",
       "    Algorithm:     Newton's Method\n",
       "    Initial Point: [0.00e+00, 0.00e+00, 0.00e+00,  ...]\n",
       "\n",
       " * Convergence measures\n",
       "    |x - x'|               = 5.54e-07 ≰ 0.0e+00\n",
       "    |x - x'|/|x'|          = 5.54e-07 ≰ 0.0e+00\n",
       "    |f(x) - f(x')|         = 1.02e-13 ≰ 0.0e+00\n",
       "    |f(x) - f(x')|/|f(x')| = 1.71e+11 ≰ 0.0e+00\n",
       "    |g(x)|                 = 2.63e-11 ≤ 1.0e-08\n",
       "\n",
       " * Work counters\n",
       "    Seconds run:   0  (vs limit Inf)\n",
       "    Iterations:    24\n",
       "    f(x) calls:    69\n",
       "    ∇f(x) calls:   69\n",
       "    ∇²f(x) calls:  24\n"
      ]
     },
     "execution_count": 15,
     "metadata": {},
     "output_type": "execute_result"
    }
   ],
   "source": [
    "optimize(rosenbrock, ∇_Ros!, zeros(10), Newton())"
   ]
  },
  {
   "cell_type": "markdown",
   "metadata": {},
   "source": [
    " "
   ]
  },
  {
   "cell_type": "markdown",
   "metadata": {},
   "source": [
    "## <span style=\"color:#00B8DE\"> b) Linear and quadratic problems with Convex.jl</span>\n",
    "\n",
    "**Convex.jl**: A Julia library for solving linear and convex problems via disciplined convex optimization (see the first slides of http://stanford.edu/~boyd/papers/pdf/dcp_talk.pdf for an introduction to the subject)\n",
    "\n",
    "<!-- \n",
    "Examples: https://nbviewer.jupyter.org/github/JuliaOpt/Convex.jl/blob/master/examples/basic_usage.ipynb\n",
    "\n",
    "https://convexjl.readthedocs.io/en/latest/quick_tutorial.html \n",
    "-->"
   ]
  },
  {
   "cell_type": "code",
   "execution_count": 16,
   "metadata": {},
   "outputs": [
    {
     "name": "stdout",
     "output_type": "stream",
     "text": [
      "\u001b[32m\u001b[1m Resolving\u001b[22m\u001b[39m package versions...\n",
      "\u001b[32m\u001b[1m  Updating\u001b[22m\u001b[39m `~/.julia/environments/v1.2/Project.toml`\n",
      "\u001b[90m [no changes]\u001b[39m\n",
      "\u001b[32m\u001b[1m  Updating\u001b[22m\u001b[39m `~/.julia/environments/v1.2/Manifest.toml`\n",
      "\u001b[90m [no changes]\u001b[39m\n",
      "\u001b[32m\u001b[1m Resolving\u001b[22m\u001b[39m package versions...\n",
      "\u001b[32m\u001b[1m  Updating\u001b[22m\u001b[39m `~/.julia/environments/v1.2/Project.toml`\n",
      "\u001b[90m [no changes]\u001b[39m\n",
      "\u001b[32m\u001b[1m  Updating\u001b[22m\u001b[39m `~/.julia/environments/v1.2/Manifest.toml`\n",
      "\u001b[90m [no changes]\u001b[39m\n"
     ]
    }
   ],
   "source": [
    "import Pkg\n",
    "Pkg.add(\"Convex\") \n",
    "Pkg.add(\"ECOS\") # a lightweight LQ (linear and quadratic) and conic solver "
   ]
  },
  {
   "cell_type": "markdown",
   "metadata": {},
   "source": [
    "#### <span style=\"color:#00B8DE\"> Examples: linear programming</span>"
   ]
  },
  {
   "cell_type": "code",
   "execution_count": 17,
   "metadata": {},
   "outputs": [
    {
     "name": "stdout",
     "output_type": "stream",
     "text": [
      "problem status = Optimal\n",
      "[x, y, z]= [1.0, 1.0, 0.25]\n"
     ]
    }
   ],
   "source": [
    "using Convex\n",
    "using ECOS\n",
    "\n",
    "x = Variable()\n",
    "y = Variable()\n",
    "z = Variable()\n",
    "expr = x + y + z\n",
    "    problem = minimize(expr, x >= 1, y >= x, 4 * z >= y)\n",
    "solve!(problem, ECOSSolver(verbose=0))\n",
    "println(\"problem status = $(problem.status)\")\n",
    "println(\"[x, y, z]= $([round.(a.value; digits=2) for a in (x, y, z)])\")"
   ]
  },
  {
   "cell_type": "code",
   "execution_count": 18,
   "metadata": {},
   "outputs": [
    {
     "name": "stdout",
     "output_type": "stream",
     "text": [
      "problem status = Optimal\n",
      "objective = 81.5\n",
      "x_opt = [1.5; 5.0; 10.0; 10.0]\n",
      "x[1] + x[4] - x[2] = [6.0]\n"
     ]
    }
   ],
   "source": [
    "using LinearAlgebra: Diagonal, norm\n",
    "\n",
    "x = Variable(4)\n",
    "c = [1; 2; 3; 4]\n",
    "A = Diagonal(ones(4))\n",
    "b = [10; 10; 10; 10]\n",
    "p = Convex.maximize(dot(c, x)) # or c' * x\n",
    "p.constraints += A * x <= b\n",
    "p.constraints += [x >=0 ; x <= 10; x[2] <= 5; x[1] + x[4] - x[2] <= 6.5]\n",
    "Convex.solve!(p, ECOSSolver(verbose=0))\n",
    "\n",
    "println(\"problem status = $(p.status)\")\n",
    "println(\"objective = $(round(p.optval; digits=2))\")\n",
    "println(\"x_opt = $(round.(x.value; digits=2))\")\n",
    "println(\"x[1] + x[4] - x[2] = $(round.(evaluate(x[1] + x[4] - x[2])))\")"
   ]
  },
  {
   "cell_type": "markdown",
   "metadata": {},
   "source": [
    "#### <span style=\"color:#00B8DE\"> Exercise: constrained minimum squared error</span>\n",
    "\n",
    "> - Write and test a function to solve \n",
    "$$\n",
    "\\min \\parallel{\\bf Ax}-{\\bf b}\\parallel\\; s.t.\\; {\\bf x}\\succeq 0.\n",
    "$$"
   ]
  },
  {
   "cell_type": "code",
   "execution_count": 19,
   "metadata": {},
   "outputs": [
    {
     "name": "stdout",
     "output_type": "stream",
     "text": [
      "problem status = Optimal\n",
      "objective = -0.0\n",
      "x_opt = [0.9; 0.95; 2.39; 1.06; 2.87]\n"
     ]
    }
   ],
   "source": [
    "function MSE(A,b)\n",
    "    # Minimize ||Ax - b||^2 subject to x >= 0\n",
    "    x = Variable(5)\n",
    "    p = Convex.minimize(norm(A*x-b))\n",
    "    p.constraints += [x >=0]\n",
    "    Convex.solve!(p, ECOSSolver(verbose=0))\n",
    "    println(\"problem status = $(p.status)\")\n",
    "    println(\"objective = $(round(p.optval; digits=2))\")\n",
    "    println(\"x_opt = $(round.(x.value; digits=2))\")\n",
    "end\n",
    "    \n",
    "# Generate random problem data\n",
    "m = 3;  n = 5\n",
    "A = randn(m, n); b = randn(m, 1)\n",
    "MSE(A,b)"
   ]
  },
  {
   "cell_type": "markdown",
   "metadata": {},
   "source": [
    "## <span style=\"color:#00B8DE\"> c) Using JuMP.jl</span>\n",
    "\n",
    "We will look at **JuMP** modeling language and use it with several optimization solvers.\n",
    "\n",
    "**Notes** \n",
    "> - The API **MathProgBase** is being deprecated and replaced by **MathOptInterface**\n",
    "> - Some packages need installation of additional libraries, possibly as a super-user (see system administrator)\n"
   ]
  },
  {
   "cell_type": "code",
   "execution_count": 20,
   "metadata": {},
   "outputs": [
    {
     "name": "stdout",
     "output_type": "stream",
     "text": [
      "\u001b[32m\u001b[1m Resolving\u001b[22m\u001b[39m package versions...\n",
      "\u001b[32m\u001b[1m  Updating\u001b[22m\u001b[39m `~/.julia/environments/v1.2/Project.toml`\n",
      "\u001b[90m [no changes]\u001b[39m\n",
      "\u001b[32m\u001b[1m  Updating\u001b[22m\u001b[39m `~/.julia/environments/v1.2/Manifest.toml`\n",
      "\u001b[90m [no changes]\u001b[39m\n"
     ]
    }
   ],
   "source": [
    "using Pkg\n",
    "Pkg.add(\"JuMP\")"
   ]
  },
  {
   "cell_type": "code",
   "execution_count": 21,
   "metadata": {},
   "outputs": [
    {
     "name": "stdout",
     "output_type": "stream",
     "text": [
      "\u001b[32m\u001b[1m Resolving\u001b[22m\u001b[39m package versions...\n",
      "\u001b[32m\u001b[1m  Updating\u001b[22m\u001b[39m `~/.julia/environments/v1.2/Project.toml`\n",
      "\u001b[90m [no changes]\u001b[39m\n",
      "\u001b[32m\u001b[1m  Updating\u001b[22m\u001b[39m `~/.julia/environments/v1.2/Manifest.toml`\n",
      "\u001b[90m [no changes]\u001b[39m\n"
     ]
    }
   ],
   "source": [
    "#Pkg.add(\"Cbc\")      # LQ (linear and quadratic) programming\n",
    "#Pkg.add(\"Clp\")      # LQ programming\n",
    "#Pkg.add(\"SCS\")      # popular for cone programming\n",
    "#Pkg.add(\"Pajarito\") # MICP (mixed integer constraint)\n",
    "#Pkg.add(\"NLopt\")    # nonlinear optimization\n",
    "Pkg.add(\"GLPK\")     # GNU Linear Programming Kit"
   ]
  },
  {
   "cell_type": "markdown",
   "metadata": {},
   "source": [
    "#### <span style=\"color:#00B8DE\"> Example 1: linear program</span>"
   ]
  },
  {
   "cell_type": "code",
   "execution_count": 22,
   "metadata": {},
   "outputs": [
    {
     "name": "stdout",
     "output_type": "stream",
     "text": [
      "Max 5 x + 3 y\n",
      "Subject to\n",
      " x + 5 y ≤ 3.0\n",
      " x ≥ 0.0\n",
      " y ≥ 0.0\n",
      " x ≤ 2.0\n",
      " y ≤ 30.0\n",
      "\n",
      "Objective value: 10.6"
     ]
    },
    {
     "name": "stderr",
     "output_type": "stream",
     "text": [
      "WARNING: using JuMP.solve in module Main conflicts with an existing identifier.\n"
     ]
    },
    {
     "name": "stdout",
     "output_type": "stream",
     "text": [
      "\n",
      "x = 2.0\n",
      "y = 0.2\n"
     ]
    },
    {
     "data": {
      "text/plain": [
       "\u001b[32m\u001b[1mTest Passed\u001b[22m\u001b[39m"
      ]
     },
     "execution_count": 22,
     "metadata": {},
     "output_type": "execute_result"
    }
   ],
   "source": [
    "# https://github.com/JuliaOpt/JuMP.jl/blob/master/examples/basic.jl\n",
    "using JuMP, GLPK, Test\n",
    "\"\"\"\n",
    "example_basic([verbose = true])\n",
    "Formulate and solve a simple LP:\n",
    "    max 5x + 3y\n",
    "     st 1x + 5y <= 3\n",
    "         0 <= x <= 2\n",
    "         0 <= y <= 30\n",
    "If `verbose = true`, print the model and the solution.\n",
    "\"\"\"\n",
    "function example_basic(verbose=true)\n",
    "    model = Model(with_optimizer(GLPK.Optimizer))\n",
    "    @variable(model, 0 <= x <= 2)\n",
    "    @variable(model, 0 <= y <= 30)\n",
    "    @objective(model, Max, 5x + 3y)\n",
    "    @constraint(model, 1x + 5y <= 3.0)\n",
    "\n",
    "    #set_silent(model)\n",
    "    if verbose\n",
    "        print(model)\n",
    "    end\n",
    "\n",
    "    optimize!(model)\n",
    "    if verbose\n",
    "        println(\"\\nObjective value: $(objective_value(model))\")\n",
    "        println(\"x = $(value(x))\")\n",
    "        println(\"y = $(value(y))\")\n",
    "    end\n",
    "\n",
    "    @test objective_value(model) ≈ 10.6\n",
    "    @test value(x) ≈ 2\n",
    "    @test value(y) ≈ 0.2\n",
    "end\n",
    "\n",
    "verbose = true\n",
    "example_basic(verbose)"
   ]
  },
  {
   "cell_type": "markdown",
   "metadata": {},
   "source": [
    "x+5y=3, x=2, 5+μ+ν=0, 3+5μ=0 ⇒ x,y,μ,ν=2,0.2,-2/3,-13/3\n",
    "μ and ν are negative (maximization problem) and other multipliers set to 0, Khun&Tucker conditions are satisfied and problem is convex. Hence we got the true solution"
   ]
  },
  {
   "cell_type": "markdown",
   "metadata": {},
   "source": [
    "#### <span style=\"color:#00B8DE\"> Example 2: quadratic objective</span>"
   ]
  },
  {
   "cell_type": "code",
   "execution_count": 23,
   "metadata": {},
   "outputs": [
    {
     "name": "stdout",
     "output_type": "stream",
     "text": [
      "\u001b[32m\u001b[1m Resolving\u001b[22m\u001b[39m package versions...\n",
      "\u001b[32m\u001b[1m  Updating\u001b[22m\u001b[39m `~/.julia/environments/v1.2/Project.toml`\n",
      "\u001b[90m [no changes]\u001b[39m\n",
      "\u001b[32m\u001b[1m  Updating\u001b[22m\u001b[39m `~/.julia/environments/v1.2/Manifest.toml`\n",
      "\u001b[90m [no changes]\u001b[39m\n"
     ]
    }
   ],
   "source": [
    "Pkg.add(\"Ipopt\")    # Interior Point Optimizer "
   ]
  },
  {
   "cell_type": "code",
   "execution_count": 33,
   "metadata": {},
   "outputs": [
    {
     "name": "stdout",
     "output_type": "stream",
     "text": [
      "Min x * x + (2.0 * x) * y + y * y\n",
      "Subject to\n",
      " x + y ≥ 1.0\n",
      " x ≥ 0.0\n",
      " y ≥ 0.0\n",
      " x ≤ 2.0\n",
      " y ≤ 30.0\n",
      "\n",
      "Objective value: 1.0\n",
      "x = 0.28\n",
      "y = 0.72\n"
     ]
    }
   ],
   "source": [
    "using JuMP\n",
    "using Ipopt\n",
    "\n",
    "function example_quadratic(verbose = true)\n",
    "    m = Model(with_optimizer(Ipopt.Optimizer,print_level=0))\n",
    "    @variable(m, 0 <= x <= 2 )\n",
    "    @variable(m, 0 <= y <= 30 )\n",
    "    #@objective(m, Min, x*x+ 2x*y + y*y)\n",
    "    @objective(m, Min, x*x+ 2x*y + y*y)  #??? non linear\n",
    "    @constraint(m, x + y >= 1 )\n",
    " \n",
    "    if verbose\n",
    "        print(m)\n",
    "    end\n",
    "\n",
    "    set_silent(m)\n",
    "    optimize!(m)\n",
    "    if verbose\n",
    "        println(\"\\nObjective value: $(round(objective_value(m);digits=2))\")\n",
    "        println(\"x = $(round(value(x);digits=2))\")\n",
    "        println(\"y = $(round(value(y);digits=2))\")\n",
    "    end\n",
    "end\n",
    "\n",
    "example_quadratic()"
   ]
  },
  {
   "cell_type": "markdown",
   "metadata": {},
   "source": [
    "#### <span style=\"color:#00B8DE\"> Example 3: conic constraints</span>\n",
    "\n",
    "Let $x\\in\\mathbb{R}^{n+1}, A\\in\\mathbb{R}^{n\\times n}, b\\in\\mathbb{R}^{n}$. Solve \n",
    "$$\n",
    "\\left\\{\n",
    "\\begin{array}{l}\n",
    "\\min_{x} \\parallel x-u\\parallel \\\\\n",
    "{\\text {s.t.}}\\; \\parallel Ax_{1:n}-b\\parallel \\leq x_{n+1};\\;x\\geq 0\n",
    "\\end{array}\n",
    "\\right.\n",
    "$$"
   ]
  },
  {
   "cell_type": "code",
   "execution_count": 25,
   "metadata": {},
   "outputs": [
    {
     "name": "stdout",
     "output_type": "stream",
     "text": [
      "Min t\n",
      "Subject to\n",
      " [t, x[1] + 0.7047408700016059, x[2] - 0.8259707887425296, x[3] + 0.07328250438553288, x[4] + 2.1037412110914064] ∈ MathOptInterface.SecondOrderCone(5)\n",
      " [x[5], -1.3264855308318637 x[1] - 0.1208884310687295 x[2] + 0.3786094224218241 x[3] + 0.6069825388044972 x[4] - 0.7210568518753514, -0.7436663602327511 x[1] - 1.4398718116412494 x[2] - 1.725233462268641 x[3] - 0.66346518574889 x[4] - 0.7135422958590153, 0.3509540468222277 x[1] + 0.25576152221469894 x[2] + 1.1005192862837911 x[3] + 0.0012693181173841672 x[4] + 0.5534749305633501, -0.2384433871664136 x[1] + 1.105225078663753 x[2] + 1.045170341154931 x[3] + 0.9947588648574123 x[4] + 1.3299446321674968] ∈ MathOptInterface.SecondOrderCone(5)\n",
      " x[1] ≥ 0.0\n",
      " x[2] ≥ 0.0\n",
      " x[3] ≥ 0.0\n",
      " x[4] ≥ 0.0\n",
      " x[5] ≥ 0.0\n",
      "\n",
      "Objective value: 2.22\n",
      "x = [0.0, 0.83, 0.0, 0.0]\n",
      "t = 2.22\n"
     ]
    }
   ],
   "source": [
    "using JuMP, ECOS, LinearAlgebra\n",
    "\n",
    "function example_quadratic(n; verbose = true)\n",
    "    A = randn(n,n)\n",
    "    b = randn(n)\n",
    "    u = randn(n)\n",
    "\n",
    "    m = Model(with_optimizer(ECOS.Optimizer))\n",
    "    @variable(m, x[i=1:n+1]>=0)\n",
    "    ##########################\n",
    "    @variable(m, t)\n",
    "    @objective(m, Min, t)\n",
    "    @constraint(m, vcat(t, (x[1:n]-u)) in SecondOrderCone())\n",
    "    ##########################\n",
    "    # Know also works with\n",
    "    # @objective(m, Min, (x[1:n]-u)'*(x[1:n]-u))\n",
    "    v = vcat(x[n+1],(A*x[1:n]-b))\n",
    "    @constraint(m, v in SecondOrderCone())\n",
    "\n",
    "    print(m)\n",
    "    \n",
    "    std = stdout # save original stdout stream\n",
    "    redirect_stdout()\n",
    "    JuMP.optimize!(m)\n",
    "    redirect_stdout(std) # restore stdout\n",
    "\n",
    "    println(\"\\nObjective value: $(round.(JuMP.objective_value(m);digits=2))\")\n",
    "    println(\"x = $(round.([JuMP.value(x[k]) for k=1:n];digits=2))\")\n",
    "    println(\"t = $(round.(JuMP.value(t);digits=2))\")\n",
    "end\n",
    "\n",
    "example_quadratic(4)"
   ]
  },
  {
   "cell_type": "markdown",
   "metadata": {},
   "source": [
    "#### <span style=\"color:#00B8DE\"> Exercise 1: nonlinear optimization</span>\n",
    "\n",
    "Using **Ipopt** solver, solve\n",
    "\n",
    "$$\n",
    "\\max_{x,y} xy^2\\\\\n",
    "{\\text {s.t.}}\\; x^3+y^2= 1;\\;x\\geq 0;\\;y\\geq 0\n",
    "$$\n",
    "\n",
    "Compare the result obtained with the theoretical solution\n"
   ]
  },
  {
   "cell_type": "code",
   "execution_count": 26,
   "metadata": {},
   "outputs": [
    {
     "name": "stdout",
     "output_type": "stream",
     "text": [
      "Max x * y ^ 2.0\n",
      "Subject to\n",
      " x ≥ 0.0\n",
      " y ≥ 0.0\n",
      " (x ^ 3.0 + y ^ 2.0) - 1.0 = 0\n",
      "\n",
      "Objective value: 0.47\n",
      "x = 0.63\n",
      "y = 0.87\n"
     ]
    },
    {
     "data": {
      "text/plain": [
       "(x, y)"
      ]
     },
     "execution_count": 26,
     "metadata": {},
     "output_type": "execute_result"
    }
   ],
   "source": [
    "using JuMP\n",
    "using Ipopt\n",
    "\n",
    "function example_quadratic(verbose = true)\n",
    "    m = Model(with_optimizer(Ipopt.Optimizer,print_level=0))\n",
    "    @variable(m, 0 <= x )\n",
    "    @variable(m, 0 <= y  )\n",
    "    @NLobjective(m, Max, x*y^2)\n",
    "    @NLconstraint(m, x^3 + y^2 == 1) # == not =\n",
    "     \n",
    "    if verbose\n",
    "        print(m)\n",
    "    end\n",
    "\n",
    "    set_silent(m)\n",
    "    optimize!(m)\n",
    "    if verbose\n",
    "        println(\"\\nObjective value: $(round(objective_value(m);digits=2))\")\n",
    "        println(\"x = $(round(value(x);digits=2))\")\n",
    "        println(\"y = $(round(value(y);digits=2))\")\n",
    "    end\n",
    "    return x,y\n",
    "end\n",
    "\n",
    "x,y = example_quadratic()"
   ]
  },
  {
   "cell_type": "code",
   "execution_count": 27,
   "metadata": {},
   "outputs": [
    {
     "name": "stdout",
     "output_type": "stream",
     "text": [
      "Error evaluation: [εx,εy] = [4.1957082252963573e-10, -2.879871896510622e-10]"
     ]
    }
   ],
   "source": [
    "# s = print(\"\\U221B\")\n",
    "\n",
    "print(\"Error evaluation: [εx,εy] = \")\n",
    "print(\"[\", JuMP.value(x)-1/∛4,\", \", JuMP.value(y)-√3/2,\"]\" )"
   ]
  },
  {
   "cell_type": "markdown",
   "metadata": {},
   "source": [
    "#### <span style=\"color:#00B8DE\"> Exercise 2: nonlinear optimization (SISEA Master, June 2016)</span>\n",
    "\n",
    "Using **Ipopt** solver, solve\n",
    "$$\n",
    "{\\text {solve}}\\; \\min_{x,y} x-y^2\\\\\n",
    "{\\text {s.t.}}\\; x^2+y^2\\leq 1\n",
    "$$\n",
    "\n",
    "Compare the result obtained with the theoretical solution"
   ]
  },
  {
   "cell_type": "code",
   "execution_count": 28,
   "metadata": {},
   "outputs": [
    {
     "name": "stdout",
     "output_type": "stream",
     "text": [
      "Min x - y ^ 2.0\n",
      "Subject to\n",
      " (x ^ 2.0 + y ^ 2.0) - 1.0 ≤ 0\n",
      "\n",
      "Objective value: -1.0\n",
      "x = -1.0\n",
      "y = 0.0\n"
     ]
    },
    {
     "data": {
      "text/plain": [
       "(x, y)"
      ]
     },
     "execution_count": 28,
     "metadata": {},
     "output_type": "execute_result"
    }
   ],
   "source": [
    "using JuMP\n",
    "using Ipopt\n",
    "\n",
    "function example_quadratic(verbose = true)\n",
    "    m = Model(with_optimizer(Ipopt.Optimizer,print_level=0))\n",
    "    @variable(m, x )\n",
    "    @variable(m,  y  )\n",
    "    \n",
    "    \n",
    "    @NLobjective(m, Min, x-y^2)\n",
    "    @NLconstraint(m, x^2 + y^2 <= 1)\n",
    "     \n",
    "    if verbose\n",
    "        print(m)\n",
    "    end\n",
    "\n",
    "    set_silent(m)\n",
    "    optimize!(m)\n",
    "    if verbose\n",
    "        println(\"\\nObjective value: $(round(objective_value(m);digits=2))\")\n",
    "        println(\"x = $(round(value(x);digits=2))\")\n",
    "        println(\"y = $(round(value(y);digits=2))\")\n",
    "    end\n",
    "    return x,y\n",
    "end\n",
    "\n",
    "x,y = example_quadratic()"
   ]
  },
  {
   "cell_type": "markdown",
   "metadata": {},
   "source": [
    "#### <span style=\"color:#00B8DE\"> Exercise 3: constrained maximum likelihood estimation</span>\n",
    "\n",
    "> - Implement the maximum likelihood estimation of mean $\\mu$ and variance $\\sigma^2$ for Gaussian $\\mathcal{N}(0,1)$ sample\n",
    "> - Implement the same problem under additional constraint $\\mu=\\sigma^2$"
   ]
  },
  {
   "cell_type": "code",
   "execution_count": 29,
   "metadata": {},
   "outputs": [
    {
     "name": "stdout",
     "output_type": "stream",
     "text": [
      "μ = 0.006909585365884357\n",
      "mean(data) = 0.006909585365884373\n",
      "σ^2 = 1.0015793317771342\n",
      "var(data) = 1.0016794997268554\n",
      "MLE objective: -14197.275761766736\n",
      "\n",
      "With constraint μ == σ^2:\n",
      "μ = 0.6187614017952928\n",
      "σ^2 = 0.6187614017952928\n",
      "Constrained MLE objective: -17907.725805713973\n"
     ]
    },
    {
     "data": {
      "text/plain": [
       "\u001b[32m\u001b[1mTest Passed\u001b[22m\u001b[39m"
      ]
     },
     "execution_count": 29,
     "metadata": {},
     "output_type": "execute_result"
    }
   ],
   "source": [
    "#https://github.com/JuliaOpt/JuMP.jl/blob/master/examples/mle.jl\n",
    "\n",
    "using JuMP, Ipopt, Random, Statistics, Test\n",
    "\n",
    "\"\"\"\n",
    "    example_mle()\n",
    "Use nonlinear optimization to compute the maximum likelihood estimate (MLE) of\n",
    "the parameters of a normal distribution aka the sample mean and variance\n",
    "\"\"\"\n",
    "function example_mle(; verbose = true)\n",
    "    n = 10000\n",
    "    Random.seed!(1234)\n",
    "    data = randn(n)\n",
    "    model = Model(with_optimizer(Ipopt.Optimizer,print_level=0))\n",
    "    set_silent(model)\n",
    "    @variable(model, μ, start = 0.0)\n",
    "    @variable(model, σ >= 0.0, start = 1.0)\n",
    "    @NLobjective(model, Max, n / 2 * log(1 / (2 * π * σ^2)) -\n",
    "        sum((data[i] - μ)^2 for i in 1:n) / (2 * σ^2)\n",
    "    )\n",
    "    JuMP.optimize!(model)\n",
    "    if verbose\n",
    "        println(\"μ = \", JuMP.value(μ))\n",
    "        println(\"mean(data) = \", mean(data))\n",
    "        println(\"σ^2 = \", JuMP.value(σ)^2)\n",
    "        println(\"var(data) = \", var(data))\n",
    "        println(\"MLE objective: \", JuMP.objective_value(model))\n",
    "    end\n",
    "    @test JuMP.value(μ) ≈ mean(data) atol = 1e-3\n",
    "    @test JuMP.value(σ)^2 ≈ var(data) atol = 1e-2\n",
    "\n",
    "    # constrained MLE?\n",
    "    @NLconstraint(model, μ == σ^2)\n",
    "\n",
    "    JuMP.optimize!(model)\n",
    "    if verbose\n",
    "        println(\"\\nWith constraint μ == σ^2:\")\n",
    "        println(\"μ = \", JuMP.value(μ))\n",
    "        println(\"σ^2 = \", JuMP.value(σ)^2)\n",
    "        println(\"Constrained MLE objective: \", JuMP.objective_value(model))\n",
    "    end\n",
    "    @test JuMP.value(μ) ≈ JuMP.value(σ)^2\n",
    "end\n",
    "\n",
    "example_mle(verbose = true)"
   ]
  },
  {
   "cell_type": "markdown",
   "metadata": {},
   "source": [
    "#### <span style=\"color:#00B8DE\"> Exercise 4: shape of a chain hang at both ends (catenary)</span>\n",
    "\n",
    "We want to compute the shape of a chain with endpoints $P_1=(0,1)$ and $P_2=(1,1.5)$. We assume the chain has $N\\_links = 10$ linear links, each with length $L\\_links = 2/N\\_links$. Compute the positions of the endpoints of the links and plot them."
   ]
  },
  {
   "cell_type": "code",
   "execution_count": 34,
   "metadata": {},
   "outputs": [
    {
     "name": "stdout",
     "output_type": "stream",
     "text": [
      "Min subexpression[1]\n",
      "Subject to\n",
      " sita[1] ≥ -1.5707963267948966\n",
      " sita[2] ≥ -1.5707963267948966\n",
      " sita[3] ≥ -1.5707963267948966\n",
      " sita[4] ≥ -1.5707963267948966\n",
      " sita[5] ≥ -1.5707963267948966\n",
      " sita[6] ≥ -1.5707963267948966\n",
      " sita[7] ≥ -1.5707963267948966\n",
      " sita[8] ≥ -1.5707963267948966\n",
      " sita[9] ≥ -1.5707963267948966\n",
      " sita[10] ≥ -1.5707963267948966\n",
      " sita[1] ≤ 1.5707963267948966\n",
      " sita[2] ≤ 1.5707963267948966\n",
      " sita[3] ≤ 1.5707963267948966\n",
      " sita[4] ≤ 1.5707963267948966\n",
      " sita[5] ≤ 1.5707963267948966\n",
      " sita[6] ≤ 1.5707963267948966\n",
      " sita[7] ≤ 1.5707963267948966\n",
      " sita[8] ≤ 1.5707963267948966\n",
      " sita[9] ≤ 1.5707963267948966\n",
      " sita[10] ≤ 1.5707963267948966\n",
      " subexpression[2] - 2.5 = 0\n",
      " subexpression[3] - 5.0 = 0\n",
      "Sita 1 :-1.2195855692250144\n",
      "Sita 2 :-1.0819163868357735\n",
      "Sita 3 :-0.8004184736506927\n",
      "Sita 4 :-0.17918452332339097\n",
      "Sita 5 :0.5890956762077575\n",
      "Sita 6 :0.9881716500582245\n",
      "Sita 7 :1.1710648779280444\n",
      "Sita 8 :1.2693609584129106\n",
      "Sita 9 :1.3296259229717584\n",
      "Sita 10 :1.3700818335389942\n"
     ]
    }
   ],
   "source": [
    "using JuMP\n",
    "\n",
    "N_links = 10          # number of links\n",
    "N_ends  = N_links+1   # number of ends of links\n",
    "L_links = 2/N_links   # length of links\n",
    "using JuMP\n",
    "using Ipopt\n",
    "\n",
    "function example_quadratic(verbose = true)\n",
    "    m = Model(with_optimizer(Ipopt.Optimizer,print_level=0))\n",
    "    \n",
    "    @variable(m,  -PI/2<=sita[i=1:N_links] <= PI/2 ,container=Array)\n",
    "    #@NLobjective(m, Min, sum(sin(sita[i])*(1/2+N_links-i) for i in 1:N_links))\n",
    "    a = [1/2+N_links-i for i in 1:N_links]\n",
    "    @NLexpression(m, exp1, sum(sin(sita[i])*(1/2+N_links-i) for i in 1:N_links))\n",
    "    @NLexpression(m, exp2, sum(sin(sita[i]) for i in 1:N_links))\n",
    "    @NLexpression(m, exp3,  sum(cos(sita[i]) for i in 1:N_links))\n",
    "    @NLobjective(m, Min, exp1)\n",
    "    @NLconstraint(m,exp2 == 2.5)\n",
    "    @NLconstraint(m, exp3 == 5)\n",
    "    if verbose\n",
    "        print(m)\n",
    "    end\n",
    "\n",
    "    set_silent(m)\n",
    "    optimize!(m)\n",
    "#      if verbose\n",
    "#         println(\"\\nObjective value: $(round(objective_value(m);digits=2))\")\n",
    "#         println(\"x = $(round(value(x);digits=2))\")\n",
    "#         println(\"y = $(round(value(y);digits=2))\")\n",
    "#     end\n",
    "    #print(value(sita))                                    \n",
    "    return sita\n",
    "end\n",
    "\n",
    "s = example_quadratic()\n",
    "for i in range(1, stop=N_links)\n",
    "    println(\"Sita \", i, \" :\", value(s[i]))\n",
    "end\n",
    "                                    "
   ]
  },
  {
   "cell_type": "code",
   "execution_count": 35,
   "metadata": {},
   "outputs": [
    {
     "data": {
      "image/svg+xml": [
       "<?xml version=\"1.0\" encoding=\"utf-8\"?>\n",
       "<svg xmlns=\"http://www.w3.org/2000/svg\" xmlns:xlink=\"http://www.w3.org/1999/xlink\" width=\"600\" height=\"400\" viewBox=\"0 0 2400 1600\">\n",
       "<defs>\n",
       "  <clipPath id=\"clip2600\">\n",
       "    <rect x=\"0\" y=\"0\" width=\"2400\" height=\"1600\"/>\n",
       "  </clipPath>\n",
       "</defs>\n",
       "<path clip-path=\"url(#clip2600)\" d=\"\n",
       "M0 1600 L2400 1600 L2400 0 L0 0  Z\n",
       "  \" fill=\"#ffffff\" fill-rule=\"evenodd\" fill-opacity=\"1\"/>\n",
       "<defs>\n",
       "  <clipPath id=\"clip2601\">\n",
       "    <rect x=\"480\" y=\"0\" width=\"1681\" height=\"1600\"/>\n",
       "  </clipPath>\n",
       "</defs>\n",
       "<path clip-path=\"url(#clip2600)\" d=\"\n",
       "M153.898 1487.47 L2352.76 1487.47 L2352.76 47.2441 L153.898 47.2441  Z\n",
       "  \" fill=\"#ffffff\" fill-rule=\"evenodd\" fill-opacity=\"1\"/>\n",
       "<defs>\n",
       "  <clipPath id=\"clip2602\">\n",
       "    <rect x=\"153\" y=\"47\" width=\"2200\" height=\"1441\"/>\n",
       "  </clipPath>\n",
       "</defs>\n",
       "<polyline clip-path=\"url(#clip2602)\" style=\"stroke:#000000; stroke-width:2; stroke-opacity:0.1; fill:none\" points=\"\n",
       "  216.13,1487.47 216.13,47.2441 \n",
       "  \"/>\n",
       "<polyline clip-path=\"url(#clip2602)\" style=\"stroke:#000000; stroke-width:2; stroke-opacity:0.1; fill:none\" points=\"\n",
       "  734.728,1487.47 734.728,47.2441 \n",
       "  \"/>\n",
       "<polyline clip-path=\"url(#clip2602)\" style=\"stroke:#000000; stroke-width:2; stroke-opacity:0.1; fill:none\" points=\"\n",
       "  1253.33,1487.47 1253.33,47.2441 \n",
       "  \"/>\n",
       "<polyline clip-path=\"url(#clip2602)\" style=\"stroke:#000000; stroke-width:2; stroke-opacity:0.1; fill:none\" points=\"\n",
       "  1771.93,1487.47 1771.93,47.2441 \n",
       "  \"/>\n",
       "<polyline clip-path=\"url(#clip2602)\" style=\"stroke:#000000; stroke-width:2; stroke-opacity:0.1; fill:none\" points=\"\n",
       "  2290.52,1487.47 2290.52,47.2441 \n",
       "  \"/>\n",
       "<polyline clip-path=\"url(#clip2602)\" style=\"stroke:#000000; stroke-width:2; stroke-opacity:0.1; fill:none\" points=\"\n",
       "  153.898,1259.82 2352.76,1259.82 \n",
       "  \"/>\n",
       "<polyline clip-path=\"url(#clip2602)\" style=\"stroke:#000000; stroke-width:2; stroke-opacity:0.1; fill:none\" points=\"\n",
       "  153.898,999.42 2352.76,999.42 \n",
       "  \"/>\n",
       "<polyline clip-path=\"url(#clip2602)\" style=\"stroke:#000000; stroke-width:2; stroke-opacity:0.1; fill:none\" points=\"\n",
       "  153.898,739.016 2352.76,739.016 \n",
       "  \"/>\n",
       "<polyline clip-path=\"url(#clip2602)\" style=\"stroke:#000000; stroke-width:2; stroke-opacity:0.1; fill:none\" points=\"\n",
       "  153.898,478.611 2352.76,478.611 \n",
       "  \"/>\n",
       "<polyline clip-path=\"url(#clip2602)\" style=\"stroke:#000000; stroke-width:2; stroke-opacity:0.1; fill:none\" points=\"\n",
       "  153.898,218.207 2352.76,218.207 \n",
       "  \"/>\n",
       "<polyline clip-path=\"url(#clip2600)\" style=\"stroke:#000000; stroke-width:4; stroke-opacity:1; fill:none\" points=\"\n",
       "  153.898,1487.47 2352.76,1487.47 \n",
       "  \"/>\n",
       "<polyline clip-path=\"url(#clip2600)\" style=\"stroke:#000000; stroke-width:4; stroke-opacity:1; fill:none\" points=\"\n",
       "  153.898,1487.47 153.898,47.2441 \n",
       "  \"/>\n",
       "<polyline clip-path=\"url(#clip2600)\" style=\"stroke:#000000; stroke-width:4; stroke-opacity:1; fill:none\" points=\"\n",
       "  216.13,1487.47 216.13,1465.87 \n",
       "  \"/>\n",
       "<polyline clip-path=\"url(#clip2600)\" style=\"stroke:#000000; stroke-width:4; stroke-opacity:1; fill:none\" points=\"\n",
       "  734.728,1487.47 734.728,1465.87 \n",
       "  \"/>\n",
       "<polyline clip-path=\"url(#clip2600)\" style=\"stroke:#000000; stroke-width:4; stroke-opacity:1; fill:none\" points=\"\n",
       "  1253.33,1487.47 1253.33,1465.87 \n",
       "  \"/>\n",
       "<polyline clip-path=\"url(#clip2600)\" style=\"stroke:#000000; stroke-width:4; stroke-opacity:1; fill:none\" points=\"\n",
       "  1771.93,1487.47 1771.93,1465.87 \n",
       "  \"/>\n",
       "<polyline clip-path=\"url(#clip2600)\" style=\"stroke:#000000; stroke-width:4; stroke-opacity:1; fill:none\" points=\"\n",
       "  2290.52,1487.47 2290.52,1465.87 \n",
       "  \"/>\n",
       "<polyline clip-path=\"url(#clip2600)\" style=\"stroke:#000000; stroke-width:4; stroke-opacity:1; fill:none\" points=\"\n",
       "  153.898,1259.82 186.881,1259.82 \n",
       "  \"/>\n",
       "<polyline clip-path=\"url(#clip2600)\" style=\"stroke:#000000; stroke-width:4; stroke-opacity:1; fill:none\" points=\"\n",
       "  153.898,999.42 186.881,999.42 \n",
       "  \"/>\n",
       "<polyline clip-path=\"url(#clip2600)\" style=\"stroke:#000000; stroke-width:4; stroke-opacity:1; fill:none\" points=\"\n",
       "  153.898,739.016 186.881,739.016 \n",
       "  \"/>\n",
       "<polyline clip-path=\"url(#clip2600)\" style=\"stroke:#000000; stroke-width:4; stroke-opacity:1; fill:none\" points=\"\n",
       "  153.898,478.611 186.881,478.611 \n",
       "  \"/>\n",
       "<polyline clip-path=\"url(#clip2600)\" style=\"stroke:#000000; stroke-width:4; stroke-opacity:1; fill:none\" points=\"\n",
       "  153.898,218.207 186.881,218.207 \n",
       "  \"/>\n",
       "<g clip-path=\"url(#clip2600)\">\n",
       "<text style=\"fill:#000000; fill-opacity:1; font-family:Arial,Helvetica Neue,Helvetica,sans-serif; font-size:48px; text-anchor:middle;\" transform=\"rotate(0, 216.13, 1541.47)\" x=\"216.13\" y=\"1541.47\">0.00</text>\n",
       "</g>\n",
       "<g clip-path=\"url(#clip2600)\">\n",
       "<text style=\"fill:#000000; fill-opacity:1; font-family:Arial,Helvetica Neue,Helvetica,sans-serif; font-size:48px; text-anchor:middle;\" transform=\"rotate(0, 734.728, 1541.47)\" x=\"734.728\" y=\"1541.47\">0.25</text>\n",
       "</g>\n",
       "<g clip-path=\"url(#clip2600)\">\n",
       "<text style=\"fill:#000000; fill-opacity:1; font-family:Arial,Helvetica Neue,Helvetica,sans-serif; font-size:48px; text-anchor:middle;\" transform=\"rotate(0, 1253.33, 1541.47)\" x=\"1253.33\" y=\"1541.47\">0.50</text>\n",
       "</g>\n",
       "<g clip-path=\"url(#clip2600)\">\n",
       "<text style=\"fill:#000000; fill-opacity:1; font-family:Arial,Helvetica Neue,Helvetica,sans-serif; font-size:48px; text-anchor:middle;\" transform=\"rotate(0, 1771.93, 1541.47)\" x=\"1771.93\" y=\"1541.47\">0.75</text>\n",
       "</g>\n",
       "<g clip-path=\"url(#clip2600)\">\n",
       "<text style=\"fill:#000000; fill-opacity:1; font-family:Arial,Helvetica Neue,Helvetica,sans-serif; font-size:48px; text-anchor:middle;\" transform=\"rotate(0, 2290.52, 1541.47)\" x=\"2290.52\" y=\"1541.47\">1.00</text>\n",
       "</g>\n",
       "<g clip-path=\"url(#clip2600)\">\n",
       "<text style=\"fill:#000000; fill-opacity:1; font-family:Arial,Helvetica Neue,Helvetica,sans-serif; font-size:48px; text-anchor:end;\" transform=\"rotate(0, 129.898, 1277.32)\" x=\"129.898\" y=\"1277.32\">0.6</text>\n",
       "</g>\n",
       "<g clip-path=\"url(#clip2600)\">\n",
       "<text style=\"fill:#000000; fill-opacity:1; font-family:Arial,Helvetica Neue,Helvetica,sans-serif; font-size:48px; text-anchor:end;\" transform=\"rotate(0, 129.898, 1016.92)\" x=\"129.898\" y=\"1016.92\">0.8</text>\n",
       "</g>\n",
       "<g clip-path=\"url(#clip2600)\">\n",
       "<text style=\"fill:#000000; fill-opacity:1; font-family:Arial,Helvetica Neue,Helvetica,sans-serif; font-size:48px; text-anchor:end;\" transform=\"rotate(0, 129.898, 756.516)\" x=\"129.898\" y=\"756.516\">1.0</text>\n",
       "</g>\n",
       "<g clip-path=\"url(#clip2600)\">\n",
       "<text style=\"fill:#000000; fill-opacity:1; font-family:Arial,Helvetica Neue,Helvetica,sans-serif; font-size:48px; text-anchor:end;\" transform=\"rotate(0, 129.898, 496.111)\" x=\"129.898\" y=\"496.111\">1.2</text>\n",
       "</g>\n",
       "<g clip-path=\"url(#clip2600)\">\n",
       "<text style=\"fill:#000000; fill-opacity:1; font-family:Arial,Helvetica Neue,Helvetica,sans-serif; font-size:48px; text-anchor:end;\" transform=\"rotate(0, 129.898, 235.707)\" x=\"129.898\" y=\"235.707\">1.4</text>\n",
       "</g>\n",
       "<polyline clip-path=\"url(#clip2602)\" style=\"stroke:#009af9; stroke-width:4; stroke-opacity:1; fill:none\" points=\"\n",
       "  216.13,739.016 358.863,983.524 553.705,1213.42 842.63,1400.3 1250.87,1446.71 1595.81,1302.03 1824.09,1084.59 1985.55,844.712 2108.72,596.049 2207.81,343.182 \n",
       "  2290.52,88.0053 \n",
       "  \"/>\n",
       "<path clip-path=\"url(#clip2600)\" d=\"\n",
       "M1989.93 251.724 L2280.76 251.724 L2280.76 130.764 L1989.93 130.764  Z\n",
       "  \" fill=\"#ffffff\" fill-rule=\"evenodd\" fill-opacity=\"1\"/>\n",
       "<polyline clip-path=\"url(#clip2600)\" style=\"stroke:#000000; stroke-width:4; stroke-opacity:1; fill:none\" points=\"\n",
       "  1989.93,251.724 2280.76,251.724 2280.76,130.764 1989.93,130.764 1989.93,251.724 \n",
       "  \"/>\n",
       "<polyline clip-path=\"url(#clip2600)\" style=\"stroke:#009af9; stroke-width:4; stroke-opacity:1; fill:none\" points=\"\n",
       "  2013.93,191.244 2157.93,191.244 \n",
       "  \"/>\n",
       "<g clip-path=\"url(#clip2600)\">\n",
       "<text style=\"fill:#000000; fill-opacity:1; font-family:Arial,Helvetica Neue,Helvetica,sans-serif; font-size:48px; text-anchor:start;\" transform=\"rotate(0, 2181.93, 208.744)\" x=\"2181.93\" y=\"208.744\">y1</text>\n",
       "</g>\n",
       "</svg>\n"
      ]
     },
     "execution_count": 35,
     "metadata": {},
     "output_type": "execute_result"
    }
   ],
   "source": [
    "using Plots\n",
    "Xs=zeros(N_ends)\n",
    "Ys=zeros(N_ends)\n",
    "Xs[1]=0\n",
    "Ys[1]=1\n",
    "for i in range(2,stop=N_ends)\n",
    "    Xs[i]=Xs[i-1]+cos(value(s[i-1]))*L_links\n",
    "    Ys[i]=Ys[i-1]+sin(value(s[i-1]))*L_links\n",
    "end\n",
    "\n",
    "plot(Xs,Ys)\n"
   ]
  },
  {
   "cell_type": "code",
   "execution_count": 32,
   "metadata": {},
   "outputs": [
    {
     "name": "stdout",
     "output_type": "stream",
     "text": [
      "0.9999999999998146 1.4999999999998552"
     ]
    }
   ],
   "source": [
    "print(Xs[11],' ',Ys[11]) "
   ]
  },
  {
   "cell_type": "code",
   "execution_count": 2,
   "metadata": {},
   "outputs": [
    {
     "data": {
      "text/latex": [
       "\\[ \\left[ \\begin{array}{r}1\\\\2\\\\3\\end{array} \\right] \\]"
      ],
      "text/plain": [
       "3-element Array{Sym,1}:\n",
       " 1\n",
       " 2\n",
       " 3"
      ]
     },
     "execution_count": 2,
     "metadata": {},
     "output_type": "execute_result"
    }
   ],
   "source": [
    "using SymPy\n",
    "x = Sym(\"x\")\n",
    "p = expand((x-1)*(x-2)*(x-3)*(x^2 + x + 1))\n",
    "real_roots(p)"
   ]
  },
  {
   "cell_type": "code",
   "execution_count": 6,
   "metadata": {},
   "outputs": [
    {
     "data": {
      "text/latex": [
       "\\[ \\left[ \\begin{array}{r}1\\\\2\\\\3\\\\- \\frac{1}{2} - \\frac{\\sqrt{3} i}{2}\\\\- \\frac{1}{2} + \\frac{\\sqrt{3} i}{2}\\end{array} \\right] \\]"
      ],
      "text/plain": [
       "5-element Array{Sym,1}:\n",
       "                  1\n",
       "                  2\n",
       "                  3\n",
       " -1/2 - sqrt(3)*I/2\n",
       " -1/2 + sqrt(3)*I/2"
      ]
     },
     "execution_count": 6,
     "metadata": {},
     "output_type": "execute_result"
    }
   ],
   "source": [
    "solve(p)"
   ]
  }
 ],
 "metadata": {
  "@webio": {
   "lastCommId": null,
   "lastKernelId": null
  },
  "kernelspec": {
   "display_name": "Julia 1.2.0",
   "language": "julia",
   "name": "julia-1.2"
  },
  "language_info": {
   "file_extension": ".jl",
   "mimetype": "application/julia",
   "name": "julia",
   "version": "1.2.0"
  }
 },
 "nbformat": 4,
 "nbformat_minor": 2
}
