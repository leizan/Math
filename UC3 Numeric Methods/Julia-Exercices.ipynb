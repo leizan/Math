{
 "cells": [
  {
   "cell_type": "markdown",
   "metadata": {},
   "source": [
    "# Instructions\n",
    "\n",
    "All the exercises are independent from each other. The exercises are divided into three parts:\n",
    "\n",
    "- The first part reviews basic notions of Julia\n",
    "\n",
    "- The second part contains exercises related to mathematics, statistics, signal processing, etc.\n",
    "\n",
    "- The third part explores advanced concepts of Julia\n",
    "\n",
    "Sometimes in the exercises, you will be asked to define functions. Please do not define them directly in the Notebook (it is a bad programming habit) but rather create a file functions.jl in the same repository as your notebook. You can then include this file with the command include(\"functions.jl\").\n",
    "\n",
    "Indentation is not mandatory in Julia, but please indend your code properly. \n",
    "\n",
    "Every time you plot something, add a title and label the axis.\n",
    "\n",
    "Feel free to ask any question you have, it is a training!"
   ]
  },
  {
   "cell_type": "markdown",
   "metadata": {},
   "source": [
    "# Part 1: Getting Started"
   ]
  },
  {
   "cell_type": "markdown",
   "metadata": {},
   "source": [
    "##  Exercise 1.1\n",
    "Create a 5x10 array A with random values between 0 and 10. \n",
    "\n",
    "1) Display the minimum and maximum values of the array as well as the corresponding positions in the array. \n",
    "\n",
    "2) Display the minimum and maximum values of each line of the array\n",
    "\n",
    "3) Create a second matrix B and find the minimum (component by component) of A and B "
   ]
  },
  {
   "cell_type": "code",
   "execution_count": null,
   "metadata": {},
   "outputs": [],
   "source": []
  },
  {
   "cell_type": "markdown",
   "metadata": {},
   "source": [
    "## Exercise 1.2\n",
    "Normalize a 5x5 random matrix (sum of each column equals 1)"
   ]
  },
  {
   "cell_type": "code",
   "execution_count": 7,
   "metadata": {},
   "outputs": [],
   "source": []
  },
  {
   "cell_type": "markdown",
   "metadata": {},
   "source": [
    "## Exercise 1.3\n",
    "Create a matrix of size 10x10 that contains the integers from 1 to 100"
   ]
  },
  {
   "cell_type": "code",
   "execution_count": null,
   "metadata": {},
   "outputs": [],
   "source": []
  },
  {
   "cell_type": "markdown",
   "metadata": {},
   "source": [
    "## Exercise 1.4\n",
    "Generate 10 2D-coordinates. Display all the points on a plot, and identify on the plot the two points with maximum distance from each other."
   ]
  },
  {
   "cell_type": "code",
   "execution_count": null,
   "metadata": {
    "scrolled": true
   },
   "outputs": [],
   "source": []
  },
  {
   "cell_type": "markdown",
   "metadata": {},
   "source": [
    "# Part 2: Mathematics"
   ]
  },
  {
   "cell_type": "markdown",
   "metadata": {},
   "source": [
    "## Exercice 2.1\n",
    "1) Solve the linear system defined by $4x+3y=5$ and $2x+6y=1$.\n",
    "\n",
    "2) Solve the linear system defined by $x+3y=1$ and $2x+6y=2$."
   ]
  },
  {
   "cell_type": "code",
   "execution_count": null,
   "metadata": {},
   "outputs": [],
   "source": []
  },
  {
   "cell_type": "markdown",
   "metadata": {},
   "source": [
    "## Exercise 2.2\n",
    "Source: http://www.emmanuelmorand.net/programmation/IntroductionPython.pdf\n",
    "\n",
    "We consider the sequence of Syracuse defined by $u_{n+1} = u_n/2$ if $u_n$ is even and $u_{n+1} = 3u_n+1$ if $u_n$ is odd. Use a plot to represent the total stopping time (smallest index $n$ for which $u_n$=1) with respect to $u_0 \\in \\{1,2,\\cdots,100\\}$. "
   ]
  },
  {
   "cell_type": "code",
   "execution_count": null,
   "metadata": {},
   "outputs": [],
   "source": []
  },
  {
   "cell_type": "markdown",
   "metadata": {},
   "source": [
    "## Exercise 2.3\n",
    "Source: http://www.emmanuelmorand.net/programmation/IntroductionPython.pdf\n",
    "\n",
    "Find the zero of the function $x\\rightarrow x^2 -2$ with a precision of $10^{-5}$"
   ]
  },
  {
   "cell_type": "code",
   "execution_count": null,
   "metadata": {},
   "outputs": [],
   "source": []
  },
  {
   "cell_type": "markdown",
   "metadata": {},
   "source": [
    "## Exercise 2.4\n",
    "Write three functions with the same name distance_computation() but different arguments. These functions should compute the distances between two elements a and b:\n",
    "- If a and b are binary vectors, Hamming distance is used\n",
    "- If a and b are real vectors, Euclidean distance is used\n",
    "- If a and b are matrices, Frobenius norm is used\n",
    "\n",
    "In both functions, verify that the dimensions of a and b are the same. Display an error if it is not the case."
   ]
  },
  {
   "cell_type": "code",
   "execution_count": null,
   "metadata": {},
   "outputs": [],
   "source": []
  },
  {
   "cell_type": "markdown",
   "metadata": {},
   "source": [
    "## Exercise 2.5\n",
    "1) Generate n=100 samples according to the 2D Gaussian distribution $\\mathcal{N}(\\mu,A A^T)$, with $\\mu=[1,1]^T$ and $A = \\begin{bmatrix} 1 & 1 \\\\ 0 & 1 \\end{bmatrix} $. Represent the samples on a 2D-map. \n",
    "\n",
    "2) Apply a linear regression onto the data. Represent the result.   "
   ]
  },
  {
   "cell_type": "code",
   "execution_count": null,
   "metadata": {},
   "outputs": [],
   "source": []
  },
  {
   "cell_type": "markdown",
   "metadata": {},
   "source": [
    "## Exercice 2.6\n",
    "- 1) Using library *Distributions.jl*, generate $n=10^3$ samples from a beta distribution \n",
    "(https://en.wikipedia.org/wiki/Beta_distribution) with parameters $(\\alpha,\\beta)=(2,4)$.\n",
    "\n",
    "- 2) Use the method of moments to estimate $(\\alpha,\\beta)$ from data."
   ]
  },
  {
   "cell_type": "code",
   "execution_count": null,
   "metadata": {
    "scrolled": true
   },
   "outputs": [],
   "source": []
  },
  {
   "cell_type": "markdown",
   "metadata": {},
   "source": [
    "## Exercise 2.7\n",
    "Implement run-length encoding and decoding. Source: https://github.com/exercism/\n",
    "\n",
    "Run-length encoding (RLE) is a simple form of data compression, where runs (consecutive data elements) are replaced by just one data value and count. For example we can represent the original 53 characters with only 13\n",
    "\n",
    "\"WWWWWWWWWWWWBWWWWWWWWWWWWBBBWWWWWWWWWWWWWWWWWWWWWWWWB\"  ->  \"12WB12W3B24WB\"\n",
    "\n",
    "RLE allows the original data to be perfectly reconstructed from the compressed data, which makes it a lossless data compression.\n",
    "\n",
    "\"AABCCCDEEEE\"  ->  \"2AB3CD4E\"  ->  \"AABCCCDEEEE\"\n",
    "\n",
    "For simplicity, you can assume that the unencoded string will only contain the letters A through Z (either lower or upper case) and whitespace. This way data to be encoded will never contain any numbers and numbers inside data to be decoded always represent the count for the following character."
   ]
  },
  {
   "cell_type": "code",
   "execution_count": null,
   "metadata": {},
   "outputs": [],
   "source": []
  },
  {
   "cell_type": "markdown",
   "metadata": {},
   "source": [
    "## Exercice 2.8\n",
    "We want to solve a linear system of equations resulting from the the observation of an unknown signal that consists in a sequence ${\\bf x}=[x_0,\\ldots,x_n]^T$ of $n=100$ transmitted symbols convolved by a filter with known impulse response that represents the effect of the propagation channel (multipath, ...), in the presence of additive white Gaussian noise. We try to recover emitted symbols, the values of which are assumed in $\\{-1,+1\\}$.\n",
    "\n",
    "- 1) The filter has an impulse response with 11 coefficients, $h_0,\\ldots,h_{10}$ with $h_t= 1/(1+t)^3$. Plot the impulse and frequency response of this filter.\n",
    "\n",
    "- 2) In a matrix form, the problem rewrites ${\\bf y} = {\\bf Mx} + {\\bf w}$. Where noise ${\\bf w}$ has distribution $\\mathcal{N}(0,\\sigma^2 {\\bf I})$. What do the terms of equation  ${\\bf y} = {\\bf Mx} + {\\bf w}$ represent ? Express ${\\bf M}$ in terms of ${\\bf h}=[h_0,\\ldots,h_L]^T$ and compute parameters ${\\bf A}$ and ${\\bf b}$ of the system of equations ${\\bf Ax} = {\\bf b}$ satisfied by the mean square error solution of the problem. \n",
    "\n",
    "- 3) First the study is carried out for case of an infinite SNR ($\\sigma^2=0$). Generate simulated data, solve the problem and check that the symbols are well recovered.\n",
    "\n",
    "- 4) Study the influence of the noise level plotting $\\dfrac{\\parallel {\\bf x}-{\\bf x_{MMSE}}\\parallel}{\\parallel {\\bf x}\\parallel}$ as a function of the SNR. For $n=10^4$, plot also the number of errors as a function of the SNR."
   ]
  },
  {
   "cell_type": "markdown",
   "metadata": {},
   "source": [
    "# Part 3: Going further"
   ]
  },
  {
   "cell_type": "markdown",
   "metadata": {},
   "source": [
    "## Exercice 3.1\n",
    "1) Create a function that adds $\\epsilon$ (eps) to a scalar. Test your function with a float value and then with an integer value.\n",
    "\n",
    "2) If needed, modify your function definition in allow only floats as inputs\n",
    "\n",
    "3) Create a function that adds $\\epsilon$ to a vector of floats. The vector may be of any type of float. \n",
    "\n",
    "Hint: use a function declaration like: function f(...) where cdt"
   ]
  },
  {
   "cell_type": "code",
   "execution_count": null,
   "metadata": {},
   "outputs": [],
   "source": []
  },
  {
   "cell_type": "markdown",
   "metadata": {},
   "source": [
    "## Exercice 3.2\n",
    "1) Create a structure student (use mutable struct) that contains four fields: name (type string), surname (type string), marks (Dict of vectors of floats), averages (type vector of floats)\n",
    "\n",
    "2) Use a constructor to create an instance of student. \n",
    "\n",
    "2) Create a method for this function, that takes as input the structure and a vector of marks and calculates the averages of all marks for eachd dictionary entry.\n",
    "\n",
    "3) Use time() to measure the time needed to execute the function with and without specifying the input types."
   ]
  },
  {
   "cell_type": "code",
   "execution_count": null,
   "metadata": {},
   "outputs": [],
   "source": []
  }
 ],
 "metadata": {
  "kernelspec": {
   "display_name": "Julia 1.2.0",
   "language": "julia",
   "name": "julia-1.2"
  },
  "language_info": {
   "file_extension": ".jl",
   "mimetype": "application/julia",
   "name": "julia",
   "version": "1.2.0"
  }
 },
 "nbformat": 4,
 "nbformat_minor": 2
}
