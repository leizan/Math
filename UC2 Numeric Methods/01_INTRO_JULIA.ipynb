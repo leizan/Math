{
 "cells": [
  {
   "cell_type": "markdown",
   "metadata": {},
   "source": [
    "<img\n",
    "src=\"https://www.imt-atlantique.fr/sites/default/files/Images/Ecole/charte-graphique/IMT_Atlantique_logo_RVB_Baseline_400x272.jpg\"\n",
    "WIDTH=200 HEIGHT=200>\n",
    "\n",
    "<CENTER>\n",
    "</br>\n",
    "<p><font size=\"5\"> TAF MCE - 2019</span></p>\n",
    "<p><font size=\"4\">  UE Numerical Methods </font></p>\n",
    "<p></p>\n",
    "<p><font size=\"5\">  Notebook 01: Introduction to Julia </font></p>\n",
    "</p></br>\n",
    "</p>\n",
    "</CENTER>\n",
    "\n",
    "\n",
    "----------------------------"
   ]
  },
  {
   "cell_type": "markdown",
   "metadata": {},
   "source": [
    "# Table of contents <a name=\"table-of-contents\"></a>\n",
    "\n",
    "0. [Installation](#Installation)\n",
    "1. [Introduction](#Introduction)\n",
    "    1. [Overview](#overview)\n",
    "    1. [Getting started](#Getting-started)\n",
    "    2. [Packages](#Packages)\n",
    "2.  [Basic types and operators](#Basic-types-and-operators)\n",
    "    1. [Types](#Types)\n",
    "    2. [Operators](#Operators)\n",
    "3.  [Functions](#Functions)\n",
    "4.  [Control Flow](#Control-flow)\n",
    "5.  [Handling Exceptions](#Handling-exceptions)\n",
    "6.  [More About Types](#More-about-types)\n",
    "    1. [Constants](#Constants)\n",
    "    2. [New Types](#New-types)\n",
    "    3. [Range and arrays](#Arrays)\n",
    "    4. [Tuples](#Tuples)\n",
    "    5. [Dictionaries](#Dictionaries)\n",
    "7.  [Plotting](#Plotting)\n",
    "9. [Useful Tools](#Useful-tools)\n",
    "10. [Exercises](#Exercises)\n",
    "\n",
    "[References](#References)"
   ]
  },
  {
   "cell_type": "markdown",
   "metadata": {},
   "source": [
    "----------------------------------------------\n",
    "## 0 - Installation <a name=\"Installation\"></a>\n",
    "[Table of contents](#table-of-contents)\n",
    "\n",
    "> - goto downloading page: https://julialang.org/downloads/\n",
    "> - download **Generic Linux Binaries for x86** --> **64-bit** (if you work with Linux os and Intel architecture)\n",
    "> - uncompress file in your home location\n",
    "> - create a symbolic link: \n",
    "\n",
    "        ln -s julia-1.2.0/bin/julia julia-1.2\n",
    "    \n",
    "> - launch Julia command line mode: \n",
    "\n",
    "        julia-1.2 \n",
    "> - you can check the installation by typing a few commands in the command line\n",
    "> - start Package management mode:\n",
    "\n",
    "        ]\n",
    "\n",
    "> - Install **IJulia** (the Julia version of **IPython**) to make notebooks available\n",
    "\n",
    "        add IJulia\n",
    "> - exit from Package management mode:\n",
    "        \n",
    "        Ctrl+c      (back to command line)\n",
    "    \n",
    "> - launch notebook:\n",
    "    \n",
    "        notebook()\n",
    "\n",
    "----------------------------------------------\n",
    "# I - Introduction <a name=\"Introduction\"></a> \n",
    "[Table of contents](#table-of-contents)\n",
    "\n",
    "This notebook summarizes some important aspects of the Julia programming language. It can be useful if you are not familiar with programming langages but it is mainly intended to give an overview to programmers, mainly to those who already have some knowledge of languages such as Matlab or Python. For complete explanations and functionalities, see the language documentation (currently  https://docs.julialang.org/en/v1/ ). Note that in particular important topics such as **metaprogramming** and **parrallel programming** are not considered in this notebook. "
   ]
  },
  {
   "cell_type": "markdown",
   "metadata": {},
   "source": [
    "## I.A Overview <a name=\"overview\"></a>\n",
    "[Table of contents](#table-of-contents)\n"
   ]
  },
  {
   "cell_type": "markdown",
   "metadata": {},
   "source": [
    "### History\n",
    "\n",
    "> - Created 2009 $\\rightarrow$ publicly available 2012 \n",
    "> - Present stable version : 1.2"
   ]
  },
  {
   "cell_type": "markdown",
   "metadata": {},
   "source": [
    "### Specificities\n",
    "\n",
    "> - Fast alternative to MATLAB, R, Python, or Ruby\n",
    "> - Just-in-time compilation with automatic type inference (LLVM-based\tJIT\tcompiler)\n",
    "> - Type annotation : sometimes helps compiler but also enables **multiple dispatch**, that is, having multiple \n",
    "definitions of a function, depending on arguments type\n",
    "> - Types hierarchy useful for conversion/promotion\n",
    "> - Functional programming style\n",
    "> - Multiprocessing support\n",
    "> - Nice unicode support\n",
    "> - Frowing ecosystem of libraries and good interface to other programming languages\n",
    "> - Performance (relative to C) : \n",
    ">![](./julia_perf.png)"
   ]
  },
  {
   "cell_type": "markdown",
   "metadata": {},
   "source": [
    "### Examples"
   ]
  },
  {
   "cell_type": "code",
   "execution_count": null,
   "metadata": {},
   "outputs": [],
   "source": [
    "θ=1\n",
    "π,exp(1),θ"
   ]
  },
  {
   "cell_type": "markdown",
   "metadata": {},
   "source": [
    "Note: to insert greek letters or special characters, just type for instance **\\pi+tab** to get **$\\pi$**"
   ]
  },
  {
   "cell_type": "code",
   "execution_count": null,
   "metadata": {},
   "outputs": [],
   "source": [
    "h(x,y) = sin(x)+cosd(y) #,x+y\n",
    "print(h(π/4,60),' ', cos(π/4)==cosd(45))"
   ]
  },
  {
   "cell_type": "markdown",
   "metadata": {},
   "source": [
    "Access to the different levels of code conversion:"
   ]
  },
  {
   "cell_type": "code",
   "execution_count": null,
   "metadata": {},
   "outputs": [],
   "source": [
    "code_lowered(h,(Float64,Int64))"
   ]
  },
  {
   "cell_type": "code",
   "execution_count": null,
   "metadata": {},
   "outputs": [],
   "source": [
    "code_typed(h,(Float64,Int64)) # code after type inference and inlining"
   ]
  },
  {
   "cell_type": "code",
   "execution_count": null,
   "metadata": {},
   "outputs": [],
   "source": [
    "code_llvm(h,(Float64,Int64)) #llvm inermediate code"
   ]
  },
  {
   "cell_type": "code",
   "execution_count": null,
   "metadata": {},
   "outputs": [],
   "source": [
    "code_native(h,(Float64,Int64)) #assembly code"
   ]
  },
  {
   "cell_type": "markdown",
   "metadata": {},
   "source": [
    "## I.B Getting started <a name=\"Getting-started\"></a>\n",
    "[Table of contents](#table-of-contents)\n",
    "\n",
    "http://julialang.org/downloads/  for Linux, OS X and windows\n",
    "\n",
    "https://www.julialang.org/downloads/platform.html instalation instructions\n",
    "    \n",
    "<!--\n",
    "### Installation on campux at Télécom Bretagne\n",
    "\n",
    "> mkdir /sanssauvegarde/homes/name/.julia\n",
    "\n",
    "> ln -s /sanssauvegarde/homes/name/.julia .julia\n",
    "\n",
    "> $\\rightarrow$ This is done by the script **SETUP_julia.sh**\n",
    "-->"
   ]
  },
  {
   "cell_type": "markdown",
   "metadata": {},
   "source": [
    "### Popular IDEs\n",
    "\n",
    "Atom/Juno, VSCode, JupyterLab, VI/VIM, ...\n",
    "\n",
    "**Notebooks (https://github.com/JuliaLang/IJulia.jl)**\n",
    "\n",
    "In Julia shell (see below packages management)\n",
    "> - Pkg.add(\"IJulia\")\n",
    "> - Pkg.build(\"IJulia\")\n",
    "> - using IJulia    \n",
    "> - notebook()\n",
    "\n",
    "From terminal (depends on installs)\n",
    "> - jupyter notebook --profile julia\n",
    ">  -jupyter\n",
    "\n",
    "**Juno**\n",
    "> goto atom website (https://atom.io/)\n",
    "> install extensions to get julia syntax highlighting and automatic execution of Julia blocks inside Atom\n",
    "\n"
   ]
  },
  {
   "cell_type": "markdown",
   "metadata": {},
   "source": [
    "### Help"
   ]
  },
  {
   "cell_type": "code",
   "execution_count": null,
   "metadata": {},
   "outputs": [],
   "source": [
    "?help"
   ]
  },
  {
   "cell_type": "code",
   "execution_count": null,
   "metadata": {},
   "outputs": [],
   "source": [
    "?sin"
   ]
  },
  {
   "cell_type": "markdown",
   "metadata": {},
   "source": [
    "### Launching Julia\n",
    "\n",
    "<!--  >Initial file: in home,directory in file *.juliarc.jl* -->\n",
    "\n",
    ">- starting Julia shell: type julia (depends on installation)\n",
    ">- stop Julia shell: CTRL+D, exit()\tor\t quit()\n",
    ">- execution from shell: **julia filename** or **julia -e 'x,y=1,2; z=2x+y; println(z)'**\n",
    "\n",
    "### Packages (http://pkg.julialang.org/)\n",
    "\n",
    "- Rapidly evolving ecosystem: bioinformatics,\tchemistry,\tcosmology,\tfinance,\tlinguistics,\tmachine\tlearning, mathematics,\tstatistics,\tand\thigh-performance computing\n",
    "\n",
    "- Most popular packages (2019)**\n",
    ">- Plots.jl (plotting)\n",
    ">- DataFrames.jl (spreadsheet)\n",
    ">- IJulia.jl (notebooks)\n",
    ">- Distributions.jl (statistics)\n",
    ">- DifferentialEquations.jl (physics)\n",
    ">- Flux.jl (machine learning)\n",
    ">- JuMP.jl (optimization)\n",
    "\n",
    "- Packages can be found at http://pkg.julialang.org/\n",
    "\n",
    "- To avoid incompatibilies, each installation of July has its own package management. In latest versions of Julia, each project has its own package management.\n",
    "\n",
    "- Modern package management (since version 1.0) https://www.julialang.org/blog/2018/09/Pkgtutorial"
   ]
  },
  {
   "cell_type": "markdown",
   "metadata": {},
   "source": [
    "## I.C Packages management <a name=\"Packages-management\"></a>\n",
    "\n",
    "Packages management:\n",
    ">- installations : **Pkg.add(\"name\")** ; sometimes requires **Pkg.build(\"name\")**\n",
    ">- run **Pkg.update()** after installing new version of Julia\n",
    "\n",
    "Install example\n",
    "> - using Pkg\n",
    "> - Pkg.add(\"Example\")\n",
    "> - Pkg.available()\n",
    "> - Pkg.status()\n",
    "> - Pkg.update()\n",
    "\n",
    "Use:\n",
    ">- using name_of_package *or* import  name_of_package\n",
    ">- import  name_of_package: a, b, c\n",
    "\n",
    "Alternatively, **just typing \"]\" puts you in the package manager environement**.\n"
   ]
  },
  {
   "cell_type": "markdown",
   "metadata": {},
   "source": [
    "### Julia packages: examples"
   ]
  },
  {
   "cell_type": "code",
   "execution_count": null,
   "metadata": {},
   "outputs": [],
   "source": [
    "using Pkg\n",
    "Pkg.status()  # see also Pkg.installed() for a dictionary output ; if error -> try Pkg.init()"
   ]
  },
  {
   "cell_type": "code",
   "execution_count": null,
   "metadata": {},
   "outputs": [],
   "source": [
    "Pkg.update()\n",
    "#Pkg.add(\"Plots\")\n",
    "#Pkg.add(\"PyPlot\")"
   ]
  },
  {
   "cell_type": "code",
   "execution_count": null,
   "metadata": {},
   "outputs": [],
   "source": [
    "using Plots\n",
    "pyplot()\n",
    "plot(0:10,rand(11), marker = 10, label=\"rand\")"
   ]
  },
  {
   "cell_type": "code",
   "execution_count": null,
   "metadata": {},
   "outputs": [],
   "source": [
    "?plot"
   ]
  },
  {
   "cell_type": "markdown",
   "metadata": {},
   "source": [
    "### Using Python packages in Julia"
   ]
  },
  {
   "cell_type": "markdown",
   "metadata": {},
   "source": [
    "**py\"...\"** and **py\"\"\"...\"\"\"** are equivalent to **Python's eval** and **exec** [https://github.com/JuliaPy/PyCall.jl]"
   ]
  },
  {
   "cell_type": "code",
   "execution_count": null,
   "metadata": {},
   "outputs": [],
   "source": [
    "#Pkg.add(\"PyCall\")\n",
    "using PyCall\n",
    "ENV[\"PYTHON\"]=\"/usr/bin/python3\""
   ]
  },
  {
   "cell_type": "code",
   "execution_count": null,
   "metadata": {},
   "outputs": [],
   "source": [
    "py\"\"\"\n",
    "import pylab as pl\n",
    "\n",
    "def sinpi(x):\n",
    "    return pl.sin(pl.pi * x)\n",
    "\"\"\" \n",
    "sinpy = py\"sinpi\"\n",
    "\n",
    "println(sinpy.(0:1/4:2),\"\\n\\n\", py\"pl.randn(10)\")"
   ]
  },
  {
   "cell_type": "code",
   "execution_count": null,
   "metadata": {},
   "outputs": [],
   "source": [
    "using PyCall\n",
    "\n",
    "math = pyimport(\"math\")\n",
    "math.sin(math.pi / 4) - sin(pi / 4)  # returns 0.0"
   ]
  },
  {
   "cell_type": "code",
   "execution_count": null,
   "metadata": {},
   "outputs": [],
   "source": [
    "nr = pyimport(\"numpy.random\")\n",
    "nr.rand(3,4)"
   ]
  },
  {
   "cell_type": "code",
   "execution_count": null,
   "metadata": {},
   "outputs": [],
   "source": [
    "np = pyimport(\"numpy\")\n",
    "\n",
    "using PyPlot\n",
    "x = np.linspace(0,2*pi,1000)\n",
    "y = np.sin.(3x + 4*np.cos.(2x))\n",
    "PyPlot.figure(figsize=(3,2))\n",
    "PyPlot.plot(x, y, color=\"red\", linewidth=2.0, linestyle=\"--\")\n",
    "PyPlot.ylabel(\"the y axis\")\n",
    "PyPlot.xlabel(\"the x axis\")\n",
    "PyPlot.title(\"a sinusoidally-modulated sinusoid\");"
   ]
  },
  {
   "cell_type": "markdown",
   "metadata": {},
   "source": [
    "----------------------------------------------\n",
    "# II - Basic types and operators <a name=\"Basic-types-and-operators\"></a>\n",
    "[Table of contents](#table-of-contents)\n"
   ]
  },
  {
   "cell_type": "markdown",
   "metadata": {},
   "source": [
    "## II.A Types <a name=\"Types\"></a>\n",
    "[Table of contents](#table-of-contents)\n"
   ]
  },
  {
   "cell_type": "code",
   "execution_count": null,
   "metadata": {},
   "outputs": [],
   "source": [
    "eval(:(1+1))"
   ]
  },
  {
   "cell_type": "code",
   "execution_count": null,
   "metadata": {},
   "outputs": [],
   "source": [
    "println(typeof(π), typeof(3/5),typeof(3//5))\n",
    "println(typeof('a'),typeof(\"a\"), typeof(Float64))"
   ]
  },
  {
   "cell_type": "markdown",
   "metadata": {},
   "source": [
    "### Note about conventions\n",
    "\n",
    "> - names are in lowercase\n",
    "> - names with multiple words $\\rightarrow$ word1_word2\n",
    "> - names of types begin with capital letters\n",
    "> - functions that mutate their arguments end with '!'"
   ]
  },
  {
   "cell_type": "markdown",
   "metadata": {},
   "source": [
    "### Types hierarchy\n",
    "\n",
    "Example : numbers\n",
    "\n",
    "![](./numbers.png)\n",
    "\n",
    "[ https://en.wikibooks.org/wiki/Introducing_Julia/Types ]"
   ]
  },
  {
   "cell_type": "code",
   "execution_count": null,
   "metadata": {},
   "outputs": [],
   "source": [
    "supertype(Real), supertype(Number)"
   ]
  },
  {
   "cell_type": "code",
   "execution_count": null,
   "metadata": {},
   "outputs": [],
   "source": [
    "subtypes(Real)"
   ]
  },
  {
   "cell_type": "code",
   "execution_count": null,
   "metadata": {},
   "outputs": [],
   "source": [
    "# About Arrays: something like python lists and numpy arrays\n",
    "['a',\"s\",1]"
   ]
  },
  {
   "cell_type": "code",
   "execution_count": null,
   "metadata": {},
   "outputs": [],
   "source": [
    "Real <: Number, Signed <: Number, Integer <: Unsigned"
   ]
  },
  {
   "cell_type": "markdown",
   "metadata": {},
   "source": [
    "### Numeric types\n",
    "\n",
    "> - Int8, Int16, Int32, Int64, Int128\n",
    "> - UInt8, UInt16, UInt32, UInt64, UInt128\n",
    "> - Bool : false(0), true(1)\n",
    "> - Float16, Float32, Float64"
   ]
  },
  {
   "cell_type": "code",
   "execution_count": null,
   "metadata": {},
   "outputs": [],
   "source": [
    "typeof(1), Int"
   ]
  },
  {
   "cell_type": "code",
   "execution_count": null,
   "metadata": {},
   "outputs": [],
   "source": [
    "0x1A,0b100,0o11"
   ]
  },
  {
   "cell_type": "code",
   "execution_count": null,
   "metadata": {},
   "outputs": [],
   "source": [
    "function type_size_range(a)\n",
    "    # returns size and ranges of a list of types\n",
    "    for t in a\n",
    "        s = if (sizeof(T)>1) \"s,\" else \", \" end\n",
    "        str = \"$(rpad(t,7)): size =$(lpad(sizeof(t),3)) \"\n",
    "        println(str*\"bite$s range = [$(typemin(t)),$(typemax(t))]\")\n",
    "    end      \n",
    "end"
   ]
  },
  {
   "cell_type": "code",
   "execution_count": null,
   "metadata": {},
   "outputs": [],
   "source": [
    "type_size_range([Int8,Int16,Int32,Int64,Int128,UInt8,\n",
    "                 UInt16,UInt32,UInt64,UInt128])"
   ]
  },
  {
   "cell_type": "code",
   "execution_count": null,
   "metadata": {},
   "outputs": [],
   "source": [
    "typeof(1.0),typeof(1.0e4),typeof(1.0f4)"
   ]
  },
  {
   "cell_type": "code",
   "execution_count": null,
   "metadata": {},
   "outputs": [],
   "source": [
    "type_size_range([BigFloat,Float16,Float32,Float64])"
   ]
  },
  {
   "cell_type": "code",
   "execution_count": null,
   "metadata": {},
   "outputs": [],
   "source": [
    " function showtypetree(T, level=0)\n",
    "     println(\"\\t\" ^ level, T)\n",
    "     for t in subtypes(T)\n",
    "         showtypetree(t, level+1)\n",
    "    end\n",
    " end\n",
    " \n",
    "#showtypetree(Any)\n",
    "showtypetree(Number)"
   ]
  },
  {
   "cell_type": "markdown",
   "metadata": {},
   "source": [
    "### Types and functions annotation (multiple dispatch)"
   ]
  },
  {
   "cell_type": "code",
   "execution_count": null,
   "metadata": {},
   "outputs": [],
   "source": [
    "f(x::Int) = x\n",
    "f(x)= \n",
    "    try \n",
    "        return Int(x) # tries to convert x to an integer\n",
    "    catch \n",
    "        return 0 \n",
    "end"
   ]
  },
  {
   "cell_type": "code",
   "execution_count": null,
   "metadata": {},
   "outputs": [],
   "source": [
    "f(0),f(-2),f(1),f(log(2)),f(π), f(1.2)"
   ]
  },
  {
   "cell_type": "markdown",
   "metadata": {},
   "source": [
    "### Type conversion and promotion"
   ]
  },
  {
   "cell_type": "code",
   "execution_count": null,
   "metadata": {},
   "outputs": [],
   "source": [
    "x,y = 3, 4.2\n",
    "typeof(x), typeof(y), x+y, typeof(x+y)"
   ]
  },
  {
   "cell_type": "code",
   "execution_count": null,
   "metadata": {},
   "outputs": [],
   "source": [
    "x::Int64"
   ]
  },
  {
   "cell_type": "code",
   "execution_count": null,
   "metadata": {},
   "outputs": [],
   "source": [
    "y::Int64"
   ]
  },
  {
   "cell_type": "code",
   "execution_count": null,
   "metadata": {},
   "outputs": [],
   "source": [
    "Int64(x+y)"
   ]
  },
  {
   "cell_type": "code",
   "execution_count": null,
   "metadata": {},
   "outputs": [],
   "source": [
    "round(x+y),convert(Int64,round(x+y)), round(Int64,x+y)"
   ]
  },
  {
   "cell_type": "code",
   "execution_count": null,
   "metadata": {},
   "outputs": [],
   "source": [
    "Int64(round(x+y)), Int64(ceil(x+y))"
   ]
  },
  {
   "cell_type": "code",
   "execution_count": null,
   "metadata": {},
   "outputs": [],
   "source": [
    "print([convert(Char,x) for x=97:122])"
   ]
  },
  {
   "cell_type": "code",
   "execution_count": null,
   "metadata": {},
   "outputs": [],
   "source": [
    "print(Char.(97:122)) # note the dot operator for mapping "
   ]
  },
  {
   "cell_type": "code",
   "execution_count": null,
   "metadata": {},
   "outputs": [],
   "source": [
    "a = [1 2 3; 4 5 6]\n",
    "print(\"$a, $(typeof(a))\\n\")\n",
    "b = Array{Float64,2}(a)\n",
    "print(\"$b, $(typeof(b))\")"
   ]
  },
  {
   "cell_type": "code",
   "execution_count": null,
   "metadata": {},
   "outputs": [],
   "source": [
    "b==convert(Array{Float64,2},a)"
   ]
  },
  {
   "cell_type": "code",
   "execution_count": null,
   "metadata": {},
   "outputs": [],
   "source": [
    "@assert(b==convert(Array{Float64,2},a))"
   ]
  },
  {
   "cell_type": "code",
   "execution_count": null,
   "metadata": {},
   "outputs": [],
   "source": [
    "promote(2.1,im), promote([1,2], [3.,4]),promote([3.,4], [1,2]) "
   ]
  },
  {
   "cell_type": "markdown",
   "metadata": {},
   "source": [
    "### **Inf**, **Nan**  and **eps** "
   ]
  },
  {
   "cell_type": "code",
   "execution_count": null,
   "metadata": {},
   "outputs": [],
   "source": [
    "1/0,1/Inf, Inf+1,1-Inf,Inf-Inf,Inf/Inf, 0*Inf, NaN+1"
   ]
  },
  {
   "cell_type": "code",
   "execution_count": null,
   "metadata": {},
   "outputs": [],
   "source": [
    "eps(),eps(Float32)"
   ]
  },
  {
   "cell_type": "code",
   "execution_count": null,
   "metadata": {},
   "outputs": [],
   "source": [
    "eps(1.0), eps(1.0e-30),eps(0.0)"
   ]
  },
  {
   "cell_type": "code",
   "execution_count": null,
   "metadata": {},
   "outputs": [],
   "source": [
    "nextfloat(1.0)-1.0, nextfloat(1.e3)-1.e3, nextfloat(0.0)"
   ]
  },
  {
   "cell_type": "markdown",
   "metadata": {},
   "source": [
    "### Arbitrary precision arithmetic"
   ]
  },
  {
   "cell_type": "code",
   "execution_count": null,
   "metadata": {},
   "outputs": [],
   "source": [
    "factorial(100)"
   ]
  },
  {
   "cell_type": "code",
   "execution_count": null,
   "metadata": {},
   "outputs": [],
   "source": [
    "factorial(BigInt(400))"
   ]
  },
  {
   "cell_type": "code",
   "execution_count": null,
   "metadata": {},
   "outputs": [],
   "source": [
    "√π,√(BigFloat(π)), sizeof(BigFloat)"
   ]
  },
  {
   "cell_type": "markdown",
   "metadata": {},
   "source": [
    "### Complex numbers"
   ]
  },
  {
   "cell_type": "code",
   "execution_count": null,
   "metadata": {},
   "outputs": [],
   "source": [
    "z = complex(1,2)\n",
    "z == 1+2im"
   ]
  },
  {
   "cell_type": "code",
   "execution_count": null,
   "metadata": {},
   "outputs": [],
   "source": [
    "println(abs(4+3im),\", \",abs2(4+3im))\n",
    "angle(1+im)*(180/pi)"
   ]
  },
  {
   "cell_type": "code",
   "execution_count": null,
   "metadata": {},
   "outputs": [],
   "source": [
    "(√2/2 +(√2/2)im)^4"
   ]
  },
  {
   "cell_type": "code",
   "execution_count": null,
   "metadata": {},
   "outputs": [],
   "source": [
    "c = complex(-1/2,(√3/2))\n",
    "√c, angle(c)*180/π"
   ]
  },
  {
   "cell_type": "markdown",
   "metadata": {},
   "source": [
    "### Rational numbers"
   ]
  },
  {
   "cell_type": "code",
   "execution_count": null,
   "metadata": {},
   "outputs": [],
   "source": [
    "1//2 + 3//5"
   ]
  },
  {
   "cell_type": "code",
   "execution_count": null,
   "metadata": {},
   "outputs": [],
   "source": [
    "4//6"
   ]
  },
  {
   "cell_type": "code",
   "execution_count": null,
   "metadata": {},
   "outputs": [],
   "source": [
    "(2+3im)//4"
   ]
  },
  {
   "cell_type": "markdown",
   "metadata": {},
   "source": [
    "### Numeric expressions"
   ]
  },
  {
   "cell_type": "code",
   "execution_count": null,
   "metadata": {},
   "outputs": [],
   "source": [
    "x=π/4\n",
    "2x^5+(x-1)x"
   ]
  },
  {
   "cell_type": "code",
   "execution_count": null,
   "metadata": {},
   "outputs": [],
   "source": [
    "(x+1)(x-5)"
   ]
  },
  {
   "cell_type": "code",
   "execution_count": null,
   "metadata": {},
   "outputs": [],
   "source": [
    "x=1\n",
    "println(zero(x),\"; \",one(x))\n",
    "x=1.\n",
    "println(zero(x),\"; \",one(x))"
   ]
  },
  {
   "cell_type": "markdown",
   "metadata": {},
   "source": [
    "## II.B Operators and basic math functions <a name=\"Operators\"></a>\n",
    "[Table of contents](#table-of-contents)\n"
   ]
  },
  {
   "cell_type": "code",
   "execution_count": null,
   "metadata": {},
   "outputs": [],
   "source": [
    "x=2\n",
    "println(x +=2,\"; \", x *=5)"
   ]
  },
  {
   "cell_type": "code",
   "execution_count": null,
   "metadata": {},
   "outputs": [],
   "source": [
    "NaN != NaN, NaN > NaN, -Inf < Inf"
   ]
  },
  {
   "cell_type": "code",
   "execution_count": null,
   "metadata": {},
   "outputs": [],
   "source": [
    "1 < 2 <= 2 < 3 == 3 > 2 >= 1 == 1 < 3 != 5"
   ]
  },
  {
   "cell_type": "code",
   "execution_count": null,
   "metadata": {},
   "outputs": [],
   "source": [
    "[1 2 3] .< [4 5. 1]"
   ]
  },
  {
   "cell_type": "markdown",
   "metadata": {},
   "source": [
    "#### Some symbols can be used as binary operators, but not all of them"
   ]
  },
  {
   "cell_type": "code",
   "execution_count": null,
   "metadata": {},
   "outputs": [],
   "source": [
    "⊗(x,y) = kron(x,y) # \\otimes\n",
    "⊕(x,y)= √(x^2+y^2) # \\oplus\n",
    "⊖(u,v) = u-v       # \\ominus\n",
    "♠(u,v) = u*v       # \\spadesuit"
   ]
  },
  {
   "cell_type": "code",
   "execution_count": null,
   "metadata": {},
   "outputs": [],
   "source": [
    "[1 2 3;4 5 6]⊗[1 0;0 1]"
   ]
  },
  {
   "cell_type": "code",
   "execution_count": null,
   "metadata": {},
   "outputs": [],
   "source": [
    "3⊕4, ⊕(3,4), 2⊖3, ♠(2,3)"
   ]
  },
  {
   "cell_type": "code",
   "execution_count": null,
   "metadata": {},
   "outputs": [],
   "source": [
    "2♠3"
   ]
  },
  {
   "cell_type": "markdown",
   "metadata": {},
   "source": [
    "#### About ordering of operations "
   ]
  },
  {
   "cell_type": "code",
   "execution_count": null,
   "metadata": {},
   "outputs": [],
   "source": [
    "v(x) = (println(\"$x, \"); x)\n",
    "v(exp(1)) < v(π) < v(log10(10^4))  # unordered evaluation !!"
   ]
  },
  {
   "cell_type": "markdown",
   "metadata": {},
   "source": [
    "#### Basic math functions are available in Julia without calling libraries"
   ]
  },
  {
   "cell_type": "code",
   "execution_count": null,
   "metadata": {},
   "outputs": [],
   "source": [
    "round(1.7), floor(1.9), ceil(1.9), trunc(-1.6)"
   ]
  },
  {
   "cell_type": "code",
   "execution_count": null,
   "metadata": {},
   "outputs": [],
   "source": [
    "round(1.7), floor(1.9), ceil(1.9), trunc(-1.6)\n",
    "\n",
    "a,b=7,2\n",
    "q,r=divrem(a,b)\n",
    "a==b*q+r"
   ]
  },
  {
   "cell_type": "code",
   "execution_count": null,
   "metadata": {},
   "outputs": [],
   "source": [
    "gcd(2*3*5*7*11, 3*7*13), lcm(2*2*3, 2*5) # greatest common divisor, lowest common multiplier"
   ]
  },
  {
   "cell_type": "code",
   "execution_count": null,
   "metadata": {},
   "outputs": [],
   "source": [
    "sin(pi/4)-sinpi(.25), sin(pi/4)-sind(45)"
   ]
  },
  {
   "cell_type": "code",
   "execution_count": null,
   "metadata": {},
   "outputs": [],
   "source": [
    "hypot(3,4), randn(3), rand(3)"
   ]
  },
  {
   "cell_type": "markdown",
   "metadata": {},
   "source": [
    "### Strings and chars"
   ]
  },
  {
   "cell_type": "code",
   "execution_count": null,
   "metadata": {},
   "outputs": [],
   "source": [
    "str = 'sdcfsqdf' # invalid, unlike python"
   ]
  },
  {
   "cell_type": "code",
   "execution_count": null,
   "metadata": {},
   "outputs": [],
   "source": [
    "str1 = \"sdcfsqdf\"\n",
    "str2 = \"\"\"kjxwsgc\"\"\"\n",
    "str1,str2"
   ]
  },
  {
   "cell_type": "code",
   "execution_count": null,
   "metadata": {},
   "outputs": [],
   "source": [
    "Char(100),Int('d'),'\\u568'"
   ]
  },
  {
   "cell_type": "code",
   "execution_count": null,
   "metadata": {},
   "outputs": [],
   "source": [
    "typeof(\"qsxqx\"),typeof(\"qsxqx\\u1431\"),\"qsxqx\\u1431\""
   ]
  },
  {
   "cell_type": "markdown",
   "metadata": {},
   "source": [
    "**UTF8 is a variable length encoding**"
   ]
  },
  {
   "cell_type": "code",
   "execution_count": null,
   "metadata": {},
   "outputs": [],
   "source": [
    "using Base.Meta\n",
    "Meta.parse(\"0x\"*\"2432\")"
   ]
  },
  {
   "cell_type": "code",
   "execution_count": null,
   "metadata": {},
   "outputs": [],
   "source": [
    "for k = union(21:80,100:300,370:799,1430:1655,2000:2300)\n",
    "    n = \"0x\"*string(k)\n",
    "    print(n*\" -> \", Char(Meta.parse(n)),\" ;  \")\n",
    "    if k%5==0 println(); end\n",
    "end"
   ]
  },
  {
   "cell_type": "code",
   "execution_count": null,
   "metadata": {},
   "outputs": [],
   "source": [
    "str = \"ljsqlsbcz\\u2200\"\n",
    "println(str)\n",
    "str[1:9],str[end],sizeof(str)"
   ]
  },
  {
   "cell_type": "code",
   "execution_count": null,
   "metadata": {},
   "outputs": [],
   "source": [
    "str[11]"
   ]
  },
  {
   "cell_type": "code",
   "execution_count": null,
   "metadata": {},
   "outputs": [],
   "source": [
    "for c in str; print(c,\", \"); end"
   ]
  },
  {
   "cell_type": "markdown",
   "metadata": {},
   "source": [
    "String interpolation"
   ]
  },
  {
   "cell_type": "code",
   "execution_count": null,
   "metadata": {},
   "outputs": [],
   "source": [
    "a,b=2,3\n",
    "\"$a + 1 = $b = $(6-3)\""
   ]
  },
  {
   "cell_type": "markdown",
   "metadata": {},
   "source": [
    "### Functions on strings"
   ]
  },
  {
   "cell_type": "code",
   "execution_count": null,
   "metadata": {},
   "outputs": [],
   "source": [
    "string(\"first\", \" and second \",\"and third\")==\"first\"*\" and second \"*\"and third\""
   ]
  },
  {
   "cell_type": "code",
   "execution_count": null,
   "metadata": {},
   "outputs": [],
   "source": [
    "x = split(\"My taylor is rich\", ' ')\n",
    "y = join([\"a\",\"b\",\"c\",\"d\"],\"-\")\n",
    "print(x,'\\n',y)"
   ]
  },
  {
   "cell_type": "markdown",
   "metadata": {},
   "source": [
    "#### Regular expressions on strings\n",
    "\n",
    "Inspired from Perl regular expressions, used to find regular patterns in strings"
   ]
  },
  {
   "cell_type": "code",
   "execution_count": null,
   "metadata": {},
   "outputs": [],
   "source": [
    "typeof(r\"[0:9]\")"
   ]
  },
  {
   "cell_type": "code",
   "execution_count": null,
   "metadata": {},
   "outputs": [],
   "source": [
    "println(occursin(r\"[a,e,i,o,u,y]\",\"ksaqjdgvl'ricb\"))\n",
    "println(match(r\"[a,e,i,o,u,y]\",\"ksaqjdgvl'ricb\"))\n",
    "println(match(r\"[a,e,i,o,u,y]\",\"ksaqjdgvl'ricb\",4))"
   ]
  },
  {
   "cell_type": "code",
   "execution_count": null,
   "metadata": {},
   "outputs": [],
   "source": [
    "match.(r\"(a|b)(c)?(d)\", [\"ad\",\"abd\",\"kacdecad\"])"
   ]
  },
  {
   "cell_type": "markdown",
   "metadata": {},
   "source": [
    "----------------------------------------------\n",
    "# III - Functions <a name=\"Functions\"></a>\n",
    "[Table of contents](#table-of-contents)\n"
   ]
  },
  {
   "cell_type": "code",
   "execution_count": null,
   "metadata": {},
   "outputs": [],
   "source": [
    "function f(x)\n",
    "    return x^2\n",
    "    x-1\n",
    "end\n",
    "\n",
    "function g(x,y)\n",
    "    x+1\n",
    "    x^2-y^2\n",
    "end\n",
    "\n",
    "f(6),g(3,1)"
   ]
  },
  {
   "cell_type": "code",
   "execution_count": null,
   "metadata": {},
   "outputs": [],
   "source": [
    "f(x,y)=cos(x)^y\n",
    "f(π/4,2)"
   ]
  },
  {
   "cell_type": "code",
   "execution_count": null,
   "metadata": {},
   "outputs": [],
   "source": [
    "# function as argument\n",
    "function comp(f,g)\n",
    "    function h(x)\n",
    "        f(g(x))\n",
    "    end\n",
    "end\n",
    "\n",
    "g(x) = 1/x\n",
    "x    = LinRange(1/(10π),1/π,500)\n",
    "using Plots\n",
    "plot(x,comp(sin,g))"
   ]
  },
  {
   "cell_type": "code",
   "execution_count": null,
   "metadata": {},
   "outputs": [],
   "source": [
    "# Recursive functions \n",
    "function fact(n)\n",
    "    #factorial\n",
    "    function _fact(n,acc)\n",
    "        n>=0 || error(\"n must be positive integer!\")\n",
    "        n==0 && return acc\n",
    "        _fact(n-1,n*acc)\n",
    "    end\n",
    "    _fact(n,BigInt(1))\n",
    "end\n",
    "\n",
    "x = fact(170)\n",
    "println(x)\n",
    "\n",
    "for n=2:170\n",
    "    x //=n\n",
    "end\n",
    "x"
   ]
  },
  {
   "cell_type": "code",
   "execution_count": null,
   "metadata": {},
   "outputs": [],
   "source": [
    "# Runge-Kutta method of order 4 (https://en.wikipedia.org/wiki/Runge%E2%80%93Kutta_methods)\n",
    "function RK4(f,y,t,h)\n",
    "    h2 = h/2\n",
    "    k1 = f(t   ,y)\n",
    "    k2 = f(t+h2,y+h2*k1)\n",
    "    k3 = f(t+h2,y+h2*k2)\n",
    "    k4 = f(t+h ,y+h*k3)\n",
    "    y + (h/6)*(k1+2*k2+2*k3+k4)\n",
    "end"
   ]
  },
  {
   "cell_type": "code",
   "execution_count": null,
   "metadata": {},
   "outputs": [],
   "source": [
    "using Plots\n",
    "\n",
    "f(t,y) = -y\n",
    "\n",
    "t      = 0:5\n",
    "h      = t[2]-t[1]\n",
    "lt     = length(t)\n",
    "y      = ones(lt)\n",
    "for k=2:lt\n",
    "    y[k] = RK4(f,y[k-1],t[k-1],h)\n",
    "end\n",
    "\n",
    "Plots.plot(t,y,color=\"red\",label=\"RK4\")\n",
    "t = 0:.1:5\n",
    "Plots.plot!(t,exp.(-t),color=\"blue\",label=\"exp(-t)\")"
   ]
  },
  {
   "cell_type": "code",
   "execution_count": null,
   "metadata": {},
   "outputs": [],
   "source": [
    "sin.(t)'"
   ]
  },
  {
   "cell_type": "markdown",
   "metadata": {},
   "source": [
    "### Renaming"
   ]
  },
  {
   "cell_type": "code",
   "execution_count": null,
   "metadata": {},
   "outputs": [],
   "source": [
    "f1(x) = x^2\n",
    "f2 = f1\n",
    "f2(2)"
   ]
  },
  {
   "cell_type": "markdown",
   "metadata": {},
   "source": [
    "### Multiple outputs"
   ]
  },
  {
   "cell_type": "code",
   "execution_count": null,
   "metadata": {},
   "outputs": [],
   "source": [
    "function πσ(v)\n",
    "    prod(v),sum(v)\n",
    "end\n",
    "a,b = πσ([4,2,5])"
   ]
  },
  {
   "cell_type": "markdown",
   "metadata": {},
   "source": [
    "### Anonymous functions"
   ]
  },
  {
   "cell_type": "code",
   "execution_count": null,
   "metadata": {},
   "outputs": [],
   "source": [
    "h= x->2x-1\n",
    "h(2)"
   ]
  },
  {
   "cell_type": "code",
   "execution_count": null,
   "metadata": {},
   "outputs": [],
   "source": [
    "[(x->x^2)(u) for u in 1:10]'"
   ]
  },
  {
   "cell_type": "code",
   "execution_count": null,
   "metadata": {},
   "outputs": [],
   "source": [
    "f() = [(x->x^2)(u) for u in 1:10^4]'\n",
    "g() = map(x->x^2, (1:10^4)')"
   ]
  },
  {
   "cell_type": "code",
   "execution_count": null,
   "metadata": {},
   "outputs": [],
   "source": [
    "square(x)=x^2"
   ]
  },
  {
   "cell_type": "code",
   "execution_count": null,
   "metadata": {},
   "outputs": [],
   "source": [
    "# execute the bloc twice\n",
    "@time [(x->x^2)(u) for u in 1:10]'\n",
    "@time map(x->x^2, (1:10)')\n",
    "@time square.(1:10);"
   ]
  },
  {
   "cell_type": "code",
   "execution_count": null,
   "metadata": {},
   "outputs": [],
   "source": [
    "a=(1,2,3); b=(4,5,6)\n",
    "map((x,y)->(x+y,x-y),a,b)"
   ]
  },
  {
   "cell_type": "code",
   "execution_count": null,
   "metadata": {},
   "outputs": [],
   "source": [
    "n = 10\n",
    "ϕ = Array{Function,1}(undef,n)\n",
    "for i=1:n\n",
    "    ϕ[i] = x->i^x\n",
    "end\n",
    "println([ϕ[i](i) for i in 1:n]')\n",
    "println([ϕ[i](1/i) for i in 1:n]')"
   ]
  },
  {
   "cell_type": "markdown",
   "metadata": {},
   "source": [
    "### Variable number of arguments"
   ]
  },
  {
   "cell_type": "code",
   "execution_count": null,
   "metadata": {},
   "outputs": [],
   "source": [
    "function g(x...)\n",
    "    r = Float64[]\n",
    "    for t in x\n",
    "        append!(r,t^2)\n",
    "    end\n",
    "    return r'\n",
    "end\n",
    "\n",
    "g(3,4,5.3e20)"
   ]
  },
  {
   "cell_type": "code",
   "execution_count": null,
   "metadata": {},
   "outputs": [],
   "source": [
    "head(u...)= u\n",
    "tail(u,v...)= v\n",
    "head(1,2,3,4,5), tail(1,2,3,4,5)"
   ]
  },
  {
   "cell_type": "code",
   "execution_count": null,
   "metadata": {},
   "outputs": [],
   "source": [
    "f(x,y) = x+y\n",
    "a      = [1,2]\n",
    "\n",
    "try\n",
    "    f(a); print(\"OK\")\n",
    "catch\n",
    "    f(a...)\n",
    "end"
   ]
  },
  {
   "cell_type": "code",
   "execution_count": null,
   "metadata": {},
   "outputs": [],
   "source": [
    "f(a)"
   ]
  },
  {
   "cell_type": "code",
   "execution_count": null,
   "metadata": {},
   "outputs": [],
   "source": [
    "# using Plots\n",
    "ω(x,y) = [x^u for u in y]\n",
    "n = 100\n",
    "v = ω(exp(im),0:π/n:2*π)\n",
    "plot(real(v),imag(v))"
   ]
  },
  {
   "cell_type": "markdown",
   "metadata": {},
   "source": [
    "### Optional arguments"
   ]
  },
  {
   "cell_type": "code",
   "execution_count": null,
   "metadata": {},
   "outputs": [],
   "source": [
    "function f_add(a,b=2)\n",
    "    a+b\n",
    "end\n",
    "\n",
    "print([f_add(1) f_add(1,3)])"
   ]
  },
  {
   "cell_type": "markdown",
   "metadata": {},
   "source": [
    "### Keyword argument"
   ]
  },
  {
   "cell_type": "code",
   "execution_count": null,
   "metadata": {},
   "outputs": [],
   "source": [
    "function move!(P;δ=randn(2))\n",
    "    P[1] += δ[1]\n",
    "    P[2] += δ[2]\n",
    "    P\n",
    "end\n",
    "println(move!([0,5],δ=[1,2]))\n",
    "P = [1.,2]\n",
    "move!(P)\n",
    "P"
   ]
  },
  {
   "cell_type": "markdown",
   "metadata": {},
   "source": [
    "Note that functions that change their arguments end with ! (it's a convention)"
   ]
  },
  {
   "cell_type": "code",
   "execution_count": null,
   "metadata": {},
   "outputs": [],
   "source": [
    "function g(x, y=1; z...) \n",
    "    println(\"z = $z\")\n",
    "    [x[2] for x in z]'\n",
    "end\n",
    "g(0, a= 1, b= 2, c=5)"
   ]
  },
  {
   "cell_type": "markdown",
   "metadata": {},
   "source": [
    "### Type annotation"
   ]
  },
  {
   "cell_type": "code",
   "execution_count": null,
   "metadata": {},
   "outputs": [],
   "source": [
    "x = 12.0\n",
    "x::Float64\n",
    "#x::Int64"
   ]
  },
  {
   "cell_type": "code",
   "execution_count": null,
   "metadata": {},
   "outputs": [],
   "source": [
    "f(x::Int,y::Int) = x+y\n",
    "f(x::Number,y::Number) = Int(round(x+y))\n",
    "\n",
    "f(2,3),f(2,3.7)"
   ]
  },
  {
   "cell_type": "code",
   "execution_count": null,
   "metadata": {},
   "outputs": [],
   "source": [
    "println(@which f(2,3))\n",
    "println(@which f(2,3.7))"
   ]
  },
  {
   "cell_type": "code",
   "execution_count": null,
   "metadata": {},
   "outputs": [],
   "source": [
    "function add(x::Int64, y::Int64) ::Float64\n",
    "    return x + y\n",
    "end\n",
    "\n",
    "add(3, 4)"
   ]
  },
  {
   "cell_type": "code",
   "execution_count": null,
   "metadata": {},
   "outputs": [],
   "source": [
    "@code_llvm f(3, 4)"
   ]
  },
  {
   "cell_type": "code",
   "execution_count": null,
   "metadata": {},
   "outputs": [],
   "source": [
    "@code_llvm add(3, 4)"
   ]
  },
  {
   "cell_type": "markdown",
   "metadata": {},
   "source": [
    "#### Pipeline"
   ]
  },
  {
   "cell_type": "code",
   "execution_count": null,
   "metadata": {},
   "outputs": [],
   "source": [
    "2 |> x->log(x) |> x->exp(-x)"
   ]
  },
  {
   "cell_type": "code",
   "execution_count": null,
   "metadata": {},
   "outputs": [],
   "source": [
    "h = x-> collect(0:.1:x*π) |> x-> plot(x,sin.(x),label=\"\")\n",
    "    \n",
    "h(5)"
   ]
  },
  {
   "cell_type": "code",
   "execution_count": null,
   "metadata": {},
   "outputs": [],
   "source": [
    "\n",
    "10 |> x->collect(0:.1:(x*π)) |> x->(x,sin.(x)) |> x->plot(x[1],x[2])\n"
   ]
  },
  {
   "cell_type": "markdown",
   "metadata": {},
   "source": [
    "----------------------------------------------\n",
    "# IV - Control Flow <a name=\"Control-flow\"></a>\n",
    "[Table of contents](#table-of-contents)"
   ]
  },
  {
   "cell_type": "markdown",
   "metadata": {},
   "source": [
    "### Blocks"
   ]
  },
  {
   "cell_type": "code",
   "execution_count": null,
   "metadata": {},
   "outputs": [],
   "source": [
    "block1 = (w=[1,2,3,4]; sum(v))\n",
    "\n",
    "block2 = begin\n",
    "    w=[1,2,3,4]\n",
    "    prod(w)\n",
    "end\n",
    "\n",
    "block1, block2, w"
   ]
  },
  {
   "cell_type": "markdown",
   "metadata": {},
   "source": [
    "### if ... elseif ... else"
   ]
  },
  {
   "cell_type": "code",
   "execution_count": null,
   "metadata": {},
   "outputs": [],
   "source": [
    "function compare(x,y)\n",
    "    if x < y\n",
    "      println(\"$x is less than $y\")\n",
    "    elseif x > y\n",
    "      println(\"$x is greater than $y\")\n",
    "    else\n",
    "      println(\"$x is equal to $y\")\n",
    "    end\n",
    "end\n",
    "\n",
    "compare(1,2), compare('b','a'), compare(true,1+1==2)"
   ]
  },
  {
   "cell_type": "code",
   "execution_count": null,
   "metadata": {},
   "outputs": [],
   "source": [
    "abs(x)=x>0 ? x : -x\n",
    "abs(-2.5),abs(3),abs(0)"
   ]
  },
  {
   "cell_type": "code",
   "execution_count": null,
   "metadata": {},
   "outputs": [],
   "source": [
    "function testIfThenElse(a,b)\n",
    "    if a\n",
    "        println(1)\n",
    "    elseif b\n",
    "        println(2)\n",
    "    else \n",
    "        println(3)\n",
    "    end\n",
    "end\n",
    "\n",
    "testIfThenElse(true,true)\n",
    "testIfThenElse(true,false)\n",
    "testIfThenElse(false,true)\n",
    "testIfThenElse(false,false)"
   ]
  },
  {
   "cell_type": "code",
   "execution_count": null,
   "metadata": {},
   "outputs": [],
   "source": [
    "function testIfThenElse_v2(a,b)\n",
    "    (a && (println(1); true)) || (b && (println(2);true)) || println(3)\n",
    "end\n",
    "\n",
    "testIfThenElse_v2(true,true)\n",
    "testIfThenElse_v2(true,false)\n",
    "testIfThenElse_v2(false,true)\n",
    "testIfThenElse_v2(false,false)"
   ]
  },
  {
   "cell_type": "markdown",
   "metadata": {},
   "source": [
    "### while and for loops"
   ]
  },
  {
   "cell_type": "code",
   "execution_count": null,
   "metadata": {},
   "outputs": [],
   "source": [
    "x,n = 0,0\n",
    "while x<100\n",
    "    n+=1\n",
    "    x+=rand()\n",
    "end\n",
    "x,n"
   ]
  },
  {
   "cell_type": "code",
   "execution_count": null,
   "metadata": {},
   "outputs": [],
   "source": [
    "x,n = 0,0\n",
    "while true # no 'loop' in Julia\n",
    "    n+=1\n",
    "    x+=randn()\n",
    "    if x>10; break; end\n",
    "end\n",
    "x,n"
   ]
  },
  {
   "cell_type": "code",
   "execution_count": null,
   "metadata": {},
   "outputs": [],
   "source": [
    "x=0\n",
    "for n=1:100\n",
    "    x+=rand()\n",
    "end\n",
    "x"
   ]
  },
  {
   "cell_type": "markdown",
   "metadata": {},
   "source": [
    "### Loops and scoping"
   ]
  },
  {
   "cell_type": "code",
   "execution_count": null,
   "metadata": {},
   "outputs": [],
   "source": [
    "# restart kernel\n",
    "for j = 1:5\n",
    "    x=j\n",
    "    print(j,\", \")\n",
    "end\n",
    "x"
   ]
  },
  {
   "cell_type": "code",
   "execution_count": null,
   "metadata": {},
   "outputs": [],
   "source": [
    "for j = 1:5\n",
    "    global x=j # avoid global variables !\n",
    "end\n",
    "x"
   ]
  },
  {
   "cell_type": "code",
   "execution_count": null,
   "metadata": {},
   "outputs": [],
   "source": [
    "x,y='a','b'\n",
    "let x=1,y=2 \n",
    "    z=x+y\n",
    "    println(z)\n",
    "end\n",
    "x,y"
   ]
  },
  {
   "cell_type": "markdown",
   "metadata": {},
   "source": [
    "### break and continue"
   ]
  },
  {
   "cell_type": "code",
   "execution_count": null,
   "metadata": {},
   "outputs": [],
   "source": [
    "for i = 1:10\n",
    "    (i % 3 != 0) && continue\n",
    "    print(i,\", \")\n",
    "end\n",
    "println()\n",
    "\n",
    "for i = 1:10\n",
    "    (i >5) && break\n",
    "    print(i,\", \")\n",
    "end"
   ]
  },
  {
   "cell_type": "markdown",
   "metadata": {},
   "source": [
    "### Nested loops"
   ]
  },
  {
   "cell_type": "code",
   "execution_count": null,
   "metadata": {},
   "outputs": [],
   "source": [
    "for i = 1:2, j = 3:4\n",
    "    print((i, j),' ')\n",
    "end"
   ]
  },
  {
   "cell_type": "markdown",
   "metadata": {},
   "source": [
    "### Comprehension list"
   ]
  },
  {
   "cell_type": "code",
   "execution_count": null,
   "metadata": {},
   "outputs": [],
   "source": [
    "z=[x->(x^k) for k in 1:10]\n",
    "\n",
    "[g(2) for g in z]'"
   ]
  },
  {
   "cell_type": "markdown",
   "metadata": {},
   "source": [
    "----------------------------------------------\n",
    "# V -  Handling Exceptions <a name=\"Handling-exceptions\"></a>\n",
    "[Table of contents](#table-of-contents)"
   ]
  },
  {
   "cell_type": "code",
   "execution_count": null,
   "metadata": {},
   "outputs": [],
   "source": [
    "sqrt(-1.0)"
   ]
  },
  {
   "cell_type": "code",
   "execution_count": null,
   "metadata": {},
   "outputs": [],
   "source": [
    "sqrt(Complex(-1.0)), sqrt(-1+0im)"
   ]
  },
  {
   "cell_type": "code",
   "execution_count": null,
   "metadata": {},
   "outputs": [],
   "source": [
    "function f(a::Char)\n",
    "    a\n",
    "end\n",
    "\n",
    "println(f('a'))\n",
    "println(f(1))"
   ]
  },
  {
   "cell_type": "markdown",
   "metadata": {},
   "source": [
    "### try and catch"
   ]
  },
  {
   "cell_type": "code",
   "execution_count": null,
   "metadata": {},
   "outputs": [],
   "source": [
    "function my_sqrt(x)\n",
    "    try \n",
    "        sqrt(x)\n",
    "    catch \n",
    "        sqrt(complex(x,0))\n",
    "    end\n",
    "end\n",
    "\n",
    "println(my_sqrt(-1))"
   ]
  },
  {
   "cell_type": "markdown",
   "metadata": {},
   "source": [
    "### Accounting for exception type\n",
    "\n",
    "Exceptions:\n",
    "ArgumentError\n",
    "BoundsError\n",
    "CompositeException\n",
    "DivideError\n",
    "DomainError\n",
    "EOFError\n",
    "ErrorException\n",
    "InexactError\n",
    "InitError\n",
    "InterruptException\n",
    "InvalidStateException\n",
    "KeyError\n",
    "LoadError\n",
    "OutOfMemoryError\n",
    "ReadOnlyMemoryError\n",
    "RemoteException\n",
    "MethodError\n",
    "OverflowError\n",
    "ParseError\n",
    "SystemError\n",
    "TypeError\n",
    "UndefRefError\n",
    "UndefVarError\n",
    "UnicodeError\n"
   ]
  },
  {
   "cell_type": "code",
   "execution_count": null,
   "metadata": {},
   "outputs": [],
   "source": [
    "function my_sqrt(x)\n",
    "    try \n",
    "        sqrt(x)\n",
    "    catch y\n",
    "        if isa(y,DomainError)\n",
    "            sqrt(complex(x,0))\n",
    "        elseif isa(y,MethodError)\n",
    "            \"MethodError: function my_sqrt(x) not defined for typeof(x)=$(typeof(x)) \" \n",
    "        end\n",
    "    end\n",
    "end\n",
    "\n",
    "println(my_sqrt(1))\n",
    "println(my_sqrt(-1))\n",
    "println(my_sqrt('a'))"
   ]
  },
  {
   "cell_type": "markdown",
   "metadata": {},
   "source": [
    "### *Exceptions*, *throw* and *error*"
   ]
  },
  {
   "cell_type": "code",
   "execution_count": null,
   "metadata": {},
   "outputs": [],
   "source": [
    "?Exception"
   ]
  },
  {
   "cell_type": "code",
   "execution_count": null,
   "metadata": {},
   "outputs": [],
   "source": [
    "\"\"\"Log_Error: Log of the argument not defined\"\"\"\n",
    "struct Log_Error <: Exception \n",
    "    s::String\n",
    "end"
   ]
  },
  {
   "cell_type": "code",
   "execution_count": null,
   "metadata": {},
   "outputs": [],
   "source": [
    "log1(x) = log(1+x)\n",
    "log1(-2)"
   ]
  },
  {
   "cell_type": "code",
   "execution_count": null,
   "metadata": {},
   "outputs": [],
   "source": [
    "log1(x) = x>0 ? log(1+x) : throw(Log_Error(\"log1(x) assumes x>-1\"))\n",
    "println(log1(1)==log(2))\n",
    "log1(-2)"
   ]
  },
  {
   "cell_type": "code",
   "execution_count": null,
   "metadata": {},
   "outputs": [],
   "source": [
    "# without creating exception\n",
    "log1(x) = x>0 ? log(1+x) : error(\"Error: log1(x) assumes x>-1\")\n",
    "print(log1(1)==log(2))\n",
    "log1(-2)"
   ]
  },
  {
   "cell_type": "markdown",
   "metadata": {},
   "source": [
    "----------------------------------------------\n",
    "# VI - More about types  <a name=\"More-about-types\"></a>\n",
    "[Table of contents](#table-of-contents)\n",
    "\n",
    "> - In Julia, evething is an object and each object has a type\n",
    "> - Only values, not variables, have types; variables are names bound to values\n",
    "> - Abstract types cannot be instantiated, and serve only as nodes in the type graph\n",
    "> - Concrete types are subtypes of abstract types"
   ]
  },
  {
   "cell_type": "code",
   "execution_count": null,
   "metadata": {},
   "outputs": [],
   "source": [
    "f(x::AbstractFloat) = println(x)\n",
    "f(1.5), f(1f6),f(1e60),f(1)"
   ]
  },
  {
   "cell_type": "code",
   "execution_count": null,
   "metadata": {},
   "outputs": [],
   "source": [
    "f(x::Number) = println(x)\n",
    "f(1.5), f(1f6),f(1e25),f(1)"
   ]
  },
  {
   "cell_type": "markdown",
   "metadata": {},
   "source": [
    "## Constants <a name=\"Constants\"></a>\n",
    "[Table of contents](#table-of-contents)"
   ]
  },
  {
   "cell_type": "code",
   "execution_count": null,
   "metadata": {},
   "outputs": [],
   "source": [
    "const h = 6.626070040e-34\n",
    "println(h)\n",
    "print(typeof(h))\n",
    "h = 6"
   ]
  },
  {
   "cell_type": "markdown",
   "metadata": {},
   "source": [
    "## Defining new types and associated methods <a name=\"New-types\"></a>\n",
    "[Table of contents](#table-of-contents)"
   ]
  },
  {
   "cell_type": "code",
   "execution_count": null,
   "metadata": {},
   "outputs": [],
   "source": [
    "*"
   ]
  },
  {
   "cell_type": "code",
   "execution_count": null,
   "metadata": {},
   "outputs": [],
   "source": [
    "println"
   ]
  },
  {
   "cell_type": "code",
   "execution_count": null,
   "metadata": {},
   "outputs": [],
   "source": [
    "import Base: println\n",
    "\n",
    "struct Cplx <:Number\n",
    "    re::Number\n",
    "    im::Number\n",
    "end\n",
    "\n",
    "function println(z::Cplx)\n",
    "    if isequal(Float64(z.im),0.)\n",
    "        println(z.re);\n",
    "    elseif isequal(Float64(z.re),0.)\n",
    "        println(z.im,\"i\");\n",
    "    elseif Float64(z.im)<0\n",
    "        println(z.re,z.im,\"i\");\n",
    "    else\n",
    "        println(z.re,\"+\",z.im,\"i\");\n",
    "    end\n",
    "end\n",
    "\n",
    "import Base: *\n",
    "*(x::Cplx,y::Cplx) = Cplx(x.re*y.re-x.im*y.im, x.im*y.re+x.re*y.im);"
   ]
  },
  {
   "cell_type": "code",
   "execution_count": null,
   "metadata": {},
   "outputs": [],
   "source": [
    "*"
   ]
  },
  {
   "cell_type": "code",
   "execution_count": null,
   "metadata": {},
   "outputs": [],
   "source": [
    "println"
   ]
  },
  {
   "cell_type": "code",
   "execution_count": null,
   "metadata": {},
   "outputs": [],
   "source": [
    "z1=Cplx(1,2)\n",
    "z2=Cplx(2,-1)\n",
    "println(z1)\n",
    "println(z2)\n",
    "println(z1*z2)"
   ]
  },
  {
   "cell_type": "code",
   "execution_count": null,
   "metadata": {},
   "outputs": [],
   "source": [
    "function my_sqrt(x::Cplx)\n",
    "    ρ,θ  = sqrt(x.re^2+x.im^2),atan(x.im,x.re)\n",
    "    Cplx(sqrt(ρ)*cos(θ/2),sqrt(ρ)*sin(θ/2))\n",
    "end\n",
    "\n",
    "function my_sqrt(x::Real)\n",
    "    if x>=0 \n",
    "        sqrt(x)\n",
    "    else\n",
    "        Cplx(0,my_sqrt(Cplx(x,0)).im) # (eliminates residual real part)\n",
    "    end\n",
    "end\n",
    "\n",
    "println(my_sqrt(2))\n",
    "println(my_sqrt(-3))\n",
    "println(my_sqrt(Cplx(0,1)))"
   ]
  },
  {
   "cell_type": "code",
   "execution_count": null,
   "metadata": {},
   "outputs": [],
   "source": [
    "methods(my_sqrt)"
   ]
  },
  {
   "cell_type": "markdown",
   "metadata": {},
   "source": [
    "#### Another example"
   ]
  },
  {
   "cell_type": "code",
   "execution_count": null,
   "metadata": {},
   "outputs": [],
   "source": [
    "using LinearAlgebra: kron\n",
    "import Base: convert, show, promote_rule, +\n",
    "\n",
    "struct S{T<:Number}\n",
    "    head::T\n",
    "    tail::Array{T}\n",
    "end\n",
    "\n",
    "convert(::Type{S{T}},a::Array{T}) where {T<:Number}  = S(a[1],a[2:end])\n",
    "\n",
    "+(s1::S{T1},s2::S{T2}) where {T1<:Number, T2<:Number} = S(s1.head+s2.head,kron(s1.tail,s2.tail))\n",
    "\n",
    "convert(::Type{Array{T}},s::S{T}) where {T<:Number} = append!(eval(:([$(s.head)])),s.tail)\n",
    "\n",
    "show(io::IO,x::S{T}) where {T<:Number} = print(io,x.head,\"♢\",x.tail)\n",
    "\n",
    "promote_rule(::Type{S{T1}},::Type{Array{T2}}) where {T1<:Number, T2<:Number} = S{promote(T1,T2)}\n",
    "promote_rule(::Type{S{T1}},::Type{T2}) where {T1<:Number, T2<:Number} = S{promote(T1,T2)}\n",
    "\n",
    "methodswith(S)"
   ]
  },
  {
   "cell_type": "code",
   "execution_count": null,
   "metadata": {},
   "outputs": [],
   "source": [
    "s1 = S(2,[6,7])\n",
    "s2 = S(1,[3,2])\n",
    "s1+s2"
   ]
  },
  {
   "cell_type": "code",
   "execution_count": null,
   "metadata": {},
   "outputs": [],
   "source": [
    "ℑ = S(0,[1])\n",
    "S(3,[4,5])+ℑ, ℑ+S(3,[4,5])"
   ]
  },
  {
   "cell_type": "code",
   "execution_count": null,
   "metadata": {},
   "outputs": [],
   "source": [
    "x = S(1,[2,3,4])\n",
    "y = [1.,2.,3]\n",
    "println(convert(S{typeof(y[1])},[1.,2.,3.]))\n",
    "println(convert(Array{typeof(x.head)},x))"
   ]
  },
  {
   "cell_type": "markdown",
   "metadata": {},
   "source": [
    "### Parametric methods"
   ]
  },
  {
   "cell_type": "code",
   "execution_count": null,
   "metadata": {},
   "outputs": [],
   "source": [
    "function is_same_type(x::T,y::T) where T<:Any  # <:Any is optional\n",
    "    true\n",
    "end\n",
    "is_same_type(x,y) = false\n",
    "\n",
    "println(is_same_type(Number,Number))\n",
    "println(is_same_type(1,2))\n",
    "println(is_same_type(1,2.))"
   ]
  },
  {
   "cell_type": "code",
   "execution_count": null,
   "metadata": {},
   "outputs": [],
   "source": [
    "struct Point{T <:Real}\n",
    "  x::T\n",
    "  y::T\n",
    "end"
   ]
  },
  {
   "cell_type": "code",
   "execution_count": null,
   "metadata": {},
   "outputs": [],
   "source": [
    "function norm2(p::Point{T}) where T <:Real\n",
    "    sqrt(p.x^2+p.y^2)\n",
    "end\n",
    "\n",
    "z1=Point{Float64}(4,3)\n",
    "println(norm2(z1))\n",
    "\n",
    "z2=Point{Int}(4,3)\n",
    "println(norm2(z2))"
   ]
  },
  {
   "cell_type": "code",
   "execution_count": null,
   "metadata": {},
   "outputs": [],
   "source": [
    "Point(1,2), Point(1.,2.)"
   ]
  },
  {
   "cell_type": "code",
   "execution_count": null,
   "metadata": {},
   "outputs": [],
   "source": [
    "Point(1,2.)"
   ]
  },
  {
   "cell_type": "code",
   "execution_count": null,
   "metadata": {},
   "outputs": [],
   "source": [
    "Point(x::Real,y::Real) = Point(promote(x,y)...)"
   ]
  },
  {
   "cell_type": "code",
   "execution_count": null,
   "metadata": {},
   "outputs": [],
   "source": [
    "promote(1,2.),(1,2.),(1,2.)..."
   ]
  },
  {
   "cell_type": "code",
   "execution_count": null,
   "metadata": {},
   "outputs": [],
   "source": [
    "Point(1,2.)"
   ]
  },
  {
   "cell_type": "markdown",
   "metadata": {},
   "source": [
    "## Ranges and arrays <a name=\"Arrays\"></a>\n",
    "[Table of contents](#table-of-contents)"
   ]
  },
  {
   "cell_type": "markdown",
   "metadata": {},
   "source": [
    "#### Ranges"
   ]
  },
  {
   "cell_type": "code",
   "execution_count": null,
   "metadata": {},
   "outputs": [],
   "source": [
    "1:10, 0:5:25, range(0,step=5, length=6), range(1,stop=4)"
   ]
  },
  {
   "cell_type": "code",
   "execution_count": null,
   "metadata": {},
   "outputs": [],
   "source": [
    "range(1,4)"
   ]
  },
  {
   "cell_type": "code",
   "execution_count": null,
   "metadata": {},
   "outputs": [],
   "source": [
    "collect.([1:10, 0:5:25, range(0,step=5, length=6)])"
   ]
  },
  {
   "cell_type": "markdown",
   "metadata": {},
   "source": [
    "#### Building arrays"
   ]
  },
  {
   "cell_type": "code",
   "execution_count": null,
   "metadata": {},
   "outputs": [],
   "source": [
    "a=Array{Int32}(undef,4)\n",
    "a"
   ]
  },
  {
   "cell_type": "code",
   "execution_count": null,
   "metadata": {},
   "outputs": [],
   "source": [
    "typeof([1,2,3])\n",
    "a = Int64[1,2,3]\n",
    "println(typeof(a))\n",
    "println(a)\n",
    "println(a == Float64[1,2,3])  # equality\n",
    "println(a === Float64[1,2,3]) # "
   ]
  },
  {
   "cell_type": "code",
   "execution_count": null,
   "metadata": {},
   "outputs": [],
   "source": [
    "[1,'a',2]+[1,1,1], '0'+2096, '\\u2096'"
   ]
  },
  {
   "cell_type": "code",
   "execution_count": null,
   "metadata": {},
   "outputs": [],
   "source": [
    "a= [1 2 3]\n",
    "b= [1,2,3]\n",
    "c= [1;2;3];"
   ]
  },
  {
   "cell_type": "code",
   "execution_count": null,
   "metadata": {},
   "outputs": [],
   "source": [
    "a"
   ]
  },
  {
   "cell_type": "code",
   "execution_count": null,
   "metadata": {},
   "outputs": [],
   "source": [
    "b"
   ]
  },
  {
   "cell_type": "code",
   "execution_count": null,
   "metadata": {},
   "outputs": [],
   "source": [
    "c"
   ]
  },
  {
   "cell_type": "code",
   "execution_count": null,
   "metadata": {},
   "outputs": [],
   "source": [
    "a =10:-1:1\n",
    "println(typeof(a))\n",
    "a = Array(a)\n",
    "println(a)\n",
    "a[2:4], a[end], pop!(a), pop!(a), a"
   ]
  },
  {
   "cell_type": "code",
   "execution_count": null,
   "metadata": {},
   "outputs": [],
   "source": [
    "b=[0,0]\n",
    "c=append!(a,b)\n",
    "print(\"$a \\n$b \\n$c\")"
   ]
  },
  {
   "cell_type": "markdown",
   "metadata": {},
   "source": [
    "#### Functions on arrays"
   ]
  },
  {
   "cell_type": "code",
   "execution_count": null,
   "metadata": {},
   "outputs": [],
   "source": [
    "a = rand(2,3)\n",
    "eltype(a), length(a), ndims(a), size(a)"
   ]
  },
  {
   "cell_type": "code",
   "execution_count": null,
   "metadata": {},
   "outputs": [],
   "source": [
    "a = Int32.(round.(10*rand(10)))\n",
    "println(a)\n",
    "pop!(a)\n",
    "println(a)\n",
    "push!(a,5)\n",
    "println(a)\n",
    "println(sort(a))\n",
    "println(a)\n",
    "println(sort!(a))\n",
    "println(a)"
   ]
  },
  {
   "cell_type": "code",
   "execution_count": null,
   "metadata": {},
   "outputs": [],
   "source": [
    "a = collect(1:5)\n",
    "popfirst!(a)\n",
    "println(a)\n",
    "pushfirst!(a,12)\n",
    "println(a)\n",
    "splice!(a,3)\n",
    "println(a)"
   ]
  },
  {
   "cell_type": "code",
   "execution_count": null,
   "metadata": {},
   "outputs": [],
   "source": [
    "b = [1]\n",
    "sizehint!(b,10)  # allows pushes till 10 elements without array reallocation\n",
    "b"
   ]
  },
  {
   "cell_type": "code",
   "execution_count": null,
   "metadata": {},
   "outputs": [],
   "source": [
    "in(1,b), 1 ∈ b, 2 ∈ b"
   ]
  },
  {
   "cell_type": "markdown",
   "metadata": {},
   "source": [
    "#### Copy and deepcopy"
   ]
  },
  {
   "cell_type": "code",
   "execution_count": null,
   "metadata": {},
   "outputs": [],
   "source": [
    "a    = collect(1:4)\n",
    "b    = a\n",
    "a[2] = 0\n",
    "a,b"
   ]
  },
  {
   "cell_type": "code",
   "execution_count": null,
   "metadata": {},
   "outputs": [],
   "source": [
    "b = copy(a)\n",
    "b[2] =1\n",
    "a,b"
   ]
  },
  {
   "cell_type": "code",
   "execution_count": null,
   "metadata": {},
   "outputs": [],
   "source": [
    "a=[[1,2],[3,4]]\n",
    "b=copy(a)\n",
    "a[1][1]=5\n",
    "println(a,b)\n",
    "c=deepcopy(a)\n",
    "a[1][1]=10\n",
    "print(a,c)"
   ]
  },
  {
   "cell_type": "markdown",
   "metadata": {},
   "source": [
    "#### Mapping functions to arrays"
   ]
  },
  {
   "cell_type": "code",
   "execution_count": null,
   "metadata": {},
   "outputs": [],
   "source": [
    "x = [1, 2, 3]\n",
    "sin(x)"
   ]
  },
  {
   "cell_type": "code",
   "execution_count": null,
   "metadata": {},
   "outputs": [],
   "source": [
    "sin.(x)==map(sin,x), sin.(x)"
   ]
  },
  {
   "cell_type": "code",
   "execution_count": null,
   "metadata": {},
   "outputs": [],
   "source": [
    "x*x',x'*x, x.*x"
   ]
  },
  {
   "cell_type": "code",
   "execution_count": null,
   "metadata": {},
   "outputs": [],
   "source": [
    "A = 1:2*3*4\n",
    "A=reshape(A,(2,3,4))"
   ]
  },
  {
   "cell_type": "code",
   "execution_count": null,
   "metadata": {},
   "outputs": [],
   "source": [
    "size(A),size(A,2), ndims(A)"
   ]
  },
  {
   "cell_type": "markdown",
   "metadata": {},
   "source": [
    "#### Sparse arrays"
   ]
  },
  {
   "cell_type": "code",
   "execution_count": null,
   "metadata": {},
   "outputs": [],
   "source": [
    "using SparseArrays: sparse\n",
    "A = sparse([1, 1, 2], [1, 3, 1], [5, 2, -5])  # stored as [i,j,Aij]_{ij}"
   ]
  },
  {
   "cell_type": "code",
   "execution_count": null,
   "metadata": {},
   "outputs": [],
   "source": [
    "collect(A)"
   ]
  },
  {
   "cell_type": "markdown",
   "metadata": {},
   "source": [
    "Usual construction tools: **zeros**, **ones**, **eye**, **hcat**, **vcat**, **rand**, **randn**, ..."
   ]
  },
  {
   "cell_type": "code",
   "execution_count": null,
   "metadata": {},
   "outputs": [],
   "source": [
    "A = Int32.(round.(10*rand(3,3)))\n",
    "println(A)\n",
    "ind = findall(x->x<5,A)\n",
    "println(\"findall(x->x<5,A) =\\n$ind\")\n",
    "A[ind]=zeros(length(ind)) #for i in ind; A[i]=0; end\n",
    "println(A)"
   ]
  },
  {
   "cell_type": "code",
   "execution_count": null,
   "metadata": {},
   "outputs": [],
   "source": [
    "#methodswith(CartesianIndex)"
   ]
  },
  {
   "cell_type": "code",
   "execution_count": null,
   "metadata": {},
   "outputs": [],
   "source": [
    "A = zeros(2,2)\n",
    "B = ones(2,2)\n",
    "n = 10\n",
    "print(\n",
    "hcat(A,B) == [A B],\"\\n\",\n",
    "vcat(A,B) == [A; B],\"\\n\",\n",
    "range(1,stop=n) == 1:n,\"\\n\",\n",
    "getindex(A,1,1),\"\\n\",\n",
    "setindex!(A,2,1,1),\"\\n\",\n",
    "A[1,1]==2,'\\n',\n",
    "[A B]\n",
    ")"
   ]
  },
  {
   "cell_type": "markdown",
   "metadata": {},
   "source": [
    "### Vectors and matrices"
   ]
  },
  {
   "cell_type": "code",
   "execution_count": null,
   "metadata": {},
   "outputs": [],
   "source": [
    "v = [1, 2]\n",
    "A = [1 2;3 4]\n",
    "v::Vector\n",
    "A::Matrix\n",
    "A*v"
   ]
  },
  {
   "cell_type": "code",
   "execution_count": null,
   "metadata": {},
   "outputs": [],
   "source": [
    "typeof(v),typeof(A)"
   ]
  },
  {
   "cell_type": "code",
   "execution_count": null,
   "metadata": {},
   "outputs": [],
   "source": [
    "vec = Array{Int64,1}\n",
    "v::vec"
   ]
  },
  {
   "cell_type": "markdown",
   "metadata": {},
   "source": [
    "#### There are many functions defined on arrays:"
   ]
  },
  {
   "cell_type": "code",
   "execution_count": null,
   "metadata": {},
   "outputs": [],
   "source": [
    "accumulate(/, 2*ones(4,2),dims=1)  #cumsum and cumprod for operators + and *"
   ]
  },
  {
   "cell_type": "code",
   "execution_count": null,
   "metadata": {},
   "outputs": [],
   "source": [
    "println(Float32.(sqrt.(1:9)))\n",
    "accumulate((x,y)->Float32(√(x^2+y^2)),ones(9),init=0)'"
   ]
  },
  {
   "cell_type": "code",
   "execution_count": null,
   "metadata": {},
   "outputs": [],
   "source": [
    "A = repeat([1 3;2 4],1,3)"
   ]
  },
  {
   "cell_type": "code",
   "execution_count": null,
   "metadata": {},
   "outputs": [],
   "source": [
    "rot180(A)"
   ]
  },
  {
   "cell_type": "code",
   "execution_count": null,
   "metadata": {},
   "outputs": [],
   "source": [
    "rotl90(A) # rotr90(A)"
   ]
  },
  {
   "cell_type": "code",
   "execution_count": null,
   "metadata": {},
   "outputs": [],
   "source": [
    "B = reshape(Vector(1:9), (3,3))"
   ]
  },
  {
   "cell_type": "code",
   "execution_count": null,
   "metadata": {},
   "outputs": [],
   "source": [
    "circshift(B,[1,0]) # lines: 1 shift down"
   ]
  },
  {
   "cell_type": "code",
   "execution_count": null,
   "metadata": {},
   "outputs": [],
   "source": [
    "circshift(B,[0,2]) # raws: 2 shifts right"
   ]
  },
  {
   "cell_type": "code",
   "execution_count": null,
   "metadata": {},
   "outputs": [],
   "source": [
    "reverse(1:4), reverse(collect(1:4))"
   ]
  },
  {
   "cell_type": "code",
   "execution_count": null,
   "metadata": {},
   "outputs": [],
   "source": [
    "v = [5,1,3,2,4]\n",
    "invperm(v)'"
   ]
  },
  {
   "cell_type": "code",
   "execution_count": null,
   "metadata": {},
   "outputs": [],
   "source": [
    "a = randn(5)\n",
    "b = copy(a)\n",
    "permute!(b,v)\n",
    "\n",
    "a==b, b[invperm(v)]==a"
   ]
  },
  {
   "cell_type": "code",
   "execution_count": null,
   "metadata": {},
   "outputs": [],
   "source": [
    "length(methodswith(Array))"
   ]
  },
  {
   "cell_type": "markdown",
   "metadata": {},
   "source": [
    "## Tuples <a name=\"Tuples\"></a>\n",
    "[Table of contents](#table-of-contents)"
   ]
  },
  {
   "cell_type": "code",
   "execution_count": null,
   "metadata": {},
   "outputs": [],
   "source": [
    "t1 = (1,2,3)\n",
    "t2 = 1,2,3\n",
    "t1==t2"
   ]
  },
  {
   "cell_type": "code",
   "execution_count": null,
   "metadata": {},
   "outputs": [],
   "source": [
    "t1[2]=1"
   ]
  },
  {
   "cell_type": "code",
   "execution_count": null,
   "metadata": {},
   "outputs": [],
   "source": [
    "typeof(('a',1,3.5))"
   ]
  },
  {
   "cell_type": "code",
   "execution_count": null,
   "metadata": {},
   "outputs": [],
   "source": [
    "a = (7)\n",
    "b = (7,)\n",
    "typeof(a), typeof(b)"
   ]
  },
  {
   "cell_type": "markdown",
   "metadata": {},
   "source": [
    "## Dictionaries \n",
    "<a name=\"Dictionaries\"></a>\n",
    "[Table of contents](#table-of-contents)"
   ]
  },
  {
   "cell_type": "code",
   "execution_count": null,
   "metadata": {},
   "outputs": [],
   "source": [
    "d = Dict{Char,Int}('a'=>1,'b'=>2,'c'=>3)"
   ]
  },
  {
   "cell_type": "code",
   "execution_count": null,
   "metadata": {},
   "outputs": [],
   "source": [
    "d['b'], keys(d), values(d)"
   ]
  },
  {
   "cell_type": "code",
   "execution_count": null,
   "metadata": {},
   "outputs": [],
   "source": [
    "for (k,v) in d\n",
    "    println(\"value for key $k is $v\")\n",
    "end"
   ]
  },
  {
   "cell_type": "markdown",
   "metadata": {},
   "source": [
    "## Structs <a name=\"Structs\"></a>\n",
    "[Table of contents](#table-of-contents)"
   ]
  },
  {
   "cell_type": "code",
   "execution_count": null,
   "metadata": {},
   "outputs": [],
   "source": [
    "struct Person\n",
    "    name::String\n",
    "    age::Int32\n",
    "    tel::Int64\n",
    "end\n",
    "\n",
    "p = Person(\"John\", 40, 0606060606)\n",
    "p.name,p.tel"
   ]
  },
  {
   "cell_type": "markdown",
   "metadata": {},
   "source": [
    "## Sets <a name=\"Sets\"></a>\n",
    "[Table of contents](#table-of-contents)"
   ]
  },
  {
   "cell_type": "code",
   "execution_count": null,
   "metadata": {},
   "outputs": [],
   "source": [
    "s = Set{Int}([1,2,1,5,9,5,1])"
   ]
  },
  {
   "cell_type": "markdown",
   "metadata": {},
   "source": [
    "operatiors on sets : **union**, **intersect**, **setdiff**, **issubset**, ..."
   ]
  },
  {
   "cell_type": "markdown",
   "metadata": {},
   "source": [
    "-------------------\n",
    "\n",
    "# VII - Plotting <a name=\"Plotting\"></a>\n",
    "[Table of contents](#table-of-contents)\n",
    "\n",
    "https://docs.juliaplots.org/latest/\n",
    "\n",
    "\"Plots.jl isn't actually a plotting package! Plots.jl is a plotting metapackage: it's an interface over many different plotting libraries. Thus what Plots.jl is actually doing is interpreting your commands and then generating the plots using another plotting library.\""
   ]
  },
  {
   "cell_type": "code",
   "execution_count": null,
   "metadata": {},
   "outputs": [],
   "source": [
    "using Pkg\n",
    "Pkg.add(\"Plots\")\n",
    "#backends\n",
    "Pkg.add(\"PyPlot\")\n",
    "Pkg.add(\"GR\")\n",
    "Pkg.add(\"UnicodePlots\")\n",
    "Pkg.add(\"PlotlyJS\")\n",
    "#extensions\n",
    "Pkg.add(\"StatsPlots\")\n",
    "Pkg.add(\"GraphRecipes\")"
   ]
  },
  {
   "cell_type": "markdown",
   "metadata": {},
   "source": [
    "<img src=\"backends.png\" alt=\"drawing\" width=\"200\"/>"
   ]
  },
  {
   "cell_type": "code",
   "execution_count": null,
   "metadata": {},
   "outputs": [],
   "source": [
    "using Plots\n",
    "x = 1:10; y = rand(10,2) \n",
    "pyplot(size = (600,200)) # pyplot backend\n",
    "p=plot(x,y,title=\"This is Plotted using PyPlot\")"
   ]
  },
  {
   "cell_type": "code",
   "execution_count": null,
   "metadata": {},
   "outputs": [],
   "source": [
    "gr()\n",
    "y = rand(10,4)\n",
    "p1 = plot(x,y) # Make a line plot\n",
    "p2 = scatter(x,y) # Make a scatter plot <=> plot(x,y,seriestype=:scatter,title=\"My Scatter Plot\")\n",
    "p3 = plot(x,y,xlabel=\"This one is labelled\",lw=3,title=\"Subtitle\")\n",
    "p4 = histogram(x,y) # Four histograms each with 10 points? Why not!\n",
    "plot(p1,p2,p3,p4,layout=(2,2),legend=false)\n",
    "#display()"
   ]
  },
  {
   "cell_type": "code",
   "execution_count": null,
   "metadata": {},
   "outputs": [],
   "source": [
    "plotly(size = (450,200))\n",
    "plot(heatmap(rand(500,500)),heatmap(randn(500,500)),layout=(1,2))"
   ]
  },
  {
   "cell_type": "code",
   "execution_count": null,
   "metadata": {},
   "outputs": [],
   "source": [
    "# several curves\n",
    "pyplot(size = (600,200))\n",
    "p1 = plot([sin,cos,x->tan(x/4)], 0:0.1:3π/4,label=\"\") \n",
    "p2 = plot(1:100,(0:99)*(1:10)')\n",
    "plot(p1,p2,layout=(1,2))"
   ]
  },
  {
   "cell_type": "code",
   "execution_count": null,
   "metadata": {},
   "outputs": [],
   "source": [
    "# several representations\n",
    "pyplot()\n",
    "plot(randn(100, 5), t=[:line :histogram :scatter :steppre :bar], \n",
    "    leg=false, ticks=nothing, border=:none)"
   ]
  },
  {
   "cell_type": "code",
   "execution_count": null,
   "metadata": {},
   "outputs": [],
   "source": [
    "# filling\n",
    "plot(sin, x->sin(4x), 0, 2π, line=(4,:green), leg=false, fill=(0, .4, :orange))"
   ]
  },
  {
   "cell_type": "markdown",
   "metadata": {},
   "source": [
    "### StatPlots\n",
    "https://github.com/JuliaPlots/StatPlots.jl"
   ]
  },
  {
   "cell_type": "code",
   "execution_count": null,
   "metadata": {},
   "outputs": [],
   "source": [
    "#using Pkg\n",
    "#Pkg.build()"
   ]
  },
  {
   "cell_type": "code",
   "execution_count": null,
   "metadata": {},
   "outputs": [],
   "source": [
    "#using Pkg\n",
    "#Pkg.add(\"SpecialFunctions\")\n",
    "#Pkg.add(\"Distributions\")\n",
    "using Distributions\n",
    "using StatsPlots\n",
    "gr(size=(400,150))\n",
    "plot(Normal(3,5),c=\"red\",lw=3, fill=(0, .5,:orange))\n",
    "plot!(Gamma(2,5),c=\"blue\",α=.5,lw=3, fill=(0, .5,:green))"
   ]
  },
  {
   "cell_type": "code",
   "execution_count": null,
   "metadata": {},
   "outputs": [],
   "source": [
    "dist = Chisq(4)\n",
    "plot(dist, func=pdf, leg=false)\n",
    "bar!(dist, func=cdf, α=0.3, leg=false)"
   ]
  },
  {
   "cell_type": "code",
   "execution_count": null,
   "metadata": {},
   "outputs": [],
   "source": [
    "# QQplot\n",
    "x = rand(Normal(), 100)\n",
    "y = rand(Gamma(), 100)\n",
    "pyplot(size=(500,400))\n",
    "p1 = qqplot(x, y,xlabel=\"normal\",ylabel=\"gamma\")\n",
    "p2 = qqplot(Gamma,y,title=\"gamma/gamma\")\n",
    "p3 = qqplot(Normal,x,title=\"normal/normal\")\n",
    "l = @layout [a ; b c]\n",
    "plot(p1,p2,p3,layout=l)"
   ]
  },
  {
   "cell_type": "code",
   "execution_count": null,
   "metadata": {},
   "outputs": [],
   "source": [
    "#using Pkg;\n",
    "#Pkg.add(\"KernelDensity\")\n",
    "using Plots, Distributions\n",
    "using KernelDensity: kde\n",
    "y   = randn(1000)\n",
    "k   = kde(y)\n",
    "pyplot(size=(200,200))\n",
    "plot(k.x,k.density,label=\"kde\")\n",
    "plot!(k.x,pdf.(Normal(0,1),k.x),label=\"pdf\")"
   ]
  },
  {
   "cell_type": "markdown",
   "metadata": {},
   "source": [
    "### Animated graphics \n",
    "\n",
    "Often requires installing **ffmpeg** (https://superuser.com/questions/624561/install-ffmpeg-on-os-x):\n",
    "\n",
    "    ruby -e \"$(curl -fsSL https://raw.githubusercontent.com/Homebrew/install/master/install)\"\n",
    "\n",
    "    brew install ffmpeg\n",
    "\n",
    "    brew update && brew upgrade ffmpeg"
   ]
  },
  {
   "cell_type": "code",
   "execution_count": null,
   "metadata": {},
   "outputs": [],
   "source": [
    "using Plots\n",
    "gr()\n",
    "\n",
    "x = 0:.1:10\n",
    "anim = @animate for i=0:100\n",
    "    y = map(u->sin((i/100)*u), x)\n",
    "    plot(x,y)\n",
    "end\n",
    "\n",
    "#gif(anim, \"anim_fps15.gif\", fps = 15)\n",
    "gif(anim, \"anim_fps30.gif\", fps = 30)"
   ]
  },
  {
   "cell_type": "markdown",
   "metadata": {},
   "source": [
    "--------------------------------\n",
    "\n",
    "# VIII - Useful Tools <a name=\"Useful-tools\"></a>\n",
    "[Table of contents](#table-of-contents)\n"
   ]
  },
  {
   "cell_type": "markdown",
   "metadata": {},
   "source": [
    "### Standard library: LinearAlgebra and Statistics modules"
   ]
  },
  {
   "cell_type": "code",
   "execution_count": null,
   "metadata": {},
   "outputs": [],
   "source": [
    "using LinearAlgebra: norm\n",
    "\n",
    "v = [1, 2, 3]\n",
    "w = [4,5,6,7]\n",
    "v,w, length(v), norm(v), v+w[1:3], v.*w[1:3], v'*w[1:3], v*w'"
   ]
  },
  {
   "cell_type": "code",
   "execution_count": null,
   "metadata": {},
   "outputs": [],
   "source": [
    "using Statistics: mean, std\n",
    "x = randn(10^3)\n",
    "mean(x), std(x)"
   ]
  },
  {
   "cell_type": "markdown",
   "metadata": {},
   "source": [
    "### Special functions (transfered from *Julia* to *SpecialFunctions.jl*)"
   ]
  },
  {
   "cell_type": "markdown",
   "metadata": {},
   "source": [
    "$\\hspace{2cm}sinint(x)=\\int_0^x\\dfrac{\\sin t}{t}dt\\hspace{5cm} erf(x)=\\dfrac{2}{\\sqrt{π}}\\displaystyle{∫_0^x e^{-t^2/2}dt}$"
   ]
  },
  {
   "cell_type": "code",
   "execution_count": null,
   "metadata": {},
   "outputs": [],
   "source": [
    "using Plots\n",
    "gr(size=(400,200))\n",
    "\n",
    "using SpecialFunctions: erf, sinint\n",
    "\n",
    "p1 = plot(x->sinint(x),-10π,10π,ylabel=\"sinint(x)\",label=\"\")\n",
    "p2 = plot(erf,-3,3,ylabel=\"erf(x)\",label=\"\") \n",
    "#p3 = plot(besselj,0,10,label=\"Bessel_j(x)\")\n",
    "plot(p1,p2,layout=(1,2))"
   ]
  },
  {
   "cell_type": "markdown",
   "metadata": {},
   "source": [
    "### Data frames\n",
    "\n",
    "https://juliadata.github.io/DataFrames.jl/stable/"
   ]
  },
  {
   "cell_type": "code",
   "execution_count": null,
   "metadata": {},
   "outputs": [],
   "source": [
    "#using Pkg; Pkg.add(\"DataFrames\")\n",
    "using DataFrames\n",
    "\n",
    "df = DataFrame(C1 = 1:5, C2 = rand(5), C3=\"I-\".*('a':'e'))"
   ]
  },
  {
   "cell_type": "code",
   "execution_count": null,
   "metadata": {},
   "outputs": [],
   "source": [
    "A = [randn(5) for k=1:5]\n",
    "DataFrame(A)"
   ]
  },
  {
   "cell_type": "markdown",
   "metadata": {},
   "source": [
    "### Documentation and Latex formatting\n",
    "\n",
    "https://juliadocs.github.io/Documenter.jl/stable/"
   ]
  },
  {
   "cell_type": "code",
   "execution_count": null,
   "metadata": {},
   "outputs": [],
   "source": [
    "#Pkg.rm(\"Atom\")\n",
    "#using Pkg; Pkg.add(\"Documenter\")"
   ]
  },
  {
   "cell_type": "code",
   "execution_count": 36,
   "metadata": {},
   "outputs": [
    {
     "name": "stdout",
     "output_type": "stream",
     "text": [
      "Complex{Float64}[1.0 + 0.0im, 0.7071067811865476 + 0.7071067811865475im, 6.123233995736766e-17 + 1.0im]\n",
      "Complex{Float64}[1.0 + 0.0im, 0.7071067811865476 + 0.7071067811865475im]"
     ]
    }
   ],
   "source": [
    "using Documenter\n",
    "\n",
    "@doc raw\"\"\"\n",
    "``Δ(ϕ,N):`` harmonic function sampled at ``N`` points with phase shift ``ϕ`` betwen points.\n",
    "\"\"\"\n",
    "Δ(ϕ,N) = exp.(im*ϕ*(0:(N-1)))\n",
    "\n",
    "@doc raw\"\"\"\n",
    "``Δ(ϕ):`` harmonic function sampled at ``2`` points with phase shift ``ϕ`` betwen points.\n",
    "\"\"\"\n",
    "Δ(ϕ) = Δ(ϕ,2)\n",
    "\n",
    "println(Δ(π/4,3))\n",
    "print(Δ(π/4))"
   ]
  },
  {
   "cell_type": "code",
   "execution_count": 37,
   "metadata": {},
   "outputs": [
    {
     "name": "stdout",
     "output_type": "stream",
     "text": [
      "\"\u001b[36mΔ\u001b[39m\" can be typed by \u001b[36m\\Delta<tab>\u001b[39m\n",
      "\n",
      "search: \u001b[0m\u001b[1mΔ\u001b[22m\n",
      "\n"
     ]
    },
    {
     "data": {
      "text/latex": [
       "$Δ(ϕ,N):$ harmonic function sampled at $N$ points with phase shift $ϕ$ betwen points.\n",
       "\n",
       "\\rule{\\textwidth}{1pt}\n",
       "$Δ(ϕ):$ harmonic function sampled at $2$ points with phase shift $ϕ$ betwen points.\n",
       "\n"
      ],
      "text/markdown": [
       "$Δ(ϕ,N):$ harmonic function sampled at $N$ points with phase shift $ϕ$ betwen points.\n",
       "\n",
       "---\n",
       "\n",
       "$Δ(ϕ):$ harmonic function sampled at $2$ points with phase shift $ϕ$ betwen points.\n"
      ],
      "text/plain": [
       "  \u001b[35mΔ(ϕ,N):\u001b[39m harmonic function sampled at \u001b[35mN\u001b[39m points with phase shift \u001b[35mϕ\u001b[39m betwen\n",
       "  points.\n",
       "\n",
       "  ────────────────────────────────────────────────────────────────────────────\n",
       "\n",
       "  \u001b[35mΔ(ϕ):\u001b[39m harmonic function sampled at \u001b[35m2\u001b[39m points with phase shift \u001b[35mϕ\u001b[39m betwen\n",
       "  points."
      ]
     },
     "execution_count": 37,
     "metadata": {},
     "output_type": "execute_result"
    }
   ],
   "source": [
    "?Δ"
   ]
  },
  {
   "cell_type": "markdown",
   "metadata": {},
   "source": [
    "### File handling\n",
    "\n",
    "Julia syntax to access shell commands $\\rightarrow$ ;"
   ]
  },
  {
   "cell_type": "code",
   "execution_count": null,
   "metadata": {},
   "outputs": [],
   "source": [
    ";ls"
   ]
  },
  {
   "cell_type": "code",
   "execution_count": null,
   "metadata": {},
   "outputs": [],
   "source": [
    ";rm test.jl"
   ]
  },
  {
   "cell_type": "code",
   "execution_count": null,
   "metadata": {},
   "outputs": [],
   "source": [
    "file = \"test.jl\"\n",
    "fi    = open(file,\"a\")\n",
    "write(fi,\"\"\"println(\"Hello world!\")\\n\"\"\")\n",
    "close(fi)\n",
    "include(\"test.jl\")"
   ]
  },
  {
   "cell_type": "markdown",
   "metadata": {},
   "source": [
    "### ... and many more ..."
   ]
  },
  {
   "cell_type": "markdown",
   "metadata": {},
   "source": [
    "------------------------------------\n",
    "\n",
    "# IX- Exercises <a name=\"Exercises\"></a>\n",
    "[Table of contents](#table-of-contents)\n"
   ]
  },
  {
   "cell_type": "markdown",
   "metadata": {},
   "source": [
    "### <span style=\"color:#00B8DE\"> I - A parameter estimation problem</span>\n",
    "\n",
    "- 1) Using library *Distributions.jl*, generate $n=10^3$ samples from a beta distribution \n",
    "(https://en.wikipedia.org/wiki/Beta_distribution) with parameters $(\\alpha,\\beta)=(2,4)$.\n",
    "\n",
    "- 2) Use the method of moments to estimate $(\\alpha,\\beta)$ from data."
   ]
  },
  {
   "cell_type": "markdown",
   "metadata": {},
   "source": [
    "#### Answer to question 1)"
   ]
  },
  {
   "cell_type": "code",
   "execution_count": null,
   "metadata": {},
   "outputs": [],
   "source": [
    "..."
   ]
  },
  {
   "cell_type": "markdown",
   "metadata": {},
   "source": [
    "#### Answer to question 2)"
   ]
  },
  {
   "cell_type": "markdown",
   "metadata": {},
   "source": [
    "..."
   ]
  },
  {
   "cell_type": "code",
   "execution_count": null,
   "metadata": {},
   "outputs": [],
   "source": [
    "..."
   ]
  },
  {
   "cell_type": "markdown",
   "metadata": {},
   "source": [
    "### <span style=\"color:#00B8DE\"> II - A digital transmission</span>\n",
    "\n",
    "We want to solve a linear system of equations resulting from the the observation of an unknown signal that consists in a sequence ${\\bf x}=[x_0,\\ldots,x_n]^T$ of $n=100$ transmitted symbols convolved by a filter with known impulse response that represents the effect of the propagation channel (multipath, ...), in the presence of additive white Gaussian noise. We try to recover emitted symbols, the values of which are assumed in $\\{-1,+1\\}$.\n",
    "\n",
    "- 1) The filter has an impulse response with 11 coefficients, $h_0,\\ldots,h_{10}$ with $h_t= 1/(1+t)^3$. Plot the impulse and frequency response of this filter.\n",
    "\n",
    "- 2) In a matrix form, the problem rewrites ${\\bf y} = {\\bf Mx} + {\\bf w}$. Where noise ${\\bf w}$ has distribution $\\mathcal{N}(0,\\sigma^2 {\\bf I})$. What do the terms of equation  ${\\bf y} = {\\bf Mx} + {\\bf w}$ represent ? Express ${\\bf M}$ in terms of ${\\bf h}=[h_0,\\ldots,h_L]^T$ and compute parameters ${\\bf A}$ and ${\\bf b}$ of the system of equations ${\\bf Ax} = {\\bf b}$ satisfied by the mean square error solution $\\hat{x}$ of the problem. Implement the following functions that respectively generate data and compute the MMSE estimate:\n",
    ">- **function generate_data(h=h, n=100,SNR=1000) $\\rightarrow$ M,x,y**\n",
    ">- **function x_MMSE(M,y) $\\rightarrow$ x$_{\\text{MMSE}}$** \n",
    ">\n",
    "and check that symbols are well recovered in the absence of noise\n",
    "\n",
    "\n",
    "- 3) Study the influence of the noise level plotting $\\dfrac{\\parallel {\\bf x}-{\\bf x_{MMSE}}\\parallel}{\\parallel {\\bf x}\\parallel}$ as a function of the SNR. For $n=10^4$, plot also the number of errors as a function of the SNR."
   ]
  },
  {
   "cell_type": "markdown",
   "metadata": {},
   "source": [
    "#### Answer to question 1)"
   ]
  },
  {
   "cell_type": "code",
   "execution_count": null,
   "metadata": {},
   "outputs": [],
   "source": [
    "# filter    \n",
    "...\n",
    "\n",
    "# plots of impulse and frequency response\n",
    "..."
   ]
  },
  {
   "cell_type": "markdown",
   "metadata": {},
   "source": [
    "#### Answer to question 2)"
   ]
  },
  {
   "cell_type": "code",
   "execution_count": null,
   "metadata": {},
   "outputs": [],
   "source": [
    "function generate_data(h=h, n=100,SNR=1000)\n",
    "    ...\n",
    "    return M,x,y\n",
    "end"
   ]
  },
  {
   "cell_type": "code",
   "execution_count": null,
   "metadata": {},
   "outputs": [],
   "source": [
    "function x_MMSE(M,y)\n",
    "    ...\n",
    "end"
   ]
  },
  {
   "cell_type": "code",
   "execution_count": null,
   "metadata": {},
   "outputs": [],
   "source": [
    "MSE(x,x_est)    = ...\n",
    "nb_err(x,x_est) = ...\n",
    "\n",
    "..."
   ]
  },
  {
   "cell_type": "markdown",
   "metadata": {},
   "source": [
    "#### Answer to question 3)"
   ]
  },
  {
   "cell_type": "code",
   "execution_count": 38,
   "metadata": {},
   "outputs": [
    {
     "ename": "LoadError",
     "evalue": "syntax: invalid identifier name \"...\"",
     "output_type": "error",
     "traceback": [
      "syntax: invalid identifier name \"...\"",
      ""
     ]
    }
   ],
   "source": [
    "..."
   ]
  },
  {
   "cell_type": "markdown",
   "metadata": {},
   "source": [
    "----------\n",
    "\n",
    "# References <a name=\"References\"></a>"
   ]
  },
  {
   "cell_type": "markdown",
   "metadata": {},
   "source": [
    "> - **Online doc** \n",
    ">>- https://docs.julialang.org/en/v1/\n",
    ">>- https://en.wikibooks.org/wiki/Introducing_Julia\n",
    "> - **Jupyter**\n",
    ">>- https://jupyter.org/\n",
    ">>- https://jupyterlab.readthedocs.io/en/stable/\n",
    "> - **Package ecosystem** https://juliaobserver.com/ (*Plots* for plotting, *DataFrames* for tabular data representation, *TensorFlow*-*Flux*-*Mocha* for deep learning, *DifferentialEquations*, *JuMP* for optimization ...). See in particular\n",
    ">>- https://github.com/JuliaMath\n",
    ">>- https://github.com/JuliaOpt/\n",
    ">>- https://github.com/JuliaDiff/\n",
    ">>- https://github.com/FluxML/\n",
    ">>- https://github.com/JuliaStats/\n",
    ">\n",
    "<!-- > - **Getting Started with Julia Programming** by Ivo Balbaert - published by Packt Publishing (214 pages; published: 2015-02-28; ISBN: 9781783284795)\n",
    "> \n",
    "> <img src=\"https://dz13w8afd47il.cloudfront.net/sites/default/files/imagecache/ppv4_main_book_cover/4795OS_B00946_Getting%20started%20with%20Julia%20Programming%20Language_0.jpg\" width=\"200\" height=\"300\">\n",
    "> \n",
    ">\n",
    "> - **Mastering Julia** by Malcolm Sherrington - published by Packt Publishing (410 pages; published: 2015-07; ISBN: 9781783553310)      \n",
    ">\n",
    "> <img src=\"https://dz13w8afd47il.cloudfront.net/sites/default/files/imagecache/ppv4_main_book_cover/B03587_MockupCover_Normal.jpg\" width=\"200\" height=\"300\"> -->"
   ]
  },
  {
   "cell_type": "code",
   "execution_count": null,
   "metadata": {},
   "outputs": [],
   "source": []
  }
 ],
 "metadata": {
  "@webio": {
   "lastCommId": null,
   "lastKernelId": null
  },
  "kernelspec": {
   "display_name": "Julia 1.2.0",
   "language": "julia",
   "name": "julia-1.2"
  },
  "language_info": {
   "file_extension": ".jl",
   "mimetype": "application/julia",
   "name": "julia",
   "version": "1.2.0"
  }
 },
 "nbformat": 4,
 "nbformat_minor": 2
}
