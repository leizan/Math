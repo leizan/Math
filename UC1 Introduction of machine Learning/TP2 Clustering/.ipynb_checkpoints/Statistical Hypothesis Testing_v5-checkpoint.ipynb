{
 "cells": [
  {
   "cell_type": "markdown",
   "metadata": {
    "slideshow": {
     "slide_type": "skip"
    }
   },
   "source": [
    "$\n",
    "\\newcommand{\\Rset}{\\mathbb{R}}\n",
    "\\newcommand\\un{\\mathbb 1}\n",
    "\\newcommand{\\Hcal}{\\mathcal H}\n",
    "\\newcommand{\\Ncal}{\\mathcal N}\n",
    "$"
   ]
  },
  {
   "cell_type": "markdown",
   "metadata": {
    "slideshow": {
     "slide_type": "slide"
    }
   },
   "source": [
    "Pour que les balises LaTeX soient effectives dans le notebook, il vous faut:\n",
    "\n",
    "1) Ouvrir une fenêtre de commande Anconda\n",
    "\n",
    "2) Taper la commande \"conda install conda-forge::jupyter_contrib_nbextensions\"\n",
    "\n",
    "3) Une fois le notebook ouvert, aller dans le menu Edit pour ouvrir \"nbextensions config\" (tout en bas du menu) et cocher la case \"(some) LaTeX environments for Jupyter\""
   ]
  },
  {
   "cell_type": "markdown",
   "metadata": {
    "slideshow": {
     "slide_type": "slide"
    }
   },
   "source": [
    "<span style=\"font-size:140%\">\n",
    "    \n",
    "__Introduction to pattern recognition__\n",
    "\n",
    "</span>\n",
    "\n",
    "__Binary classification & statistical hypothesis testing__\n",
    "\n",
    "\n",
    "Dominique PASTOR (dominique.pastor@imt-atlantique.fr)\n",
    "\n",
    "Octobre 2019\n",
    "\n",
    "![](logo-imta.png)"
   ]
  },
  {
   "cell_type": "markdown",
   "metadata": {
    "slideshow": {
     "slide_type": "slide"
    }
   },
   "source": [
    "# Introduction"
   ]
  },
  {
   "cell_type": "markdown",
   "metadata": {
    "slideshow": {
     "slide_type": "slide"
    }
   },
   "source": [
    "<span style=\"font-size:70%\">\n",
    "\n",
    "## Problem statement\n",
    "\n",
    "    \n",
    "__Purpose of binary classification or pattern recognition:__ \"Predict the unknown nature of an observation, a discrete quantity such as black or white, one or zero, sick of healthy, real or false\"  <span style=\"font-size:80%\">__(A probabilistic theory of Pattern recognition, Devroye, Gyorki, Lugosi)__</span>\n",
    "* An __observation__ is a $d$-dimensional vector $x \\in \\Rset^d$ (an image, a signal, a time series, data ...)\n",
    "* The unknown nature of the observation $x$ is called a __class__. It's denoted by $\\varepsilon$.\n",
    "* We herafter consider the case where $\\varepsilon \\in \\{0,1\\}$\n",
    "* A __binary classifier__ or __test__ is a function $g: {\\mathbb R}^d \\to \\{0,1\\}$\n",
    "* Finally, $g(x)$ provides an estimate of $\\varepsilon$!!\n",
    "* The classifier $g$ errs on if $g(x) \\ne \\varepsilon$\n",
    "\n",
    "</span>"
   ]
  },
  {
   "cell_type": "markdown",
   "metadata": {
    "slideshow": {
     "slide_type": "slide"
    }
   },
   "source": [
    "__Question: How to choose the classifier $g$?__\n",
    "\n",
    "* No perfect classifier exists !!!\n",
    "\n",
    "* Probabilistic setting:\n",
    "    \n",
    "    * To model\n",
    "    * To control error\n",
    "    * To predict performance "
   ]
  },
  {
   "cell_type": "markdown",
   "metadata": {
    "slideshow": {
     "slide_type": "slide"
    }
   },
   "source": [
    "## Probabilistic setting\n",
    "\n",
    "* $(X, \\varepsilon)$ is an ${\\mathbb R}^d \\times \\{0,1\\}$-valued random pair\n",
    "\n",
    "* __Error event:__ \n",
    "\n",
    "$${\\mathcal E} = \\left [ g(X) \\ne \\varepsilon \\right ] \\stackrel{\\text{def}}{=} \\left \\{ \\omega \\in \\Omega: g(X(\\omega)) \\ne \\varepsilon(\\omega) \\right \\}\n",
    "\\nonumber$$\n"
   ]
  },
  {
   "cell_type": "markdown",
   "metadata": {
    "slideshow": {
     "slide_type": "slide"
    }
   },
   "source": [
    "<span style=\"font-size:85%\">\n",
    "\n",
    "__The crossroad__\n",
    "\n",
    "* The Bayesian case: ${\\mathbb P} \\left [ \\varepsilon = 0 \\right ] \\in (0,1)$ is known  \n",
    "\n",
    "$$\\scriptsize \\mathbf{\\text{Probability of error:}} \\, \\, \\, \\, \\, \\, \\, {\\mathbb P}_e\\{g(X)\\} \\stackrel{\\text{def}}{=} {\\mathbb P}({\\mathcal E}) = {\\mathbb P} \\left [ g(X) \\ne \\varepsilon \\right ]\n",
    "\\nonumber$$\n",
    "\n",
    "* The non-Bayesian case: $\\small {\\mathbb P} \\left [ \\varepsilon = 0 \\right ] \\in \\{0,1\\}$  \n",
    "\n",
    "$$\n",
    "\\scriptsize\n",
    "\\mathbf{\\text{2 types of error probabilities:}} \\, \\, \\, \\, \\, \\, \\, \n",
    "\\left \\{\n",
    "\\begin{array}{lll}\n",
    "{\\mathbb P} \\left [ g(X) = 1 \\right ] & \\text{under the hypothesis that $\\varepsilon = 0$} \\\\\n",
    "{\\mathbb P} \\left [ g(X) = 0 \\right ] & \\text{under the hypothesis that $\\varepsilon = 1$}\n",
    "\\end{array}\n",
    "\\right.\n",
    "\\nonumber\n",
    "$$\n",
    "\n",
    "</span>"
   ]
  },
  {
   "cell_type": "markdown",
   "metadata": {
    "slideshow": {
     "slide_type": "slide"
    }
   },
   "source": [
    "# The Bayesian case: $\\scriptsize 0 < {\\mathbb P} \\left [ \\varepsilon = 0 \\right ] < 1$ is known"
   ]
  },
  {
   "cell_type": "markdown",
   "metadata": {
    "slideshow": {
     "slide_type": "subslide"
    }
   },
   "source": [
    "<span style=\"font-size:70%\">\n",
    "\n",
    "\\begin{theorem}[Mininimum-Probability-of-Error (MPE) test]\\label{theo:a}$$\\nonumber$$\n",
    "\n",
    "Let $(X, \\varepsilon)$ be an $\\Rset^d \\times \\{0,1\\}$-valued random pair where $\\varepsilon$ is valued in $\\{ 0,1 \\}$.\n",
    "\n",
    "The test $g_{\\text{MPE}}$ defined by :\n",
    "\n",
    "$$\\forall x \\in {\\mathbb R}^d, g_{\\text{MPE}}(x) = \n",
    "\\left \\{\n",
    "\\begin{array}{lll}\n",
    "1 & \\text{if ${\\mathbb P} \\left [ \\varepsilon = 1 \\, \\vert \\, X = x \\right ] > {\\mathbb P} \\left [ \\varepsilon = 0 \\, \\vert \\, X = x \\right ]$} \\\\\n",
    "0 & \\text{if ${\\mathbb P} \\left [ \\varepsilon = 1 \\, \\vert \\, X = x \\right ] \\leqslant {\\mathbb P} \\left [ \\varepsilon = 0 \\, \\vert \\, X = x \\right ]$}\n",
    "\\end{array}\n",
    "\\right.\n",
    "\\nonumber\n",
    "$$\n",
    "\n",
    "verifies:\n",
    "\n",
    "$$g_{\\text{MPE}} = \\displaystyle \\arg_{g : {\\mathbb R}^d \\to \\{0,1\\}} \\min {\\mathbb P} \\left [ g(X) \\neq \\varepsilon \\right ] \\nonumber $$\n",
    "$$\\nonumber$$\n",
    "\\end{theorem}\n",
    "\n",
    "* $\\widehat{\\varepsilon} = \\arg \\min_{i \\in \\{0,1\\}} {\\mathbb P} \\left [ \\varepsilon = i \\, \\vert \\, X = x \\right ]$\n",
    "\n",
    "</span>"
   ]
  },
  {
   "cell_type": "markdown",
   "metadata": {
    "slideshow": {
     "slide_type": "subslide"
    }
   },
   "source": [
    "##  Simple hypothesis testing"
   ]
  },
  {
   "cell_type": "markdown",
   "metadata": {
    "slideshow": {
     "slide_type": "subslide"
    }
   },
   "source": [
    "__Hypotheses__\n",
    "\n",
    "$$\\nonumber$$\n",
    "$$X = \\varepsilon X_1 + (1-\\varepsilon) X_0 \\nonumber$$\n",
    "\n",
    "where:\n",
    "\n",
    "$$\\left \\{\n",
    "\\begin{array}{lll}\n",
    "\\text{$X_0,X_1: \\Omega \\to {\\mathbb R}^d$ have known and different distributions: \n",
    "$\n",
    "\\left \\{\n",
    "\\begin{array}{lll}\n",
    "X_0 \\thicksim p_0 \\\\\n",
    "X_1 \\thicksim p_1\n",
    "\\end{array}\n",
    "\\right.\n",
    "$\n",
    "} \n",
    "\\\\\n",
    "\\text{$\\varepsilon: \\Omega \\to \\{0,1\\}$ independent of $X_0$ and $X_1$}\n",
    "\\end{array}\n",
    "\\right.\n",
    "\\nonumber\n",
    "$$\n",
    "\n",
    "$\\pi_1 \\stackrel{\\text{def}}{=} \\mathbb{P} \\left [ \\varepsilon = 1 \\right ]$ and $\\pi_0 \\stackrel{\\text{def}}{=} \\mathbb{P} \\left [ \\varepsilon = 0 \\right ]$"
   ]
  },
  {
   "cell_type": "markdown",
   "metadata": {
    "slideshow": {
     "slide_type": "subslide"
    }
   },
   "source": [
    "__The equivalent formulation in Statistical Hypothesis Testing__\n",
    "\n",
    "* We assume that $X_0$ and $X_1$ have pdfs $p_0$ and $p_1$, respectively\n",
    "* The problem is formulated by introducing the two hypotheses:\n",
    "$\n",
    "\\left \\{\n",
    "\\begin{array}{llll}\n",
    "{\\mathcal H}_0: X \\thicksim p_0 \\\\\n",
    "{\\mathcal H}_1: X \\thicksim p_1 \\neq p_0 \n",
    "\\end{array}\n",
    "\\right.\n",
    "$, where ${\\mathcal H}_0$ and ${\\mathcal H}_1$ are assigned to prior probabilities of occurrence $\\pi_0$ and $\\pi_1$, respectively.\n",
    "* In this formulation, we observe $X(\\omega)$ and\n",
    "$\n",
    "\\left \\{\n",
    "\\begin{array}{lll}\n",
    "\\text{with probability $\\pi_0$, $X \\thicksim p_0$} \\\\\n",
    "\\text{with probability $\\pi_1$, $X \\thicksim p_1$}\n",
    "\\end{array}\n",
    "\\right.\n",
    "$ \n",
    "* We must decide which of the two hypotheses hold true"
   ]
  },
  {
   "cell_type": "markdown",
   "metadata": {
    "slideshow": {
     "slide_type": "subslide"
    }
   },
   "source": [
    "<span style=\"font-size:90%\">\n",
    "\n",
    "\\begin{proposition}[The MPE test for simple hypotheses]\n",
    "\n",
    "If $X = \\varepsilon X_1 + (1-\\varepsilon) X_0$ where\n",
    "\n",
    "$$\n",
    "\\left \\{\n",
    "\\begin{array}{lll}\n",
    "\\text{$X_0,X_1: \\Omega \\to {\\mathbb R}^d$ have known and different distributions} \\\\\n",
    "\\text{$\\varepsilon: \\Omega \\to \\{0,1\\}$ independent of $X_0$ and $X_1$}\n",
    "\\end{array}\n",
    "\\right.\n",
    "\\nonumber\n",
    "$$\n",
    "\n",
    "then\n",
    "\n",
    "__(i)__ $\\forall x \\in \\Rset^d, g_{\\text{MPE}}(x) = \n",
    "\\left \\{\n",
    "\\begin{array}{lll}\n",
    "1 & \\text{if } \\pi_1 p_1(x) > \\pi_0 p_0(x) \\\\\n",
    "0 & \\text{otherwise}\n",
    "\\end{array}\n",
    "\\right.\n",
    "$\n",
    "\n",
    "__(ii)__ $\\mathbb{P} \\left [ g_{\\text{MPE}}(X) \\ne \\varepsilon \\right ] = \\pi_0 \\mathbb{P} \\left [ g(X_0) = 1 \\right ] + \\pi_1 \\mathbb{P} \\left [ g(X_1) = 0 \\right ]$\n",
    "$$ \\nonumber $$\n",
    "\\end{proposition}\n",
    "$$\\nonumber$$\n",
    "\n",
    "</span>"
   ]
  },
  {
   "cell_type": "markdown",
   "metadata": {
    "slideshow": {
     "slide_type": "subslide"
    }
   },
   "source": [
    "<span style=\"font-size:90%\">\n",
    "    \n",
    "\\begin{definition}[Likelihood ratio]\n",
    "\n",
    "The likelihood ratio of the pair $(p_0,p_1)$ of pdfs is defined for every $x \\in {\\mathbb R}^d$ by setting:\n",
    "\n",
    "$$\n",
    "\\Lambda(x) = \n",
    "\\left \\{\n",
    "\\begin{array}{llllll}\n",
    "{p_1(x)}/{p_0(x)} & \\text{if $p_0(x) \\neq 0$} \\\\\n",
    "\\infty & \\text{if $p_1(x) \\neq 0$ and $p_0(x) = 0$} \\\\\n",
    "0 & \\text{if $p_1(x) = p_0(x) = 0$}\n",
    "\\end{array}\n",
    "\\right.\n",
    "\\nonumber\n",
    "$$\n",
    "$$ \\nonumber $$\n",
    "\\end{definition}\n",
    "\n",
    "In general, the likelihood ratio reduces to $\\Lambda(x) = {p_1(x)}/{p_0(x)}$ and\n",
    "\n",
    "$$g_{\\text{MPE}}(x) = \n",
    "\\left \\{\n",
    "\\begin{array}{lll}\n",
    "1 & \\text{if }\\Lambda(x) > {\\pi_0}/{\\pi_1} \\\\\n",
    "0 & \\text{otherwise}\n",
    "\\end{array}\n",
    "\\right.\n",
    "\\nonumber\n",
    "$$\n",
    "\n",
    "</span>"
   ]
  },
  {
   "cell_type": "markdown",
   "metadata": {
    "slideshow": {
     "slide_type": "subslide"
    }
   },
   "source": [
    "## Exercises"
   ]
  },
  {
   "cell_type": "markdown",
   "metadata": {
    "slideshow": {
     "slide_type": "subslide"
    }
   },
   "source": [
    "\n",
    "\\begin{exercise}[Binary Gaussian Mean Testing]\n",
    "\n",
    "* $X = \\varepsilon \\theta_1 + (1-\\varepsilon) \\theta_0 + W$ with $W \\thicksim {\\mathcal N}(0,C)$\n",
    "* Calculate $g_{\\text{MPE}}$ and ${\\mathbb P}_e \\{ g_{\\text{MPE}}(X) \\}$\n",
    "$$\\nonumber$$\n",
    "\\end{exercise}"
   ]
  },
  {
   "cell_type": "markdown",
   "metadata": {
    "slideshow": {
     "slide_type": "subslide"
    }
   },
   "source": [
    "<span style=\"font-size:80%\">\n",
    "\n",
    "\\begin{exercise}[Symmetric Binary Gaussian Mean Testing]\n",
    "\n",
    "Set $X = \\theta + W$ with\n",
    "$\n",
    "\\left \\{\n",
    "\\begin{array}{lll}\n",
    "W \\thicksim {\\mathcal N}(0,\\sigma^2) \\, \\text{and} \\, \\sigma \\ne 0 \\\\\n",
    "\\Theta: \\Omega \\to \\{-A,A\\} \\text{independent of } W \\\\\n",
    "{\\mathbb P} \\left [ \\Theta = A \\right ] = {\\mathbb P} \\left [ \\Theta = -A \\right ] = 1/2\n",
    "\\end{array}\n",
    "\\right.\n",
    "$\n",
    "\n",
    "We have $X = (2 \\varepsilon - 1) A + W$\n",
    "\n",
    "1) Show that\n",
    "$\n",
    "\\forall x \\in {\\mathbb R}, g_{\\text{MPE}}(x) = \\left \\{\n",
    "\\begin{array}{lll}\n",
    "1 & \\text{if }x > 0 \\\\\n",
    "0 & \\text{otherwise}\n",
    "\\end{array}\n",
    "\\right.\n",
    "$\n",
    "\n",
    "2) Show that ${\\mathbb P}_e\\{g_{\\text{MPE}}(X)\\} = 1 - \\Phi(A/\\sigma)$ ($\\Phi$: cdf of ${\\mathcal N}(0,1)$)\n",
    "\n",
    "3) $\\displaystyle \\lim_{\\rho \\to \\infty} {\\mathbb P}_e\\{g_{\\text{MPE}}(X)\\} = 0$ where $\\rho = A / \\sigma$\n",
    "\n",
    "4) $\\displaystyle \\lim_{\\rho \\to 0} {\\mathbb P}_e\\{g_{\\text{MPE}}(X)\\} = 1/2$\n",
    "$$\\nonumber$$\n",
    "\\end{exercise}\n",
    "\n",
    "</span>\n"
   ]
  },
  {
   "cell_type": "code",
   "execution_count": 1,
   "metadata": {
    "slideshow": {
     "slide_type": "subslide"
    }
   },
   "outputs": [
    {
     "name": "stdout",
     "output_type": "stream",
     "text": [
      "Populating the interactive namespace from numpy and matplotlib\n"
     ]
    }
   ],
   "source": [
    "# Import\n",
    "%pylab notebook \n",
    "# the command above is a magic one: It imports numpy, figures (plot), random, and so forth\n",
    "import scipy.stats as st\n",
    "#from scipy.stats import bernoulli\n",
    "#from scipy.stats import norm"
   ]
  },
  {
   "cell_type": "code",
   "execution_count": 13,
   "metadata": {
    "slideshow": {
     "slide_type": "-"
    }
   },
   "outputs": [],
   "source": [
    "# Constant values\n",
    "NbTests = 100000\n",
    "p = 0.5\n",
    "Amp = 5\n",
    "sigma = 1"
   ]
  },
  {
   "cell_type": "code",
   "execution_count": 14,
   "metadata": {
    "scrolled": true,
    "slideshow": {
     "slide_type": "-"
    }
   },
   "outputs": [
    {
     "name": "stdout",
     "output_type": "stream",
     "text": [
      "Error Rate           : 0.0\n",
      "Probability or error : 2.866515719235352e-07\n"
     ]
    }
   ],
   "source": [
    "# Generate signals\n",
    "Epsilon = st.bernoulli.rvs(p,size = NbTests)  # Generate Epsilon\n",
    "W = sigma*randn(NbTests) # Noise. randn=np.random.randn is imported by pylab\n",
    "X = empty(NbTests)\n",
    "for i in range(NbTests): X[i] = (2*Epsilon[i]-1)*Amp + W[i] # Observations\n",
    "# Calculate decisions\n",
    "Decision = zeros(NbTests)\n",
    "for i in range(NbTests):\n",
    "    if X[i] > 0:\n",
    "        Decision[i] = 1\n",
    "# Error rates and probability of error\n",
    "ErrorRate = mean(Decision != Epsilon)\n",
    "Pe = 1 - st.norm.cdf(Amp/sigma)\n",
    "print('Error Rate           : {}'.format(ErrorRate))\n",
    "print('Probability or error : {}'.format(Pe))"
   ]
  },
  {
   "cell_type": "code",
   "execution_count": 15,
   "metadata": {
    "scrolled": false,
    "slideshow": {
     "slide_type": "-"
    }
   },
   "outputs": [
    {
     "data": {
      "application/javascript": [
       "/* Put everything inside the global mpl namespace */\n",
       "window.mpl = {};\n",
       "\n",
       "\n",
       "mpl.get_websocket_type = function() {\n",
       "    if (typeof(WebSocket) !== 'undefined') {\n",
       "        return WebSocket;\n",
       "    } else if (typeof(MozWebSocket) !== 'undefined') {\n",
       "        return MozWebSocket;\n",
       "    } else {\n",
       "        alert('Your browser does not have WebSocket support.' +\n",
       "              'Please try Chrome, Safari or Firefox ≥ 6. ' +\n",
       "              'Firefox 4 and 5 are also supported but you ' +\n",
       "              'have to enable WebSockets in about:config.');\n",
       "    };\n",
       "}\n",
       "\n",
       "mpl.figure = function(figure_id, websocket, ondownload, parent_element) {\n",
       "    this.id = figure_id;\n",
       "\n",
       "    this.ws = websocket;\n",
       "\n",
       "    this.supports_binary = (this.ws.binaryType != undefined);\n",
       "\n",
       "    if (!this.supports_binary) {\n",
       "        var warnings = document.getElementById(\"mpl-warnings\");\n",
       "        if (warnings) {\n",
       "            warnings.style.display = 'block';\n",
       "            warnings.textContent = (\n",
       "                \"This browser does not support binary websocket messages. \" +\n",
       "                    \"Performance may be slow.\");\n",
       "        }\n",
       "    }\n",
       "\n",
       "    this.imageObj = new Image();\n",
       "\n",
       "    this.context = undefined;\n",
       "    this.message = undefined;\n",
       "    this.canvas = undefined;\n",
       "    this.rubberband_canvas = undefined;\n",
       "    this.rubberband_context = undefined;\n",
       "    this.format_dropdown = undefined;\n",
       "\n",
       "    this.image_mode = 'full';\n",
       "\n",
       "    this.root = $('<div/>');\n",
       "    this._root_extra_style(this.root)\n",
       "    this.root.attr('style', 'display: inline-block');\n",
       "\n",
       "    $(parent_element).append(this.root);\n",
       "\n",
       "    this._init_header(this);\n",
       "    this._init_canvas(this);\n",
       "    this._init_toolbar(this);\n",
       "\n",
       "    var fig = this;\n",
       "\n",
       "    this.waiting = false;\n",
       "\n",
       "    this.ws.onopen =  function () {\n",
       "            fig.send_message(\"supports_binary\", {value: fig.supports_binary});\n",
       "            fig.send_message(\"send_image_mode\", {});\n",
       "            if (mpl.ratio != 1) {\n",
       "                fig.send_message(\"set_dpi_ratio\", {'dpi_ratio': mpl.ratio});\n",
       "            }\n",
       "            fig.send_message(\"refresh\", {});\n",
       "        }\n",
       "\n",
       "    this.imageObj.onload = function() {\n",
       "            if (fig.image_mode == 'full') {\n",
       "                // Full images could contain transparency (where diff images\n",
       "                // almost always do), so we need to clear the canvas so that\n",
       "                // there is no ghosting.\n",
       "                fig.context.clearRect(0, 0, fig.canvas.width, fig.canvas.height);\n",
       "            }\n",
       "            fig.context.drawImage(fig.imageObj, 0, 0);\n",
       "        };\n",
       "\n",
       "    this.imageObj.onunload = function() {\n",
       "        fig.ws.close();\n",
       "    }\n",
       "\n",
       "    this.ws.onmessage = this._make_on_message_function(this);\n",
       "\n",
       "    this.ondownload = ondownload;\n",
       "}\n",
       "\n",
       "mpl.figure.prototype._init_header = function() {\n",
       "    var titlebar = $(\n",
       "        '<div class=\"ui-dialog-titlebar ui-widget-header ui-corner-all ' +\n",
       "        'ui-helper-clearfix\"/>');\n",
       "    var titletext = $(\n",
       "        '<div class=\"ui-dialog-title\" style=\"width: 100%; ' +\n",
       "        'text-align: center; padding: 3px;\"/>');\n",
       "    titlebar.append(titletext)\n",
       "    this.root.append(titlebar);\n",
       "    this.header = titletext[0];\n",
       "}\n",
       "\n",
       "\n",
       "\n",
       "mpl.figure.prototype._canvas_extra_style = function(canvas_div) {\n",
       "\n",
       "}\n",
       "\n",
       "\n",
       "mpl.figure.prototype._root_extra_style = function(canvas_div) {\n",
       "\n",
       "}\n",
       "\n",
       "mpl.figure.prototype._init_canvas = function() {\n",
       "    var fig = this;\n",
       "\n",
       "    var canvas_div = $('<div/>');\n",
       "\n",
       "    canvas_div.attr('style', 'position: relative; clear: both; outline: 0');\n",
       "\n",
       "    function canvas_keyboard_event(event) {\n",
       "        return fig.key_event(event, event['data']);\n",
       "    }\n",
       "\n",
       "    canvas_div.keydown('key_press', canvas_keyboard_event);\n",
       "    canvas_div.keyup('key_release', canvas_keyboard_event);\n",
       "    this.canvas_div = canvas_div\n",
       "    this._canvas_extra_style(canvas_div)\n",
       "    this.root.append(canvas_div);\n",
       "\n",
       "    var canvas = $('<canvas/>');\n",
       "    canvas.addClass('mpl-canvas');\n",
       "    canvas.attr('style', \"left: 0; top: 0; z-index: 0; outline: 0\")\n",
       "\n",
       "    this.canvas = canvas[0];\n",
       "    this.context = canvas[0].getContext(\"2d\");\n",
       "\n",
       "    var backingStore = this.context.backingStorePixelRatio ||\n",
       "\tthis.context.webkitBackingStorePixelRatio ||\n",
       "\tthis.context.mozBackingStorePixelRatio ||\n",
       "\tthis.context.msBackingStorePixelRatio ||\n",
       "\tthis.context.oBackingStorePixelRatio ||\n",
       "\tthis.context.backingStorePixelRatio || 1;\n",
       "\n",
       "    mpl.ratio = (window.devicePixelRatio || 1) / backingStore;\n",
       "\n",
       "    var rubberband = $('<canvas/>');\n",
       "    rubberband.attr('style', \"position: absolute; left: 0; top: 0; z-index: 1;\")\n",
       "\n",
       "    var pass_mouse_events = true;\n",
       "\n",
       "    canvas_div.resizable({\n",
       "        start: function(event, ui) {\n",
       "            pass_mouse_events = false;\n",
       "        },\n",
       "        resize: function(event, ui) {\n",
       "            fig.request_resize(ui.size.width, ui.size.height);\n",
       "        },\n",
       "        stop: function(event, ui) {\n",
       "            pass_mouse_events = true;\n",
       "            fig.request_resize(ui.size.width, ui.size.height);\n",
       "        },\n",
       "    });\n",
       "\n",
       "    function mouse_event_fn(event) {\n",
       "        if (pass_mouse_events)\n",
       "            return fig.mouse_event(event, event['data']);\n",
       "    }\n",
       "\n",
       "    rubberband.mousedown('button_press', mouse_event_fn);\n",
       "    rubberband.mouseup('button_release', mouse_event_fn);\n",
       "    // Throttle sequential mouse events to 1 every 20ms.\n",
       "    rubberband.mousemove('motion_notify', mouse_event_fn);\n",
       "\n",
       "    rubberband.mouseenter('figure_enter', mouse_event_fn);\n",
       "    rubberband.mouseleave('figure_leave', mouse_event_fn);\n",
       "\n",
       "    canvas_div.on(\"wheel\", function (event) {\n",
       "        event = event.originalEvent;\n",
       "        event['data'] = 'scroll'\n",
       "        if (event.deltaY < 0) {\n",
       "            event.step = 1;\n",
       "        } else {\n",
       "            event.step = -1;\n",
       "        }\n",
       "        mouse_event_fn(event);\n",
       "    });\n",
       "\n",
       "    canvas_div.append(canvas);\n",
       "    canvas_div.append(rubberband);\n",
       "\n",
       "    this.rubberband = rubberband;\n",
       "    this.rubberband_canvas = rubberband[0];\n",
       "    this.rubberband_context = rubberband[0].getContext(\"2d\");\n",
       "    this.rubberband_context.strokeStyle = \"#000000\";\n",
       "\n",
       "    this._resize_canvas = function(width, height) {\n",
       "        // Keep the size of the canvas, canvas container, and rubber band\n",
       "        // canvas in synch.\n",
       "        canvas_div.css('width', width)\n",
       "        canvas_div.css('height', height)\n",
       "\n",
       "        canvas.attr('width', width * mpl.ratio);\n",
       "        canvas.attr('height', height * mpl.ratio);\n",
       "        canvas.attr('style', 'width: ' + width + 'px; height: ' + height + 'px;');\n",
       "\n",
       "        rubberband.attr('width', width);\n",
       "        rubberband.attr('height', height);\n",
       "    }\n",
       "\n",
       "    // Set the figure to an initial 600x600px, this will subsequently be updated\n",
       "    // upon first draw.\n",
       "    this._resize_canvas(600, 600);\n",
       "\n",
       "    // Disable right mouse context menu.\n",
       "    $(this.rubberband_canvas).bind(\"contextmenu\",function(e){\n",
       "        return false;\n",
       "    });\n",
       "\n",
       "    function set_focus () {\n",
       "        canvas.focus();\n",
       "        canvas_div.focus();\n",
       "    }\n",
       "\n",
       "    window.setTimeout(set_focus, 100);\n",
       "}\n",
       "\n",
       "mpl.figure.prototype._init_toolbar = function() {\n",
       "    var fig = this;\n",
       "\n",
       "    var nav_element = $('<div/>')\n",
       "    nav_element.attr('style', 'width: 100%');\n",
       "    this.root.append(nav_element);\n",
       "\n",
       "    // Define a callback function for later on.\n",
       "    function toolbar_event(event) {\n",
       "        return fig.toolbar_button_onclick(event['data']);\n",
       "    }\n",
       "    function toolbar_mouse_event(event) {\n",
       "        return fig.toolbar_button_onmouseover(event['data']);\n",
       "    }\n",
       "\n",
       "    for(var toolbar_ind in mpl.toolbar_items) {\n",
       "        var name = mpl.toolbar_items[toolbar_ind][0];\n",
       "        var tooltip = mpl.toolbar_items[toolbar_ind][1];\n",
       "        var image = mpl.toolbar_items[toolbar_ind][2];\n",
       "        var method_name = mpl.toolbar_items[toolbar_ind][3];\n",
       "\n",
       "        if (!name) {\n",
       "            // put a spacer in here.\n",
       "            continue;\n",
       "        }\n",
       "        var button = $('<button/>');\n",
       "        button.addClass('ui-button ui-widget ui-state-default ui-corner-all ' +\n",
       "                        'ui-button-icon-only');\n",
       "        button.attr('role', 'button');\n",
       "        button.attr('aria-disabled', 'false');\n",
       "        button.click(method_name, toolbar_event);\n",
       "        button.mouseover(tooltip, toolbar_mouse_event);\n",
       "\n",
       "        var icon_img = $('<span/>');\n",
       "        icon_img.addClass('ui-button-icon-primary ui-icon');\n",
       "        icon_img.addClass(image);\n",
       "        icon_img.addClass('ui-corner-all');\n",
       "\n",
       "        var tooltip_span = $('<span/>');\n",
       "        tooltip_span.addClass('ui-button-text');\n",
       "        tooltip_span.html(tooltip);\n",
       "\n",
       "        button.append(icon_img);\n",
       "        button.append(tooltip_span);\n",
       "\n",
       "        nav_element.append(button);\n",
       "    }\n",
       "\n",
       "    var fmt_picker_span = $('<span/>');\n",
       "\n",
       "    var fmt_picker = $('<select/>');\n",
       "    fmt_picker.addClass('mpl-toolbar-option ui-widget ui-widget-content');\n",
       "    fmt_picker_span.append(fmt_picker);\n",
       "    nav_element.append(fmt_picker_span);\n",
       "    this.format_dropdown = fmt_picker[0];\n",
       "\n",
       "    for (var ind in mpl.extensions) {\n",
       "        var fmt = mpl.extensions[ind];\n",
       "        var option = $(\n",
       "            '<option/>', {selected: fmt === mpl.default_extension}).html(fmt);\n",
       "        fmt_picker.append(option)\n",
       "    }\n",
       "\n",
       "    // Add hover states to the ui-buttons\n",
       "    $( \".ui-button\" ).hover(\n",
       "        function() { $(this).addClass(\"ui-state-hover\");},\n",
       "        function() { $(this).removeClass(\"ui-state-hover\");}\n",
       "    );\n",
       "\n",
       "    var status_bar = $('<span class=\"mpl-message\"/>');\n",
       "    nav_element.append(status_bar);\n",
       "    this.message = status_bar[0];\n",
       "}\n",
       "\n",
       "mpl.figure.prototype.request_resize = function(x_pixels, y_pixels) {\n",
       "    // Request matplotlib to resize the figure. Matplotlib will then trigger a resize in the client,\n",
       "    // which will in turn request a refresh of the image.\n",
       "    this.send_message('resize', {'width': x_pixels, 'height': y_pixels});\n",
       "}\n",
       "\n",
       "mpl.figure.prototype.send_message = function(type, properties) {\n",
       "    properties['type'] = type;\n",
       "    properties['figure_id'] = this.id;\n",
       "    this.ws.send(JSON.stringify(properties));\n",
       "}\n",
       "\n",
       "mpl.figure.prototype.send_draw_message = function() {\n",
       "    if (!this.waiting) {\n",
       "        this.waiting = true;\n",
       "        this.ws.send(JSON.stringify({type: \"draw\", figure_id: this.id}));\n",
       "    }\n",
       "}\n",
       "\n",
       "\n",
       "mpl.figure.prototype.handle_save = function(fig, msg) {\n",
       "    var format_dropdown = fig.format_dropdown;\n",
       "    var format = format_dropdown.options[format_dropdown.selectedIndex].value;\n",
       "    fig.ondownload(fig, format);\n",
       "}\n",
       "\n",
       "\n",
       "mpl.figure.prototype.handle_resize = function(fig, msg) {\n",
       "    var size = msg['size'];\n",
       "    if (size[0] != fig.canvas.width || size[1] != fig.canvas.height) {\n",
       "        fig._resize_canvas(size[0], size[1]);\n",
       "        fig.send_message(\"refresh\", {});\n",
       "    };\n",
       "}\n",
       "\n",
       "mpl.figure.prototype.handle_rubberband = function(fig, msg) {\n",
       "    var x0 = msg['x0'] / mpl.ratio;\n",
       "    var y0 = (fig.canvas.height - msg['y0']) / mpl.ratio;\n",
       "    var x1 = msg['x1'] / mpl.ratio;\n",
       "    var y1 = (fig.canvas.height - msg['y1']) / mpl.ratio;\n",
       "    x0 = Math.floor(x0) + 0.5;\n",
       "    y0 = Math.floor(y0) + 0.5;\n",
       "    x1 = Math.floor(x1) + 0.5;\n",
       "    y1 = Math.floor(y1) + 0.5;\n",
       "    var min_x = Math.min(x0, x1);\n",
       "    var min_y = Math.min(y0, y1);\n",
       "    var width = Math.abs(x1 - x0);\n",
       "    var height = Math.abs(y1 - y0);\n",
       "\n",
       "    fig.rubberband_context.clearRect(\n",
       "        0, 0, fig.canvas.width, fig.canvas.height);\n",
       "\n",
       "    fig.rubberband_context.strokeRect(min_x, min_y, width, height);\n",
       "}\n",
       "\n",
       "mpl.figure.prototype.handle_figure_label = function(fig, msg) {\n",
       "    // Updates the figure title.\n",
       "    fig.header.textContent = msg['label'];\n",
       "}\n",
       "\n",
       "mpl.figure.prototype.handle_cursor = function(fig, msg) {\n",
       "    var cursor = msg['cursor'];\n",
       "    switch(cursor)\n",
       "    {\n",
       "    case 0:\n",
       "        cursor = 'pointer';\n",
       "        break;\n",
       "    case 1:\n",
       "        cursor = 'default';\n",
       "        break;\n",
       "    case 2:\n",
       "        cursor = 'crosshair';\n",
       "        break;\n",
       "    case 3:\n",
       "        cursor = 'move';\n",
       "        break;\n",
       "    }\n",
       "    fig.rubberband_canvas.style.cursor = cursor;\n",
       "}\n",
       "\n",
       "mpl.figure.prototype.handle_message = function(fig, msg) {\n",
       "    fig.message.textContent = msg['message'];\n",
       "}\n",
       "\n",
       "mpl.figure.prototype.handle_draw = function(fig, msg) {\n",
       "    // Request the server to send over a new figure.\n",
       "    fig.send_draw_message();\n",
       "}\n",
       "\n",
       "mpl.figure.prototype.handle_image_mode = function(fig, msg) {\n",
       "    fig.image_mode = msg['mode'];\n",
       "}\n",
       "\n",
       "mpl.figure.prototype.updated_canvas_event = function() {\n",
       "    // Called whenever the canvas gets updated.\n",
       "    this.send_message(\"ack\", {});\n",
       "}\n",
       "\n",
       "// A function to construct a web socket function for onmessage handling.\n",
       "// Called in the figure constructor.\n",
       "mpl.figure.prototype._make_on_message_function = function(fig) {\n",
       "    return function socket_on_message(evt) {\n",
       "        if (evt.data instanceof Blob) {\n",
       "            /* FIXME: We get \"Resource interpreted as Image but\n",
       "             * transferred with MIME type text/plain:\" errors on\n",
       "             * Chrome.  But how to set the MIME type?  It doesn't seem\n",
       "             * to be part of the websocket stream */\n",
       "            evt.data.type = \"image/png\";\n",
       "\n",
       "            /* Free the memory for the previous frames */\n",
       "            if (fig.imageObj.src) {\n",
       "                (window.URL || window.webkitURL).revokeObjectURL(\n",
       "                    fig.imageObj.src);\n",
       "            }\n",
       "\n",
       "            fig.imageObj.src = (window.URL || window.webkitURL).createObjectURL(\n",
       "                evt.data);\n",
       "            fig.updated_canvas_event();\n",
       "            fig.waiting = false;\n",
       "            return;\n",
       "        }\n",
       "        else if (typeof evt.data === 'string' && evt.data.slice(0, 21) == \"data:image/png;base64\") {\n",
       "            fig.imageObj.src = evt.data;\n",
       "            fig.updated_canvas_event();\n",
       "            fig.waiting = false;\n",
       "            return;\n",
       "        }\n",
       "\n",
       "        var msg = JSON.parse(evt.data);\n",
       "        var msg_type = msg['type'];\n",
       "\n",
       "        // Call the  \"handle_{type}\" callback, which takes\n",
       "        // the figure and JSON message as its only arguments.\n",
       "        try {\n",
       "            var callback = fig[\"handle_\" + msg_type];\n",
       "        } catch (e) {\n",
       "            console.log(\"No handler for the '\" + msg_type + \"' message type: \", msg);\n",
       "            return;\n",
       "        }\n",
       "\n",
       "        if (callback) {\n",
       "            try {\n",
       "                // console.log(\"Handling '\" + msg_type + \"' message: \", msg);\n",
       "                callback(fig, msg);\n",
       "            } catch (e) {\n",
       "                console.log(\"Exception inside the 'handler_\" + msg_type + \"' callback:\", e, e.stack, msg);\n",
       "            }\n",
       "        }\n",
       "    };\n",
       "}\n",
       "\n",
       "// from http://stackoverflow.com/questions/1114465/getting-mouse-location-in-canvas\n",
       "mpl.findpos = function(e) {\n",
       "    //this section is from http://www.quirksmode.org/js/events_properties.html\n",
       "    var targ;\n",
       "    if (!e)\n",
       "        e = window.event;\n",
       "    if (e.target)\n",
       "        targ = e.target;\n",
       "    else if (e.srcElement)\n",
       "        targ = e.srcElement;\n",
       "    if (targ.nodeType == 3) // defeat Safari bug\n",
       "        targ = targ.parentNode;\n",
       "\n",
       "    // jQuery normalizes the pageX and pageY\n",
       "    // pageX,Y are the mouse positions relative to the document\n",
       "    // offset() returns the position of the element relative to the document\n",
       "    var x = e.pageX - $(targ).offset().left;\n",
       "    var y = e.pageY - $(targ).offset().top;\n",
       "\n",
       "    return {\"x\": x, \"y\": y};\n",
       "};\n",
       "\n",
       "/*\n",
       " * return a copy of an object with only non-object keys\n",
       " * we need this to avoid circular references\n",
       " * http://stackoverflow.com/a/24161582/3208463\n",
       " */\n",
       "function simpleKeys (original) {\n",
       "  return Object.keys(original).reduce(function (obj, key) {\n",
       "    if (typeof original[key] !== 'object')\n",
       "        obj[key] = original[key]\n",
       "    return obj;\n",
       "  }, {});\n",
       "}\n",
       "\n",
       "mpl.figure.prototype.mouse_event = function(event, name) {\n",
       "    var canvas_pos = mpl.findpos(event)\n",
       "\n",
       "    if (name === 'button_press')\n",
       "    {\n",
       "        this.canvas.focus();\n",
       "        this.canvas_div.focus();\n",
       "    }\n",
       "\n",
       "    var x = canvas_pos.x * mpl.ratio;\n",
       "    var y = canvas_pos.y * mpl.ratio;\n",
       "\n",
       "    this.send_message(name, {x: x, y: y, button: event.button,\n",
       "                             step: event.step,\n",
       "                             guiEvent: simpleKeys(event)});\n",
       "\n",
       "    /* This prevents the web browser from automatically changing to\n",
       "     * the text insertion cursor when the button is pressed.  We want\n",
       "     * to control all of the cursor setting manually through the\n",
       "     * 'cursor' event from matplotlib */\n",
       "    event.preventDefault();\n",
       "    return false;\n",
       "}\n",
       "\n",
       "mpl.figure.prototype._key_event_extra = function(event, name) {\n",
       "    // Handle any extra behaviour associated with a key event\n",
       "}\n",
       "\n",
       "mpl.figure.prototype.key_event = function(event, name) {\n",
       "\n",
       "    // Prevent repeat events\n",
       "    if (name == 'key_press')\n",
       "    {\n",
       "        if (event.which === this._key)\n",
       "            return;\n",
       "        else\n",
       "            this._key = event.which;\n",
       "    }\n",
       "    if (name == 'key_release')\n",
       "        this._key = null;\n",
       "\n",
       "    var value = '';\n",
       "    if (event.ctrlKey && event.which != 17)\n",
       "        value += \"ctrl+\";\n",
       "    if (event.altKey && event.which != 18)\n",
       "        value += \"alt+\";\n",
       "    if (event.shiftKey && event.which != 16)\n",
       "        value += \"shift+\";\n",
       "\n",
       "    value += 'k';\n",
       "    value += event.which.toString();\n",
       "\n",
       "    this._key_event_extra(event, name);\n",
       "\n",
       "    this.send_message(name, {key: value,\n",
       "                             guiEvent: simpleKeys(event)});\n",
       "    return false;\n",
       "}\n",
       "\n",
       "mpl.figure.prototype.toolbar_button_onclick = function(name) {\n",
       "    if (name == 'download') {\n",
       "        this.handle_save(this, null);\n",
       "    } else {\n",
       "        this.send_message(\"toolbar_button\", {name: name});\n",
       "    }\n",
       "};\n",
       "\n",
       "mpl.figure.prototype.toolbar_button_onmouseover = function(tooltip) {\n",
       "    this.message.textContent = tooltip;\n",
       "};\n",
       "mpl.toolbar_items = [[\"Home\", \"Reset original view\", \"fa fa-home icon-home\", \"home\"], [\"Back\", \"Back to previous view\", \"fa fa-arrow-left icon-arrow-left\", \"back\"], [\"Forward\", \"Forward to next view\", \"fa fa-arrow-right icon-arrow-right\", \"forward\"], [\"\", \"\", \"\", \"\"], [\"Pan\", \"Pan axes with left mouse, zoom with right\", \"fa fa-arrows icon-move\", \"pan\"], [\"Zoom\", \"Zoom to rectangle\", \"fa fa-square-o icon-check-empty\", \"zoom\"], [\"\", \"\", \"\", \"\"], [\"Download\", \"Download plot\", \"fa fa-floppy-o icon-save\", \"download\"]];\n",
       "\n",
       "mpl.extensions = [\"eps\", \"jpeg\", \"pdf\", \"png\", \"ps\", \"raw\", \"svg\", \"tif\"];\n",
       "\n",
       "mpl.default_extension = \"png\";var comm_websocket_adapter = function(comm) {\n",
       "    // Create a \"websocket\"-like object which calls the given IPython comm\n",
       "    // object with the appropriate methods. Currently this is a non binary\n",
       "    // socket, so there is still some room for performance tuning.\n",
       "    var ws = {};\n",
       "\n",
       "    ws.close = function() {\n",
       "        comm.close()\n",
       "    };\n",
       "    ws.send = function(m) {\n",
       "        //console.log('sending', m);\n",
       "        comm.send(m);\n",
       "    };\n",
       "    // Register the callback with on_msg.\n",
       "    comm.on_msg(function(msg) {\n",
       "        //console.log('receiving', msg['content']['data'], msg);\n",
       "        // Pass the mpl event to the overridden (by mpl) onmessage function.\n",
       "        ws.onmessage(msg['content']['data'])\n",
       "    });\n",
       "    return ws;\n",
       "}\n",
       "\n",
       "mpl.mpl_figure_comm = function(comm, msg) {\n",
       "    // This is the function which gets called when the mpl process\n",
       "    // starts-up an IPython Comm through the \"matplotlib\" channel.\n",
       "\n",
       "    var id = msg.content.data.id;\n",
       "    // Get hold of the div created by the display call when the Comm\n",
       "    // socket was opened in Python.\n",
       "    var element = $(\"#\" + id);\n",
       "    var ws_proxy = comm_websocket_adapter(comm)\n",
       "\n",
       "    function ondownload(figure, format) {\n",
       "        window.open(figure.imageObj.src);\n",
       "    }\n",
       "\n",
       "    var fig = new mpl.figure(id, ws_proxy,\n",
       "                           ondownload,\n",
       "                           element.get(0));\n",
       "\n",
       "    // Call onopen now - mpl needs it, as it is assuming we've passed it a real\n",
       "    // web socket which is closed, not our websocket->open comm proxy.\n",
       "    ws_proxy.onopen();\n",
       "\n",
       "    fig.parent_element = element.get(0);\n",
       "    fig.cell_info = mpl.find_output_cell(\"<div id='\" + id + \"'></div>\");\n",
       "    if (!fig.cell_info) {\n",
       "        console.error(\"Failed to find cell for figure\", id, fig);\n",
       "        return;\n",
       "    }\n",
       "\n",
       "    var output_index = fig.cell_info[2]\n",
       "    var cell = fig.cell_info[0];\n",
       "\n",
       "};\n",
       "\n",
       "mpl.figure.prototype.handle_close = function(fig, msg) {\n",
       "    var width = fig.canvas.width/mpl.ratio\n",
       "    fig.root.unbind('remove')\n",
       "\n",
       "    // Update the output cell to use the data from the current canvas.\n",
       "    fig.push_to_output();\n",
       "    var dataURL = fig.canvas.toDataURL();\n",
       "    // Re-enable the keyboard manager in IPython - without this line, in FF,\n",
       "    // the notebook keyboard shortcuts fail.\n",
       "    IPython.keyboard_manager.enable()\n",
       "    $(fig.parent_element).html('<img src=\"' + dataURL + '\" width=\"' + width + '\">');\n",
       "    fig.close_ws(fig, msg);\n",
       "}\n",
       "\n",
       "mpl.figure.prototype.close_ws = function(fig, msg){\n",
       "    fig.send_message('closing', msg);\n",
       "    // fig.ws.close()\n",
       "}\n",
       "\n",
       "mpl.figure.prototype.push_to_output = function(remove_interactive) {\n",
       "    // Turn the data on the canvas into data in the output cell.\n",
       "    var width = this.canvas.width/mpl.ratio\n",
       "    var dataURL = this.canvas.toDataURL();\n",
       "    this.cell_info[1]['text/html'] = '<img src=\"' + dataURL + '\" width=\"' + width + '\">';\n",
       "}\n",
       "\n",
       "mpl.figure.prototype.updated_canvas_event = function() {\n",
       "    // Tell IPython that the notebook contents must change.\n",
       "    IPython.notebook.set_dirty(true);\n",
       "    this.send_message(\"ack\", {});\n",
       "    var fig = this;\n",
       "    // Wait a second, then push the new image to the DOM so\n",
       "    // that it is saved nicely (might be nice to debounce this).\n",
       "    setTimeout(function () { fig.push_to_output() }, 1000);\n",
       "}\n",
       "\n",
       "mpl.figure.prototype._init_toolbar = function() {\n",
       "    var fig = this;\n",
       "\n",
       "    var nav_element = $('<div/>')\n",
       "    nav_element.attr('style', 'width: 100%');\n",
       "    this.root.append(nav_element);\n",
       "\n",
       "    // Define a callback function for later on.\n",
       "    function toolbar_event(event) {\n",
       "        return fig.toolbar_button_onclick(event['data']);\n",
       "    }\n",
       "    function toolbar_mouse_event(event) {\n",
       "        return fig.toolbar_button_onmouseover(event['data']);\n",
       "    }\n",
       "\n",
       "    for(var toolbar_ind in mpl.toolbar_items){\n",
       "        var name = mpl.toolbar_items[toolbar_ind][0];\n",
       "        var tooltip = mpl.toolbar_items[toolbar_ind][1];\n",
       "        var image = mpl.toolbar_items[toolbar_ind][2];\n",
       "        var method_name = mpl.toolbar_items[toolbar_ind][3];\n",
       "\n",
       "        if (!name) { continue; };\n",
       "\n",
       "        var button = $('<button class=\"btn btn-default\" href=\"#\" title=\"' + name + '\"><i class=\"fa ' + image + ' fa-lg\"></i></button>');\n",
       "        button.click(method_name, toolbar_event);\n",
       "        button.mouseover(tooltip, toolbar_mouse_event);\n",
       "        nav_element.append(button);\n",
       "    }\n",
       "\n",
       "    // Add the status bar.\n",
       "    var status_bar = $('<span class=\"mpl-message\" style=\"text-align:right; float: right;\"/>');\n",
       "    nav_element.append(status_bar);\n",
       "    this.message = status_bar[0];\n",
       "\n",
       "    // Add the close button to the window.\n",
       "    var buttongrp = $('<div class=\"btn-group inline pull-right\"></div>');\n",
       "    var button = $('<button class=\"btn btn-mini btn-primary\" href=\"#\" title=\"Stop Interaction\"><i class=\"fa fa-power-off icon-remove icon-large\"></i></button>');\n",
       "    button.click(function (evt) { fig.handle_close(fig, {}); } );\n",
       "    button.mouseover('Stop Interaction', toolbar_mouse_event);\n",
       "    buttongrp.append(button);\n",
       "    var titlebar = this.root.find($('.ui-dialog-titlebar'));\n",
       "    titlebar.prepend(buttongrp);\n",
       "}\n",
       "\n",
       "mpl.figure.prototype._root_extra_style = function(el){\n",
       "    var fig = this\n",
       "    el.on(\"remove\", function(){\n",
       "\tfig.close_ws(fig, {});\n",
       "    });\n",
       "}\n",
       "\n",
       "mpl.figure.prototype._canvas_extra_style = function(el){\n",
       "    // this is important to make the div 'focusable\n",
       "    el.attr('tabindex', 0)\n",
       "    // reach out to IPython and tell the keyboard manager to turn it's self\n",
       "    // off when our div gets focus\n",
       "\n",
       "    // location in version 3\n",
       "    if (IPython.notebook.keyboard_manager) {\n",
       "        IPython.notebook.keyboard_manager.register_events(el);\n",
       "    }\n",
       "    else {\n",
       "        // location in version 2\n",
       "        IPython.keyboard_manager.register_events(el);\n",
       "    }\n",
       "\n",
       "}\n",
       "\n",
       "mpl.figure.prototype._key_event_extra = function(event, name) {\n",
       "    var manager = IPython.notebook.keyboard_manager;\n",
       "    if (!manager)\n",
       "        manager = IPython.keyboard_manager;\n",
       "\n",
       "    // Check for shift+enter\n",
       "    if (event.shiftKey && event.which == 13) {\n",
       "        this.canvas_div.blur();\n",
       "        event.shiftKey = false;\n",
       "        // Send a \"J\" for go to next cell\n",
       "        event.which = 74;\n",
       "        event.keyCode = 74;\n",
       "        manager.command_mode();\n",
       "        manager.handle_keydown(event);\n",
       "    }\n",
       "}\n",
       "\n",
       "mpl.figure.prototype.handle_save = function(fig, msg) {\n",
       "    fig.ondownload(fig, null);\n",
       "}\n",
       "\n",
       "\n",
       "mpl.find_output_cell = function(html_output) {\n",
       "    // Return the cell and output element which can be found *uniquely* in the notebook.\n",
       "    // Note - this is a bit hacky, but it is done because the \"notebook_saving.Notebook\"\n",
       "    // IPython event is triggered only after the cells have been serialised, which for\n",
       "    // our purposes (turning an active figure into a static one), is too late.\n",
       "    var cells = IPython.notebook.get_cells();\n",
       "    var ncells = cells.length;\n",
       "    for (var i=0; i<ncells; i++) {\n",
       "        var cell = cells[i];\n",
       "        if (cell.cell_type === 'code'){\n",
       "            for (var j=0; j<cell.output_area.outputs.length; j++) {\n",
       "                var data = cell.output_area.outputs[j];\n",
       "                if (data.data) {\n",
       "                    // IPython >= 3 moved mimebundle to data attribute of output\n",
       "                    data = data.data;\n",
       "                }\n",
       "                if (data['text/html'] == html_output) {\n",
       "                    return [cell, data, j];\n",
       "                }\n",
       "            }\n",
       "        }\n",
       "    }\n",
       "}\n",
       "\n",
       "// Register the function which deals with the matplotlib target/channel.\n",
       "// The kernel may be null if the page has been refreshed.\n",
       "if (IPython.notebook.kernel != null) {\n",
       "    IPython.notebook.kernel.comm_manager.register_target('matplotlib', mpl.mpl_figure_comm);\n",
       "}\n"
      ],
      "text/plain": [
       "<IPython.core.display.Javascript object>"
      ]
     },
     "metadata": {},
     "output_type": "display_data"
    },
    {
     "data": {
      "text/html": [
       "<img src=\"data:image/png;base64,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\" width=\"640\">"
      ],
      "text/plain": [
       "<IPython.core.display.HTML object>"
      ]
     },
     "metadata": {},
     "output_type": "display_data"
    }
   ],
   "source": [
    "figure(), plot(X,'+'), title('Realizations of $X$'); # Plot the realisations of X"
   ]
  },
  {
   "cell_type": "markdown",
   "metadata": {
    "slideshow": {
     "slide_type": "subslide"
    }
   },
   "source": [
    "<span style=\"font-size:80%\">\n",
    "\n",
    "\\begin{exercise}\n",
    "\n",
    "Let $X$ be a real random variable such that $X = \\varepsilon (S+W) + (1-\\varepsilon)W \\nonumber$ where:\n",
    "\n",
    "(i) $\\epsilon, S$ and $W$ are independent\n",
    "\n",
    "(ii) $S \\thicksim {\\mathcal N}(0,\\sigma_S^2)$ with $\\sigma_S \\neq 0$ \n",
    "\n",
    "(iii) $W \\thicksim {\\mathcal N}(0,\\sigma_W^2)$ with $\\sigma_W \\neq 0$\n",
    "\n",
    "(iv) $ {\\mathbb P} \\left [ \\varepsilon = 1 \\right ] = {\\mathbb P} \\left [ \\varepsilon = 0 \\right ] =1/2$.\n",
    "\n",
    "a) Compute the MPE test and the error probability of this test as a function of:\n",
    "$\\scriptsize  Q(x) = \\frac{1}{\\sqrt{2\\pi}} \\int_x^\\infty \\exp\\left(-{t^2}/{2}\\right)\\mathrm{d}t \\nonumber$\n",
    "\n",
    "b) Perform a Monte-Carlo simulation to verify your theoretical result.\n",
    "\n",
    "\\end{exercise}\n",
    "\n",
    "</span>\n"
   ]
  },
  {
   "cell_type": "markdown",
   "metadata": {
    "slideshow": {
     "slide_type": "subslide"
    }
   },
   "source": [
    "\\textbf{Answer}\n",
    "\n",
    "<span style=\"font-size:60%\">\n",
    "    \n",
    "* $\\text{Test MPE}:$\n",
    "\n",
    "$$\\forall x \\in\\mathbb{R},g_{\\text{MPE}}(x) =\\begin{cases}1 \n",
    "& \\text{if } x^2>\\lambda^2\\\\ 0 & \\text{otherwise}\\end{cases} \\text{ with } \\lambda^2=\\sigma_W^2\\frac{\\rho+1}{\\rho}\\ln(\\rho+1) \\text{ and } \\rho = \\sigma^2_S / \\sigma^2_W\n",
    "\\nonumber$$\n",
    "\n",
    "* $\\text{Error probability of $g_{\\text{MPE}}$}$ : \n",
    "\n",
    "$${\\mathbb P}_{\\text{e}} \\{ g_{\\text{MPE}} \\} = \\frac{1}{2} + Q\\left(\\sqrt{\\frac{\\rho+1}{\\rho}\\ln(\\rho+1)}\\right) - Q\\left(\\sqrt{\\frac{\\ln(\\rho+1)}{\\rho}}\\right) \\nonumber$$\n",
    "\n",
    "</span>"
   ]
  },
  {
   "cell_type": "markdown",
   "metadata": {
    "slideshow": {
     "slide_type": "subslide"
    }
   },
   "source": [
    "\\textbf{A first code to run Monte-Carlo simulations}"
   ]
  },
  {
   "cell_type": "code",
   "execution_count": 16,
   "metadata": {
    "slideshow": {
     "slide_type": "subslide"
    }
   },
   "outputs": [
    {
     "name": "stdout",
     "output_type": "stream",
     "text": [
      "Populating the interactive namespace from numpy and matplotlib\n"
     ]
    }
   ],
   "source": [
    "# Import\n",
    "%pylab notebook \n",
    "import scipy.stats as st\n",
    "Q = st.norm.sf     # quantile function of the normal distribution\n",
    "Qchi2 = st.chi2.sf # quantile function of the centred chi2 distribution "
   ]
  },
  {
   "cell_type": "code",
   "execution_count": 19,
   "metadata": {
    "scrolled": true,
    "slideshow": {
     "slide_type": "-"
    }
   },
   "outputs": [
    {
     "name": "stdout",
     "output_type": "stream",
     "text": [
      "Error Rate           : 0.1036\n",
      "Probability or error : 0.10047457899273138\n"
     ]
    }
   ],
   "source": [
    "NbTests = 10000; sigma_S = 10; sigma_W = 1; \n",
    "p = 0.5\n",
    "rho = sigma_S**2 / sigma_W**2\n",
    "# threshold\n",
    "threshold = sigma_W**2 * (rho + 1) / rho * np.log(rho + 1)\n",
    "epsilon = st.bernoulli.rvs(p,size = NbTests)  # Generate Epsilon\n",
    "W = sigma_W*randn(NbTests) # Generate noise\n",
    "S = sigma_S*randn(NbTests) # Generate signal\n",
    "# Generate observations\n",
    "X = empty(NbTests)\n",
    "for i in range(NbTests): X[i] = epsilon[i]*(S[i] + W[i]) + (1 - epsilon[i])*W[i]\n",
    "Decision = zeros(NbTests)\n",
    "for i in range(NbTests):\n",
    "    if X[i]**2 > threshold:\n",
    "        Decision[i] = 1\n",
    "# Error rates and probability of error\n",
    "ErrorRate = mean(Decision != epsilon)\n",
    "Pe = 1/2 + Q(np.sqrt((rho + 1)/rho*np.log(rho + 1))) - Q(np.sqrt(np.log(rho + 1)/rho))\n",
    "print('Error Rate           : {}'.format(ErrorRate))\n",
    "print('Probability or error : {}'.format(Pe))"
   ]
  },
  {
   "cell_type": "markdown",
   "metadata": {
    "slideshow": {
     "slide_type": "subslide"
    }
   },
   "source": [
    "\\textbf{Another way to code the foregoing simulation with a strong matlab flavour}"
   ]
  },
  {
   "cell_type": "code",
   "execution_count": 23,
   "metadata": {
    "slideshow": {
     "slide_type": "subslide"
    }
   },
   "outputs": [
    {
     "name": "stdout",
     "output_type": "stream",
     "text": [
      "Error rate : 0.1318\n",
      "Probability of error : 0.13303250702803215\n"
     ]
    }
   ],
   "source": [
    "# Another way to code this simulation with a strong matlab flavour\n",
    "# Solution proposed by Guillaume Ansel\n",
    "C_POINTS = 10000  # Number of tests\n",
    "C_VAR_B = 1  # Noise variance\n",
    "C_VAR_S = 50  # Signal variance\n",
    "C_P_H0 = 0.5  # Probability of occurrence of H0\n",
    "C_RHO = C_VAR_S / C_VAR_B # SNR\n",
    "# threshold\n",
    "C_THRESHOLD = C_VAR_B * (C_RHO + 1) / C_RHO * np.log(C_RHO + 1)\n",
    "# Generate epsilon, noise and observation values\n",
    "v_h = np.random.rand(1, C_POINTS) < C_P_H0\n",
    "v_b = np.sqrt(C_VAR_B) * np.random.randn(1, C_POINTS)\n",
    "v_s = np.sqrt(C_VAR_S) * np.random.randn(1, C_POINTS)\n",
    "v_x = v_b + v_h * v_s\n",
    "# Décisions\n",
    "v_d = (v_x ** 2) > C_THRESHOLD\n",
    "# Error rate and probability of error\n",
    "d_pe_mes = np.mean(v_d != v_h)\n",
    "d_pe_th = 1/2 + Q(np.sqrt((C_RHO+1)/C_RHO*np.log(C_RHO+1))) - Q(np.sqrt(np.log(C_RHO+1)/C_RHO));\n",
    "print('Error rate : {}'.format(d_pe_mes))\n",
    "print('Probability of error : {}'.format(d_pe_th))"
   ]
  },
  {
   "cell_type": "markdown",
   "metadata": {
    "slideshow": {
     "slide_type": "subslide"
    }
   },
   "source": [
    "\\textbf{A third code to run Monte-Carlo simulations}\n",
    "* We compute the probability of error and the error rate for various signal to noise ratios (SNRs)"
   ]
  },
  {
   "cell_type": "code",
   "execution_count": 24,
   "metadata": {
    "slideshow": {
     "slide_type": "subslide"
    }
   },
   "outputs": [
    {
     "name": "stdout",
     "output_type": "stream",
     "text": [
      "Populating the interactive namespace from numpy and matplotlib\n"
     ]
    }
   ],
   "source": [
    "# Import\n",
    "%pylab notebook \n",
    "import scipy.stats as st\n",
    "Q = st.norm.sf     # quantile function of the normal distribution\n",
    "Qchi2 = st.chi2.sf # quantile function of the centred chi2 distribution "
   ]
  },
  {
   "cell_type": "code",
   "execution_count": 28,
   "metadata": {
    "slideshow": {
     "slide_type": "-"
    }
   },
   "outputs": [],
   "source": [
    "NbTests = 100000\n",
    "sigma_W = 1\n",
    "rho_db = np.arange(-10,51); rho = 10 ** (rho_db/10)\n",
    "sigma_S = sqrt(rho * sigma_W**2)\n",
    "threshold = sigma_W**2 * (rho + 1) / rho * np.log(rho + 1)\n",
    "ErrorRate = np.zeros_like(rho)\n",
    "for j in range(len(rho)):\n",
    "    epsilon = st.bernoulli.rvs(p = 0.5,size = NbTests)  # Generate Epsilon\n",
    "    W = sigma_W*randn(NbTests); S = sigma_S[j]*randn(NbTests) # Generate the noise and the signal\n",
    "    # Generate observations\n",
    "    X = empty(NbTests)\n",
    "    for i in range(NbTests): X[i] = epsilon[i]*(S[i] + W[i]) + (1 - epsilon[i])*W[i]\n",
    "    # Calculate decisions\n",
    "    Decision = zeros(NbTests)\n",
    "    for i in range(NbTests):\n",
    "        if X[i]**2 > threshold[j]:\n",
    "            Decision[i] = 1\n",
    "    # Error rate\n",
    "    ErrorRate[j] = mean(Decision != epsilon)    \n",
    "# Probability of error\n",
    "Pe = 1/2 + Q(np.sqrt((rho + 1)/rho*np.log(rho + 1))) - Q(np.sqrt(np.log(rho + 1)/rho))"
   ]
  },
  {
   "cell_type": "code",
   "execution_count": 29,
   "metadata": {
    "slideshow": {
     "slide_type": "-"
    }
   },
   "outputs": [
    {
     "data": {
      "application/javascript": [
       "/* Put everything inside the global mpl namespace */\n",
       "window.mpl = {};\n",
       "\n",
       "\n",
       "mpl.get_websocket_type = function() {\n",
       "    if (typeof(WebSocket) !== 'undefined') {\n",
       "        return WebSocket;\n",
       "    } else if (typeof(MozWebSocket) !== 'undefined') {\n",
       "        return MozWebSocket;\n",
       "    } else {\n",
       "        alert('Your browser does not have WebSocket support.' +\n",
       "              'Please try Chrome, Safari or Firefox ≥ 6. ' +\n",
       "              'Firefox 4 and 5 are also supported but you ' +\n",
       "              'have to enable WebSockets in about:config.');\n",
       "    };\n",
       "}\n",
       "\n",
       "mpl.figure = function(figure_id, websocket, ondownload, parent_element) {\n",
       "    this.id = figure_id;\n",
       "\n",
       "    this.ws = websocket;\n",
       "\n",
       "    this.supports_binary = (this.ws.binaryType != undefined);\n",
       "\n",
       "    if (!this.supports_binary) {\n",
       "        var warnings = document.getElementById(\"mpl-warnings\");\n",
       "        if (warnings) {\n",
       "            warnings.style.display = 'block';\n",
       "            warnings.textContent = (\n",
       "                \"This browser does not support binary websocket messages. \" +\n",
       "                    \"Performance may be slow.\");\n",
       "        }\n",
       "    }\n",
       "\n",
       "    this.imageObj = new Image();\n",
       "\n",
       "    this.context = undefined;\n",
       "    this.message = undefined;\n",
       "    this.canvas = undefined;\n",
       "    this.rubberband_canvas = undefined;\n",
       "    this.rubberband_context = undefined;\n",
       "    this.format_dropdown = undefined;\n",
       "\n",
       "    this.image_mode = 'full';\n",
       "\n",
       "    this.root = $('<div/>');\n",
       "    this._root_extra_style(this.root)\n",
       "    this.root.attr('style', 'display: inline-block');\n",
       "\n",
       "    $(parent_element).append(this.root);\n",
       "\n",
       "    this._init_header(this);\n",
       "    this._init_canvas(this);\n",
       "    this._init_toolbar(this);\n",
       "\n",
       "    var fig = this;\n",
       "\n",
       "    this.waiting = false;\n",
       "\n",
       "    this.ws.onopen =  function () {\n",
       "            fig.send_message(\"supports_binary\", {value: fig.supports_binary});\n",
       "            fig.send_message(\"send_image_mode\", {});\n",
       "            if (mpl.ratio != 1) {\n",
       "                fig.send_message(\"set_dpi_ratio\", {'dpi_ratio': mpl.ratio});\n",
       "            }\n",
       "            fig.send_message(\"refresh\", {});\n",
       "        }\n",
       "\n",
       "    this.imageObj.onload = function() {\n",
       "            if (fig.image_mode == 'full') {\n",
       "                // Full images could contain transparency (where diff images\n",
       "                // almost always do), so we need to clear the canvas so that\n",
       "                // there is no ghosting.\n",
       "                fig.context.clearRect(0, 0, fig.canvas.width, fig.canvas.height);\n",
       "            }\n",
       "            fig.context.drawImage(fig.imageObj, 0, 0);\n",
       "        };\n",
       "\n",
       "    this.imageObj.onunload = function() {\n",
       "        fig.ws.close();\n",
       "    }\n",
       "\n",
       "    this.ws.onmessage = this._make_on_message_function(this);\n",
       "\n",
       "    this.ondownload = ondownload;\n",
       "}\n",
       "\n",
       "mpl.figure.prototype._init_header = function() {\n",
       "    var titlebar = $(\n",
       "        '<div class=\"ui-dialog-titlebar ui-widget-header ui-corner-all ' +\n",
       "        'ui-helper-clearfix\"/>');\n",
       "    var titletext = $(\n",
       "        '<div class=\"ui-dialog-title\" style=\"width: 100%; ' +\n",
       "        'text-align: center; padding: 3px;\"/>');\n",
       "    titlebar.append(titletext)\n",
       "    this.root.append(titlebar);\n",
       "    this.header = titletext[0];\n",
       "}\n",
       "\n",
       "\n",
       "\n",
       "mpl.figure.prototype._canvas_extra_style = function(canvas_div) {\n",
       "\n",
       "}\n",
       "\n",
       "\n",
       "mpl.figure.prototype._root_extra_style = function(canvas_div) {\n",
       "\n",
       "}\n",
       "\n",
       "mpl.figure.prototype._init_canvas = function() {\n",
       "    var fig = this;\n",
       "\n",
       "    var canvas_div = $('<div/>');\n",
       "\n",
       "    canvas_div.attr('style', 'position: relative; clear: both; outline: 0');\n",
       "\n",
       "    function canvas_keyboard_event(event) {\n",
       "        return fig.key_event(event, event['data']);\n",
       "    }\n",
       "\n",
       "    canvas_div.keydown('key_press', canvas_keyboard_event);\n",
       "    canvas_div.keyup('key_release', canvas_keyboard_event);\n",
       "    this.canvas_div = canvas_div\n",
       "    this._canvas_extra_style(canvas_div)\n",
       "    this.root.append(canvas_div);\n",
       "\n",
       "    var canvas = $('<canvas/>');\n",
       "    canvas.addClass('mpl-canvas');\n",
       "    canvas.attr('style', \"left: 0; top: 0; z-index: 0; outline: 0\")\n",
       "\n",
       "    this.canvas = canvas[0];\n",
       "    this.context = canvas[0].getContext(\"2d\");\n",
       "\n",
       "    var backingStore = this.context.backingStorePixelRatio ||\n",
       "\tthis.context.webkitBackingStorePixelRatio ||\n",
       "\tthis.context.mozBackingStorePixelRatio ||\n",
       "\tthis.context.msBackingStorePixelRatio ||\n",
       "\tthis.context.oBackingStorePixelRatio ||\n",
       "\tthis.context.backingStorePixelRatio || 1;\n",
       "\n",
       "    mpl.ratio = (window.devicePixelRatio || 1) / backingStore;\n",
       "\n",
       "    var rubberband = $('<canvas/>');\n",
       "    rubberband.attr('style', \"position: absolute; left: 0; top: 0; z-index: 1;\")\n",
       "\n",
       "    var pass_mouse_events = true;\n",
       "\n",
       "    canvas_div.resizable({\n",
       "        start: function(event, ui) {\n",
       "            pass_mouse_events = false;\n",
       "        },\n",
       "        resize: function(event, ui) {\n",
       "            fig.request_resize(ui.size.width, ui.size.height);\n",
       "        },\n",
       "        stop: function(event, ui) {\n",
       "            pass_mouse_events = true;\n",
       "            fig.request_resize(ui.size.width, ui.size.height);\n",
       "        },\n",
       "    });\n",
       "\n",
       "    function mouse_event_fn(event) {\n",
       "        if (pass_mouse_events)\n",
       "            return fig.mouse_event(event, event['data']);\n",
       "    }\n",
       "\n",
       "    rubberband.mousedown('button_press', mouse_event_fn);\n",
       "    rubberband.mouseup('button_release', mouse_event_fn);\n",
       "    // Throttle sequential mouse events to 1 every 20ms.\n",
       "    rubberband.mousemove('motion_notify', mouse_event_fn);\n",
       "\n",
       "    rubberband.mouseenter('figure_enter', mouse_event_fn);\n",
       "    rubberband.mouseleave('figure_leave', mouse_event_fn);\n",
       "\n",
       "    canvas_div.on(\"wheel\", function (event) {\n",
       "        event = event.originalEvent;\n",
       "        event['data'] = 'scroll'\n",
       "        if (event.deltaY < 0) {\n",
       "            event.step = 1;\n",
       "        } else {\n",
       "            event.step = -1;\n",
       "        }\n",
       "        mouse_event_fn(event);\n",
       "    });\n",
       "\n",
       "    canvas_div.append(canvas);\n",
       "    canvas_div.append(rubberband);\n",
       "\n",
       "    this.rubberband = rubberband;\n",
       "    this.rubberband_canvas = rubberband[0];\n",
       "    this.rubberband_context = rubberband[0].getContext(\"2d\");\n",
       "    this.rubberband_context.strokeStyle = \"#000000\";\n",
       "\n",
       "    this._resize_canvas = function(width, height) {\n",
       "        // Keep the size of the canvas, canvas container, and rubber band\n",
       "        // canvas in synch.\n",
       "        canvas_div.css('width', width)\n",
       "        canvas_div.css('height', height)\n",
       "\n",
       "        canvas.attr('width', width * mpl.ratio);\n",
       "        canvas.attr('height', height * mpl.ratio);\n",
       "        canvas.attr('style', 'width: ' + width + 'px; height: ' + height + 'px;');\n",
       "\n",
       "        rubberband.attr('width', width);\n",
       "        rubberband.attr('height', height);\n",
       "    }\n",
       "\n",
       "    // Set the figure to an initial 600x600px, this will subsequently be updated\n",
       "    // upon first draw.\n",
       "    this._resize_canvas(600, 600);\n",
       "\n",
       "    // Disable right mouse context menu.\n",
       "    $(this.rubberband_canvas).bind(\"contextmenu\",function(e){\n",
       "        return false;\n",
       "    });\n",
       "\n",
       "    function set_focus () {\n",
       "        canvas.focus();\n",
       "        canvas_div.focus();\n",
       "    }\n",
       "\n",
       "    window.setTimeout(set_focus, 100);\n",
       "}\n",
       "\n",
       "mpl.figure.prototype._init_toolbar = function() {\n",
       "    var fig = this;\n",
       "\n",
       "    var nav_element = $('<div/>')\n",
       "    nav_element.attr('style', 'width: 100%');\n",
       "    this.root.append(nav_element);\n",
       "\n",
       "    // Define a callback function for later on.\n",
       "    function toolbar_event(event) {\n",
       "        return fig.toolbar_button_onclick(event['data']);\n",
       "    }\n",
       "    function toolbar_mouse_event(event) {\n",
       "        return fig.toolbar_button_onmouseover(event['data']);\n",
       "    }\n",
       "\n",
       "    for(var toolbar_ind in mpl.toolbar_items) {\n",
       "        var name = mpl.toolbar_items[toolbar_ind][0];\n",
       "        var tooltip = mpl.toolbar_items[toolbar_ind][1];\n",
       "        var image = mpl.toolbar_items[toolbar_ind][2];\n",
       "        var method_name = mpl.toolbar_items[toolbar_ind][3];\n",
       "\n",
       "        if (!name) {\n",
       "            // put a spacer in here.\n",
       "            continue;\n",
       "        }\n",
       "        var button = $('<button/>');\n",
       "        button.addClass('ui-button ui-widget ui-state-default ui-corner-all ' +\n",
       "                        'ui-button-icon-only');\n",
       "        button.attr('role', 'button');\n",
       "        button.attr('aria-disabled', 'false');\n",
       "        button.click(method_name, toolbar_event);\n",
       "        button.mouseover(tooltip, toolbar_mouse_event);\n",
       "\n",
       "        var icon_img = $('<span/>');\n",
       "        icon_img.addClass('ui-button-icon-primary ui-icon');\n",
       "        icon_img.addClass(image);\n",
       "        icon_img.addClass('ui-corner-all');\n",
       "\n",
       "        var tooltip_span = $('<span/>');\n",
       "        tooltip_span.addClass('ui-button-text');\n",
       "        tooltip_span.html(tooltip);\n",
       "\n",
       "        button.append(icon_img);\n",
       "        button.append(tooltip_span);\n",
       "\n",
       "        nav_element.append(button);\n",
       "    }\n",
       "\n",
       "    var fmt_picker_span = $('<span/>');\n",
       "\n",
       "    var fmt_picker = $('<select/>');\n",
       "    fmt_picker.addClass('mpl-toolbar-option ui-widget ui-widget-content');\n",
       "    fmt_picker_span.append(fmt_picker);\n",
       "    nav_element.append(fmt_picker_span);\n",
       "    this.format_dropdown = fmt_picker[0];\n",
       "\n",
       "    for (var ind in mpl.extensions) {\n",
       "        var fmt = mpl.extensions[ind];\n",
       "        var option = $(\n",
       "            '<option/>', {selected: fmt === mpl.default_extension}).html(fmt);\n",
       "        fmt_picker.append(option)\n",
       "    }\n",
       "\n",
       "    // Add hover states to the ui-buttons\n",
       "    $( \".ui-button\" ).hover(\n",
       "        function() { $(this).addClass(\"ui-state-hover\");},\n",
       "        function() { $(this).removeClass(\"ui-state-hover\");}\n",
       "    );\n",
       "\n",
       "    var status_bar = $('<span class=\"mpl-message\"/>');\n",
       "    nav_element.append(status_bar);\n",
       "    this.message = status_bar[0];\n",
       "}\n",
       "\n",
       "mpl.figure.prototype.request_resize = function(x_pixels, y_pixels) {\n",
       "    // Request matplotlib to resize the figure. Matplotlib will then trigger a resize in the client,\n",
       "    // which will in turn request a refresh of the image.\n",
       "    this.send_message('resize', {'width': x_pixels, 'height': y_pixels});\n",
       "}\n",
       "\n",
       "mpl.figure.prototype.send_message = function(type, properties) {\n",
       "    properties['type'] = type;\n",
       "    properties['figure_id'] = this.id;\n",
       "    this.ws.send(JSON.stringify(properties));\n",
       "}\n",
       "\n",
       "mpl.figure.prototype.send_draw_message = function() {\n",
       "    if (!this.waiting) {\n",
       "        this.waiting = true;\n",
       "        this.ws.send(JSON.stringify({type: \"draw\", figure_id: this.id}));\n",
       "    }\n",
       "}\n",
       "\n",
       "\n",
       "mpl.figure.prototype.handle_save = function(fig, msg) {\n",
       "    var format_dropdown = fig.format_dropdown;\n",
       "    var format = format_dropdown.options[format_dropdown.selectedIndex].value;\n",
       "    fig.ondownload(fig, format);\n",
       "}\n",
       "\n",
       "\n",
       "mpl.figure.prototype.handle_resize = function(fig, msg) {\n",
       "    var size = msg['size'];\n",
       "    if (size[0] != fig.canvas.width || size[1] != fig.canvas.height) {\n",
       "        fig._resize_canvas(size[0], size[1]);\n",
       "        fig.send_message(\"refresh\", {});\n",
       "    };\n",
       "}\n",
       "\n",
       "mpl.figure.prototype.handle_rubberband = function(fig, msg) {\n",
       "    var x0 = msg['x0'] / mpl.ratio;\n",
       "    var y0 = (fig.canvas.height - msg['y0']) / mpl.ratio;\n",
       "    var x1 = msg['x1'] / mpl.ratio;\n",
       "    var y1 = (fig.canvas.height - msg['y1']) / mpl.ratio;\n",
       "    x0 = Math.floor(x0) + 0.5;\n",
       "    y0 = Math.floor(y0) + 0.5;\n",
       "    x1 = Math.floor(x1) + 0.5;\n",
       "    y1 = Math.floor(y1) + 0.5;\n",
       "    var min_x = Math.min(x0, x1);\n",
       "    var min_y = Math.min(y0, y1);\n",
       "    var width = Math.abs(x1 - x0);\n",
       "    var height = Math.abs(y1 - y0);\n",
       "\n",
       "    fig.rubberband_context.clearRect(\n",
       "        0, 0, fig.canvas.width, fig.canvas.height);\n",
       "\n",
       "    fig.rubberband_context.strokeRect(min_x, min_y, width, height);\n",
       "}\n",
       "\n",
       "mpl.figure.prototype.handle_figure_label = function(fig, msg) {\n",
       "    // Updates the figure title.\n",
       "    fig.header.textContent = msg['label'];\n",
       "}\n",
       "\n",
       "mpl.figure.prototype.handle_cursor = function(fig, msg) {\n",
       "    var cursor = msg['cursor'];\n",
       "    switch(cursor)\n",
       "    {\n",
       "    case 0:\n",
       "        cursor = 'pointer';\n",
       "        break;\n",
       "    case 1:\n",
       "        cursor = 'default';\n",
       "        break;\n",
       "    case 2:\n",
       "        cursor = 'crosshair';\n",
       "        break;\n",
       "    case 3:\n",
       "        cursor = 'move';\n",
       "        break;\n",
       "    }\n",
       "    fig.rubberband_canvas.style.cursor = cursor;\n",
       "}\n",
       "\n",
       "mpl.figure.prototype.handle_message = function(fig, msg) {\n",
       "    fig.message.textContent = msg['message'];\n",
       "}\n",
       "\n",
       "mpl.figure.prototype.handle_draw = function(fig, msg) {\n",
       "    // Request the server to send over a new figure.\n",
       "    fig.send_draw_message();\n",
       "}\n",
       "\n",
       "mpl.figure.prototype.handle_image_mode = function(fig, msg) {\n",
       "    fig.image_mode = msg['mode'];\n",
       "}\n",
       "\n",
       "mpl.figure.prototype.updated_canvas_event = function() {\n",
       "    // Called whenever the canvas gets updated.\n",
       "    this.send_message(\"ack\", {});\n",
       "}\n",
       "\n",
       "// A function to construct a web socket function for onmessage handling.\n",
       "// Called in the figure constructor.\n",
       "mpl.figure.prototype._make_on_message_function = function(fig) {\n",
       "    return function socket_on_message(evt) {\n",
       "        if (evt.data instanceof Blob) {\n",
       "            /* FIXME: We get \"Resource interpreted as Image but\n",
       "             * transferred with MIME type text/plain:\" errors on\n",
       "             * Chrome.  But how to set the MIME type?  It doesn't seem\n",
       "             * to be part of the websocket stream */\n",
       "            evt.data.type = \"image/png\";\n",
       "\n",
       "            /* Free the memory for the previous frames */\n",
       "            if (fig.imageObj.src) {\n",
       "                (window.URL || window.webkitURL).revokeObjectURL(\n",
       "                    fig.imageObj.src);\n",
       "            }\n",
       "\n",
       "            fig.imageObj.src = (window.URL || window.webkitURL).createObjectURL(\n",
       "                evt.data);\n",
       "            fig.updated_canvas_event();\n",
       "            fig.waiting = false;\n",
       "            return;\n",
       "        }\n",
       "        else if (typeof evt.data === 'string' && evt.data.slice(0, 21) == \"data:image/png;base64\") {\n",
       "            fig.imageObj.src = evt.data;\n",
       "            fig.updated_canvas_event();\n",
       "            fig.waiting = false;\n",
       "            return;\n",
       "        }\n",
       "\n",
       "        var msg = JSON.parse(evt.data);\n",
       "        var msg_type = msg['type'];\n",
       "\n",
       "        // Call the  \"handle_{type}\" callback, which takes\n",
       "        // the figure and JSON message as its only arguments.\n",
       "        try {\n",
       "            var callback = fig[\"handle_\" + msg_type];\n",
       "        } catch (e) {\n",
       "            console.log(\"No handler for the '\" + msg_type + \"' message type: \", msg);\n",
       "            return;\n",
       "        }\n",
       "\n",
       "        if (callback) {\n",
       "            try {\n",
       "                // console.log(\"Handling '\" + msg_type + \"' message: \", msg);\n",
       "                callback(fig, msg);\n",
       "            } catch (e) {\n",
       "                console.log(\"Exception inside the 'handler_\" + msg_type + \"' callback:\", e, e.stack, msg);\n",
       "            }\n",
       "        }\n",
       "    };\n",
       "}\n",
       "\n",
       "// from http://stackoverflow.com/questions/1114465/getting-mouse-location-in-canvas\n",
       "mpl.findpos = function(e) {\n",
       "    //this section is from http://www.quirksmode.org/js/events_properties.html\n",
       "    var targ;\n",
       "    if (!e)\n",
       "        e = window.event;\n",
       "    if (e.target)\n",
       "        targ = e.target;\n",
       "    else if (e.srcElement)\n",
       "        targ = e.srcElement;\n",
       "    if (targ.nodeType == 3) // defeat Safari bug\n",
       "        targ = targ.parentNode;\n",
       "\n",
       "    // jQuery normalizes the pageX and pageY\n",
       "    // pageX,Y are the mouse positions relative to the document\n",
       "    // offset() returns the position of the element relative to the document\n",
       "    var x = e.pageX - $(targ).offset().left;\n",
       "    var y = e.pageY - $(targ).offset().top;\n",
       "\n",
       "    return {\"x\": x, \"y\": y};\n",
       "};\n",
       "\n",
       "/*\n",
       " * return a copy of an object with only non-object keys\n",
       " * we need this to avoid circular references\n",
       " * http://stackoverflow.com/a/24161582/3208463\n",
       " */\n",
       "function simpleKeys (original) {\n",
       "  return Object.keys(original).reduce(function (obj, key) {\n",
       "    if (typeof original[key] !== 'object')\n",
       "        obj[key] = original[key]\n",
       "    return obj;\n",
       "  }, {});\n",
       "}\n",
       "\n",
       "mpl.figure.prototype.mouse_event = function(event, name) {\n",
       "    var canvas_pos = mpl.findpos(event)\n",
       "\n",
       "    if (name === 'button_press')\n",
       "    {\n",
       "        this.canvas.focus();\n",
       "        this.canvas_div.focus();\n",
       "    }\n",
       "\n",
       "    var x = canvas_pos.x * mpl.ratio;\n",
       "    var y = canvas_pos.y * mpl.ratio;\n",
       "\n",
       "    this.send_message(name, {x: x, y: y, button: event.button,\n",
       "                             step: event.step,\n",
       "                             guiEvent: simpleKeys(event)});\n",
       "\n",
       "    /* This prevents the web browser from automatically changing to\n",
       "     * the text insertion cursor when the button is pressed.  We want\n",
       "     * to control all of the cursor setting manually through the\n",
       "     * 'cursor' event from matplotlib */\n",
       "    event.preventDefault();\n",
       "    return false;\n",
       "}\n",
       "\n",
       "mpl.figure.prototype._key_event_extra = function(event, name) {\n",
       "    // Handle any extra behaviour associated with a key event\n",
       "}\n",
       "\n",
       "mpl.figure.prototype.key_event = function(event, name) {\n",
       "\n",
       "    // Prevent repeat events\n",
       "    if (name == 'key_press')\n",
       "    {\n",
       "        if (event.which === this._key)\n",
       "            return;\n",
       "        else\n",
       "            this._key = event.which;\n",
       "    }\n",
       "    if (name == 'key_release')\n",
       "        this._key = null;\n",
       "\n",
       "    var value = '';\n",
       "    if (event.ctrlKey && event.which != 17)\n",
       "        value += \"ctrl+\";\n",
       "    if (event.altKey && event.which != 18)\n",
       "        value += \"alt+\";\n",
       "    if (event.shiftKey && event.which != 16)\n",
       "        value += \"shift+\";\n",
       "\n",
       "    value += 'k';\n",
       "    value += event.which.toString();\n",
       "\n",
       "    this._key_event_extra(event, name);\n",
       "\n",
       "    this.send_message(name, {key: value,\n",
       "                             guiEvent: simpleKeys(event)});\n",
       "    return false;\n",
       "}\n",
       "\n",
       "mpl.figure.prototype.toolbar_button_onclick = function(name) {\n",
       "    if (name == 'download') {\n",
       "        this.handle_save(this, null);\n",
       "    } else {\n",
       "        this.send_message(\"toolbar_button\", {name: name});\n",
       "    }\n",
       "};\n",
       "\n",
       "mpl.figure.prototype.toolbar_button_onmouseover = function(tooltip) {\n",
       "    this.message.textContent = tooltip;\n",
       "};\n",
       "mpl.toolbar_items = [[\"Home\", \"Reset original view\", \"fa fa-home icon-home\", \"home\"], [\"Back\", \"Back to previous view\", \"fa fa-arrow-left icon-arrow-left\", \"back\"], [\"Forward\", \"Forward to next view\", \"fa fa-arrow-right icon-arrow-right\", \"forward\"], [\"\", \"\", \"\", \"\"], [\"Pan\", \"Pan axes with left mouse, zoom with right\", \"fa fa-arrows icon-move\", \"pan\"], [\"Zoom\", \"Zoom to rectangle\", \"fa fa-square-o icon-check-empty\", \"zoom\"], [\"\", \"\", \"\", \"\"], [\"Download\", \"Download plot\", \"fa fa-floppy-o icon-save\", \"download\"]];\n",
       "\n",
       "mpl.extensions = [\"eps\", \"jpeg\", \"pdf\", \"png\", \"ps\", \"raw\", \"svg\", \"tif\"];\n",
       "\n",
       "mpl.default_extension = \"png\";var comm_websocket_adapter = function(comm) {\n",
       "    // Create a \"websocket\"-like object which calls the given IPython comm\n",
       "    // object with the appropriate methods. Currently this is a non binary\n",
       "    // socket, so there is still some room for performance tuning.\n",
       "    var ws = {};\n",
       "\n",
       "    ws.close = function() {\n",
       "        comm.close()\n",
       "    };\n",
       "    ws.send = function(m) {\n",
       "        //console.log('sending', m);\n",
       "        comm.send(m);\n",
       "    };\n",
       "    // Register the callback with on_msg.\n",
       "    comm.on_msg(function(msg) {\n",
       "        //console.log('receiving', msg['content']['data'], msg);\n",
       "        // Pass the mpl event to the overridden (by mpl) onmessage function.\n",
       "        ws.onmessage(msg['content']['data'])\n",
       "    });\n",
       "    return ws;\n",
       "}\n",
       "\n",
       "mpl.mpl_figure_comm = function(comm, msg) {\n",
       "    // This is the function which gets called when the mpl process\n",
       "    // starts-up an IPython Comm through the \"matplotlib\" channel.\n",
       "\n",
       "    var id = msg.content.data.id;\n",
       "    // Get hold of the div created by the display call when the Comm\n",
       "    // socket was opened in Python.\n",
       "    var element = $(\"#\" + id);\n",
       "    var ws_proxy = comm_websocket_adapter(comm)\n",
       "\n",
       "    function ondownload(figure, format) {\n",
       "        window.open(figure.imageObj.src);\n",
       "    }\n",
       "\n",
       "    var fig = new mpl.figure(id, ws_proxy,\n",
       "                           ondownload,\n",
       "                           element.get(0));\n",
       "\n",
       "    // Call onopen now - mpl needs it, as it is assuming we've passed it a real\n",
       "    // web socket which is closed, not our websocket->open comm proxy.\n",
       "    ws_proxy.onopen();\n",
       "\n",
       "    fig.parent_element = element.get(0);\n",
       "    fig.cell_info = mpl.find_output_cell(\"<div id='\" + id + \"'></div>\");\n",
       "    if (!fig.cell_info) {\n",
       "        console.error(\"Failed to find cell for figure\", id, fig);\n",
       "        return;\n",
       "    }\n",
       "\n",
       "    var output_index = fig.cell_info[2]\n",
       "    var cell = fig.cell_info[0];\n",
       "\n",
       "};\n",
       "\n",
       "mpl.figure.prototype.handle_close = function(fig, msg) {\n",
       "    var width = fig.canvas.width/mpl.ratio\n",
       "    fig.root.unbind('remove')\n",
       "\n",
       "    // Update the output cell to use the data from the current canvas.\n",
       "    fig.push_to_output();\n",
       "    var dataURL = fig.canvas.toDataURL();\n",
       "    // Re-enable the keyboard manager in IPython - without this line, in FF,\n",
       "    // the notebook keyboard shortcuts fail.\n",
       "    IPython.keyboard_manager.enable()\n",
       "    $(fig.parent_element).html('<img src=\"' + dataURL + '\" width=\"' + width + '\">');\n",
       "    fig.close_ws(fig, msg);\n",
       "}\n",
       "\n",
       "mpl.figure.prototype.close_ws = function(fig, msg){\n",
       "    fig.send_message('closing', msg);\n",
       "    // fig.ws.close()\n",
       "}\n",
       "\n",
       "mpl.figure.prototype.push_to_output = function(remove_interactive) {\n",
       "    // Turn the data on the canvas into data in the output cell.\n",
       "    var width = this.canvas.width/mpl.ratio\n",
       "    var dataURL = this.canvas.toDataURL();\n",
       "    this.cell_info[1]['text/html'] = '<img src=\"' + dataURL + '\" width=\"' + width + '\">';\n",
       "}\n",
       "\n",
       "mpl.figure.prototype.updated_canvas_event = function() {\n",
       "    // Tell IPython that the notebook contents must change.\n",
       "    IPython.notebook.set_dirty(true);\n",
       "    this.send_message(\"ack\", {});\n",
       "    var fig = this;\n",
       "    // Wait a second, then push the new image to the DOM so\n",
       "    // that it is saved nicely (might be nice to debounce this).\n",
       "    setTimeout(function () { fig.push_to_output() }, 1000);\n",
       "}\n",
       "\n",
       "mpl.figure.prototype._init_toolbar = function() {\n",
       "    var fig = this;\n",
       "\n",
       "    var nav_element = $('<div/>')\n",
       "    nav_element.attr('style', 'width: 100%');\n",
       "    this.root.append(nav_element);\n",
       "\n",
       "    // Define a callback function for later on.\n",
       "    function toolbar_event(event) {\n",
       "        return fig.toolbar_button_onclick(event['data']);\n",
       "    }\n",
       "    function toolbar_mouse_event(event) {\n",
       "        return fig.toolbar_button_onmouseover(event['data']);\n",
       "    }\n",
       "\n",
       "    for(var toolbar_ind in mpl.toolbar_items){\n",
       "        var name = mpl.toolbar_items[toolbar_ind][0];\n",
       "        var tooltip = mpl.toolbar_items[toolbar_ind][1];\n",
       "        var image = mpl.toolbar_items[toolbar_ind][2];\n",
       "        var method_name = mpl.toolbar_items[toolbar_ind][3];\n",
       "\n",
       "        if (!name) { continue; };\n",
       "\n",
       "        var button = $('<button class=\"btn btn-default\" href=\"#\" title=\"' + name + '\"><i class=\"fa ' + image + ' fa-lg\"></i></button>');\n",
       "        button.click(method_name, toolbar_event);\n",
       "        button.mouseover(tooltip, toolbar_mouse_event);\n",
       "        nav_element.append(button);\n",
       "    }\n",
       "\n",
       "    // Add the status bar.\n",
       "    var status_bar = $('<span class=\"mpl-message\" style=\"text-align:right; float: right;\"/>');\n",
       "    nav_element.append(status_bar);\n",
       "    this.message = status_bar[0];\n",
       "\n",
       "    // Add the close button to the window.\n",
       "    var buttongrp = $('<div class=\"btn-group inline pull-right\"></div>');\n",
       "    var button = $('<button class=\"btn btn-mini btn-primary\" href=\"#\" title=\"Stop Interaction\"><i class=\"fa fa-power-off icon-remove icon-large\"></i></button>');\n",
       "    button.click(function (evt) { fig.handle_close(fig, {}); } );\n",
       "    button.mouseover('Stop Interaction', toolbar_mouse_event);\n",
       "    buttongrp.append(button);\n",
       "    var titlebar = this.root.find($('.ui-dialog-titlebar'));\n",
       "    titlebar.prepend(buttongrp);\n",
       "}\n",
       "\n",
       "mpl.figure.prototype._root_extra_style = function(el){\n",
       "    var fig = this\n",
       "    el.on(\"remove\", function(){\n",
       "\tfig.close_ws(fig, {});\n",
       "    });\n",
       "}\n",
       "\n",
       "mpl.figure.prototype._canvas_extra_style = function(el){\n",
       "    // this is important to make the div 'focusable\n",
       "    el.attr('tabindex', 0)\n",
       "    // reach out to IPython and tell the keyboard manager to turn it's self\n",
       "    // off when our div gets focus\n",
       "\n",
       "    // location in version 3\n",
       "    if (IPython.notebook.keyboard_manager) {\n",
       "        IPython.notebook.keyboard_manager.register_events(el);\n",
       "    }\n",
       "    else {\n",
       "        // location in version 2\n",
       "        IPython.keyboard_manager.register_events(el);\n",
       "    }\n",
       "\n",
       "}\n",
       "\n",
       "mpl.figure.prototype._key_event_extra = function(event, name) {\n",
       "    var manager = IPython.notebook.keyboard_manager;\n",
       "    if (!manager)\n",
       "        manager = IPython.keyboard_manager;\n",
       "\n",
       "    // Check for shift+enter\n",
       "    if (event.shiftKey && event.which == 13) {\n",
       "        this.canvas_div.blur();\n",
       "        event.shiftKey = false;\n",
       "        // Send a \"J\" for go to next cell\n",
       "        event.which = 74;\n",
       "        event.keyCode = 74;\n",
       "        manager.command_mode();\n",
       "        manager.handle_keydown(event);\n",
       "    }\n",
       "}\n",
       "\n",
       "mpl.figure.prototype.handle_save = function(fig, msg) {\n",
       "    fig.ondownload(fig, null);\n",
       "}\n",
       "\n",
       "\n",
       "mpl.find_output_cell = function(html_output) {\n",
       "    // Return the cell and output element which can be found *uniquely* in the notebook.\n",
       "    // Note - this is a bit hacky, but it is done because the \"notebook_saving.Notebook\"\n",
       "    // IPython event is triggered only after the cells have been serialised, which for\n",
       "    // our purposes (turning an active figure into a static one), is too late.\n",
       "    var cells = IPython.notebook.get_cells();\n",
       "    var ncells = cells.length;\n",
       "    for (var i=0; i<ncells; i++) {\n",
       "        var cell = cells[i];\n",
       "        if (cell.cell_type === 'code'){\n",
       "            for (var j=0; j<cell.output_area.outputs.length; j++) {\n",
       "                var data = cell.output_area.outputs[j];\n",
       "                if (data.data) {\n",
       "                    // IPython >= 3 moved mimebundle to data attribute of output\n",
       "                    data = data.data;\n",
       "                }\n",
       "                if (data['text/html'] == html_output) {\n",
       "                    return [cell, data, j];\n",
       "                }\n",
       "            }\n",
       "        }\n",
       "    }\n",
       "}\n",
       "\n",
       "// Register the function which deals with the matplotlib target/channel.\n",
       "// The kernel may be null if the page has been refreshed.\n",
       "if (IPython.notebook.kernel != null) {\n",
       "    IPython.notebook.kernel.comm_manager.register_target('matplotlib', mpl.mpl_figure_comm);\n",
       "}\n"
      ],
      "text/plain": [
       "<IPython.core.display.Javascript object>"
      ]
     },
     "metadata": {},
     "output_type": "display_data"
    },
    {
     "data": {
      "text/html": [
       "<img src=\"data:image/png;base64,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\" width=\"640\">"
      ],
      "text/plain": [
       "<IPython.core.display.HTML object>"
      ]
     },
     "metadata": {},
     "output_type": "display_data"
    }
   ],
   "source": [
    "# Plots the probabilities of error vs. the error rates\n",
    "h_fig, h_ax = plt.subplots() \n",
    "h_ax.semilogy(rho_db, Pe, label='$P_e$'),h_ax.semilogy(rho_db, ErrorRate, '+', label='Error rate')\n",
    "h_ax.set_xlabel('$\\\\rho$ (dB)'); h_ax.set_ylabel('$P_E$') \n",
    "h_ax.set_title('Error probability vs. error rate'); h_ax.legend(); h_ax.grid(which='both')"
   ]
  },
  {
   "cell_type": "markdown",
   "metadata": {
    "slideshow": {
     "slide_type": "subslide"
    }
   },
   "source": [
    "\\begin{exercise}\n",
    "\n",
    "<span style=\"font-size:60%\">\n",
    "    \n",
    "Let $\\scriptsize X$ be an $\\scriptsize N$-dimensional real random vector such that $\\scriptsize X = \\varepsilon (S+W) + (1-\\varepsilon)W$ where:\n",
    "\n",
    "(i) $\\scriptsize \\epsilon, S \\text{ and } W$ are independent\n",
    "\n",
    "(ii) $\\scriptsize S=(S_1,...,S_N)^T \\thicksim {\\mathcal N}(0,\\sigma_S^2\\mathrm{I}_N)$ with $\\scriptsize \\sigma_S \\neq 0$, where $\\scriptsize \\mathrm{I}_N$ is the $\\scriptsize N \\times N$ identity matrix\n",
    "\n",
    "(iii) $\\scriptsize W = (W_1, ..., W_N)^T \\thicksim {\\mathcal N}(0,\\sigma_W^2\\mathrm{I}_N)$ with $\\scriptsize \\sigma_W \\neq 0$\n",
    "\n",
    "(iv) $\\scriptsize {\\mathbb P} \\left [ \\varepsilon = 1 \\right ] = {\\mathbb P} \\left [ \\varepsilon = 0 \\right ] =1/2$.\n",
    "\n",
    "Denote by $\\scriptsize f_{\\chi_N^2}$ the centred $\\scriptsize \\chi_N^2$ law with $N$ degrees of freedom:\n",
    "$\\scriptsize f_{\\chi_N^2}(x) =\\frac{1}{2^{N/2}\\Gamma(N/2)}x^{N/2-1}e^{-x/2} \\un_{[0,\\infty)}(x)$\n",
    "\n",
    "1) Compute the MPE test and its probability of error as a function of : $\\scriptsize Q_{\\chi_N^2}(x) = \\int_x^\\infty f_{\\chi_N^2}(t) \\mathrm{d}t$\n",
    "\n",
    "2) Check your theoretical result by Monte-Carlo simulations\n",
    "\n",
    "</span>\n",
    "\n",
    "\\end{exercise}\n"
   ]
  },
  {
   "cell_type": "markdown",
   "metadata": {
    "slideshow": {
     "slide_type": "subslide"
    }
   },
   "source": [
    "__Your turn! (during the lab)__"
   ]
  },
  {
   "cell_type": "markdown",
   "metadata": {
    "slideshow": {
     "slide_type": "subslide"
    }
   },
   "source": [
    "## Bayes rule (the MPE test extended)\n",
    "\n",
    "$\\scriptsize \\text{For any test $g: {\\mathbb R}^d \\to \\{0,1\\}$}$\n",
    "\n",
    "| $ $                      | $g(X(\\omega)) =0$ | $g(X(\\omega)) = 1$     |\n",
    "| :---: | :---:| :----: | \n",
    "| $\\varepsilon(\\omega) =0$ | $\\text{Correct decision}$ | $\\text{Error of the 1st kind}$ |\n",
    "| $\\varepsilon(\\omega) =1$ | $\\text{Error of the 2nd kind}$ | $\\text{Correct decision}$ |\n",
    "\n",
    "$\n",
    "\\scriptsize \n",
    "{\\mathbb P} \\left [ g(X) \\ne \\varepsilon \\right ]\n",
    "= \\underbrace{{\\mathbb P} \\left [ g(X) = 1 \\, \\vert \\, \\varepsilon = 0 \\right ]}_{\\text{Error probability of the 1st kind}} \\times {\\mathbb P} \\left [ \\varepsilon = 0 \\right ]\n",
    "+ \\underbrace{{\\mathbb P} \\left [ g(X) = 0 \\, \\vert \\, \\varepsilon = 1 \\right ]}_{\\text{Error probability of the 2nd kind}} \\times {\\mathbb P} \\left [ \\varepsilon = 1  \\right ]\n",
    "$\n"
   ]
  },
  {
   "cell_type": "markdown",
   "metadata": {
    "slideshow": {
     "slide_type": "subslide"
    }
   },
   "source": [
    "<span style=\"font-size:90%\">\n",
    "\n",
    "\\begin{definition}[Error probabilities]\n",
    "\n",
    "(i) The \\textbf{error probability of the 1st kind} or \\textbf{size} (aka \\textbf{probability of false alarm}) of a test $g$ is:\n",
    "\n",
    "$$\n",
    "\\scriptsize\n",
    "\\alpha_{\\mathcal g} = {\\mathbb P} \\left [ g(X) = 1 \\, \\vert \\, \\varepsilon = 0 \\right ]\n",
    "\\nonumber\n",
    "$$\n",
    "\n",
    "(ii) The \\textbf{power} (aka \\textbf{probability of correct detection}) of a test $g$ is:\n",
    "\n",
    "$$\n",
    "\\scriptsize\n",
    "\\beta_{\\mathcal g} = {\\mathbb P} \\left [ g(X) = 1 \\, \\vert \\, \\varepsilon = 1 \\right ]\n",
    "\\nonumber\n",
    "$$\n",
    "\n",
    "(iii) $\\scriptsize \n",
    "{\\mathbb P} \\left [ g(X) \\ne \\varepsilon \\right ]\n",
    "= \\alpha_{\\mathcal g} \\times {\\mathbb P} \\left [ \\varepsilon = 0 \\right ]\n",
    "+ \\left ( 1 - \\beta_{\\mathcal g} \\right ) \\times {\\mathbb P} \\left [ \\varepsilon = 1  \\right ]\n",
    "$}\n",
    "\n",
    "\\textbf{Remark:} $1-\\beta_g$ is the \\textbf{error probability of the 2nd kind} (aka \\textbf{missed detection probability}).\n",
    "$$\\nonumber$$\n",
    "\\end{definition}\n",
    "\n",
    "</span>"
   ]
  },
  {
   "cell_type": "markdown",
   "metadata": {
    "slideshow": {
     "slide_type": "subslide"
    }
   },
   "source": [
    "<span style=\"font-size:95%\">__Bayesian error probabilities__</span>\n",
    "\n",
    "<span style=\"font-size:95%\">\n",
    "    \n",
    "| $ $                      | $\\tiny g(X) = 0$ | $\\tiny g(X) = 1$     | \n",
    "| :---: | :---:| :----: | \n",
    "| $\\tiny \\varepsilon =0$ | $\\tiny 1-\\alpha_g$ | $\\tiny \\alpha_g$ \n",
    "| $\\tiny \\varepsilon =1$ | $\\tiny 1-\\beta_g$ | $\\tiny \\beta_g$ |\n",
    "\n",
    "</span>\n",
    "\n",
    "<span style=\"font-size:80%\">__Bayesian costs__</span>\n",
    "\n",
    "| $ $                      | $\\tiny g(X) = 0$ | $\\tiny g(X) = 1$     |\n",
    "| :---: | :---:| :----: | \n",
    "| $\\tiny \\varepsilon =0$ | $\\tiny c_{00}$ | $\\tiny c_{01}$ |\n",
    "| $\\tiny \\varepsilon =1$ | $\\tiny c_{10}$ | $\\tiny c_{11}$ |\n",
    "\n",
    "$$\\scriptsize\n",
    "%\\begin{array}{lll}\n",
    "\\underbrace{{\\mathcal C}(g)}_{\\text{(overall) Bayesian cost}} \n",
    "%& = & \n",
    "=\n",
    "c_{00} ( 1- \\alpha_g ) + c_{10} \\alpha_g + c_{10} ( 1- \\beta_g ) + c_{11} \\beta_g \n",
    "%\\\\\n",
    "%& = & \n",
    "=\n",
    "c_{00} + c_{10} + \\underbrace{(c_{01}-c_{00}) \\alpha_g - (c_{10} - c_{11}) \\beta_g}_{{\\mathcal R}(g) \\, \\text{(Bayesian risk)} }\n",
    "%\\end{array}\n",
    "\\nonumber\n",
    "$$\n",
    "\n",
    "</span>"
   ]
  },
  {
   "cell_type": "markdown",
   "metadata": {
    "slideshow": {
     "slide_type": "subslide"
    }
   },
   "source": [
    "* Can we find $g^*$ that minimizes ${\\mathcal C}(g)$ or, equivalently, the Bayesian risk ${\\mathcal R}(g)$?\n",
    "\n",
    "* If $g^*$ exists, we call it Bayes rule or Bayes classifier."
   ]
  },
  {
   "cell_type": "markdown",
   "metadata": {
    "slideshow": {
     "slide_type": "subslide"
    }
   },
   "source": [
    "<span style=\"font-size:70%\">\n",
    "\n",
    "\\begin{theorem}[Bayes rule (or test) for simple hypotheses]\\label{theo:bayes} \n",
    "$$\\nonumber$$\n",
    "\n",
    "If $X = \\varepsilon X_1 + (1-\\varepsilon) X_0$ where:\n",
    "$\n",
    "\\scriptsize\n",
    "\\left \\{\n",
    "\\begin{array}{lll}\n",
    "\\text{$X_0,X_1: \\Omega \\to {\\mathbb R}^d$ have known and different distributions} \\\\\n",
    "\\text{$\\varepsilon: \\Omega \\to \\{0,1\\}$ independent of $X_0$ and $X_1$}\n",
    "\\end{array}\n",
    "\\right. \n",
    "\\nonumber\n",
    "$\n",
    "\n",
    "then\n",
    "\n",
    "(i) $\\alpha_g = {\\mathbb P} \\left [ g(X_0) = 1 \\right ] \\quad \\text{and} \\quad \\beta_g = {\\mathbb P} \\left [ g(X_1) = 1 \\right ]$ for any classifier $g$\n",
    "\n",
    "(ii) \n",
    "$\n",
    "\\scriptsize\n",
    "{\\mathcal g}^*(x) = \n",
    "\\left \\{\n",
    "\\begin{array}{lll}\n",
    "1 & \\text{if $\\underbrace{\\Lambda(x)}_{\\text{Likelihood ratio}} > \\dfrac{c_{01}-c_{00}}{c_{10}-c_{11}}$} \\\\\n",
    "0 & \\text{otherwise}\n",
    "\\end{array}\n",
    "\\right.\n",
    "\\nonumber\n",
    "$\n",
    "$$\\nonumber$$\n",
    "\\end{theorem}\n",
    "\n",
    "\\begin{remark}\n",
    "\n",
    "* The handling of equality or not in the inequality above does not matter! \n",
    "* The Bayes cost and risk do not change whether the inequality above is large or not.\n",
    "\n",
    "\\end{remark}\n",
    "\n",
    "</span>"
   ]
  },
  {
   "cell_type": "markdown",
   "metadata": {
    "slideshow": {
     "slide_type": "subslide"
    }
   },
   "source": [
    "__Particular case: The MPE test__\n",
    "\n",
    "The (MPE) test when the hypotheses are simple is the Bayes rule when \n",
    "\n",
    "| $ $                      | $g(X) =0$ | $g(X) = 1$     |\n",
    "| :---: | :---:| :----: | \n",
    "| $\\varepsilon =0$ | $c_{00}=0$ | $c_{01}=\\pi_0$ |\n",
    "| $\\varepsilon =0$ | $c_{10}=\\pi_1$ | $c_{11}=0$ |\n",
    "\n",
    "with $\\pi_0 = \\mathbb{P} \\left [ \\varepsilon = 0 \\right ]$ and $\\pi_1 = \\mathbb{P} \\left [ \\varepsilon = 1 \\right ]$"
   ]
  },
  {
   "cell_type": "markdown",
   "metadata": {
    "slideshow": {
     "slide_type": "subslide"
    }
   },
   "source": [
    "## M-ary Bayesian classifier\n",
    "\n",
    "* We have $M$ classes $\\{1, 2, \\ldots, M\\}$\n",
    "\n",
    "* The $M$-ary classifier that minimizes the error probability \n",
    "\n",
    "$${\\mathbb P}_e\\{g(X)\\} \\stackrel{\\text{def}}{=} {\\mathbb P}({\\mathcal E}) = {\\mathbb P} \\left [ g(X) \\ne \\varepsilon \\right ] \\nonumber$$ \n",
    "\n",
    "is:\n",
    "\n",
    "$$\\widehat{\\varepsilon} = \\arg \\min_{i \\in \\{1,2, \\ldots, M\\}} {\\mathbb P} \\left [ \\varepsilon = i \\, \\vert \\, X = x \\right ]\n",
    "\\nonumber$$\n",
    "\n"
   ]
  },
  {
   "cell_type": "markdown",
   "metadata": {
    "slideshow": {
     "slide_type": "slide"
    }
   },
   "source": [
    "# The non-Bayesian case: $\\scriptsize {\\mathbb P} \\left [ \\varepsilon = 0 \\right ] \\in \\{0,1\\} \\nonumber$"
   ]
  },
  {
   "cell_type": "markdown",
   "metadata": {
    "slideshow": {
     "slide_type": "subslide"
    }
   },
   "source": [
    "## Problem analysis\n",
    "\n",
    "<span style=\"font-size:90%\">\n",
    "\n",
    "* $\\varepsilon$ is deterministic, either equal to $0$ ($\\forall \\omega \\in \\Omega$) or equal to $1$ ($\\forall \\omega \\in \\Omega$)\n",
    "\n",
    "* Bayes's rule does not apply and $\\varepsilon$ is useless\n",
    "\n",
    "* We resort to the statistical hypothesis testing framework as depicted below\n",
    "\n",
    "    * In the Bayesian case, the probability of error embraces both the probabilities of the first and second kind by averaging these latter. \n",
    "\n",
    "    * In the non-Bayesian case, the two types of error play a different and fundamentally dissymetric role. These two error probabilities cannot be encompassed by averaging them via one single criterion such as the probability of error. \n",
    "\n",
    "</span>\n"
   ]
  },
  {
   "cell_type": "markdown",
   "metadata": {
    "slideshow": {
     "slide_type": "subslide"
    }
   },
   "source": [
    "## Theoretical framework\n",
    "\n",
    "* We assume that the probability distribution function (pdf) $f_X$ of $X$ belongs to a certain set of pdfs ${\\mathcal F} = \\left \\{ p_{\\theta} : \\theta \\in {\\mathcal X} \\right \\}$: \n",
    "\n",
    "$$\\exists \\theta \\in {\\mathcal X} \\, \\text{such that} \\, f_X = p_{\\theta}\\nonumber$$\n",
    "\n",
    "* We assume that ${\\mathcal X} = {\\mathcal X}_0 \\uplus {\\mathcal X}_1$: ${\\mathcal X} = {\\mathcal X}_0 \\cup {\\mathcal X}_1$ and ${\\mathcal X}_0 \\cap {\\mathcal X}_1 = \\emptyset$\n",
    "* We test two hypotheses ${\\mathcal H}_0: \\theta \\in {\\mathcal X}_0$ and ${\\mathcal H}_1: \\theta \\in {\\mathcal X}_1$\n",
    "\n",
    "\\begin{example} (Gaussian mean testing)\n",
    "For testing the mean of $X \\thicksim {\\mathcal N}(\\theta,C)$, ${\\mathcal F}$ is the set of all the Gaussian pdfs of the Gaussian distributions ${\\mathcal N}(\\theta,C)$ when $\\theta$ ranges in ${\\mathcal X} = {\\mathbb R}^d$\n",
    "\\end{example}"
   ]
  },
  {
   "cell_type": "markdown",
   "metadata": {
    "slideshow": {
     "slide_type": "subslide"
    }
   },
   "source": [
    "__Decisions as random variables__\n",
    "* The decision is a random variable ${\\mathcal D} : \\Omega \\to \\{0,1\\}$. \n",
    "* If ${\\mathcal D}(\\omega) = 0$, we say that we accept ${\\mathcal H}_0$\n",
    "* If ${\\mathcal D}(\\omega) = 1$, we say that we reject ${\\mathcal H}_0$ or that we accept ${\\mathcal H}_1$. \n",
    "* $\\forall \\omega \\in \\Omega$, ${\\mathcal D}(\\omega)$ is the index of the accepted hypothesis\n",
    "* Finally, ${\\mathcal D}$ provides an estimate of $\\varepsilon$!!"
   ]
  },
  {
   "cell_type": "markdown",
   "metadata": {
    "slideshow": {
     "slide_type": "subslide"
    }
   },
   "source": [
    "<span style=\"font-size:90%\">\n",
    "\n",
    "\\begin{example} (The radar case)\n",
    "* ${\\mathcal H}_0: \\scriptsize \\text{no target}$ vs. ${\\mathcal H}_1: \\scriptsize \\text{There is a target}$\n",
    "* False Alarm: we decide that there is a target (we reject ${\\mathcal H}_0$) under ${\\mathcal H}_1$\n",
    "* Probability of False Alarm = error probability of the 1st kind\n",
    "* Missed Detection: we decide that there is no target (we accept ${\\mathcal H}_0$) under ${\\mathcal H}_1$\n",
    "* Probability of Missed Detection = error probability of the 2nd kind\n",
    "* Probability of correct decision = 1 - Probability of Missed Detection\n",
    "* Minimize the probability of missed detection while maintaining the false alarm probability below a certain level\n",
    "\\end{example}\n",
    "\n",
    "</span>"
   ]
  },
  {
   "cell_type": "markdown",
   "metadata": {
    "slideshow": {
     "slide_type": "subslide"
    }
   },
   "source": [
    "### Critical function and randomized test\n",
    "\n",
    "For any ${\\mathcal D}: \\Omega \\to \\{0,1\\}$, ${\\mathbb P} \\left [ {\\mathcal D} = 1 \\right ] = \\displaystyle \\int \\underbrace{{\\mathbb P} \\left [ {\\mathcal D} = 1 \\, \\vert \\, X = x \\right ]}_{\\text{Critical function of ${\\mathcal D}$}} f_X(x) {\\mathrm d} x$\n",
    "\n",
    "\\begin{definition}[Critical function] \n",
    "\n",
    "A critical function is any (measurable) function $\\varphi: {\\mathbb R}^d \\to [0,1]$.\n",
    "$$\\nonumber$$\n",
    "\\end{definition}\n",
    "\n",
    "__Remark:__ The indicator function of a subset of ${\\mathbb R}^d$ is a critical function.\n"
   ]
  },
  {
   "cell_type": "markdown",
   "metadata": {
    "slideshow": {
     "slide_type": "subslide"
    }
   },
   "source": [
    "\\begin{definition}[Randomized test]\n",
    "\n",
    "Given any critical function $\\varphi$, a randomized test is any decision ${\\mathcal D}$ such that:\n",
    "\n",
    "$$\n",
    "{\\mathcal D} = \n",
    "\\left \\{\n",
    "\\begin{array}{llll}\n",
    "1 & \\text{if $U \\leqslant \\varphi(X)$} \\\\\n",
    "0 & \\text{otherwise}\n",
    "\\end{array}\n",
    "\\right.\n",
    "\\nonumber\n",
    "$$\n",
    "\n",
    "where $U$ is any random variable uniformly distributed in $[0,1]$ and independent of $X$.\n",
    "$$\\nonumber$$\n",
    "\\end{definition}\n",
    "\n",
    "\\begin{lemma}\\label{lemma:criticalfunction}\n",
    "If ${\\mathcal D}$ is a randomized test with critical function $\\varphi$, then:\n",
    "\n",
    "$$\\forall x \\in {\\mathbb R}^d, \\varphi(x) = {\\mathbb P} \\left [ {\\mathcal D} = 1 \\, \\vert \\, X = x \\right ]\n",
    "\\nonumber$$ \n",
    "$$\\nonumber$$\n",
    "\\end{lemma}\n"
   ]
  },
  {
   "cell_type": "markdown",
   "metadata": {
    "slideshow": {
     "slide_type": "subslide"
    }
   },
   "source": [
    "### Power function\n",
    "\n",
    "* Let ${\\mathcal D}$ be some test with critical function $\\varphi$\n",
    "* ${\\mathbb P} \\left [ {\\mathcal D} = 1 \\right ] = \\displaystyle \\int \\varphi(x) f_X(x) \\, {\\mathrm d} x = {\\mathbb E} \\left [ \\varphi(X) \\right ]$\n",
    "* If $f_X = p_{\\theta}$, ${\\mathbb P} \\left [ {\\mathcal D} = 1 \\right ] = {\\mathbb E}_{\\theta} \\left [ \\varphi(X) \\right ] \\stackrel{\\text{def}}{=} \\displaystyle \\int \\varphi(x) p_{\\theta}(x) {\\mathrm d} x$\n",
    "* Lemma \\ref{lemma:criticalfunction} allows to confuse a randomized test ${\\mathcal D}$ with its critical function\n"
   ]
  },
  {
   "cell_type": "markdown",
   "metadata": {
    "slideshow": {
     "slide_type": "subslide"
    }
   },
   "source": [
    "\\begin{definition}[Power function]\\label{def:powerfun}\n",
    "$$\\nonumber$$\n",
    "\n",
    "The power function $\\beta_{\\varphi}: \\underbrace{{\\mathcal X}}_{\\text{parameter set}} \\to [0,1]$ of a critical function $\\varphi: {\\mathbb R}^d \\to [0,1]$ is defined for every $\\theta \\in {\\mathcal X}$ by: \n",
    "\n",
    "$$\\beta_{\\varphi}(\\theta) = {\\mathbb E}_{\\theta} \\left [ \\varphi(X) \\right ]\\nonumber$$\n",
    "$$\\nonumber$$\n",
    "\\end{definition}"
   ]
  },
  {
   "cell_type": "markdown",
   "metadata": {
    "slideshow": {
     "slide_type": "subslide"
    }
   },
   "source": [
    "### Size\n",
    "\n",
    "* $\\forall \\theta \\in {\\mathcal X}_0$, $\\beta_{\\varphi}(\\theta)$ is analogous to an error probability of the 1st kind (false alarm probability). \n",
    "\n",
    "* In practice (see the radar case, for instance), we want: \n",
    "\n",
    "$$\n",
    "\\sup_{\\theta \\in {\\mathcal X}_0} \\beta_{\\varphi}(\\theta) \\leqslant \\alpha\n",
    "\\nonumber\n",
    "$$"
   ]
  },
  {
   "cell_type": "markdown",
   "metadata": {
    "slideshow": {
     "slide_type": "subslide"
    }
   },
   "source": [
    "\\begin{definition}[Size]\\label{def:size}\n",
    "$$\\nonumber$$\n",
    "\n",
    "(i) Given a critical function $\\varphi$, the quantity\n",
    "\n",
    "$$\n",
    "\\alpha_{\\varphi} \\stackrel{\\text{def}}{=} \\sup_{\\theta \\in {\\mathcal X}_0} \\beta_{\\varphi}(\\theta)\n",
    "\\nonumber\n",
    "$$\n",
    "\n",
    "is called the size of $\\varphi$ for testing ${\\mathcal H}_0$ against ${\\mathcal H}_1$ when we observe any $X \\thicksim p_{\\theta}$ with $\\theta \\in {\\mathcal X}_0$. \n",
    "\n",
    "(ii) We define ${\\mathcal K}_{\\alpha}$ as the set of all critical functions $\\varphi$ with size less than or equal to $\\alpha$ for testing ${\\mathcal H}_0$ against ${\\mathcal H}_1$ when we observe any $X \\thicksim p_{\\theta}$ with $\\theta \\in {\\mathcal X}_0$.\n",
    "$$\\nonumber$$\n",
    "\\end{definition}"
   ]
  },
  {
   "cell_type": "markdown",
   "metadata": {
    "slideshow": {
     "slide_type": "subslide"
    }
   },
   "source": [
    "### Power\n",
    "\n",
    "* Given some critical function $\\varphi$ and $\\theta \\in {\\mathcal X}_1$, $\\beta_{\\varphi}(\\theta)$ is similar to a probability of correct detection \n",
    "\n",
    "* In practice, for each signal, we would like to obtain the largest possible value for $\\beta_{\\varphi}(\\theta)$\n",
    "\n",
    "For a given $\\theta \\in {\\mathcal X}_1$, $\\beta_{\\varphi}(\\theta)$ is called the power of decision ${\\mathcal D}$ with critical function $\\varphi$ "
   ]
  },
  {
   "cell_type": "markdown",
   "metadata": {
    "slideshow": {
     "slide_type": "subslide"
    }
   },
   "source": [
    "\\begin{definition}[Power]\\label{def:power}\n",
    "$$\\nonumber$$\n",
    "\n",
    "The power of a critical function $\\varphi$ to correctly accept ${\\mathcal H}_1$ when $X \\thicksim p_{\\theta}$ with $\\theta \\in {\\mathcal X}_1$ is defined as the value $\\beta_{\\varphi}(\\theta)$ of the power function at $\\theta$.\n",
    "$$\\nonumber$$\n",
    "\\end{definition}"
   ]
  },
  {
   "cell_type": "markdown",
   "metadata": {
    "slideshow": {
     "slide_type": "subslide"
    }
   },
   "source": [
    "### Uniformly Most Powerful (UMP) Tests\n",
    "\n",
    "<span style=\"font-size:90%\">\n",
    "\n",
    "Define the following pre-order:\n",
    "\n",
    "$$\\forall \\varphi, \\psi \\in {\\mathcal K}_\\alpha, \\quad \\varphi \\stackrel{\\text{def}}{\\succeq} \\psi \\, \\, \\, \\, \\text{if} \\, \\, \\, \\, \\forall \\theta \\in {\\mathcal X}_1, \\beta_{\\varphi}(\\theta) \\geqslant \\beta_\\psi(\\theta) \\nonumber$$\n",
    "\n",
    "\\begin{definition}[UMP test with level $\\alpha$] \n",
    "\n",
    "With the same notation as above, a randomized test ${\\mathcal D}^*$ with critical function $\\varphi^*$ is said to be a UMP test with level $\\alpha \\in (0,1)$ if $\\varphi^*$ is maximal in ${\\mathcal K}_\\alpha$: \n",
    "\n",
    "$$ \\text{(i)} \\, \\varphi^* \\in {\\mathcal K}_\\alpha \\, \\, \\, \\, \\text{and} \\, \\, \\, \\,  \\text{(ii)} \\, \\forall \\varphi \\in {\\mathcal K}_\\alpha, \\varphi^* \\succeq \\varphi \\nonumber$$\n",
    "$$\\nonumber$$\n",
    "\\end{definition}\n",
    "\n",
    "A maximal element does not always exist in a pre-order. Therefore, UMP tests do not always exist!\n",
    "\n",
    "</span>"
   ]
  },
  {
   "cell_type": "markdown",
   "metadata": {
    "slideshow": {
     "slide_type": "subslide"
    }
   },
   "source": [
    "## The Neyman-Pearson Lemma\n",
    "\n",
    "<span style=\"font-size:100%\">\n",
    "\n",
    "When hypotheses are __simple__, there always exists a UMP test.\n",
    "\n",
    "(i) ${\\mathcal X} = \\{\\theta_0,\\theta_1\\}$ with $\\theta_0 \\neq \\theta_1$, ${\\mathcal X}_0 = \\{\\theta_0\\}$ and ${\\mathcal X}_1 = \\{\\theta_1\\}$\n",
    "\n",
    "$\\scriptsize \\qquad \\text{For simplicity sake, we set $p_0 \\stackrel{\\text{def}}{=} p_{\\theta_0}$ and $p_1 \\stackrel{\\text{def}}{=} p_{\\theta_1}$}$\n",
    "\n",
    "(ii) ${\\mathcal H}_0: \\theta = \\theta_0$ (${\\mathcal H}_0: X \\thicksim p_0$) and ${\\mathcal H}_1: \\theta = \\theta_1$ (${\\mathcal H}_1: X \\thicksim p_1$)\n",
    "\n",
    "* $\\scriptsize \\text{A bit overkilling to speak of UMP tests in case of simple hypotheses.}$\n",
    "* $\\scriptsize \\text{We will merely speak of a $\\textbf{most powerful test}$ in this case.}$\n",
    "\n",
    "</span>"
   ]
  },
  {
   "cell_type": "markdown",
   "metadata": {
    "slideshow": {
     "slide_type": "subslide"
    }
   },
   "source": [
    "<span style=\"font-size:80%\">\n",
    "\n",
    "* Given $\\alpha \\in (0,1)$, ${\\mathcal K}_{\\alpha}$ is the set of all critical functions $\\varphi$ such that \n",
    "\n",
    "$$\\alpha_{\\varphi} = \\beta_{\\varphi}(\\theta_0) \\leqslant \\alpha \\nonumber $$\n",
    "\n",
    "* Given two critical functions $\\varphi$ and $\\psi$ in ${\\mathcal K}_{\\alpha}$:\n",
    "\n",
    "$$\\varphi \\succeq \\psi \\Leftrightarrow \\beta_{\\varphi}(\\theta_1) \\geqslant \\beta_\\psi(\\theta_1) \\nonumber$$\n",
    "\n",
    "\\begin{definition}[Most powerful test] \n",
    "\n",
    "A randomized test ${\\mathcal D}^*$ with critical function $\\varphi^*$ is __most powerful__ with __level__ $\\alpha \\in (0,1)$ to test ${\\mathcal H}_0: X \\thicksim p_0$ against ${\\mathcal H}_1: X \\thicksim p_1$ if:\n",
    "\n",
    "(i) $\\varphi^* \\in {\\mathcal K}_{\\alpha}$\n",
    "\n",
    "(ii) $\\forall \\varphi \\in {\\mathcal K}_{\\alpha}, \\beta_{\\varphi^*}(\\theta_1) \\geqslant \\beta_\\varphi(\\theta_1)$\n",
    "$$\\nonumber$$\n",
    "\\end{definition}\n",
    "\n",
    "</span>"
   ]
  },
  {
   "cell_type": "markdown",
   "metadata": {
    "slideshow": {
     "slide_type": "subslide"
    }
   },
   "source": [
    "<span style=\"font-size:80%\">\n",
    "\n",
    "\\begin{theorem}[The Neyman-Pearson Lemma]\\label{theo:NP}\n",
    "$$\\nonumber$$\n",
    "\n",
    "Consider the binary hypothesis testing problem\n",
    "$\n",
    "\\left \\{\n",
    "\\begin{array}{lll}\n",
    "{\\mathcal H}_0: X \\thicksim p_0 \\\\\n",
    "{\\mathcal H}_1: X \\thicksim p_1\n",
    "\\end{array}\n",
    "\\right.\n",
    "$\n",
    "\n",
    "(i) Given $\\alpha \\in (0,1)$, there exist $\\lambda \\in {\\mathbb R}$ and $\\gamma \\in [0,1]$ such that the randomized test with critical function\n",
    "\n",
    "$$\n",
    "\\varphi^*(x) = \n",
    "\\left \\{\n",
    "\\begin{array}{llll}\n",
    "1 & \\text{if $p_1(x) > \\lambda p_0(x)$} \\\\\n",
    "\\gamma & \\text{if $p_1(x) = \\lambda p_0(x)$} \\\\\n",
    "0 & \\text{if $p_1(x) < \\lambda p_0(x)$}\n",
    "\\end{array}\n",
    "\\right.\n",
    "\\nonumber\n",
    "$$\n",
    "\n",
    "is most powerful with size $\\alpha$ ($\\alpha_{\\varphi^*} = \\alpha$) for testing ${\\mathcal H}_0$ against ${\\mathcal H}_1$.\n",
    "\n",
    "(ii) The pair $(\\lambda,\\gamma)$ satisfies the equation $\\beta_{\\varphi^*}(\\theta_0) = \\alpha$, that is:\n",
    "\n",
    "$$\n",
    "{\\mathbb P} \\left [ p_1(X) > \\lambda p_0(X) \\right ] + \\gamma \\, {\\mathbb P} \\left [ p_1(X) = \\lambda p_0(X) \\right ] = \\alpha\n",
    "\\, \\, \\, \\text{with $X \\thicksim p_0$}\n",
    "\\nonumber\n",
    "$$\n",
    "$$\\nonumber$$\n",
    "\\end{theorem}\n",
    "\n",
    "Very often, ${\\mathbb P} \\left [ p_1(X) = \\lambda p_0(X) \\right ] = 0$. In this case, choose any $\\gamma \\in [0,1]$ and solve ${\\mathbb P} \\left [ p_1(X) > \\lambda p_0(X) \\right ] = \\alpha$ with $X \\thicksim p_0$\n",
    "</span>"
   ]
  },
  {
   "cell_type": "markdown",
   "metadata": {
    "slideshow": {
     "slide_type": "subslide"
    }
   },
   "source": [
    "<span style=\"font-size:80%\">\n",
    "Very often, we can write the Neyman-Pearson test above in the form:\n",
    "\n",
    "$$\n",
    "\\varphi^*(x) = \n",
    "\\left \\{\n",
    "\\begin{array}{llll}\n",
    "1 & \\text{if $\\underbrace{\\Lambda(x)}_{\\text{Likelihood ratio} } = \\frac{p_1(x)}{p_0(x)}> \\lambda$} \\\\\n",
    "\\gamma & \\text{if $\\Lambda(x) = \\lambda$} \\\\\n",
    "0 & \\text{if $\\lambda(x) < \\lambda$}\n",
    "\\end{array}\n",
    "\\right.\n",
    "\\nonumber\n",
    "$$\n",
    "\n",
    "</span>"
   ]
  },
  {
   "cell_type": "markdown",
   "metadata": {
    "slideshow": {
     "slide_type": "subslide"
    }
   },
   "source": [
    "\\begin{exercise}\n",
    "\n",
    "<span style=\"font-size:80%\">\n",
    "\n",
    "$\\|\\cdot\\|$ stands for the usual Euclidean norm in $\\mathbb{R}^N$. Let $X$ be an $N$-dimensional real random vector such that:\n",
    "\n",
    "$$\\begin{cases}\\mathcal{H}_0 : & X \\sim \\mathcal{N}(0,\\sigma^2\\mathrm{\\mathbf{I}}_N) \n",
    "\\\\ \\mathcal{H}_1 : & X \\sim \\mathcal{N}(A\\xi_0,\\sigma^2\\mathrm{\\mathbf{I}}_N)\\end{cases}\\nonumber$$\n",
    "\n",
    "where $\\sigma\\ne0$ and $\\xi_0\\in\\mathbb{R}^N$ are known and $\\mathrm{\\mathbf{I}}_N$ is $N\\times N$ identity matrix. We assume that $\\|\\xi_0\\| = 1$ and $A \\ne 0$.\n",
    "\n",
    "__Questions:__\n",
    "\n",
    "(1) Determine the Neyman-Pearson (NP) test with size $\\alpha\\in]0,1[$ when $A$ is known\n",
    "\n",
    "(2) Compute the power of this test \n",
    "\n",
    "(3) Verify these results by Monte-Carlo simulations.\n",
    "\n",
    "</span>\n",
    "\n",
    "\\end{exercise}"
   ]
  },
  {
   "cell_type": "markdown",
   "metadata": {
    "slideshow": {
     "slide_type": "subslide"
    }
   },
   "source": [
    "__Answers__\n",
    "\n",
    "<span style=\"font-size:90%\">\n",
    "\n",
    "$$\\forall x \\in {\\mathbb R}, Q(x) = \\int_x^\\infty \\frac{1}{\\sqrt{2 \\pi}} e^-x^2/2 {\\mathrm d} x\n",
    "\\nonumber$$\n",
    "\n",
    "__NP test:__\n",
    "* $\\text{If $A>0$ : $\\forall x \\in\\mathbb{R}^N, \\varphi_{NP}^{+}(x)=\\begin{cases}1&\\text{if \n",
    "}x^T\\xi_0>\\lambda_+\\\\0&\\text{otherwise}\\end{cases}$ with $\\lambda_+=\\sigma Q^{-1}(\\alpha)$}$\n",
    "$$\\nonumber$$ \n",
    "* $\\text{If $A<0$ : $\\forall x \\in\\mathbb{R}^N, \\varphi_{NP}^{-}(x)=\\begin{cases}1&\\text{if \n",
    "}x^T\\xi_0<\\lambda_-\\\\0&\\text{otherwise}\\end{cases}$ with $\\lambda_-=-\\sigma Q^{-1}(\\alpha)$}$\n",
    " \n",
    "__Power:__ $\\beta_{NP}=Q\\left(Q^{-1}(\\alpha)-\\frac{|A|}{\\sigma}\\right)$\n",
    "\n",
    "</span>"
   ]
  },
  {
   "cell_type": "code",
   "execution_count": 47,
   "metadata": {
    "slideshow": {
     "slide_type": "subslide"
    }
   },
   "outputs": [
    {
     "name": "stdout",
     "output_type": "stream",
     "text": [
      "Populating the interactive namespace from numpy and matplotlib\n"
     ]
    }
   ],
   "source": [
    "# Import\n",
    "%pylab notebook \n",
    "# the command above is a magic one: It imports numpy, figures (plot), random, and so forth\n",
    "import scipy.stats as st\n",
    "#from scipy.stats import bernoulli\n",
    "#from scipy.stats import norm\n",
    "Q = st.norm.sf\n",
    "Qinv = st.norm.isf"
   ]
  },
  {
   "cell_type": "code",
   "execution_count": 48,
   "metadata": {
    "slideshow": {
     "slide_type": "-"
    }
   },
   "outputs": [],
   "source": [
    "# A solution proposed by Guillaume Ansel\n",
    "C_POINTS = 1000000  # Number of tests\n",
    "C_A = 1\n",
    "C_ALPHA = 1e-2  # size\n",
    "C_DIM = 2  # Dimension\n",
    "V_XI_0 = 1/sqrt(C_DIM) * ones(C_DIM)\n",
    "C_SIGMA = 2\n",
    "# Threshold\n",
    "C_THRESHOLD = C_SIGMA * Qinv(C_ALPHA)"
   ]
  },
  {
   "cell_type": "code",
   "execution_count": 49,
   "metadata": {
    "slideshow": {
     "slide_type": "-"
    }
   },
   "outputs": [
    {
     "name": "stdout",
     "output_type": "stream",
     "text": [
      "Estimated size   : 0.010063\n",
      "Theoretical size : 0.01\n"
     ]
    }
   ],
   "source": [
    "m_y = C_SIGMA * randn(C_POINTS, C_DIM)\n",
    "\n",
    "# Decision under the null hypothesis\n",
    "v_d = sign(C_A) * m_y @ V_XI_0 > C_THRESHOLD  # @ : produit matriciel\n",
    "\n",
    "# Size\n",
    "d_pfa_mes = mean(v_d)\n",
    "print('Estimated size   : {}'.format(d_pfa_mes))\n",
    "print('Theoretical size : {}'.format(C_ALPHA))"
   ]
  },
  {
   "cell_type": "code",
   "execution_count": 53,
   "metadata": {
    "scrolled": true,
    "slideshow": {
     "slide_type": "-"
    }
   },
   "outputs": [
    {
     "name": "stdout",
     "output_type": "stream",
     "text": [
      "Estimated power   : 0.034241\n",
      "Theoretical Power : 0.03389893912284281\n"
     ]
    }
   ],
   "source": [
    "m_y = C_SIGMA * randn(C_POINTS, C_DIM) + C_A * V_XI_0\n",
    "# Decision under the alternative hypothesis\n",
    "v_d = sign(C_A) * m_y @ V_XI_0 > C_THRESHOLD  # @ : produit matriciel\n",
    "# Estimate the power\n",
    "d_power_mes = mean(v_d)\n",
    "print('Estimated power   : {}'.format(d_power_mes))\n",
    "# Calculate the theoretical power\n",
    "d_power_th = Q(Qinv(C_ALPHA) - abs(C_A)/C_SIGMA)\n",
    "print('Theoretical Power : {}'.format(d_power_th))"
   ]
  },
  {
   "cell_type": "markdown",
   "metadata": {
    "slideshow": {
     "slide_type": "slide"
    }
   },
   "source": [
    "# Discussion"
   ]
  },
  {
   "cell_type": "markdown",
   "metadata": {
    "slideshow": {
     "slide_type": "subslide"
    }
   },
   "source": [
    "* To launch it:\n",
    "    * The Bayesian case: $0 < {\\mathbb P} \\left [ \\varepsilon = 0 \\right ] < 1$ is known \n",
    "    * The non-Bayesian case: ${\\mathbb P} \\left [ \\varepsilon = 0 \\right ] \\in \\{0,1\\}$ \n",
    "    * Isn't there a third case?"
   ]
  },
  {
   "cell_type": "markdown",
   "metadata": {
    "slideshow": {
     "slide_type": "subslide"
    }
   },
   "source": [
    "* The fundamental detection problem:\n",
    "    * We observe $X(\\omega) = \\Theta(\\omega) + W(\\omega)$ for some $\\omega \\in \\Omega$ where:\n",
    "        * $\\Theta$ is some signal \n",
    "        * $W \\thicksim \\Ncal(0,C)$ is noise\n",
    "        * $\\Theta$ and $W$ are independent\n",
    "    * We want to know whether $\\Theta(\\omega)$ is $0$ or not\n",
    "    * With the material presented above, can we solve the problem?"
   ]
  },
  {
   "cell_type": "markdown",
   "metadata": {
    "slideshow": {
     "slide_type": "subslide"
    }
   },
   "source": [
    "* If $\\Theta$ is deterministic, Wald (1943) introduced the notion of tests with Uniform Best Constant Power (UBCP) to solve the detection problem when:\n",
    "\n",
    "$$\n",
    "\\left \\{\n",
    "\\begin{array}{lll}\n",
    "\\text{Observation:} \\, \n",
    "X \\thicksim \\Ncal(\\theta,C) \n",
    "\\\\\n",
    "\\left \\{\n",
    "\\begin{array}{lll}\n",
    "\\Hcal_0: \\theta = 0 \\\\\n",
    "\\Hcal_1: \\theta \\neq 0\n",
    "\\end{array}\n",
    "\\right.\n",
    "\\end{array}\n",
    "\\right.\n",
    "\\nonumber\n",
    "$$"
   ]
  },
  {
   "cell_type": "markdown",
   "metadata": {
    "slideshow": {
     "slide_type": "subslide"
    }
   },
   "source": [
    "* We introduced the notion of test with Maximal Constant Conditional Power ($\\text{$2013$}$) to test whether $\\nu_C(\\Theta-\\theta_0) \\leqslant \\tau$ or not when:\n",
    "    * we observe $X = \\Theta + W$ with $W \\thicksim \\Ncal(0,C)$ independent of $\\Theta$\n",
    "    * $\\theta_0 \\in \\Rset^d$ plays the role of a model\n",
    "    * $\\nu_C$ is the Mahalanobis norm defined by: $\\forall x \\in \\Rset^d, \\nu_C(x) = x^T C^{-1} x$\n",
    "    * $\\tau \\in [0,\\infty)$\n",
    "* The detection problem is the particular case when $\\theta_0$ and $\\tau = 0$"
   ]
  },
  {
   "cell_type": "markdown",
   "metadata": {
    "slideshow": {
     "slide_type": "slide"
    }
   },
   "source": [
    "# Conclusions"
   ]
  },
  {
   "cell_type": "markdown",
   "metadata": {
    "slideshow": {
     "slide_type": "subslide"
    }
   },
   "source": [
    "* We have presented:\n",
    "\n",
    "    * a rather nice theoretical framework ...\n",
    "\n",
    "    * able to solve a rather small number of problems\n",
    "\n",
    "* Still much room for theoretical frameworks to address problems of theoretical and practical interest, such as the fundamental detection problem, composite hypotheses, sequential testing, ..."
   ]
  },
  {
   "cell_type": "markdown",
   "metadata": {
    "slideshow": {
     "slide_type": "slide"
    }
   },
   "source": [
    "# Some references\n",
    "\n",
    "S. M. Kay, Fundamentals of Statistical Signal Processing, Volume II, Detection Theory. Prentice Hall, 2009\n",
    "\n",
    "E. L. Lehmann and J. P. Romano, Testing Statistical Hypotheses, 3rd edition. Springer, 2005\n",
    "\n",
    "H. V. Trees, Detection, Estimation, and Modulation Theory - Part l - Detection, Estimation, and Linear Modulation Theory. John Wiley & Sons, 2001\n",
    "\n",
    "H. V. Poor, An Introduction to Signal Detection and Estimation. 2nd Edition. Springer-Verlag, New York, 1994\n",
    "\n",
    "L. L. Scharf, Statistical Signal Processing: Detection, Estimation, and Time Series Analysis, Addison-Wesley, 1991\n",
    "\n",
    "L. Devroye, L. Györfi, G. Lugosi, A probabilistic theory of pattern recognition, 1996\n",
    "\n"
   ]
  },
  {
   "cell_type": "code",
   "execution_count": null,
   "metadata": {},
   "outputs": [],
   "source": []
  }
 ],
 "metadata": {
  "author": "ny",
  "celltoolbar": "Diaporama",
  "jupytext": {
   "encoding": "# -*- coding: utf-8 -*-",
   "notebook_metadata_filter": "kernelspec,jupytext,rise,cite2c",
   "text_representation": {
    "extension": ".py",
    "format_name": "percent",
    "format_version": "1.2",
    "jupytext_version": "1.2.3"
   }
  },
  "kernelspec": {
   "display_name": "Python 3",
   "language": "python",
   "name": "python3"
  },
  "language_info": {
   "codemirror_mode": {
    "name": "ipython",
    "version": 3
   },
   "file_extension": ".py",
   "mimetype": "text/x-python",
   "name": "python",
   "nbconvert_exporter": "python",
   "pygments_lexer": "ipython3",
   "version": "3.6.8"
  },
  "latex_envs": {
   "LaTeX_envs_menu_present": true,
   "autoclose": true,
   "autocomplete": true,
   "bibliofile": "biblio.bib",
   "cite_by": "apalike",
   "current_citInitial": 1,
   "eqLabelWithNumbers": true,
   "eqNumInitial": 1,
   "hotkeys": {
    "equation": "Ctrl-E",
    "itemize": "Ctrl-I"
   },
   "labels_anchors": false,
   "latex_user_defs": false,
   "report_style_numbering": false,
   "user_envs_cfg": false
  },
  "toc": {
   "base_numbering": 1,
   "nav_menu": {},
   "number_sections": true,
   "sideBar": false,
   "skip_h1_title": false,
   "title_cell": "Table of Contents",
   "title_sidebar": "Contents",
   "toc_cell": false,
   "toc_position": {
    "height": "431.65px",
    "left": "1575.53px",
    "top": "0px",
    "width": "326.267px"
   },
   "toc_section_display": false,
   "toc_window_display": true
  }
 },
 "nbformat": 4,
 "nbformat_minor": 2
}
