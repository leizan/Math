{
 "cells": [
  {
   "cell_type": "code",
   "execution_count": 1,
   "metadata": {},
   "outputs": [],
   "source": [
    "\n",
    "%matplotlib inline\n",
    "\n",
    "import numpy as np\n",
    "import scipy.stats as st\n",
    "import matplotlib.pyplot as plt\n",
    "\n",
    "Q = st.norm.sf\n",
    "Qchi2 = st.chi2.sf"
   ]
  },
  {
   "cell_type": "markdown",
   "metadata": {},
   "source": [
    "# F4B101 (TP1) : Détection quadratique d'un signal aléatoire gaussien dans un bruit blanc gaussien\n",
    "Guillaume Ansel (guillaume.ansel@imt-atlantique.fr)\n",
    "\n",
    "10 octobre 2018"
   ]
  },
  {
   "cell_type": "markdown",
   "metadata": {},
   "source": [
    "Soit un vecteur aléatoire $X$ de dimension $N$ obéissant aux hypothèses suivantes :\n",
    "$$\\begin{cases}\\mathcal{H}_0 : & X = B \\\\ \\mathcal{H}_1 : & X = S + B \\end{cases}$$\n",
    "où $S=(S_1,...,S_N)^T$ est un vecteur aléatoire gaussien de densité :\n",
    "$$\\forall s=(s_1,...,s_N)^T, f_S(s) = \\frac{1}{(2\\pi)^{N/2}|V_S|^{1/2}}\\exp\\left(-\\frac{s^T \n",
    "V_S^{-1}s}{2}\\right) \\text{ avec } V_S=\\mathbb{E}[SS^T]$$\n",
    "et où $B = (B_1, ..., B_N)^T$ est un vecteur aléatoire gaussien de densité :\n",
    "$$\\forall b=(b_1,...,b_N)^T, f_B(b) = \\frac{1}{(2\\pi)^{N/2}|V_B|^{1/2}}\\exp\\left(-\\frac{b^T \n",
    "V_B^{-1}b}{2}\\right) \\text{ avec } V_B=\\mathbb{E}[BB^T]$$\n",
    "On suppose les deux hypothèses équiprobables et l'indépendance de $S$ et $B$."
   ]
  },
  {
   "cell_type": "markdown",
   "metadata": {},
   "source": [
    "## 1)\n",
    "On suppose $N=1$. On note $\\sigma_S^2$ et $\\sigma_B^2$ les variances respectives de $S$ et $B$.  \n",
    "Calculer le test MPE (Minimum de Probabilité d'Erreur) et exprimer la probabilité d'erreur en fonction de :\n",
    "$$Q(x) = \\frac{1}{\\sqrt{2\\pi}} \\int_x^\\infty \\exp\\left(-\\frac{t^2}{2}\\right)\\mathrm{d}t$$\n",
    "Comparer les taux d'erreur obtenus par simulation à la probabilité d'erreur théorique que vous avez calculée."
   ]
  },
  {
   "cell_type": "markdown",
   "metadata": {},
   "source": [
    "Test MPE : $$\\forall x \\in\\mathbb{R},\\mathcal{T}_{MPE}(x) =\\begin{cases}\\mathcal{H_1} \n",
    "& \\text{si } x^2>\\lambda^2\\\\\\mathcal{H_0} & \\text{sinon}\\end{cases} \\text{ avec } \\lambda^2=\\sigma_B^2\\frac{\\rho+1}{\\rho}\\ln(\\rho+1)$$\n",
    "\n",
    "Probabilité d'erreur de ce test : $$P_E = \\frac{1}{2} + Q\\left(\\sqrt{\\frac{\\rho+1}{\\rho}\\ln(\\rho+1)}\\right) - Q\\left(\\sqrt{\\frac{\\ln(\\rho+1)}{\\rho}}\\right)$$"
   ]
  },
  {
   "cell_type": "code",
   "execution_count": 2,
   "metadata": {},
   "outputs": [
    {
     "name": "stdout",
     "output_type": "stream",
     "text": [
      "Probabilité d'erreur mesurée : 0.296642\n",
      "Probabilité d'erreur théorique : 0.29656828487604725\n"
     ]
    }
   ],
   "source": [
    "C_POINTS = 1000000  # Nombre de points pour la simulation\n",
    "C_VAR_B = 1  # Variance B\n",
    "C_VAR_S = 5  # Variance S\n",
    "\n",
    "C_P_H0 = 0.5  # Probabilité de l'hypothèse H0 : X = B\n",
    "\n",
    "C_RHO = C_VAR_S / C_VAR_B\n",
    "\n",
    "# Seuil de décision (lambda^2)\n",
    "C_THRESHOLD = C_VAR_B * (C_RHO + 1) / C_RHO * np.log(C_RHO + 1)\n",
    "\n",
    "# Génération des hypothèses pour chaque point\n",
    "# H0 est représentée par 0, H1 est représentée par 1\n",
    "v_h = np.random.rand(1, C_POINTS) < C_P_H0\n",
    "# Génération des observations\n",
    "v_b = np.sqrt(C_VAR_B) * np.random.randn(1, C_POINTS)\n",
    "v_s = np.sqrt(C_VAR_S) * np.random.randn(1, C_POINTS)\n",
    "v_x = v_b + v_h * v_s\n",
    "# Pour H1 : h = 0 -> x = b\n",
    "# Pour H2 : h = 1 -> x = b + s\n",
    "\n",
    "# Décisions\n",
    "v_d = (v_x ** 2) > C_THRESHOLD\n",
    "\n",
    "# Estimation probabilité d'erreur\n",
    "d_pe_mes = np.mean(v_d != v_h)\n",
    "print('Probabilité d\\'erreur mesurée : {}'.format(d_pe_mes))\n",
    "\n",
    "# Probabilité d'erreur théorique\n",
    "d_pe_th = 1/2 + Q(np.sqrt((C_RHO+1)/C_RHO*np.log(C_RHO+1))) - Q(np.sqrt(np.log(C_RHO+1)/C_RHO));\n",
    "print('Probabilité d\\'erreur théorique : {}'.format(d_pe_th))"
   ]
  },
  {
   "cell_type": "markdown",
   "metadata": {},
   "source": [
    "Tracé de $P_E$ en fonction de $\\rho$ : courbe théorique et mesure expérimentale."
   ]
  },
  {
   "cell_type": "code",
   "execution_count": 3,
   "metadata": {},
   "outputs": [
    {
     "data": {
      "image/png": "[encoded data removed]",
      "text/plain": [
       "<Figure size 432x288 with 1 Axes>"
      ]
     },
     "metadata": {
      "needs_background": "light"
     },
     "output_type": "display_data"
    }
   ],
   "source": [
    "C_POINTS = 10000  # Nombre de points pour chaque simulation\n",
    "C_VAR_B = 1  # Variance B\n",
    "\n",
    "V_RHO_DB = np.arange(-10,51)\n",
    "V_RHO = 10 ** (V_RHO_DB/10)\n",
    "\n",
    "V_VAR_S = V_RHO * C_VAR_B  # Variance S\n",
    "\n",
    "C_P_H0 = 0.5  # Probabilité de l'hypothèse H0 : X = B\n",
    "\n",
    "v_pe_mes = np.zeros_like(V_VAR_S)\n",
    "\n",
    "for j in range(len(V_VAR_S)):\n",
    "    d_var_s = V_VAR_S[j];\n",
    "    d_rho = V_RHO[j];\n",
    "    \n",
    "    # Seuil de décision (lambda^2)\n",
    "    d_thres = C_VAR_B * (d_rho + 1) / d_rho * np.log(d_rho + 1)\n",
    "    \n",
    "    v_h = np.random.rand(1, C_POINTS) < C_P_H0\n",
    "    \n",
    "    v_b = np.sqrt(C_VAR_B) * np.random.randn(1, C_POINTS)\n",
    "    v_s = np.sqrt(d_var_s) * np.random.randn(1, C_POINTS)\n",
    "    v_x = v_b + v_h * v_s\n",
    "    \n",
    "    v_d = (v_x ** 2) > d_thres\n",
    "    \n",
    "    v_pe_mes[j] = np.mean(v_d != v_h)\n",
    "\n",
    "# Probabilité d'erreur théorique\n",
    "v_pe_th = 1/2 + Q(np.sqrt((V_RHO+1)/V_RHO*np.log(V_RHO+1))) - Q(np.sqrt(np.log(V_RHO+1)/V_RHO))\n",
    "\n",
    "h_fig, h_ax = plt.subplots()\n",
    "h_ax.semilogy(V_RHO_DB, v_pe_th, label='$P_E$ théorique')\n",
    "h_ax.semilogy(V_RHO_DB, v_pe_mes, '+', label='$P_E$ mesurée')\n",
    "h_ax.set_xlabel('$\\\\rho$ (dB)')\n",
    "h_ax.set_ylabel('$P_E$')\n",
    "h_ax.set_title('Test MPE : Comparaison probabilité d\\'erreur théorique et simulée')\n",
    "h_ax.legend()\n",
    "h_ax.grid(which='both')"
   ]
  },
  {
   "cell_type": "markdown",
   "metadata": {},
   "source": [
    "## 2)\n",
    "On suppose que $V_B =\\sigma_B^2\\mathrm{I}_N$ et $V_S =\\sigma_S^2\\mathrm{I}_N$ où $\\mathrm{I}_N$ est la matrice identité de taille $N$.  \n",
    "Calculer le test MPE et sa probabilité d’erreur en fonction de :\n",
    "$$Q_{\\chi_N^2}(x) = \\int_x^\\infty f_{\\chi_N^2}(t) \\mathrm{d}t$$\n",
    "où $f_{\\chi_N^2}$ est la densité de probabilité de la loi du $\\chi_N^2$ centrée à N degrés de liberté :\n",
    "$$f_{\\chi_N^2}(x) =\\begin{cases}\\frac{1}{2^{N/2}\\Gamma(N/2)}x^{N/2-1}e^{-x/2} \n",
    "& \\text{ si } x\\ge0 \\\\0 & \\text{ sinon}\\end{cases}$$\n",
    "Comparer les taux d’erreur obtenus par simulation à la probabilité d’erreur théorique que vous avez calculée."
   ]
  },
  {
   "cell_type": "markdown",
   "metadata": {},
   "source": [
    "Test MPE :\n",
    "$$\\forall x \\in\\mathbb{R}^N,\\mathcal{T}_{MPE}(x) =\\begin{cases}\\mathcal{H_1} \n",
    "& \\text{si } \\|x\\|^2>\\mu^2\\\\\\mathcal{H_0} & \\text{sinon}\\end{cases} \\text{ avec } \\mu^2 \n",
    "= N\\lambda^2=N\\sigma_B^2\\frac{\\rho+1}{\\rho}\\ln(\\rho+1)$$\n",
    "\n",
    "Probabilité d'erreur de ce test :\n",
    "$$P_E = \\frac{1}{2}\\left(1 + Q_{\\chi_N^2}\\left(N\\frac{\\rho+1}{\\rho}\\ln(\\rho+1)\\right) - Q_{\\chi_N^2}\\left(N\\frac{\\ln(\\rho+1)}{\\rho}\\right)\\right)$$"
   ]
  },
  {
   "cell_type": "code",
   "execution_count": 5,
   "metadata": {},
   "outputs": [
    {
     "name": "stdout",
     "output_type": "stream",
     "text": [
      "Probabilité d'erreur mesurée : 0.046791\n",
      "Probabilité d'erreur théorique : 0.0468745772964434\n"
     ]
    }
   ],
   "source": [
    "C_DIM = 2  # Nombre de dimensions\n",
    "C_POINTS = 1000000  # Nombre de points pour la simulation\n",
    "C_VAR_B = 1  # Variance B\n",
    "C_VAR_S = 50  # Variance S\n",
    "\n",
    "C_P_H0 = 0.5  # Probabilité de l'hypothèse H0 : X = B\n",
    "\n",
    "C_RHO = C_VAR_S / C_VAR_B\n",
    "\n",
    "# Seuil de décision (mu^2)\n",
    "C_THRESHOLD = C_DIM * C_VAR_B * (C_RHO + 1) / C_RHO * np.log(C_RHO + 1)\n",
    "\n",
    "# Génération des hypothèses pour chaque point\n",
    "# H0 est représentée par 0, H1 est représentée par 1\n",
    "v_h = np.random.rand(1, C_POINTS) < C_P_H0\n",
    "# Génération des observations (1 colonne = 1 observation)\n",
    "m_b = np.sqrt(C_VAR_B) * np.random.randn(C_DIM, C_POINTS)\n",
    "m_s = np.sqrt(C_VAR_S) * np.random.randn(C_DIM, C_POINTS)\n",
    "m_x = m_b + v_h * m_s\n",
    "\n",
    "# Décisions\n",
    "v_d = np.sum(m_x ** 2, axis=0) > C_THRESHOLD\n",
    "\n",
    "# Estimation probabilité d'erreur\n",
    "d_pe_mes = np.mean(v_d != v_h)\n",
    "print('Probabilité d\\'erreur mesurée : {}'.format(d_pe_mes))\n",
    "\n",
    "# Probabilité d'erreur théorique\n",
    "d_pe_th = 1/2*(1 + Qchi2(C_DIM * (C_RHO+1)/C_RHO * np.log(C_RHO+1), C_DIM) - Qchi2(C_DIM*np.log(C_RHO + 1)/C_RHO,C_DIM))\n",
    "print('Probabilité d\\'erreur théorique : {}'.format(d_pe_th))"
   ]
  },
  {
   "cell_type": "markdown",
   "metadata": {},
   "source": [
    "## 3)\n",
    "En utilisant le lemme d'inversion matriciel :\n",
    "$$(A+BCD)^{-1} = A^{-1} - A^{-1}B(DA^{-1}B+C^{-1})^{-1}DA^{-1}$$\n",
    "montrer que le détecteur MPE est obtenu en corrélant $X$ avec $V_S(V_S+\\sigma^2\\mathrm{\\mathbf{I}}_N)^{-1}x$ et en comparant le résultat de la corrélation à un seuil qu'on déterminera.  \n",
    "Vérifier le résultat par simulation."
   ]
  },
  {
   "cell_type": "markdown",
   "metadata": {},
   "source": [
    "Test MPE :\n",
    "$$\\forall x \\in\\mathbb{R}^N,\\mathcal{T}_{MPE}(x) =\\begin{cases}\\mathcal{H_1} \n",
    "& \\text{si } x^T(V_S+\\sigma_B^2\\mathrm{\\mathbf{I}}_N)^{-1}V_Sx > \\tau'\\\\\\mathcal{H_0} \n",
    "& \\text{sinon}\\end{cases} \\text{ avec } \\tau'=\\sigma_B^2\\ln\\frac{\\det(V_c+\\sigma_B^2\\mathrm{\\mathbf{i}}_N)}{{\\sigma_B^2}^N}$$"
   ]
  },
  {
   "cell_type": "code",
   "execution_count": 5,
   "metadata": {},
   "outputs": [
    {
     "name": "stdout",
     "output_type": "stream",
     "text": [
      "Probabilité d'erreur mesurée : 0.208728\n",
      "Probabilité d'erreur théorique : 0.20882203384517534\n"
     ]
    }
   ],
   "source": [
    "C_DIM = 2  # Nombre de dimensions\n",
    "C_POINTS = 1000000  # Nombre de points pour la simulation\n",
    "C_VAR_B = 1  # Variance B\n",
    "M_COV_B = C_VAR_B * np.eye(C_DIM)  # Matrice de covariance de B\n",
    "C_VAR_S = 5  # Variance S\n",
    "M_COV_S = C_VAR_S * np.eye(C_DIM)  # Matrice de covariance de S\n",
    "\n",
    "C_P_H0 = 0.5  # Probabilité de l'hypothèse H0 : X = B\n",
    "\n",
    "C_RHO = C_VAR_S / C_VAR_B\n",
    "\n",
    "# Seuil de décision (mu^2)\n",
    "C_THRESHOLD = C_VAR_B * np.log(np.linalg.det(M_COV_S + M_COV_B)/C_VAR_B ** C_DIM)\n",
    "\n",
    "# Génération des hypothèses pour chaque point\n",
    "# H0 est représentée par 0, H1 est représentée par 1\n",
    "v_h = np.random.rand(1, C_POINTS) < C_P_H0\n",
    "# Génération des observations (1 colonne = 1 observation)\n",
    "m_b = np.sqrt(C_VAR_B) * np.random.randn(C_DIM, C_POINTS)\n",
    "m_s = np.sqrt(C_VAR_S) * np.random.randn(C_DIM, C_POINTS)\n",
    "m_x = m_b + v_h * m_s\n",
    "\n",
    "# Décisions\n",
    "v_d = np.sum(m_x * (np.linalg.inv(M_COV_S + M_COV_B) @ M_COV_S @ m_x),axis=0) > C_THRESHOLD\n",
    "\n",
    "# Estimation probabilité d'erreur\n",
    "d_pe_mes = np.mean(v_d != v_h)\n",
    "print('Probabilité d\\'erreur mesurée : {}'.format(d_pe_mes))\n",
    "\n",
    "# Probabilité d'erreur théorique\n",
    "d_pe_th = 1/2*(1 + Qchi2(C_DIM * (C_RHO+1)/C_RHO * np.log(C_RHO+1), C_DIM) - Qchi2(C_DIM*np.log(C_RHO + 1)/C_RHO,C_DIM))\n",
    "print('Probabilité d\\'erreur théorique : {}'.format(d_pe_th))"
   ]
  },
  {
   "cell_type": "code",
   "execution_count": null,
   "metadata": {},
   "outputs": [],
   "source": []
  }
 ],
 "metadata": {
  "kernelspec": {
   "display_name": "Python 3",
   "language": "python",
   "name": "python3"
  },
  "language_info": {
   "codemirror_mode": {
    "name": "ipython",
    "version": 3
   },
   "file_extension": ".py",
   "mimetype": "text/x-python",
   "name": "python",
   "nbconvert_exporter": "python",
   "pygments_lexer": "ipython3",
   "version": "3.6.9"
  },
  "latex_envs": {
   "LaTeX_envs_menu_present": true,
   "autoclose": false,
   "autocomplete": false,
   "bibliofile": "biblio.bib",
   "cite_by": "apalike",
   "current_citInitial": 1,
   "eqLabelWithNumbers": true,
   "eqNumInitial": 1,
   "hotkeys": {
    "equation": "Ctrl-E",
    "itemize": "Ctrl-I"
   },
   "labels_anchors": false,
   "latex_user_defs": false,
   "report_style_numbering": false,
   "user_envs_cfg": false
  },
  "toc": {
   "base_numbering": 1,
   "nav_menu": {},
   "number_sections": true,
   "sideBar": true,
   "skip_h1_title": false,
   "title_cell": "Table of Contents",
   "title_sidebar": "Contents",
   "toc_cell": false,
   "toc_position": {},
   "toc_section_display": true,
   "toc_window_display": false
  }
 },
 "nbformat": 4,
 "nbformat_minor": 2
}
