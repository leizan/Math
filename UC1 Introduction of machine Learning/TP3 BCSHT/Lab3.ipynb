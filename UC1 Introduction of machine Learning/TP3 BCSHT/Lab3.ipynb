{
 "cells": [
  {
   "cell_type": "markdown",
   "metadata": {},
   "source": [
    "# Part 1 "
   ]
  },
  {
   "cell_type": "code",
   "execution_count": 14,
   "metadata": {},
   "outputs": [
    {
     "name": "stdout",
     "output_type": "stream",
     "text": [
      "Populating the interactive namespace from numpy and matplotlib\n"
     ]
    }
   ],
   "source": [
    "%pylab notebook \n",
    "# the command above is a magic one: It imports numpy, figures (plot), random, and so forth\n",
    "import scipy.stats as st\n",
    "Qchi2 = st.chi2.sf"
   ]
  },
  {
   "cell_type": "code",
   "execution_count": 17,
   "metadata": {},
   "outputs": [
    {
     "name": "stdout",
     "output_type": "stream",
     "text": [
      "Error Rate           : 0.0286\n",
      "Probability or error : 0.02727843275891395\n"
     ]
    }
   ],
   "source": [
    "NbTests = 10000; sigma_S = 10; sigma_W = 1; \n",
    "p = 0.5\n",
    "rho = sigma_S**2 / sigma_W**2\n",
    "d = 2\n",
    "# threshold\n",
    "threshold = sigma_W**2 * (1/rho+ 1) * np.log(rho + 1)*d\n",
    "epsilon = st.bernoulli.rvs(p,size = NbTests)  # Generate Epsilon\n",
    "W = sigma_W*randn(NbTests,d) # Generate noise\n",
    "S = sigma_S*randn(NbTests,d) # Generate signal\n",
    "# Generate observations\n",
    "X = np.zeros((NbTests,2))\n",
    "for i in range(NbTests): X[i] = epsilon[i]*(S[i] + W[i]) + (1 - epsilon[i])*W[i]\n",
    "Decision = zeros(NbTests)\n",
    "for i in range(NbTests):\n",
    "    if np.linalg.norm(X[i])**2 > threshold:\n",
    "        Decision[i] = 1\n",
    "# Error rates and probability of error\n",
    "ErrorRate = mean(Decision != epsilon)\n",
    "Pe = 1/2 + 1/2*Qchi2(threshold/(sigma_W**2),2) - 1/2*Qchi2(threshold/(sigma_W**2 + sigma_S**2),2)\n",
    "print('Error Rate           : {}'.format(ErrorRate))\n",
    "print('Probability or error : {}'.format(Pe))"
   ]
  },
  {
   "cell_type": "markdown",
   "metadata": {},
   "source": [
    "# Part 2"
   ]
  },
  {
   "cell_type": "code",
   "execution_count": 38,
   "metadata": {},
   "outputs": [
    {
     "name": "stdout",
     "output_type": "stream",
     "text": [
      "Populating the interactive namespace from numpy and matplotlib\n"
     ]
    }
   ],
   "source": [
    "# Import\n",
    "%pylab notebook \n",
    "# the command above is a magic one: It imports numpy, figures (plot), random, and so forth\n",
    "import scipy.stats as st\n",
    "#from scipy.stats import bernoulli\n",
    "#from scipy.stats import norm\n",
    "Q = st.norm.sf\n",
    "Qchi2inv = st.chi2.isf"
   ]
  },
  {
   "cell_type": "code",
   "execution_count": 39,
   "metadata": {},
   "outputs": [],
   "source": [
    "# A solution proposed by Guillaume Ansel\n",
    "C_POINTS = 1000000  # Number of tests\n",
    "C_ALPHA = 1e-2  # size\n",
    "C_DIM = 2  # Dimension\n",
    "V_XI_0 = 1/sqrt(C_DIM) * ones(C_DIM)\n",
    "C_SIGMA = 2\n",
    "# Threshold\n",
    "C_THRESHOLD = (C_SIGMA**2) * Qchi2inv(C_ALPHA,1)"
   ]
  },
  {
   "cell_type": "markdown",
   "metadata": {},
   "source": [
    "## A is unknown"
   ]
  },
  {
   "cell_type": "code",
   "execution_count": 40,
   "metadata": {},
   "outputs": [
    {
     "name": "stdout",
     "output_type": "stream",
     "text": [
      "Estimated size   : 0.009934\n",
      "Theoretical size : 0.01\n"
     ]
    }
   ],
   "source": [
    "m_y = C_SIGMA * randn(C_POINTS, C_DIM)\n",
    "\n",
    "# Decision under the null hypothesis\n",
    "v_d =( m_y @ V_XI_0 )**2> C_THRESHOLD  # @ : produit matriciel\n",
    "\n",
    "# Size\n",
    "d_pfa_mes = mean(v_d)\n",
    "print('Estimated size   : {}'.format(d_pfa_mes))\n",
    "print('Theoretical size : {}'.format(C_ALPHA))"
   ]
  },
  {
   "cell_type": "code",
   "execution_count": 44,
   "metadata": {},
   "outputs": [
    {
     "name": "stdout",
     "output_type": "stream",
     "text": [
      "Estimated power   : 0.020279\n",
      "Theoretical Power : 0.020052443233421813\n"
     ]
    }
   ],
   "source": [
    "C_A = 1\n",
    "m_y = C_SIGMA * randn(C_POINTS, C_DIM) + C_A * V_XI_0\n",
    "A_chapeau = np.mean(m_y @ V_XI_0)\n",
    "# Decision under the alternative hypothesis\n",
    "v_d = (m_y @ V_XI_0)**2 > C_THRESHOLD  # @ : produit matriciel\n",
    "# Estimate the power\n",
    "d_power_mes = mean(v_d)\n",
    "print('Estimated power   : {}'.format(d_power_mes))\n",
    "# Calculate the theoretical power\n",
    "d_power_th = 1 + Q((sqrt(C_THRESHOLD)-A_chapeau)/C_SIGMA) -  Q((-sqrt(C_THRESHOLD)-A_chapeau)/C_SIGMA) \n",
    "print('Theoretical Power : {}'.format(d_power_th))"
   ]
  },
  {
   "cell_type": "markdown",
   "metadata": {},
   "source": [
    "## A is known"
   ]
  },
  {
   "cell_type": "code",
   "execution_count": 45,
   "metadata": {},
   "outputs": [
    {
     "name": "stdout",
     "output_type": "stream",
     "text": [
      "Populating the interactive namespace from numpy and matplotlib\n"
     ]
    }
   ],
   "source": [
    "# Import\n",
    "%pylab notebook \n",
    "# the command above is a magic one: It imports numpy, figures (plot), random, and so forth\n",
    "import scipy.stats as st\n",
    "#from scipy.stats import bernoulli\n",
    "#from scipy.stats import norm\n",
    "Q = st.norm.sf\n",
    "Qinv = st.norm.isf"
   ]
  },
  {
   "cell_type": "code",
   "execution_count": 46,
   "metadata": {},
   "outputs": [],
   "source": [
    "# A solution proposed by Guillaume Ansel\n",
    "C_POINTS = 1000000  # Number of tests\n",
    "C_A = 1\n",
    "C_ALPHA = 1e-2  # size\n",
    "C_DIM = 2  # Dimension\n",
    "V_XI_0 = 1/sqrt(C_DIM) * ones(C_DIM)\n",
    "C_SIGMA = 2\n",
    "# Threshold\n",
    "C_THRESHOLD = C_SIGMA * Qinv(C_ALPHA)"
   ]
  },
  {
   "cell_type": "code",
   "execution_count": 47,
   "metadata": {},
   "outputs": [
    {
     "name": "stdout",
     "output_type": "stream",
     "text": [
      "Estimated size   : 0.009902\n",
      "Theoretical size : 0.01\n"
     ]
    }
   ],
   "source": [
    "m_y = C_SIGMA * randn(C_POINTS, C_DIM)\n",
    "\n",
    "# Decision under the null hypothesis\n",
    "v_d = sign(C_A) * m_y @ V_XI_0 > C_THRESHOLD  # @ : produit matriciel\n",
    "\n",
    "# Size\n",
    "d_pfa_mes = mean(v_d)\n",
    "print('Estimated size   : {}'.format(d_pfa_mes))\n",
    "print('Theoretical size : {}'.format(C_ALPHA))"
   ]
  },
  {
   "cell_type": "code",
   "execution_count": 48,
   "metadata": {},
   "outputs": [
    {
     "name": "stdout",
     "output_type": "stream",
     "text": [
      "Estimated power   : 0.033659\n",
      "Theoretical Power : 0.03389893912284281\n"
     ]
    }
   ],
   "source": [
    "m_y = C_SIGMA * randn(C_POINTS, C_DIM) + C_A * V_XI_0\n",
    "# Decision under the alternative hypothesis\n",
    "v_d = sign(C_A) * m_y @ V_XI_0 > C_THRESHOLD  # @ : produit matriciel\n",
    "# Estimate the power\n",
    "d_power_mes = mean(v_d)\n",
    "print('Estimated power   : {}'.format(d_power_mes))\n",
    "# Calculate the theoretical power\n",
    "d_power_th = Q(Qinv(C_ALPHA) - abs(C_A)/C_SIGMA)\n",
    "print('Theoretical Power : {}'.format(d_power_th))"
   ]
  },
  {
   "cell_type": "markdown",
   "metadata": {},
   "source": [
    "# Commentaire \n",
    "1. If we know A, with the same size of 0.01, the power is bigger than the case where A is unknown. Which garantes a good performance in terms of correct detection with the same level of fause alarme."
   ]
  },
  {
   "cell_type": "code",
   "execution_count": null,
   "metadata": {},
   "outputs": [],
   "source": []
  }
 ],
 "metadata": {
  "kernelspec": {
   "display_name": "Python 3",
   "language": "python",
   "name": "python3"
  },
  "language_info": {
   "codemirror_mode": {
    "name": "ipython",
    "version": 3
   },
   "file_extension": ".py",
   "mimetype": "text/x-python",
   "name": "python",
   "nbconvert_exporter": "python",
   "pygments_lexer": "ipython3",
   "version": "3.6.9"
  }
 },
 "nbformat": 4,
 "nbformat_minor": 2
}
