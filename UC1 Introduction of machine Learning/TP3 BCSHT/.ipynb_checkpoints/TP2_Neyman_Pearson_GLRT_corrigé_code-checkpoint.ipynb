{
 "cells": [
  {
   "cell_type": "code",
   "execution_count": 1,
   "metadata": {},
   "outputs": [],
   "source": [
    "%matplotlib inline\n",
    "\n",
    "import numpy as np\n",
    "import scipy.stats as st\n",
    "import matplotlib.pyplot as plt\n",
    "\n",
    "Q = st.norm.sf\n",
    "Qinv = st.norm.isf"
   ]
  },
  {
   "cell_type": "markdown",
   "metadata": {},
   "source": [
    "# F4B101 (TP2) : Détection d'un signal déterministe dans un bruit blanc gaussien et comparaison entre le test de Neyman-Pearson et le test GLRT\n",
    "Guillaume Ansel (guillaume.ansel@imt-atlantique.fr)\n",
    "\n",
    "10 octobre 2018"
   ]
  },
  {
   "cell_type": "markdown",
   "metadata": {},
   "source": [
    "$\\|\\cdot\\|$ désigne la norme euclidienne usuelle dans $\\mathbb{R}^N$.\n",
    "Elle est définie pour tout $y=(y_1,...,y_N)^T\\in\\mathbb{R}^N$ par $\\|y\\|=\\sqrt{\\sum_{n=1}^N y_n^2}$.\n",
    " \n",
    "Soit un vecteur aléatoire $Y$ de dimension $N$ obéissant aux hypothèses suivantes :\n",
    "$$\\begin{cases}\\mathcal{H}_0 : & Y \\sim \\mathcal{N}(0,\\sigma^2\\mathrm{\\mathbf{I}}_N) \n",
    "\\\\ \\mathcal{H}_1 : & Y \\sim \\mathcal{N}(A\\xi_0,\\sigma^2\\mathrm{\\mathbf{I}}_N)\\end{cases}$$\n",
    "où $\\sigma\\ne0$ et $\\xi_0\\in\\mathbb{R}^N$ sont connus et où $\\mathrm{\\mathbf{I}}_N$ est la matrice identité de taille $N\\times N$.  \n",
    "On suppose $\\|\\xi_0\\| = 1$. Soit $\\alpha\\in]0,1[$."
   ]
  },
  {
   "cell_type": "markdown",
   "metadata": {},
   "source": [
    "## 1)\n",
    "Calculer le test de Neyman-Pearson (NP) de taille $\\alpha$ en supposant $A$ connu. Ce test est dit clairvoyant car il suppose que $A$ est connu.  \n",
    "Calculer la puissance de ce test lorsque $A>0$ et $A<0$.  \n",
    "Vérifier vos résultats par simulation."
   ]
  },
  {
   "cell_type": "markdown",
   "metadata": {},
   "source": [
    "Test de Neyman-Pearson :\n",
    " \n",
    "* Si $A>0$ : $\\forall y\\in\\mathbb{R}^N, \\varphi_{NP}^{+}=\\begin{cases}1&\\text{si \n",
    "}y^T\\xi_0>\\lambda_+\\\\0&\\text{sinon}\\end{cases}$ avec $\\lambda_+=\\sigma Q^{-1}(\\alpha)$\n",
    "* Si $A<0$ : $\\forall y\\in\\mathbb{R}^N, \\varphi_{NP}^{-}=\\begin{cases}1&\\text{si \n",
    "}y^T\\xi_0<\\lambda_-\\\\0&\\text{sinon}\\end{cases}$ avec $\\lambda_-=-\\sigma Q^{-1}(\\alpha)$\n",
    " \n",
    "Puissance de ce test :\n",
    "$$\\beta_{NP}=Q\\left(Q^{-1}(\\alpha)-\\frac{|A|}{\\sigma}\\right)$$"
   ]
  },
  {
   "cell_type": "code",
   "execution_count": 2,
   "metadata": {},
   "outputs": [],
   "source": [
    "C_POINTS = 1000000  # Nombre de points de simulation\n",
    "C_A = 1\n",
    "C_ALPHA = 1e-2  # Taille du test\n",
    "C_DIM = 2  # Dimension\n",
    "V_XI_0 = 1/np.sqrt(C_DIM) * np.ones(C_DIM)\n",
    "C_SIGMA = 2\n",
    "\n",
    "# Seuil de décision\n",
    "C_THRESHOLD = C_SIGMA * Qinv(C_ALPHA)"
   ]
  },
  {
   "cell_type": "code",
   "execution_count": 3,
   "metadata": {},
   "outputs": [
    {
     "name": "stdout",
     "output_type": "stream",
     "text": [
      "Probabilité de fausse alarme mesurée : 0.009903\n",
      "Probabilité de fausse alarme théorique : 0.01\n"
     ]
    }
   ],
   "source": [
    "# Mesure probabilité de fausse alarme\n",
    "# Génération des échantillons sous H0\n",
    "m_y = C_SIGMA * np.random.randn(C_POINTS, C_DIM)\n",
    "\n",
    "# Décision\n",
    "v_d = np.sign(C_A) * m_y @ V_XI_0 > C_THRESHOLD\n",
    "\n",
    "# Probabilité de fausse alarme mesurée\n",
    "d_pfa_mes = np.mean(v_d)\n",
    "print('Probabilité de fausse alarme mesurée : {}'.format(d_pfa_mes))\n",
    "print('Probabilité de fausse alarme théorique : {}'.format(C_ALPHA))"
   ]
  },
  {
   "cell_type": "code",
   "execution_count": 4,
   "metadata": {},
   "outputs": [
    {
     "name": "stdout",
     "output_type": "stream",
     "text": [
      "Puissance mesurée du test : 0.034004\n",
      "Puissance théorique du test : 0.03389893912284281\n"
     ]
    }
   ],
   "source": [
    "# Mesure puissance du test\n",
    "# Génération des échantillons sous H1\n",
    "m_y = C_SIGMA * np.random.randn(C_POINTS, C_DIM) + C_A * V_XI_0\n",
    "\n",
    "# Décision\n",
    "v_d = np.sign(C_A) * m_y @ V_XI_0 > C_THRESHOLD\n",
    "\n",
    "# Puissance mesurée\n",
    "d_power_mes = np.mean(v_d)\n",
    "print('Puissance mesurée du test : {}'.format(d_power_mes))\n",
    "\n",
    "# Puissance théorique\n",
    "d_power_th = Q(Qinv(C_ALPHA) - abs(C_A)/C_SIGMA)\n",
    "print('Puissance théorique du test : {}'.format(d_power_th))"
   ]
  },
  {
   "cell_type": "markdown",
   "metadata": {},
   "source": [
    "## 2)\n",
    "En supposant $A$ non connue, on cherche à déterminer le test GLRT et à le comparer au test clairvoyant."
   ]
  },
  {
   "cell_type": "markdown",
   "metadata": {},
   "source": [
    "### 2.1)\n",
    "Calculer l'estimée $\\hat{A}_{MLE}$ par maximum de vraisemblance de $A$ sous $\\mathcal{H}_1$."
   ]
  },
  {
   "cell_type": "markdown",
   "metadata": {},
   "source": [
    "$$\\hat{A}_{MLE}(y)=y^T\\xi_0$$"
   ]
  },
  {
   "cell_type": "markdown",
   "metadata": {},
   "source": [
    "### 2.2)\n",
    "En déduire l'expression du test GLRT de taille $\\alpha$ pour tester $\\mathcal{H}_0$ contre $\\mathcal{H}_1$.  \n",
    "Interpréter la structure de ce test."
   ]
  },
  {
   "cell_type": "markdown",
   "metadata": {},
   "source": [
    "$$\\forall y\\in\\mathbb{R}^N, \\varphi_{GLRT}(y)=\\begin{cases}1&\\text{si }|y^T\\xi_0| \n",
    "> \\sigma Q^{-1}(\\alpha/2)\\\\0&\\text{sinon}\\end{cases}$$\n",
    "\n",
    "Interprétation : On projette l'observée sur la droite de vecteur directeur $\\xi_0$.  \n",
    "Comme le signe de $A$ n'est pas connu, on teste si l'amplitude de cette projection est suffisament grande.\n",
    "La projection sur la direction $\\xi_0$ équivaut à une corrélation."
   ]
  },
  {
   "cell_type": "markdown",
   "metadata": {},
   "source": [
    "### 2.3)\n",
    "Calculer la puissance de ce test.  \n",
    "Vérifier votre résultat par simulation."
   ]
  },
  {
   "cell_type": "markdown",
   "metadata": {},
   "source": [
    "Puissance de ce test :\n",
    "$$\\beta_{GLRT}=Q\\left( Q^{-1}(\\alpha/2)-\\frac{A}{\\sigma}\\right) + Q\\left( Q^{-1}(\\alpha/2)+\\frac{A}{\\sigma}\\right)$$"
   ]
  },
  {
   "cell_type": "code",
   "execution_count": 5,
   "metadata": {},
   "outputs": [],
   "source": [
    "C_POINTS = 1000000  # Nombre de points de simulation\n",
    "C_A = 1\n",
    "C_ALPHA = 1e-2  # Taille du test\n",
    "C_DIM = 2  # Dimension\n",
    "V_XI_0 = 1/np.sqrt(C_DIM) * np.ones(C_DIM)\n",
    "C_SIGMA = 2\n",
    "\n",
    "# Seuil de décision\n",
    "C_THRESHOLD = C_SIGMA * Qinv(C_ALPHA/2)"
   ]
  },
  {
   "cell_type": "code",
   "execution_count": 7,
   "metadata": {},
   "outputs": [
    {
     "name": "stdout",
     "output_type": "stream",
     "text": [
      "Probabilité de fausse alarme mesurée : 0.010208\n",
      "Probabilité de fausse alarme théorique : 0.01\n"
     ]
    }
   ],
   "source": [
    "# Mesure probabilité de fausse alarme\n",
    "# Génération des échantillons sous H0\n",
    "m_y = C_SIGMA * np.random.randn(C_POINTS, C_DIM)\n",
    "\n",
    "# Décision\n",
    "v_d = np.abs(m_y @ V_XI_0) > C_THRESHOLD\n",
    "\n",
    "# Probabilité de fausse alarme mesurée\n",
    "d_pfa_mes = np.mean(v_d)\n",
    "print('Probabilité de fausse alarme mesurée : {}'.format(d_pfa_mes))\n",
    "print('Probabilité de fausse alarme théorique : {}'.format(C_ALPHA))"
   ]
  },
  {
   "cell_type": "code",
   "execution_count": 8,
   "metadata": {},
   "outputs": [
    {
     "name": "stdout",
     "output_type": "stream",
     "text": [
      "Puissance mesurée du test : 0.019922\n",
      "Puissance théorique du test : 0.020004460473822212\n"
     ]
    }
   ],
   "source": [
    "# Mesure puissance du test\n",
    "# Génération des échantillons sous H1\n",
    "m_y = C_SIGMA * np.random.randn(C_POINTS, C_DIM) + C_A * V_XI_0\n",
    "\n",
    "# Décision\n",
    "v_d = np.abs(m_y @ V_XI_0) > C_THRESHOLD\n",
    "\n",
    "# Puissance mesurée\n",
    "d_power_mes = np.mean(v_d)\n",
    "print('Puissance mesurée du test : {}'.format(d_power_mes))\n",
    "\n",
    "# Puissance théorique\n",
    "d_power_th = Q(Qinv(C_ALPHA/2) - np.abs(C_A)/C_SIGMA) + Q(Qinv(C_ALPHA/2) + np.abs(C_A)/C_SIGMA)\n",
    "print('Puissance théorique du test : {}'.format(d_power_th))"
   ]
  },
  {
   "cell_type": "code",
   "execution_count": null,
   "metadata": {},
   "outputs": [],
   "source": []
  }
 ],
 "metadata": {
  "kernelspec": {
   "display_name": "Python 3",
   "language": "python",
   "name": "python3"
  },
  "language_info": {
   "codemirror_mode": {
    "name": "ipython",
    "version": 3
   },
   "file_extension": ".py",
   "mimetype": "text/x-python",
   "name": "python",
   "nbconvert_exporter": "python",
   "pygments_lexer": "ipython3",
   "version": "3.6.9"
  },
  "latex_envs": {
   "LaTeX_envs_menu_present": true,
   "autoclose": false,
   "autocomplete": false,
   "bibliofile": "biblio.bib",
   "cite_by": "apalike",
   "current_citInitial": 1,
   "eqLabelWithNumbers": true,
   "eqNumInitial": 1,
   "hotkeys": {
    "equation": "Ctrl-E",
    "itemize": "Ctrl-I"
   },
   "labels_anchors": false,
   "latex_user_defs": false,
   "report_style_numbering": false,
   "user_envs_cfg": false
  },
  "toc": {
   "base_numbering": 1,
   "nav_menu": {},
   "number_sections": true,
   "sideBar": true,
   "skip_h1_title": false,
   "title_cell": "Table of Contents",
   "title_sidebar": "Contents",
   "toc_cell": false,
   "toc_position": {},
   "toc_section_display": true,
   "toc_window_display": false
  }
 },
 "nbformat": 4,
 "nbformat_minor": 2
}
