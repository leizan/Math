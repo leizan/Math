{
 "cells": [
  {
   "cell_type": "markdown",
   "metadata": {},
   "source": [
    "## Import libraries"
   ]
  },
  {
   "cell_type": "code",
   "execution_count": 55,
   "metadata": {},
   "outputs": [
    {
     "name": "stdout",
     "output_type": "stream",
     "text": [
      "Collecting seaborn\n",
      "  Downloading https://files.pythonhosted.org/packages/a8/76/220ba4420459d9c4c9c9587c6ce607bf56c25b3d3d2de62056efe482dadc/seaborn-0.9.0-py3-none-any.whl (208kB)\n",
      "\u001b[K    100% |████████████████████████████████| 215kB 1.3MB/s ta 0:00:01\n",
      "\u001b[?25hCollecting matplotlib>=1.4.3 (from seaborn)\n",
      "  Downloading https://files.pythonhosted.org/packages/57/4f/dd381ecf6c6ab9bcdaa8ea912e866dedc6e696756156d8ecc087e20817e2/matplotlib-3.1.1-cp36-cp36m-manylinux1_x86_64.whl (13.1MB)\n",
      "\u001b[K    100% |████████████████████████████████| 13.1MB 51kB/s  eta 0:00:01\n",
      "\u001b[?25hCollecting pandas>=0.15.2 (from seaborn)\n",
      "  Downloading https://files.pythonhosted.org/packages/73/9b/52e228545d14f14bb2a1622e225f38463c8726645165e1cb7dde95bfe6d4/pandas-0.25.1-cp36-cp36m-manylinux1_x86_64.whl (10.5MB)\n",
      "\u001b[K    100% |████████████████████████████████| 10.5MB 67kB/s  eta 0:00:01\n",
      "\u001b[?25hCollecting numpy>=1.9.3 (from seaborn)\n",
      "  Downloading https://files.pythonhosted.org/packages/e5/e6/c3fdc53aed9fa19d6ff3abf97dfad768ae3afce1b7431f7500000816bda5/numpy-1.17.2-cp36-cp36m-manylinux1_x86_64.whl (20.4MB)\n",
      "\u001b[K    100% |████████████████████████████████| 20.4MB 35kB/s  eta 0:00:01\n",
      "\u001b[?25hCollecting scipy>=0.14.0 (from seaborn)\n",
      "  Downloading https://files.pythonhosted.org/packages/29/50/a552a5aff252ae915f522e44642bb49a7b7b31677f9580cfd11bcc869976/scipy-1.3.1-cp36-cp36m-manylinux1_x86_64.whl (25.2MB)\n",
      "\u001b[K    100% |████████████████████████████████| 25.2MB 28kB/s  eta 0:00:01\n",
      "\u001b[?25hCollecting cycler>=0.10 (from matplotlib>=1.4.3->seaborn)\n",
      "  Using cached https://files.pythonhosted.org/packages/f7/d2/e07d3ebb2bd7af696440ce7e754c59dd546ffe1bbe732c8ab68b9c834e61/cycler-0.10.0-py2.py3-none-any.whl\n",
      "Collecting python-dateutil>=2.1 (from matplotlib>=1.4.3->seaborn)\n",
      "  Using cached https://files.pythonhosted.org/packages/41/17/c62faccbfbd163c7f57f3844689e3a78bae1f403648a6afb1d0866d87fbb/python_dateutil-2.8.0-py2.py3-none-any.whl\n",
      "Collecting pyparsing!=2.0.4,!=2.1.2,!=2.1.6,>=2.0.1 (from matplotlib>=1.4.3->seaborn)\n",
      "  Downloading https://files.pythonhosted.org/packages/11/fa/0160cd525c62d7abd076a070ff02b2b94de589f1a9789774f17d7c54058e/pyparsing-2.4.2-py2.py3-none-any.whl (65kB)\n",
      "\u001b[K    100% |████████████████████████████████| 71kB 1.7MB/s ta 0:00:011\n",
      "\u001b[?25hCollecting kiwisolver>=1.0.1 (from matplotlib>=1.4.3->seaborn)\n",
      "  Downloading https://files.pythonhosted.org/packages/f8/a1/5742b56282449b1c0968197f63eae486eca2c35dcd334bab75ad524e0de1/kiwisolver-1.1.0-cp36-cp36m-manylinux1_x86_64.whl (90kB)\n",
      "\u001b[K    100% |████████████████████████████████| 92kB 2.5MB/s eta 0:00:01\n",
      "\u001b[?25hCollecting pytz>=2017.2 (from pandas>=0.15.2->seaborn)\n",
      "  Downloading https://files.pythonhosted.org/packages/87/76/46d697698a143e05f77bec5a526bf4e56a0be61d63425b68f4ba553b51f2/pytz-2019.2-py2.py3-none-any.whl (508kB)\n",
      "\u001b[K    100% |████████████████████████████████| 512kB 962kB/s ta 0:00:011\n",
      "\u001b[?25hCollecting six (from cycler>=0.10->matplotlib>=1.4.3->seaborn)\n",
      "  Using cached https://files.pythonhosted.org/packages/73/fb/00a976f728d0d1fecfe898238ce23f502a721c0ac0ecfedb80e0d88c64e9/six-1.12.0-py2.py3-none-any.whl\n",
      "Collecting setuptools (from kiwisolver>=1.0.1->matplotlib>=1.4.3->seaborn)\n",
      "  Downloading https://files.pythonhosted.org/packages/b2/86/095d2f7829badc207c893dd4ac767e871f6cd547145df797ea26baea4e2e/setuptools-41.2.0-py2.py3-none-any.whl (576kB)\n",
      "\u001b[K    100% |████████████████████████████████| 583kB 828kB/s ta 0:00:01\n",
      "\u001b[?25hInstalling collected packages: numpy, six, cycler, python-dateutil, pyparsing, setuptools, kiwisolver, matplotlib, pytz, pandas, scipy, seaborn\n",
      "Successfully installed cycler-0.10.0 kiwisolver-1.1.0 matplotlib-3.1.1 numpy-1.17.2 pandas-0.25.1 pyparsing-2.4.2 python-dateutil-2.8.0 pytz-2019.2 scipy-1.3.1 seaborn-0.9.0 setuptools-41.2.0 six-1.12.0\n"
     ]
    }
   ],
   "source": [
    "!pip3 install seaborn"
   ]
  },
  {
   "cell_type": "code",
   "execution_count": 1,
   "metadata": {},
   "outputs": [],
   "source": [
    "import pandas as pd\n",
    "from sklearn.preprocessing import StandardScaler\n",
    "from sklearn.decomposition import PCA\n",
    "import seaborn as sns"
   ]
  },
  {
   "cell_type": "markdown",
   "metadata": {},
   "source": [
    "## Loading datas"
   ]
  },
  {
   "cell_type": "code",
   "execution_count": 7,
   "metadata": {},
   "outputs": [],
   "source": [
    "data = pd.read_csv('villes.txt', sep=' ')"
   ]
  },
  {
   "cell_type": "code",
   "execution_count": 8,
   "metadata": {},
   "outputs": [
    {
     "data": {
      "text/html": [
       "<div>\n",
       "<style scoped>\n",
       "    .dataframe tbody tr th:only-of-type {\n",
       "        vertical-align: middle;\n",
       "    }\n",
       "\n",
       "    .dataframe tbody tr th {\n",
       "        vertical-align: top;\n",
       "    }\n",
       "\n",
       "    .dataframe thead th {\n",
       "        text-align: right;\n",
       "    }\n",
       "</style>\n",
       "<table border=\"1\" class=\"dataframe\">\n",
       "  <thead>\n",
       "    <tr style=\"text-align: right;\">\n",
       "      <th></th>\n",
       "      <th>janvier</th>\n",
       "      <th>février</th>\n",
       "      <th>mars</th>\n",
       "      <th>avril</th>\n",
       "      <th>mai</th>\n",
       "      <th>juin</th>\n",
       "      <th>juillet</th>\n",
       "      <th>aout</th>\n",
       "      <th>septembre</th>\n",
       "      <th>octobre</th>\n",
       "      <th>novembre</th>\n",
       "      <th>décembre</th>\n",
       "      <th>lat</th>\n",
       "      <th>long</th>\n",
       "      <th>moy</th>\n",
       "      <th>amp</th>\n",
       "    </tr>\n",
       "  </thead>\n",
       "  <tbody>\n",
       "    <tr>\n",
       "      <td>Bordeaux</td>\n",
       "      <td>5.6</td>\n",
       "      <td>6.6</td>\n",
       "      <td>10.3</td>\n",
       "      <td>12.8</td>\n",
       "      <td>15.8</td>\n",
       "      <td>19.3</td>\n",
       "      <td>20.9</td>\n",
       "      <td>21.0</td>\n",
       "      <td>18.6</td>\n",
       "      <td>13.8</td>\n",
       "      <td>9.1</td>\n",
       "      <td>6.2</td>\n",
       "      <td>44.5</td>\n",
       "      <td>-0.34</td>\n",
       "      <td>13.3</td>\n",
       "      <td>15.4</td>\n",
       "    </tr>\n",
       "    <tr>\n",
       "      <td>Brest</td>\n",
       "      <td>6.1</td>\n",
       "      <td>5.8</td>\n",
       "      <td>7.8</td>\n",
       "      <td>9.2</td>\n",
       "      <td>11.6</td>\n",
       "      <td>14.4</td>\n",
       "      <td>15.6</td>\n",
       "      <td>16.0</td>\n",
       "      <td>14.7</td>\n",
       "      <td>12.0</td>\n",
       "      <td>9.0</td>\n",
       "      <td>7.0</td>\n",
       "      <td>48.2</td>\n",
       "      <td>-4.29</td>\n",
       "      <td>10.8</td>\n",
       "      <td>10.2</td>\n",
       "    </tr>\n",
       "    <tr>\n",
       "      <td>Clermont-Ferrand</td>\n",
       "      <td>2.6</td>\n",
       "      <td>3.7</td>\n",
       "      <td>7.5</td>\n",
       "      <td>10.3</td>\n",
       "      <td>13.8</td>\n",
       "      <td>17.3</td>\n",
       "      <td>19.4</td>\n",
       "      <td>19.1</td>\n",
       "      <td>16.2</td>\n",
       "      <td>11.2</td>\n",
       "      <td>6.6</td>\n",
       "      <td>3.6</td>\n",
       "      <td>45.5</td>\n",
       "      <td>3.05</td>\n",
       "      <td>10.9</td>\n",
       "      <td>16.8</td>\n",
       "    </tr>\n",
       "    <tr>\n",
       "      <td>Grenoble</td>\n",
       "      <td>1.5</td>\n",
       "      <td>3.2</td>\n",
       "      <td>7.7</td>\n",
       "      <td>10.6</td>\n",
       "      <td>14.5</td>\n",
       "      <td>17.8</td>\n",
       "      <td>20.1</td>\n",
       "      <td>19.5</td>\n",
       "      <td>16.7</td>\n",
       "      <td>11.4</td>\n",
       "      <td>6.5</td>\n",
       "      <td>2.3</td>\n",
       "      <td>45.1</td>\n",
       "      <td>5.43</td>\n",
       "      <td>11.0</td>\n",
       "      <td>18.6</td>\n",
       "    </tr>\n",
       "    <tr>\n",
       "      <td>Lille</td>\n",
       "      <td>2.4</td>\n",
       "      <td>2.9</td>\n",
       "      <td>6.0</td>\n",
       "      <td>8.9</td>\n",
       "      <td>12.4</td>\n",
       "      <td>15.3</td>\n",
       "      <td>17.1</td>\n",
       "      <td>17.1</td>\n",
       "      <td>14.7</td>\n",
       "      <td>10.4</td>\n",
       "      <td>6.1</td>\n",
       "      <td>3.5</td>\n",
       "      <td>50.4</td>\n",
       "      <td>3.04</td>\n",
       "      <td>9.7</td>\n",
       "      <td>14.7</td>\n",
       "    </tr>\n",
       "    <tr>\n",
       "      <td>Lyon</td>\n",
       "      <td>2.1</td>\n",
       "      <td>3.3</td>\n",
       "      <td>7.7</td>\n",
       "      <td>10.9</td>\n",
       "      <td>14.9</td>\n",
       "      <td>18.5</td>\n",
       "      <td>20.7</td>\n",
       "      <td>20.1</td>\n",
       "      <td>16.9</td>\n",
       "      <td>11.4</td>\n",
       "      <td>6.7</td>\n",
       "      <td>3.1</td>\n",
       "      <td>45.5</td>\n",
       "      <td>4.51</td>\n",
       "      <td>11.4</td>\n",
       "      <td>18.6</td>\n",
       "    </tr>\n",
       "    <tr>\n",
       "      <td>Marseille</td>\n",
       "      <td>5.5</td>\n",
       "      <td>6.6</td>\n",
       "      <td>10.0</td>\n",
       "      <td>13.0</td>\n",
       "      <td>16.8</td>\n",
       "      <td>20.8</td>\n",
       "      <td>23.3</td>\n",
       "      <td>22.8</td>\n",
       "      <td>19.9</td>\n",
       "      <td>15.0</td>\n",
       "      <td>10.2</td>\n",
       "      <td>6.9</td>\n",
       "      <td>43.2</td>\n",
       "      <td>5.24</td>\n",
       "      <td>14.2</td>\n",
       "      <td>17.8</td>\n",
       "    </tr>\n",
       "    <tr>\n",
       "      <td>Montpellier</td>\n",
       "      <td>5.6</td>\n",
       "      <td>6.7</td>\n",
       "      <td>9.9</td>\n",
       "      <td>12.8</td>\n",
       "      <td>16.2</td>\n",
       "      <td>20.1</td>\n",
       "      <td>22.7</td>\n",
       "      <td>22.3</td>\n",
       "      <td>19.3</td>\n",
       "      <td>14.6</td>\n",
       "      <td>10.0</td>\n",
       "      <td>6.5</td>\n",
       "      <td>43.4</td>\n",
       "      <td>3.53</td>\n",
       "      <td>13.9</td>\n",
       "      <td>17.1</td>\n",
       "    </tr>\n",
       "    <tr>\n",
       "      <td>Nantes</td>\n",
       "      <td>5.0</td>\n",
       "      <td>5.3</td>\n",
       "      <td>8.4</td>\n",
       "      <td>10.8</td>\n",
       "      <td>13.9</td>\n",
       "      <td>17.2</td>\n",
       "      <td>18.8</td>\n",
       "      <td>18.6</td>\n",
       "      <td>16.4</td>\n",
       "      <td>12.2</td>\n",
       "      <td>8.2</td>\n",
       "      <td>5.5</td>\n",
       "      <td>47.1</td>\n",
       "      <td>-1.33</td>\n",
       "      <td>11.7</td>\n",
       "      <td>13.8</td>\n",
       "    </tr>\n",
       "    <tr>\n",
       "      <td>Nice</td>\n",
       "      <td>7.5</td>\n",
       "      <td>8.5</td>\n",
       "      <td>10.8</td>\n",
       "      <td>13.3</td>\n",
       "      <td>16.7</td>\n",
       "      <td>20.1</td>\n",
       "      <td>22.7</td>\n",
       "      <td>22.5</td>\n",
       "      <td>20.3</td>\n",
       "      <td>16.0</td>\n",
       "      <td>11.5</td>\n",
       "      <td>8.2</td>\n",
       "      <td>43.4</td>\n",
       "      <td>7.15</td>\n",
       "      <td>14.8</td>\n",
       "      <td>15.2</td>\n",
       "    </tr>\n",
       "    <tr>\n",
       "      <td>Paris</td>\n",
       "      <td>3.4</td>\n",
       "      <td>4.1</td>\n",
       "      <td>7.6</td>\n",
       "      <td>10.7</td>\n",
       "      <td>14.3</td>\n",
       "      <td>17.5</td>\n",
       "      <td>19.1</td>\n",
       "      <td>18.7</td>\n",
       "      <td>16.0</td>\n",
       "      <td>11.4</td>\n",
       "      <td>7.1</td>\n",
       "      <td>4.3</td>\n",
       "      <td>48.5</td>\n",
       "      <td>2.20</td>\n",
       "      <td>11.2</td>\n",
       "      <td>15.7</td>\n",
       "    </tr>\n",
       "    <tr>\n",
       "      <td>Rennes</td>\n",
       "      <td>4.8</td>\n",
       "      <td>5.3</td>\n",
       "      <td>7.9</td>\n",
       "      <td>10.1</td>\n",
       "      <td>13.1</td>\n",
       "      <td>16.2</td>\n",
       "      <td>17.9</td>\n",
       "      <td>17.8</td>\n",
       "      <td>15.7</td>\n",
       "      <td>11.6</td>\n",
       "      <td>7.8</td>\n",
       "      <td>5.4</td>\n",
       "      <td>48.1</td>\n",
       "      <td>-1.41</td>\n",
       "      <td>11.1</td>\n",
       "      <td>13.1</td>\n",
       "    </tr>\n",
       "    <tr>\n",
       "      <td>Strasbourg</td>\n",
       "      <td>0.4</td>\n",
       "      <td>1.5</td>\n",
       "      <td>5.6</td>\n",
       "      <td>9.8</td>\n",
       "      <td>14.0</td>\n",
       "      <td>17.2</td>\n",
       "      <td>19.0</td>\n",
       "      <td>18.3</td>\n",
       "      <td>15.1</td>\n",
       "      <td>9.5</td>\n",
       "      <td>4.9</td>\n",
       "      <td>1.3</td>\n",
       "      <td>48.4</td>\n",
       "      <td>7.45</td>\n",
       "      <td>9.7</td>\n",
       "      <td>18.6</td>\n",
       "    </tr>\n",
       "    <tr>\n",
       "      <td>Toulouse</td>\n",
       "      <td>4.7</td>\n",
       "      <td>5.6</td>\n",
       "      <td>9.2</td>\n",
       "      <td>11.6</td>\n",
       "      <td>14.9</td>\n",
       "      <td>18.7</td>\n",
       "      <td>20.9</td>\n",
       "      <td>20.9</td>\n",
       "      <td>18.3</td>\n",
       "      <td>13.3</td>\n",
       "      <td>8.6</td>\n",
       "      <td>5.5</td>\n",
       "      <td>43.4</td>\n",
       "      <td>1.26</td>\n",
       "      <td>12.7</td>\n",
       "      <td>16.2</td>\n",
       "    </tr>\n",
       "    <tr>\n",
       "      <td>Vichy</td>\n",
       "      <td>2.4</td>\n",
       "      <td>3.4</td>\n",
       "      <td>7.1</td>\n",
       "      <td>9.9</td>\n",
       "      <td>13.6</td>\n",
       "      <td>17.1</td>\n",
       "      <td>19.3</td>\n",
       "      <td>18.8</td>\n",
       "      <td>16.0</td>\n",
       "      <td>11.0</td>\n",
       "      <td>6.6</td>\n",
       "      <td>3.4</td>\n",
       "      <td>46.1</td>\n",
       "      <td>3.26</td>\n",
       "      <td>10.7</td>\n",
       "      <td>16.9</td>\n",
       "    </tr>\n",
       "  </tbody>\n",
       "</table>\n",
       "</div>"
      ],
      "text/plain": [
       "                  janvier  février  mars  avril   mai  juin  juillet  aout  \\\n",
       "Bordeaux              5.6      6.6  10.3   12.8  15.8  19.3     20.9  21.0   \n",
       "Brest                 6.1      5.8   7.8    9.2  11.6  14.4     15.6  16.0   \n",
       "Clermont-Ferrand      2.6      3.7   7.5   10.3  13.8  17.3     19.4  19.1   \n",
       "Grenoble              1.5      3.2   7.7   10.6  14.5  17.8     20.1  19.5   \n",
       "Lille                 2.4      2.9   6.0    8.9  12.4  15.3     17.1  17.1   \n",
       "Lyon                  2.1      3.3   7.7   10.9  14.9  18.5     20.7  20.1   \n",
       "Marseille             5.5      6.6  10.0   13.0  16.8  20.8     23.3  22.8   \n",
       "Montpellier           5.6      6.7   9.9   12.8  16.2  20.1     22.7  22.3   \n",
       "Nantes                5.0      5.3   8.4   10.8  13.9  17.2     18.8  18.6   \n",
       "Nice                  7.5      8.5  10.8   13.3  16.7  20.1     22.7  22.5   \n",
       "Paris                 3.4      4.1   7.6   10.7  14.3  17.5     19.1  18.7   \n",
       "Rennes                4.8      5.3   7.9   10.1  13.1  16.2     17.9  17.8   \n",
       "Strasbourg            0.4      1.5   5.6    9.8  14.0  17.2     19.0  18.3   \n",
       "Toulouse              4.7      5.6   9.2   11.6  14.9  18.7     20.9  20.9   \n",
       "Vichy                 2.4      3.4   7.1    9.9  13.6  17.1     19.3  18.8   \n",
       "\n",
       "                  septembre  octobre  novembre  décembre   lat  long   moy  \\\n",
       "Bordeaux               18.6     13.8       9.1       6.2  44.5 -0.34  13.3   \n",
       "Brest                  14.7     12.0       9.0       7.0  48.2 -4.29  10.8   \n",
       "Clermont-Ferrand       16.2     11.2       6.6       3.6  45.5  3.05  10.9   \n",
       "Grenoble               16.7     11.4       6.5       2.3  45.1  5.43  11.0   \n",
       "Lille                  14.7     10.4       6.1       3.5  50.4  3.04   9.7   \n",
       "Lyon                   16.9     11.4       6.7       3.1  45.5  4.51  11.4   \n",
       "Marseille              19.9     15.0      10.2       6.9  43.2  5.24  14.2   \n",
       "Montpellier            19.3     14.6      10.0       6.5  43.4  3.53  13.9   \n",
       "Nantes                 16.4     12.2       8.2       5.5  47.1 -1.33  11.7   \n",
       "Nice                   20.3     16.0      11.5       8.2  43.4  7.15  14.8   \n",
       "Paris                  16.0     11.4       7.1       4.3  48.5  2.20  11.2   \n",
       "Rennes                 15.7     11.6       7.8       5.4  48.1 -1.41  11.1   \n",
       "Strasbourg             15.1      9.5       4.9       1.3  48.4  7.45   9.7   \n",
       "Toulouse               18.3     13.3       8.6       5.5  43.4  1.26  12.7   \n",
       "Vichy                  16.0     11.0       6.6       3.4  46.1  3.26  10.7   \n",
       "\n",
       "                   amp  \n",
       "Bordeaux          15.4  \n",
       "Brest             10.2  \n",
       "Clermont-Ferrand  16.8  \n",
       "Grenoble          18.6  \n",
       "Lille             14.7  \n",
       "Lyon              18.6  \n",
       "Marseille         17.8  \n",
       "Montpellier       17.1  \n",
       "Nantes            13.8  \n",
       "Nice              15.2  \n",
       "Paris             15.7  \n",
       "Rennes            13.1  \n",
       "Strasbourg        18.6  \n",
       "Toulouse          16.2  \n",
       "Vichy             16.9  "
      ]
     },
     "execution_count": 8,
     "metadata": {},
     "output_type": "execute_result"
    }
   ],
   "source": [
    "data"
   ]
  },
  {
   "cell_type": "code",
   "execution_count": 9,
   "metadata": {},
   "outputs": [
    {
     "data": {
      "text/plain": [
       "array([[ 5.6 ,  6.6 , 10.3 , 12.8 , 15.8 , 19.3 , 20.9 , 21.  , 18.6 ,\n",
       "        13.8 ,  9.1 ,  6.2 , 44.5 , -0.34, 13.3 , 15.4 ],\n",
       "       [ 6.1 ,  5.8 ,  7.8 ,  9.2 , 11.6 , 14.4 , 15.6 , 16.  , 14.7 ,\n",
       "        12.  ,  9.  ,  7.  , 48.2 , -4.29, 10.8 , 10.2 ],\n",
       "       [ 2.6 ,  3.7 ,  7.5 , 10.3 , 13.8 , 17.3 , 19.4 , 19.1 , 16.2 ,\n",
       "        11.2 ,  6.6 ,  3.6 , 45.5 ,  3.05, 10.9 , 16.8 ],\n",
       "       [ 1.5 ,  3.2 ,  7.7 , 10.6 , 14.5 , 17.8 , 20.1 , 19.5 , 16.7 ,\n",
       "        11.4 ,  6.5 ,  2.3 , 45.1 ,  5.43, 11.  , 18.6 ],\n",
       "       [ 2.4 ,  2.9 ,  6.  ,  8.9 , 12.4 , 15.3 , 17.1 , 17.1 , 14.7 ,\n",
       "        10.4 ,  6.1 ,  3.5 , 50.4 ,  3.04,  9.7 , 14.7 ],\n",
       "       [ 2.1 ,  3.3 ,  7.7 , 10.9 , 14.9 , 18.5 , 20.7 , 20.1 , 16.9 ,\n",
       "        11.4 ,  6.7 ,  3.1 , 45.5 ,  4.51, 11.4 , 18.6 ],\n",
       "       [ 5.5 ,  6.6 , 10.  , 13.  , 16.8 , 20.8 , 23.3 , 22.8 , 19.9 ,\n",
       "        15.  , 10.2 ,  6.9 , 43.2 ,  5.24, 14.2 , 17.8 ],\n",
       "       [ 5.6 ,  6.7 ,  9.9 , 12.8 , 16.2 , 20.1 , 22.7 , 22.3 , 19.3 ,\n",
       "        14.6 , 10.  ,  6.5 , 43.4 ,  3.53, 13.9 , 17.1 ],\n",
       "       [ 5.  ,  5.3 ,  8.4 , 10.8 , 13.9 , 17.2 , 18.8 , 18.6 , 16.4 ,\n",
       "        12.2 ,  8.2 ,  5.5 , 47.1 , -1.33, 11.7 , 13.8 ],\n",
       "       [ 7.5 ,  8.5 , 10.8 , 13.3 , 16.7 , 20.1 , 22.7 , 22.5 , 20.3 ,\n",
       "        16.  , 11.5 ,  8.2 , 43.4 ,  7.15, 14.8 , 15.2 ],\n",
       "       [ 3.4 ,  4.1 ,  7.6 , 10.7 , 14.3 , 17.5 , 19.1 , 18.7 , 16.  ,\n",
       "        11.4 ,  7.1 ,  4.3 , 48.5 ,  2.2 , 11.2 , 15.7 ],\n",
       "       [ 4.8 ,  5.3 ,  7.9 , 10.1 , 13.1 , 16.2 , 17.9 , 17.8 , 15.7 ,\n",
       "        11.6 ,  7.8 ,  5.4 , 48.1 , -1.41, 11.1 , 13.1 ],\n",
       "       [ 0.4 ,  1.5 ,  5.6 ,  9.8 , 14.  , 17.2 , 19.  , 18.3 , 15.1 ,\n",
       "         9.5 ,  4.9 ,  1.3 , 48.4 ,  7.45,  9.7 , 18.6 ],\n",
       "       [ 4.7 ,  5.6 ,  9.2 , 11.6 , 14.9 , 18.7 , 20.9 , 20.9 , 18.3 ,\n",
       "        13.3 ,  8.6 ,  5.5 , 43.4 ,  1.26, 12.7 , 16.2 ],\n",
       "       [ 2.4 ,  3.4 ,  7.1 ,  9.9 , 13.6 , 17.1 , 19.3 , 18.8 , 16.  ,\n",
       "        11.  ,  6.6 ,  3.4 , 46.1 ,  3.26, 10.7 , 16.9 ]])"
      ]
     },
     "execution_count": 9,
     "metadata": {},
     "output_type": "execute_result"
    }
   ],
   "source": [
    "data.values"
   ]
  },
  {
   "cell_type": "code",
   "execution_count": 10,
   "metadata": {},
   "outputs": [],
   "source": [
    "X= data.values\n",
    "X_scaled = StandardScaler().fit_transform(X)"
   ]
  },
  {
   "cell_type": "code",
   "execution_count": 11,
   "metadata": {},
   "outputs": [],
   "source": [
    "pca = PCA(n_components=12).fit(X_scaled[:,:12])"
   ]
  },
  {
   "cell_type": "code",
   "execution_count": 12,
   "metadata": {},
   "outputs": [
    {
     "data": {
      "text/plain": [
       "janvier       4.029238\n",
       "février       3.490952\n",
       "mars          2.338095\n",
       "avril         2.001714\n",
       "mai           2.263810\n",
       "juin          3.216667\n",
       "juillet       4.532381\n",
       "aout          4.048095\n",
       "septembre     3.415524\n",
       "octobre       3.348857\n",
       "novembre      3.253524\n",
       "décembre      3.835524\n",
       "lat           5.248381\n",
       "long         11.010024\n",
       "moy           2.552095\n",
       "amp           5.412667\n",
       "dtype: float64"
      ]
     },
     "execution_count": 12,
     "metadata": {},
     "output_type": "execute_result"
    }
   ],
   "source": [
    "data.var()"
   ]
  },
  {
   "cell_type": "code",
   "execution_count": 13,
   "metadata": {},
   "outputs": [],
   "source": [
    "%matplotlib inline\n",
    "import matplotlib.pyplot as plt"
   ]
  },
  {
   "cell_type": "code",
   "execution_count": 14,
   "metadata": {},
   "outputs": [
    {
     "data": {
      "text/plain": [
       "[<matplotlib.lines.Line2D at 0x7f09761a1eb8>]"
      ]
     },
     "execution_count": 14,
     "metadata": {},
     "output_type": "execute_result"
    },
    {
     "data": {
      "image/png": "[encoded data removed]",
      "text/plain": [
       "<Figure size 432x288 with 1 Axes>"
      ]
     },
     "metadata": {
      "needs_background": "light"
     },
     "output_type": "display_data"
    }
   ],
   "source": [
    "plt.plot(pca.explained_variance_ratio_)"
   ]
  },
  {
   "cell_type": "code",
   "execution_count": 15,
   "metadata": {},
   "outputs": [
    {
     "data": {
      "text/plain": [
       "array([[ 0.24592211,  0.28443658,  0.31296643,  0.31314906,  0.28195125,\n",
       "         0.27898242,  0.27186223,  0.29029943,  0.31466521,  0.31664588,\n",
       "         0.29196226,  0.25015301],\n",
       "       [ 0.42705875,  0.31089916,  0.10340033, -0.1349923 , -0.31463106,\n",
       "        -0.33096004, -0.35221804, -0.28495769, -0.13792688,  0.11297634,\n",
       "         0.27434474,  0.41377505],\n",
       "       [ 0.08094119,  0.12682899,  0.58333268,  0.46010266,  0.14571807,\n",
       "         0.04694066, -0.31035267, -0.23257367, -0.15587454, -0.28035651,\n",
       "        -0.32156561, -0.21270614],\n",
       "       [-0.25597048,  0.0584993 ,  0.54832038, -0.27146899, -0.46483692,\n",
       "        -0.24531769,  0.05914829,  0.20169116,  0.32160358,  0.20120745,\n",
       "        -0.01505291, -0.30353653],\n",
       "       [-0.26553798,  0.0450297 , -0.10498955,  0.12623593,  0.40686927,\n",
       "        -0.2985657 , -0.22017781, -0.32888191,  0.06732119,  0.40474261,\n",
       "         0.40718323, -0.39373979],\n",
       "       [ 0.28478331,  0.53580657, -0.36984954,  0.03897652,  0.08561892,\n",
       "        -0.33324837,  0.01691424,  0.17355378,  0.31479219, -0.05238177,\n",
       "        -0.41641422, -0.26357366],\n",
       "       [-0.09381265, -0.38389137, -0.07900073,  0.1945869 ,  0.01553297,\n",
       "        -0.0703538 , -0.54036956,  0.18196722,  0.37649617,  0.30283457,\n",
       "        -0.33342405,  0.35325547],\n",
       "       [ 0.16857823, -0.14132249, -0.22969396,  0.58265434, -0.50260384,\n",
       "        -0.00526093, -0.07410047,  0.30613328, -0.1673783 ,  0.0327033 ,\n",
       "         0.28445733, -0.31227584],\n",
       "       [ 0.55103588, -0.35646513,  0.02212011, -0.2485922 ,  0.03796078,\n",
       "         0.2463394 , -0.14878317, -0.18816406,  0.45494221, -0.18896724,\n",
       "         0.18091313, -0.33455617],\n",
       "       [ 0.42908658, -0.30757595,  0.12409708, -0.0957735 ,  0.11755792,\n",
       "        -0.16020081,  0.25010851,  0.01990245, -0.40564607,  0.54573834,\n",
       "        -0.33004092, -0.15155356],\n",
       "       [ 0.09164958, -0.21689807,  0.16547699, -0.09576395,  0.36653571,\n",
       "        -0.5116054 , -0.08406628,  0.52685252, -0.12245491, -0.38344513,\n",
       "         0.24943305,  0.05505227],\n",
       "       [-0.00916028,  0.27884346, -0.01855242, -0.35125301,  0.09417678,\n",
       "         0.44383475, -0.51400754,  0.40157968, -0.30712987,  0.16727131,\n",
       "         0.02649513, -0.21000134]])"
      ]
     },
     "execution_count": 15,
     "metadata": {},
     "output_type": "execute_result"
    }
   ],
   "source": [
    "pca.components_"
   ]
  },
  {
   "cell_type": "code",
   "execution_count": 16,
   "metadata": {},
   "outputs": [],
   "source": [
    "pca_2 = PCA(n_components=2).fit(X_scaled[:,:12])"
   ]
  },
  {
   "cell_type": "code",
   "execution_count": 17,
   "metadata": {},
   "outputs": [],
   "source": [
    "X_proj = pca_2.transform(X_scaled[:,:12])"
   ]
  },
  {
   "cell_type": "code",
   "execution_count": 18,
   "metadata": {},
   "outputs": [
    {
     "data": {
      "text/plain": [
       "array([[ 3.12070711,  0.10929683],\n",
       "       [-2.26800523,  4.09330725],\n",
       "       [-1.72593607, -0.59253223],\n",
       "       [-1.52925815, -1.68794824],\n",
       "       [-4.21682518,  0.59520143],\n",
       "       [-0.83493989, -1.78822788],\n",
       "       [ 4.83272178, -0.82880311],\n",
       "       [ 4.14730203, -0.4353508 ],\n",
       "       [-0.28128935,  1.11456345],\n",
       "       [ 6.00703498,  0.78930843],\n",
       "       [-1.24193764, -0.15634588],\n",
       "       [-1.43865282,  1.6711221 ],\n",
       "       [-4.10559967, -2.17225255],\n",
       "       [ 1.73616602, -0.13612617],\n",
       "       [-2.20148793, -0.57521263]])"
      ]
     },
     "execution_count": 18,
     "metadata": {},
     "output_type": "execute_result"
    }
   ],
   "source": [
    "X_proj"
   ]
  },
  {
   "cell_type": "code",
   "execution_count": 19,
   "metadata": {},
   "outputs": [
    {
     "data": {
      "text/plain": [
       "array([[ 0.24592211,  0.28443658,  0.31296643,  0.31314906,  0.28195125,\n",
       "         0.27898242,  0.27186223,  0.29029943,  0.31466521,  0.31664588,\n",
       "         0.29196226,  0.25015301],\n",
       "       [ 0.42705875,  0.31089916,  0.10340033, -0.1349923 , -0.31463106,\n",
       "        -0.33096004, -0.35221804, -0.28495769, -0.13792688,  0.11297634,\n",
       "         0.27434474,  0.41377505]])"
      ]
     },
     "execution_count": 19,
     "metadata": {},
     "output_type": "execute_result"
    }
   ],
   "source": [
    "pca_2.components_"
   ]
  },
  {
   "cell_type": "code",
   "execution_count": 20,
   "metadata": {},
   "outputs": [
    {
     "data": {
      "text/plain": [
       "3.1207071053699096"
      ]
     },
     "execution_count": 20,
     "metadata": {},
     "output_type": "execute_result"
    }
   ],
   "source": [
    "X_scaled[:,:12][0].dot(pca_2.components_[0])"
   ]
  },
  {
   "cell_type": "code",
   "execution_count": 21,
   "metadata": {},
   "outputs": [
    {
     "data": {
      "text/plain": [
       "2.5673907444456745e-16"
      ]
     },
     "execution_count": 21,
     "metadata": {},
     "output_type": "execute_result"
    }
   ],
   "source": [
    "pca_2.components_[0].dot(pca_2.components_[1])"
   ]
  },
  {
   "cell_type": "code",
   "execution_count": 22,
   "metadata": {},
   "outputs": [
    {
     "data": {
      "image/png": "[encoded data removed]",
      "text/plain": [
       "<Figure size 432x288 with 1 Axes>"
      ]
     },
     "metadata": {
      "needs_background": "light"
     },
     "output_type": "display_data"
    }
   ],
   "source": [
    "plt.scatter(X_proj[:,0],X_proj[:,1],c=data['moy'])\n",
    "plt.xlabel('1st principal component')\n",
    "plt.ylabel('2nd principal component')\n",
    "plt.xlim(-7,7)\n",
    "plt.ylim(-5,5)\n",
    "for i in range (X_proj.shape[0]):\n",
    "    plt.text(X_proj[i,0],X_proj[i,1],data.index[i])"
   ]
  },
  {
   "cell_type": "code",
   "execution_count": 23,
   "metadata": {},
   "outputs": [
    {
     "data": {
      "text/plain": [
       "(-0.7, 0.7)"
      ]
     },
     "execution_count": 23,
     "metadata": {},
     "output_type": "execute_result"
    },
    {
     "data": {
      "image/png": "[encoded data removed]",
      "text/plain": [
       "<Figure size 432x288 with 1 Axes>"
      ]
     },
     "metadata": {
      "needs_background": "light"
     },
     "output_type": "display_data"
    }
   ],
   "source": [
    "pcs = pca_2.components_\n",
    "\n",
    "for i, (x, y) in enumerate(zip(pcs[0, :], pcs[1, :])):\n",
    "    # Afficher un segment de l'origine au point (x, y)\n",
    "    plt.plot([0, x], [0, y], color='k')\n",
    "    # Afficher le nom (data.columns[i]) de la performance\n",
    "    plt.text(x, y, data.columns[i], fontsize='14')\n",
    "\n",
    "# Afficher une ligne horizontale y=0\n",
    "plt.plot([-0.7, 0.7], [0, 0], color='grey', ls='--')\n",
    "\n",
    "# Afficher une ligne verticale x=0\n",
    "plt.plot([0, 0], [-0.7, 0.7], color='grey', ls='--')\n",
    "\n",
    "plt.xlim([-0.7, 0.7])\n",
    "plt.ylim([-0.7, 0.7])"
   ]
  },
  {
   "cell_type": "code",
   "execution_count": 24,
   "metadata": {},
   "outputs": [
    {
     "data": {
      "image/png": "[encoded data removed]",
      "text/plain": [
       "<Figure size 432x288 with 2 Axes>"
      ]
     },
     "metadata": {
      "needs_background": "light"
     },
     "output_type": "display_data"
    }
   ],
   "source": [
    "corr = data.corr()\n",
    "ax = sns.heatmap(\n",
    "    corr, \n",
    "    vmin=-1, vmax=1, center=0,\n",
    "    cmap=sns.diverging_palette(20, 220, n=200),\n",
    "    square=True\n",
    ")\n",
    "ax.set_xticklabels(\n",
    "    ax.get_xticklabels(),\n",
    "    rotation=45,\n",
    "    horizontalalignment='right'\n",
    ");"
   ]
  },
  {
   "cell_type": "code",
   "execution_count": 25,
   "metadata": {},
   "outputs": [],
   "source": [
    "pca_3 = PCA(n_components=2).fit(X_scaled[:,:])"
   ]
  },
  {
   "cell_type": "code",
   "execution_count": 26,
   "metadata": {},
   "outputs": [],
   "source": [
    "X_proj_3 = pca_3.transform(X_scaled[:,:])"
   ]
  },
  {
   "cell_type": "code",
   "execution_count": 27,
   "metadata": {},
   "outputs": [
    {
     "data": {
      "text/plain": [
       "(-0.7, 0.7)"
      ]
     },
     "execution_count": 27,
     "metadata": {},
     "output_type": "execute_result"
    },
    {
     "data": {
      "image/png": "[encoded data removed]",
      "text/plain": [
       "<Figure size 432x288 with 1 Axes>"
      ]
     },
     "metadata": {
      "needs_background": "light"
     },
     "output_type": "display_data"
    }
   ],
   "source": [
    "pcs = pca_3.components_\n",
    "\n",
    "for i, (x, y) in enumerate(zip(pcs[0, :], pcs[1, :])):\n",
    "    # Afficher un segment de l'origine au point (x, y)\n",
    "    plt.plot([0, x], [0, y], color='k')\n",
    "    # Afficher le nom (data.columns[i]) de la performance\n",
    "    plt.text(x, y, data.columns[i], fontsize='14')\n",
    "\n",
    "# Afficher une ligne horizontale y=0\n",
    "plt.plot([-0.7, 0.7], [0, 0], color='grey', ls='--')\n",
    "\n",
    "# Afficher une ligne verticale x=0\n",
    "plt.plot([0, 0], [-0.7, 0.7], color='grey', ls='--')\n",
    "\n",
    "plt.xlim([-0.7, 0.7])\n",
    "plt.ylim([-0.7, 0.7])"
   ]
  },
  {
   "cell_type": "code",
   "execution_count": 29,
   "metadata": {},
   "outputs": [
    {
     "name": "stdout",
     "output_type": "stream",
     "text": [
      "(0.212433985587839, 0.34516245532171186)\n",
      "(0.25147265363823273, 0.26077796983520546)\n",
      "(0.2839724511306323, 0.11707107874453015)\n",
      "(0.2897198047975979, -0.06244116060060237)\n",
      "(0.26622668973696717, -0.2050516377795232)\n",
      "(0.2645187523934991, -0.21568122444361276)\n",
      "(0.25935277713306265, -0.23861122531583756)\n",
      "(0.2743545510599044, -0.1851195655409772)\n",
      "(0.2925696160647706, -0.07389751230626708)\n",
      "(0.28710186697100903, 0.11068544877261521)\n",
      "(0.25985260917940917, 0.22787881589126485)\n",
      "(0.2168368368635636, 0.3324617861608844)\n",
      "(-0.25903495199599, 0.12260088656175495)\n",
      "(0.0661427818162161, -0.42304443300806666)\n",
      "(0.2952550126558108, 0.043343655997224936)\n",
      "(0.049585618228268576, -0.48932209398166554)\n"
     ]
    }
   ],
   "source": [
    "for i in zip(pcs[0, :], pcs[1, :]):\n",
    "    print(i)"
   ]
  },
  {
   "cell_type": "code",
   "execution_count": null,
   "metadata": {},
   "outputs": [],
   "source": []
  }
 ],
 "metadata": {
  "kernelspec": {
   "display_name": "Python 3",
   "language": "python",
   "name": "python3"
  },
  "language_info": {
   "codemirror_mode": {
    "name": "ipython",
    "version": 3
   },
   "file_extension": ".py",
   "mimetype": "text/x-python",
   "name": "python",
   "nbconvert_exporter": "python",
   "pygments_lexer": "ipython3",
   "version": "3.6.8"
  }
 },
 "nbformat": 4,
 "nbformat_minor": 2
}
