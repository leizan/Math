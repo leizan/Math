{
 "cells": [
  {
   "cell_type": "markdown",
   "metadata": {},
   "source": [
    "# Correction TP1 \"Principal Component Analysis\""
   ]
  },
  {
   "cell_type": "markdown",
   "metadata": {},
   "source": [
    "## 4. Decathlon data"
   ]
  },
  {
   "cell_type": "code",
   "execution_count": 2,
   "metadata": {},
   "outputs": [],
   "source": [
    "# Libraries\n",
    "from sklearn import decomposition\n",
    "import pandas as pd\n",
    "from sklearn import preprocessing\n",
    "import numpy as np\n",
    "import matplotlib.pyplot as plt"
   ]
  },
  {
   "cell_type": "code",
   "execution_count": 5,
   "metadata": {},
   "outputs": [
    {
     "data": {
      "text/html": [
       "<div>\n",
       "<style scoped>\n",
       "    .dataframe tbody tr th:only-of-type {\n",
       "        vertical-align: middle;\n",
       "    }\n",
       "\n",
       "    .dataframe tbody tr th {\n",
       "        vertical-align: top;\n",
       "    }\n",
       "\n",
       "    .dataframe thead th {\n",
       "        text-align: right;\n",
       "    }\n",
       "</style>\n",
       "<table border=\"1\" class=\"dataframe\">\n",
       "  <thead>\n",
       "    <tr style=\"text-align: right;\">\n",
       "      <th></th>\n",
       "      <th>janvier</th>\n",
       "      <th>février</th>\n",
       "      <th>mars</th>\n",
       "      <th>avril</th>\n",
       "      <th>mai</th>\n",
       "      <th>juin</th>\n",
       "      <th>juillet</th>\n",
       "      <th>aout</th>\n",
       "      <th>septembre</th>\n",
       "      <th>octobre</th>\n",
       "      <th>novembre</th>\n",
       "      <th>décembre</th>\n",
       "      <th>lat</th>\n",
       "      <th>long</th>\n",
       "      <th>moy</th>\n",
       "      <th>amp</th>\n",
       "    </tr>\n",
       "  </thead>\n",
       "  <tbody>\n",
       "    <tr>\n",
       "      <th>Bordeaux</th>\n",
       "      <td>5.6</td>\n",
       "      <td>6.6</td>\n",
       "      <td>10.3</td>\n",
       "      <td>12.8</td>\n",
       "      <td>15.8</td>\n",
       "      <td>19.3</td>\n",
       "      <td>20.9</td>\n",
       "      <td>21.0</td>\n",
       "      <td>18.6</td>\n",
       "      <td>13.8</td>\n",
       "      <td>9.1</td>\n",
       "      <td>6.2</td>\n",
       "      <td>44.5</td>\n",
       "      <td>-0.34</td>\n",
       "      <td>13.3</td>\n",
       "      <td>15.4</td>\n",
       "    </tr>\n",
       "    <tr>\n",
       "      <th>Brest</th>\n",
       "      <td>6.1</td>\n",
       "      <td>5.8</td>\n",
       "      <td>7.8</td>\n",
       "      <td>9.2</td>\n",
       "      <td>11.6</td>\n",
       "      <td>14.4</td>\n",
       "      <td>15.6</td>\n",
       "      <td>16.0</td>\n",
       "      <td>14.7</td>\n",
       "      <td>12.0</td>\n",
       "      <td>9.0</td>\n",
       "      <td>7.0</td>\n",
       "      <td>48.2</td>\n",
       "      <td>-4.29</td>\n",
       "      <td>10.8</td>\n",
       "      <td>10.2</td>\n",
       "    </tr>\n",
       "    <tr>\n",
       "      <th>Clermont-Ferrand</th>\n",
       "      <td>2.6</td>\n",
       "      <td>3.7</td>\n",
       "      <td>7.5</td>\n",
       "      <td>10.3</td>\n",
       "      <td>13.8</td>\n",
       "      <td>17.3</td>\n",
       "      <td>19.4</td>\n",
       "      <td>19.1</td>\n",
       "      <td>16.2</td>\n",
       "      <td>11.2</td>\n",
       "      <td>6.6</td>\n",
       "      <td>3.6</td>\n",
       "      <td>45.5</td>\n",
       "      <td>3.05</td>\n",
       "      <td>10.9</td>\n",
       "      <td>16.8</td>\n",
       "    </tr>\n",
       "    <tr>\n",
       "      <th>Grenoble</th>\n",
       "      <td>1.5</td>\n",
       "      <td>3.2</td>\n",
       "      <td>7.7</td>\n",
       "      <td>10.6</td>\n",
       "      <td>14.5</td>\n",
       "      <td>17.8</td>\n",
       "      <td>20.1</td>\n",
       "      <td>19.5</td>\n",
       "      <td>16.7</td>\n",
       "      <td>11.4</td>\n",
       "      <td>6.5</td>\n",
       "      <td>2.3</td>\n",
       "      <td>45.1</td>\n",
       "      <td>5.43</td>\n",
       "      <td>11.0</td>\n",
       "      <td>18.6</td>\n",
       "    </tr>\n",
       "    <tr>\n",
       "      <th>Lille</th>\n",
       "      <td>2.4</td>\n",
       "      <td>2.9</td>\n",
       "      <td>6.0</td>\n",
       "      <td>8.9</td>\n",
       "      <td>12.4</td>\n",
       "      <td>15.3</td>\n",
       "      <td>17.1</td>\n",
       "      <td>17.1</td>\n",
       "      <td>14.7</td>\n",
       "      <td>10.4</td>\n",
       "      <td>6.1</td>\n",
       "      <td>3.5</td>\n",
       "      <td>50.4</td>\n",
       "      <td>3.04</td>\n",
       "      <td>9.7</td>\n",
       "      <td>14.7</td>\n",
       "    </tr>\n",
       "    <tr>\n",
       "      <th>Lyon</th>\n",
       "      <td>2.1</td>\n",
       "      <td>3.3</td>\n",
       "      <td>7.7</td>\n",
       "      <td>10.9</td>\n",
       "      <td>14.9</td>\n",
       "      <td>18.5</td>\n",
       "      <td>20.7</td>\n",
       "      <td>20.1</td>\n",
       "      <td>16.9</td>\n",
       "      <td>11.4</td>\n",
       "      <td>6.7</td>\n",
       "      <td>3.1</td>\n",
       "      <td>45.5</td>\n",
       "      <td>4.51</td>\n",
       "      <td>11.4</td>\n",
       "      <td>18.6</td>\n",
       "    </tr>\n",
       "    <tr>\n",
       "      <th>Marseille</th>\n",
       "      <td>5.5</td>\n",
       "      <td>6.6</td>\n",
       "      <td>10.0</td>\n",
       "      <td>13.0</td>\n",
       "      <td>16.8</td>\n",
       "      <td>20.8</td>\n",
       "      <td>23.3</td>\n",
       "      <td>22.8</td>\n",
       "      <td>19.9</td>\n",
       "      <td>15.0</td>\n",
       "      <td>10.2</td>\n",
       "      <td>6.9</td>\n",
       "      <td>43.2</td>\n",
       "      <td>5.24</td>\n",
       "      <td>14.2</td>\n",
       "      <td>17.8</td>\n",
       "    </tr>\n",
       "    <tr>\n",
       "      <th>Montpellier</th>\n",
       "      <td>5.6</td>\n",
       "      <td>6.7</td>\n",
       "      <td>9.9</td>\n",
       "      <td>12.8</td>\n",
       "      <td>16.2</td>\n",
       "      <td>20.1</td>\n",
       "      <td>22.7</td>\n",
       "      <td>22.3</td>\n",
       "      <td>19.3</td>\n",
       "      <td>14.6</td>\n",
       "      <td>10.0</td>\n",
       "      <td>6.5</td>\n",
       "      <td>43.4</td>\n",
       "      <td>3.53</td>\n",
       "      <td>13.9</td>\n",
       "      <td>17.1</td>\n",
       "    </tr>\n",
       "    <tr>\n",
       "      <th>Nantes</th>\n",
       "      <td>5.0</td>\n",
       "      <td>5.3</td>\n",
       "      <td>8.4</td>\n",
       "      <td>10.8</td>\n",
       "      <td>13.9</td>\n",
       "      <td>17.2</td>\n",
       "      <td>18.8</td>\n",
       "      <td>18.6</td>\n",
       "      <td>16.4</td>\n",
       "      <td>12.2</td>\n",
       "      <td>8.2</td>\n",
       "      <td>5.5</td>\n",
       "      <td>47.1</td>\n",
       "      <td>-1.33</td>\n",
       "      <td>11.7</td>\n",
       "      <td>13.8</td>\n",
       "    </tr>\n",
       "    <tr>\n",
       "      <th>Nice</th>\n",
       "      <td>7.5</td>\n",
       "      <td>8.5</td>\n",
       "      <td>10.8</td>\n",
       "      <td>13.3</td>\n",
       "      <td>16.7</td>\n",
       "      <td>20.1</td>\n",
       "      <td>22.7</td>\n",
       "      <td>22.5</td>\n",
       "      <td>20.3</td>\n",
       "      <td>16.0</td>\n",
       "      <td>11.5</td>\n",
       "      <td>8.2</td>\n",
       "      <td>43.4</td>\n",
       "      <td>7.15</td>\n",
       "      <td>14.8</td>\n",
       "      <td>15.2</td>\n",
       "    </tr>\n",
       "    <tr>\n",
       "      <th>Paris</th>\n",
       "      <td>3.4</td>\n",
       "      <td>4.1</td>\n",
       "      <td>7.6</td>\n",
       "      <td>10.7</td>\n",
       "      <td>14.3</td>\n",
       "      <td>17.5</td>\n",
       "      <td>19.1</td>\n",
       "      <td>18.7</td>\n",
       "      <td>16.0</td>\n",
       "      <td>11.4</td>\n",
       "      <td>7.1</td>\n",
       "      <td>4.3</td>\n",
       "      <td>48.5</td>\n",
       "      <td>2.20</td>\n",
       "      <td>11.2</td>\n",
       "      <td>15.7</td>\n",
       "    </tr>\n",
       "    <tr>\n",
       "      <th>Rennes</th>\n",
       "      <td>4.8</td>\n",
       "      <td>5.3</td>\n",
       "      <td>7.9</td>\n",
       "      <td>10.1</td>\n",
       "      <td>13.1</td>\n",
       "      <td>16.2</td>\n",
       "      <td>17.9</td>\n",
       "      <td>17.8</td>\n",
       "      <td>15.7</td>\n",
       "      <td>11.6</td>\n",
       "      <td>7.8</td>\n",
       "      <td>5.4</td>\n",
       "      <td>48.1</td>\n",
       "      <td>-1.41</td>\n",
       "      <td>11.1</td>\n",
       "      <td>13.1</td>\n",
       "    </tr>\n",
       "    <tr>\n",
       "      <th>Strasbourg</th>\n",
       "      <td>0.4</td>\n",
       "      <td>1.5</td>\n",
       "      <td>5.6</td>\n",
       "      <td>9.8</td>\n",
       "      <td>14.0</td>\n",
       "      <td>17.2</td>\n",
       "      <td>19.0</td>\n",
       "      <td>18.3</td>\n",
       "      <td>15.1</td>\n",
       "      <td>9.5</td>\n",
       "      <td>4.9</td>\n",
       "      <td>1.3</td>\n",
       "      <td>48.4</td>\n",
       "      <td>7.45</td>\n",
       "      <td>9.7</td>\n",
       "      <td>18.6</td>\n",
       "    </tr>\n",
       "    <tr>\n",
       "      <th>Toulouse</th>\n",
       "      <td>4.7</td>\n",
       "      <td>5.6</td>\n",
       "      <td>9.2</td>\n",
       "      <td>11.6</td>\n",
       "      <td>14.9</td>\n",
       "      <td>18.7</td>\n",
       "      <td>20.9</td>\n",
       "      <td>20.9</td>\n",
       "      <td>18.3</td>\n",
       "      <td>13.3</td>\n",
       "      <td>8.6</td>\n",
       "      <td>5.5</td>\n",
       "      <td>43.4</td>\n",
       "      <td>1.26</td>\n",
       "      <td>12.7</td>\n",
       "      <td>16.2</td>\n",
       "    </tr>\n",
       "    <tr>\n",
       "      <th>Vichy</th>\n",
       "      <td>2.4</td>\n",
       "      <td>3.4</td>\n",
       "      <td>7.1</td>\n",
       "      <td>9.9</td>\n",
       "      <td>13.6</td>\n",
       "      <td>17.1</td>\n",
       "      <td>19.3</td>\n",
       "      <td>18.8</td>\n",
       "      <td>16.0</td>\n",
       "      <td>11.0</td>\n",
       "      <td>6.6</td>\n",
       "      <td>3.4</td>\n",
       "      <td>46.1</td>\n",
       "      <td>3.26</td>\n",
       "      <td>10.7</td>\n",
       "      <td>16.9</td>\n",
       "    </tr>\n",
       "  </tbody>\n",
       "</table>\n",
       "</div>"
      ],
      "text/plain": [
       "                  janvier  février  mars  avril   mai  juin  juillet  aout  \\\n",
       "Bordeaux              5.6      6.6  10.3   12.8  15.8  19.3     20.9  21.0   \n",
       "Brest                 6.1      5.8   7.8    9.2  11.6  14.4     15.6  16.0   \n",
       "Clermont-Ferrand      2.6      3.7   7.5   10.3  13.8  17.3     19.4  19.1   \n",
       "Grenoble              1.5      3.2   7.7   10.6  14.5  17.8     20.1  19.5   \n",
       "Lille                 2.4      2.9   6.0    8.9  12.4  15.3     17.1  17.1   \n",
       "Lyon                  2.1      3.3   7.7   10.9  14.9  18.5     20.7  20.1   \n",
       "Marseille             5.5      6.6  10.0   13.0  16.8  20.8     23.3  22.8   \n",
       "Montpellier           5.6      6.7   9.9   12.8  16.2  20.1     22.7  22.3   \n",
       "Nantes                5.0      5.3   8.4   10.8  13.9  17.2     18.8  18.6   \n",
       "Nice                  7.5      8.5  10.8   13.3  16.7  20.1     22.7  22.5   \n",
       "Paris                 3.4      4.1   7.6   10.7  14.3  17.5     19.1  18.7   \n",
       "Rennes                4.8      5.3   7.9   10.1  13.1  16.2     17.9  17.8   \n",
       "Strasbourg            0.4      1.5   5.6    9.8  14.0  17.2     19.0  18.3   \n",
       "Toulouse              4.7      5.6   9.2   11.6  14.9  18.7     20.9  20.9   \n",
       "Vichy                 2.4      3.4   7.1    9.9  13.6  17.1     19.3  18.8   \n",
       "\n",
       "                  septembre  octobre  novembre  décembre   lat  long   moy  \\\n",
       "Bordeaux               18.6     13.8       9.1       6.2  44.5 -0.34  13.3   \n",
       "Brest                  14.7     12.0       9.0       7.0  48.2 -4.29  10.8   \n",
       "Clermont-Ferrand       16.2     11.2       6.6       3.6  45.5  3.05  10.9   \n",
       "Grenoble               16.7     11.4       6.5       2.3  45.1  5.43  11.0   \n",
       "Lille                  14.7     10.4       6.1       3.5  50.4  3.04   9.7   \n",
       "Lyon                   16.9     11.4       6.7       3.1  45.5  4.51  11.4   \n",
       "Marseille              19.9     15.0      10.2       6.9  43.2  5.24  14.2   \n",
       "Montpellier            19.3     14.6      10.0       6.5  43.4  3.53  13.9   \n",
       "Nantes                 16.4     12.2       8.2       5.5  47.1 -1.33  11.7   \n",
       "Nice                   20.3     16.0      11.5       8.2  43.4  7.15  14.8   \n",
       "Paris                  16.0     11.4       7.1       4.3  48.5  2.20  11.2   \n",
       "Rennes                 15.7     11.6       7.8       5.4  48.1 -1.41  11.1   \n",
       "Strasbourg             15.1      9.5       4.9       1.3  48.4  7.45   9.7   \n",
       "Toulouse               18.3     13.3       8.6       5.5  43.4  1.26  12.7   \n",
       "Vichy                  16.0     11.0       6.6       3.4  46.1  3.26  10.7   \n",
       "\n",
       "                   amp  \n",
       "Bordeaux          15.4  \n",
       "Brest             10.2  \n",
       "Clermont-Ferrand  16.8  \n",
       "Grenoble          18.6  \n",
       "Lille             14.7  \n",
       "Lyon              18.6  \n",
       "Marseille         17.8  \n",
       "Montpellier       17.1  \n",
       "Nantes            13.8  \n",
       "Nice              15.2  \n",
       "Paris             15.7  \n",
       "Rennes            13.1  \n",
       "Strasbourg        18.6  \n",
       "Toulouse          16.2  \n",
       "Vichy             16.9  "
      ]
     },
     "execution_count": 5,
     "metadata": {},
     "output_type": "execute_result"
    }
   ],
   "source": [
    "# Load the data\n",
    "data = pd.read_csv('villes.txt',sep=' ')\n",
    "data"
   ]
  },
  {
   "cell_type": "markdown",
   "metadata": {},
   "source": [
    "__Remark__: Here, we will assume that features are month (12 features), and samples are cities (15 samples). We could do an ACP by doing the opposite choice. This choice is \"month point of view\". We may predict the position of each city (columns long/lag) from the projection of each sample-city onto its principal components."
   ]
  },
  {
   "cell_type": "code",
   "execution_count": 14,
   "metadata": {},
   "outputs": [],
   "source": [
    "# Eliminate columns we do not use\n",
    "my_data = data.drop(['lat', 'long', 'moy','amp'], axis=1)\n",
    "X = my_data.values[:,0:12]"
   ]
  },
  {
   "cell_type": "markdown",
   "metadata": {},
   "source": [
    "__Remark__: the columns eliminated with data.drop correspond to illustrative variables. "
   ]
  },
  {
   "cell_type": "code",
   "execution_count": 13,
   "metadata": {},
   "outputs": [],
   "source": [
    "# Preprocessing\n",
    "std_scale = preprocessing.StandardScaler().fit(X)\n",
    "X_scaled = std_scale.transform(X)"
   ]
  },
  {
   "cell_type": "markdown",
   "metadata": {},
   "source": [
    "__Remark__: Values in X_scaled are supposed to be $0$ mean (per feature, i.e. column) and variance 1."
   ]
  },
  {
   "cell_type": "code",
   "execution_count": 20,
   "metadata": {},
   "outputs": [
    {
     "data": {
      "text/plain": [
       "PCA(copy=True, iterated_power='auto', n_components=12, random_state=None,\n",
       "  svd_solver='auto', tol=0.0, whiten=False)"
      ]
     },
     "execution_count": 20,
     "metadata": {},
     "output_type": "execute_result"
    }
   ],
   "source": [
    "# Principal component analysis (first two components. \n",
    "# In order to consider V components, change the parameter n_components to V)\n",
    "pca = decomposition.PCA(n_components=12)\n",
    "pca.fit(X_scaled)"
   ]
  },
  {
   "cell_type": "code",
   "execution_count": 22,
   "metadata": {},
   "outputs": [
    {
     "name": "stdout",
     "output_type": "stream",
     "text": [
      "Relative variance (sum over ALL components would equal 1)\n",
      "[7.98481632e-01 1.89701533e-01 5.83453368e-03 3.30622762e-03\n",
      " 1.17044084e-03 6.65128070e-04 5.04104622e-04 1.45574414e-04\n",
      " 1.24348177e-04 4.10111200e-05 2.38196449e-05 1.64684187e-06]\n",
      "\n",
      " Corresponding singular values\n",
      "[11.98860683  5.84348149  1.0248005   0.77144084  0.4589982   0.34601019\n",
      "  0.30122887  0.16187463  0.14960839  0.08591858  0.06547928  0.01721719]\n"
     ]
    }
   ],
   "source": [
    "# Inertia, or relative variance, of each component. \n",
    "print(\"Relative variance (sum over ALL components would equal 1)\")\n",
    "print(pca.explained_variance_ratio_)\n",
    "\n",
    "# Corresponding singular values\n",
    "print(\"\\n Corresponding singular values\")\n",
    "print(pca.singular_values_)"
   ]
  },
  {
   "cell_type": "markdown",
   "metadata": {},
   "source": [
    "__Remark__: \"Relative variance\" (also called inertia) gives the weight of each principal component onto the total variance in the data."
   ]
  },
  {
   "cell_type": "code",
   "execution_count": 26,
   "metadata": {},
   "outputs": [
    {
     "data": {
      "text/plain": [
       "Text(0, 0.5, 'PC2')"
      ]
     },
     "execution_count": 26,
     "metadata": {},
     "output_type": "execute_result"
    },
    {
     "data": {
      "image/png": "[encoded data removed]",
      "text/plain": [
       "<Figure size 432x288 with 2 Axes>"
      ]
     },
     "metadata": {
      "needs_background": "light"
     },
     "output_type": "display_data"
    }
   ],
   "source": [
    "# Project X onto its two principal components\n",
    "X_projected = pca.transform(X_scaled)\n",
    "\n",
    "# Display each observation\n",
    "plt.scatter(X_projected[:, 0], X_projected[:, 1],\n",
    "    # colorer en utilisant la variable 'Rank'\n",
    "    c=data.get('lat'))\n",
    "\n",
    "plt.xlim([-5.5, 5.5])\n",
    "plt.ylim([-4, 4])\n",
    "plt.colorbar()\n",
    "plt.xlabel(\"PC1\")\n",
    "plt.ylabel(\"PC2\")"
   ]
  },
  {
   "cell_type": "markdown",
   "metadata": {},
   "source": [
    "__Remark__: if c=data.get('lat'), colorbar represents the latitude. By doing this, we can see that the first component represents the latitude... Changping 'lat' into 'long' allows to show that the second component represents the longitude!"
   ]
  },
  {
   "cell_type": "code",
   "execution_count": 28,
   "metadata": {},
   "outputs": [
    {
     "data": {
      "text/plain": [
       "Text(0, 0.5, 'PC2')"
      ]
     },
     "execution_count": 28,
     "metadata": {},
     "output_type": "execute_result"
    },
    {
     "data": {
      "image/png": "[encoded data removed]",
      "text/plain": [
       "<Figure size 432x288 with 1 Axes>"
      ]
     },
     "metadata": {
      "needs_background": "light"
     },
     "output_type": "display_data"
    }
   ],
   "source": [
    "pcs = pca.components_\n",
    "\n",
    "for i, (x, y) in enumerate(zip(pcs[0, :], pcs[1, :])):\n",
    "    plt.plot([0, x], [0, y], color='k')\n",
    "    # Display month name\n",
    "    plt.text(x, y, data.columns[i], fontsize='14')\n",
    "\n",
    "plt.plot([-0.7, 0.7], [0, 0], color='grey', ls='--')\n",
    "\n",
    "plt.plot([0, 0], [-0.7, 0.7], color='grey', ls='--')\n",
    "plt.xlim([-0.7, 0.7])\n",
    "plt.ylim([-0.7, 0.7])\n",
    "\n",
    "plt.xlabel(\"PC1\")\n",
    "plt.ylabel(\"PC2\")"
   ]
  },
  {
   "cell_type": "markdown",
   "metadata": {},
   "source": [
    "__Remark__ : This figure represents the contributions of each month to the first two principal components. It also shows the correlations between variables. "
   ]
  }
 ],
 "metadata": {
  "kernelspec": {
   "display_name": "Python 3",
   "language": "python",
   "name": "python3"
  },
  "language_info": {
   "codemirror_mode": {
    "name": "ipython",
    "version": 3
   },
   "file_extension": ".py",
   "mimetype": "text/x-python",
   "name": "python",
   "nbconvert_exporter": "python",
   "pygments_lexer": "ipython3",
   "version": "3.7.3"
  }
 },
 "nbformat": 4,
 "nbformat_minor": 2
}
