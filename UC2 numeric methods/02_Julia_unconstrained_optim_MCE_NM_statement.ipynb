{
 "cells": [
  {
   "cell_type": "markdown",
   "metadata": {},
   "source": [
    "<img\n",
    "src=\"https://www.imt-atlantique.fr/sites/default/files/Images/Ecole/charte-graphique/IMT_Atlantique_logo_RVB_Baseline_400x272.jpg\"\n",
    "WIDTH=200 HEIGHT=200>\n",
    "\n",
    "<CENTER>\n",
    "</br>\n",
    "<p><font size=\"5\"> TAF MCE - 2019</span></p>\n",
    "<p><font size=\"4\">  UE Numerical Methods </font></p>\n",
    "<p></p>\n",
    "<p><font size=\"5\">  Notebook 02: Julia lab - unconstrained optimization </font></p>\n",
    "</p></br>\n",
    "</p>\n",
    "</CENTER>\n",
    "\n",
    "----------------------------"
   ]
  },
  {
   "cell_type": "markdown",
   "metadata": {},
   "source": [
    "In this lab, we want first to test the benefit of backtracking against constant stepsize for gradient or newton algorithms. Then, we will consider the behavior of conjugate-gradient and Polack-Ribière technique that work without knowledge of the Hessian matrix of the function to be optimized.\n",
    "\n",
    "## <span style=\"color:#00B8DE\"> I - Function plot </span>\n",
    "\n",
    "**1)** Let us consider the function $f(x,y)=[(x-2)\\sin(y-1)]^2+x^2+y^2$. \n",
    "Visualize this function on the square with vertices $(\\pm 3,\\pm 3)$.\n",
    "\n",
    "## <span style=\"color:#00B8DE\"> II - Backtracking </span>\n",
    "\n",
    "**2)** Testing the benefit of backtracking. Calculate gradient of this function and implement gradient algorithm\n",
    "for constant stepsize equal to .1 and then .01 and using backtracking. Compare the numbers of iterations necessary for convergence with initialization at point $(−4, -2)$ and residual error for the distance to the optimum smaller than $10^{−3}$.\n",
    "\n",
    "## <span style=\"color:#00B8DE\"> III - Gradient and Newton </span>\n",
    "**3)** Implement Newton algorithm with backtracking to minimize $f(x,y)$ and compare results to gradient algorithm with backtracking.\n",
    "\n",
    "## <span style=\"color:#00B8DE\"> IV - Conjugate gradient </span>\n",
    "**4)** Implement the conjugate-gradient algorithm and test it on a simple quadratic function $p({\\bf x})=\\frac 1 2 {\\bf x^TAx}-{\\bf x^Tb}$ with ${\\bf A} = [1\\; 0;0\\; 5]$ and ${\\bf b}=[1; 1]$.How many steps are required for convergence ? \n",
    "\n",
    "**5)** Consider a larger problem where \n",
    "\n",
    "        n = 10  # 100\n",
    "        \n",
    "        a = randn(n,n)\n",
    "        \n",
    "        A = a'*a + diagm(0=>ones(n)) # A = a'*a\n",
    "        \n",
    "        b = randn(n)\n",
    "\n",
    "For $n=10,100$, check the influence of the condition number of ${\\bf A}$ by adding or removing term **diagm(0=>ones(n))**.\n",
    "\n",
    "## <span style=\"color:#00B8DE\"> V - Polak-Ribière </span>\n",
    "**6)** Considering again function, compare the performance of gradientand Polack-Ribiere algorithms with backtracking and initialization at point $(−4, -2)$. \n",
    "\n",
    "## <span style=\"color:#00B8DE\"> VI - Changing initialization </span>\n",
    "**7)** What occurs with these algorithms when changing intilialization to point $(-5,-0.5)$ ? Explain.\n",
    "\n",
    "\n",
    "## <span style=\"color:#00B8DE\">References (Wikipedia/book)</span>\n",
    "> - [Gradient algorithm](http://en.wikipedia.org/wiki/Gradient_descent)\n",
    "> - [Nonlinear conjugate gradient method and Polack-Ribière algoritm](http://en.wikipedia.org/wiki/Nonlinear_conjugate_gradient_method)\n",
    "> - [Backtracking](http://www.stanford.edu/~boyd/cvxbook/bv_cvxbook.pdf)  (p.464)\n"
   ]
  },
  {
   "cell_type": "markdown",
   "metadata": {},
   "source": [
    "---------\n",
    "### <span style=\"color:#00B8DE\"> I - Function plot </span>\n"
   ]
  },
  {
   "cell_type": "code",
   "execution_count": 35,
   "metadata": {},
   "outputs": [
    {
     "name": "stdout",
     "output_type": "stream",
     "text": [
      "\u001b[32m\u001b[1m Resolving\u001b[22m\u001b[39m package versions...\n",
      "\u001b[32m\u001b[1m Installed\u001b[22m\u001b[39m JSExpr ──────────────── v0.5.1\n",
      "\u001b[32m\u001b[1m Installed\u001b[22m\u001b[39m Plotly ──────────────── v0.2.0\n",
      "\u001b[32m\u001b[1m Installed\u001b[22m\u001b[39m Hiccup ──────────────── v0.2.2\n",
      "\u001b[32m\u001b[1m Installed\u001b[22m\u001b[39m Mustache ────────────── v0.5.13\n",
      "\u001b[32m\u001b[1m Installed\u001b[22m\u001b[39m Pidfile ─────────────── v1.1.0\n",
      "\u001b[32m\u001b[1m Installed\u001b[22m\u001b[39m DocStringExtensions ─── v0.8.1\n",
      "\u001b[32m\u001b[1m Installed\u001b[22m\u001b[39m PlotlyJS ────────────── v0.13.0\n",
      "\u001b[32m\u001b[1m Installed\u001b[22m\u001b[39m WebIO ───────────────── v0.8.11\n",
      "\u001b[32m\u001b[1m Installed\u001b[22m\u001b[39m IniFile ─────────────── v0.5.0\n",
      "\u001b[32m\u001b[1m Installed\u001b[22m\u001b[39m Widgets ─────────────── v0.6.2\n",
      "\u001b[32m\u001b[1m Installed\u001b[22m\u001b[39m FunctionalCollections ─ v0.5.0\n",
      "\u001b[32m\u001b[1m Installed\u001b[22m\u001b[39m Mux ─────────────────── v0.7.0\n",
      "\u001b[32m\u001b[1m Installed\u001b[22m\u001b[39m AssetRegistry ───────── v0.1.0\n",
      "\u001b[32m\u001b[1m Installed\u001b[22m\u001b[39m Lazy ────────────────── v0.13.2\n",
      "\u001b[32m\u001b[1m Installed\u001b[22m\u001b[39m PlotlyBase ──────────── v0.3.0\n",
      "\u001b[32m\u001b[1m Installed\u001b[22m\u001b[39m Observables ─────────── v0.2.3\n",
      "\u001b[32m\u001b[1m Installed\u001b[22m\u001b[39m HTTP ────────────────── v0.8.6\n",
      "\u001b[32m\u001b[1m Installed\u001b[22m\u001b[39m WebSockets ──────────── v1.5.2\n",
      "\u001b[32m\u001b[1m Installed\u001b[22m\u001b[39m Blink ───────────────── v0.12.0\n",
      "\u001b[32m\u001b[1m  Updating\u001b[22m\u001b[39m `~/.julia/environments/v1.2/Project.toml`\n",
      " \u001b[90m [58dd65bb]\u001b[39m\u001b[92m + Plotly v0.2.0\u001b[39m\n",
      "\u001b[32m\u001b[1m  Updating\u001b[22m\u001b[39m `~/.julia/environments/v1.2/Manifest.toml`\n",
      " \u001b[90m [bf4720bc]\u001b[39m\u001b[92m + AssetRegistry v0.1.0\u001b[39m\n",
      " \u001b[90m [ad839575]\u001b[39m\u001b[92m + Blink v0.12.0\u001b[39m\n",
      " \u001b[90m [ffbed154]\u001b[39m\u001b[92m + DocStringExtensions v0.8.1\u001b[39m\n",
      " \u001b[90m [de31a74c]\u001b[39m\u001b[92m + FunctionalCollections v0.5.0\u001b[39m\n",
      " \u001b[90m [cd3eb016]\u001b[39m\u001b[92m + HTTP v0.8.6\u001b[39m\n",
      " \u001b[90m [9fb69e20]\u001b[39m\u001b[92m + Hiccup v0.2.2\u001b[39m\n",
      " \u001b[90m [83e8ac13]\u001b[39m\u001b[92m + IniFile v0.5.0\u001b[39m\n",
      " \u001b[90m [97c1335a]\u001b[39m\u001b[92m + JSExpr v0.5.1\u001b[39m\n",
      " \u001b[90m [50d2b5c4]\u001b[39m\u001b[92m + Lazy v0.13.2\u001b[39m\n",
      " \u001b[90m [ffc61752]\u001b[39m\u001b[92m + Mustache v0.5.13\u001b[39m\n",
      " \u001b[90m [a975b10e]\u001b[39m\u001b[92m + Mux v0.7.0\u001b[39m\n",
      " \u001b[90m [510215fc]\u001b[39m\u001b[92m + Observables v0.2.3\u001b[39m\n",
      " \u001b[90m [fa939f87]\u001b[39m\u001b[92m + Pidfile v1.1.0\u001b[39m\n",
      " \u001b[90m [58dd65bb]\u001b[39m\u001b[92m + Plotly v0.2.0\u001b[39m\n",
      " \u001b[90m [a03496cd]\u001b[39m\u001b[92m + PlotlyBase v0.3.0\u001b[39m\n",
      " \u001b[90m [f0f68f2c]\u001b[39m\u001b[92m + PlotlyJS v0.13.0\u001b[39m\n",
      " \u001b[90m [0f1e0344]\u001b[39m\u001b[92m + WebIO v0.8.11\u001b[39m\n",
      " \u001b[90m [104b5d7c]\u001b[39m\u001b[92m + WebSockets v1.5.2\u001b[39m\n",
      " \u001b[90m [cc8bc4a8]\u001b[39m\u001b[92m + Widgets v0.6.2\u001b[39m\n",
      "\u001b[32m\u001b[1m  Building\u001b[22m\u001b[39m WebIO ───→ `~/.julia/packages/WebIO/2mZPb/deps/build.log`\n",
      "\u001b[32m\u001b[1m  Building\u001b[22m\u001b[39m Blink ───→ `~/.julia/packages/Blink/AO8uN/deps/build.log`\n",
      "\u001b[32m\u001b[1m  Building\u001b[22m\u001b[39m PlotlyJS → `~/.julia/packages/PlotlyJS/b9Efu/deps/build.log`\n"
     ]
    }
   ],
   "source": [
    "import Pkg; \n",
    "Pkg.add(\"Plotly\");\n"
   ]
  },
  {
   "cell_type": "code",
   "execution_count": 25,
   "metadata": {},
   "outputs": [
    {
     "data": {
      "text/plain": [
       "∇f (generic function with 1 method)"
      ]
     },
     "execution_count": 25,
     "metadata": {},
     "output_type": "execute_result"
    }
   ],
   "source": [
    "f(x,y)  = ((x-2)*sin(y-1))^2 + x^2 + y^2 \n",
    "∇f(x,y)  =[2*(x-2)*(sin(y-1))^2+2*x; 2*(x-2)^2 * sin(y-1) * cos(y-1)+2*y]"
   ]
  },
  {
   "cell_type": "code",
   "execution_count": 26,
   "metadata": {},
   "outputs": [
    {
     "name": "stdout",
     "output_type": "stream",
     "text": [
      "min f(x,y) = 0.7902328773913346\n",
      "optimum at (x*,y*) = (0.09172811859570773,0.7789586896619789)\n"
     ]
    }
   ],
   "source": [
    "opt = [0.09172811859570773;0.7789586896619789]\n",
    "println(\"min f(x,y) = $(f(opt[1],opt[2]))\")\n",
    "println(\"optimum at (x*,y*) = ($(opt[1]),$(opt[2]))\")"
   ]
  },
  {
   "cell_type": "code",
   "execution_count": null,
   "metadata": {},
   "outputs": [],
   "source": [
    "using Plots;\n",
    "pyplot()\n",
    "x = collect(Float16, range(-3,length=100,stop=3));\n",
    "y = collect(Float16, range(-3,length=100, stop=3));\n",
    "z = f.(x,y);# ((x.-2).*sin(y.-1)).^2 + x.^2 + y.^2 ;\n",
    "contour(x,y,z);"
   ]
  },
  {
   "cell_type": "code",
   "execution_count": 36,
   "metadata": {},
   "outputs": [
    {
     "name": "stderr",
     "output_type": "stream",
     "text": [
      "┌ Info: Precompiling Plotly [58dd65bb-95f3-509e-9936-c39a10fdeae7]\n",
      "└ @ Base loading.jl:1242\n",
      "WARNING: using HTTP.stack in module Mux conflicts with an existing identifier.\n",
      "WARNING: Method definition savehtml(IO, PlotlyBase.Plot{TT} where TT<:PlotlyBase.AbstractTrace) in module PlotlyBase at /homes/n17zan/.julia/packages/PlotlyBase/80KwD/src/output.jl:40 overwritten in module PlotlyJS at /homes/n17zan/.julia/packages/PlotlyJS/b9Efu/src/display.jl:334.\n",
      "  ** incremental compilation may be fatally broken for this module **\n",
      "\n",
      "WARNING: Method definition savehtml(PlotlyBase.Plot{TT} where TT<:PlotlyBase.AbstractTrace, AbstractString) in module PlotlyBase at /homes/n17zan/.julia/packages/PlotlyBase/80KwD/src/output.jl:52 overwritten in module PlotlyJS at /homes/n17zan/.julia/packages/PlotlyJS/b9Efu/src/display.jl:361.\n",
      "  ** incremental compilation may be fatally broken for this module **\n",
      "\n",
      "WARNING: Method definition savehtml(IO, PlotlyBase.Plot{TT} where TT<:PlotlyBase.AbstractTrace) in module PlotlyBase at /homes/n17zan/.julia/packages/PlotlyBase/80KwD/src/output.jl:40 overwritten in module PlotlyJS at /homes/n17zan/.julia/packages/PlotlyJS/b9Efu/src/display.jl:334.\n",
      "  ** incremental compilation may be fatally broken for this module **\n",
      "\n",
      "WARNING: Method definition savehtml(PlotlyBase.Plot{TT} where TT<:PlotlyBase.AbstractTrace, AbstractString) in module PlotlyBase at /homes/n17zan/.julia/packages/PlotlyBase/80KwD/src/output.jl:52 overwritten in module PlotlyJS at /homes/n17zan/.julia/packages/PlotlyJS/b9Efu/src/display.jl:361.\n",
      "  ** incremental compilation may be fatally broken for this module **\n",
      "\n"
     ]
    },
    {
     "data": {
      "text/html": [
       "<script>\n",
       "// Immediately-invoked-function-expression to avoid global variables.\n",
       "(function() {\n",
       "    var warning_div = document.getElementById(\"webio-warning-6987488216158912258\");\n",
       "    var hide = function () {\n",
       "        var script = document.getElementById(\"webio-setup-8427946949610078913\");\n",
       "        var parent = script && script.parentElement;\n",
       "        var grandparent = parent && parent.parentElement;\n",
       "        if (grandparent) {\n",
       "            grandparent.style.display = \"none\";\n",
       "        }\n",
       "        warning_div.style.display = \"none\";\n",
       "    };\n",
       "    if (typeof Jupyter !== \"undefined\") {\n",
       "        console.log(\"WebIO detected Jupyter notebook environment.\");\n",
       "        // Jupyter notebook.\n",
       "        var extensions = (\n",
       "            Jupyter\n",
       "            && Jupyter.notebook.config.data\n",
       "            && Jupyter.notebook.config.data.load_extensions\n",
       "        );\n",
       "        if (extensions && extensions[\"webio-jupyter-notebook\"]) {\n",
       "            // Extension already loaded.\n",
       "            console.log(\"Jupyter WebIO nbextension detected; not loading ad-hoc.\");\n",
       "            hide();\n",
       "            return;\n",
       "        }\n",
       "    } else if (window.location.pathname.includes(\"/lab\")) {\n",
       "        // Guessing JupyterLa\n",
       "        console.log(\"Jupyter Lab detected; make sure the @webio/jupyter-lab-provider labextension is installed.\");\n",
       "        hide();\n",
       "        return;\n",
       "    }\n",
       "})();\n",
       "\n",
       "</script>\n",
       "<p\n",
       "    id=\"webio-warning-6987488216158912258\"\n",
       "    class=\"output_text output_stderr\"\n",
       "    style=\"padding: 1em; font-weight: bold;\"\n",
       ">\n",
       "    Unable to load WebIO. Please make sure WebIO works for your Jupyter client.\n",
       "    For troubleshooting, please see <a href=\"https://juliagizmos.github.io/WebIO.jl/latest/providers/ijulia/\">\n",
       "    the WebIO/IJulia documentation</a>.\n",
       "    <!-- TODO: link to installation docs. -->\n",
       "</p>\n"
      ],
      "text/plain": [
       "HTML{String}(\"<script>\\n// Immediately-invoked-function-expression to avoid global variables.\\n(function() {\\n    var warning_div = document.getElementById(\\\"webio-warning-6987488216158912258\\\");\\n    var hide = function () {\\n        var script = document.getElementById(\\\"webio-setup-8427946949610078913\\\");\\n        var parent = script && script.parentElement;\\n        var grandparent = parent && parent.parentElement;\\n        if (grandparent) {\\n            grandparent.style.display = \\\"none\\\";\\n        }\\n        warning_div.style.display = \\\"none\\\";\\n    };\\n    if (typeof Jupyter !== \\\"undefined\\\") {\\n        console.log(\\\"WebIO detected Jupyter notebook environment.\\\");\\n        // Jupyter notebook.\\n        var extensions = (\\n            Jupyter\\n            && Jupyter.notebook.config.data\\n            && Jupyter.notebook.config.data.load_extensions\\n        );\\n        if (extensions && extensions[\\\"webio-jupyter-notebook\\\"]) {\\n            // Extension already loaded.\\n            console.log(\\\"Jupyter WebIO nbextension detected; not loading ad-hoc.\\\");\\n            hide();\\n            return;\\n        }\\n    } else if (window.location.pathname.includes(\\\"/lab\\\")) {\\n        // Guessing JupyterLa\\n        console.log(\\\"Jupyter Lab detected; make sure the @webio/jupyter-lab-provider labextension is installed.\\\");\\n        hide();\\n        return;\\n    }\\n})();\\n\\n</script>\\n<p\\n    id=\\\"webio-warning-6987488216158912258\\\"\\n    class=\\\"output_text output_stderr\\\"\\n    style=\\\"padding: 1em; font-weight: bold;\\\"\\n>\\n    Unable to load WebIO. Please make sure WebIO works for your Jupyter client.\\n    For troubleshooting, please see <a href=\\\"https://juliagizmos.github.io/WebIO.jl/latest/providers/ijulia/\\\">\\n    the WebIO/IJulia documentation</a>.\\n    <!-- TODO: link to installation docs. -->\\n</p>\\n\")"
      ]
     },
     "metadata": {},
     "output_type": "display_data"
    },
    {
     "ename": "LoadError",
     "evalue": "syntax: unexpected comma in matrix expression",
     "output_type": "error",
     "traceback": [
      "syntax: unexpected comma in matrix expression",
      ""
     ]
    }
   ],
   "source": [
    "# For options of Plots.jl, see https://docs.juliaplots.org/latest/\n",
    "using Plotly;\n",
    "pyplot()\n",
    "n = 100;\n",
    "x = range(-3, stop=3, length=n);\n",
    "y = range(-3, stop=3, length=n);\n",
    "z = f.(x,y);\n",
    "#contour(x,y,z);\n",
    "data = [\n",
    "  [\n",
    "    \"z\" =&gt; z,\n",
    "    \"x\" =&gt; x,\n",
    "    \"y\" =&gt; y,\n",
    "    \"type\" =&gt; \"contour\"\n",
    "  ]\n",
    "]\n",
    "response = Plotly.plot(data, [\"filename\" =&gt; \"simple-contour\", \"fileopt\" =&gt; \"overwrite\"])\n",
    "plot_url = response[\"url\"]"
   ]
  },
  {
   "cell_type": "code",
   "execution_count": 43,
   "metadata": {},
   "outputs": [
    {
     "ename": "LoadError",
     "evalue": "syntax: incomplete: \"for\" at none:2 requires end",
     "output_type": "error",
     "traceback": [
      "syntax: incomplete: \"for\" at none:2 requires end",
      ""
     ]
    }
   ],
   "source": [
    "using Plotly\n",
    "\n",
    "size = 100\n",
    "x = range(-2*pi, stop=2*pi, size)\n",
    "y = range(-2*pi, stop=2*pi, size)\n",
    "z = rand(size, size)\n",
    "for i = 1:size\n",
    "  for j = 1:size\n",
    "    r2 = (x(i)^2 + y(j)^2)\n",
    "        z(i,j) = sin(x(i))*cos(y(j))*sin(r2)/log(r2+1)\n",
    "\n",
    "\n",
    "data = [\n",
    "  [\n",
    "    \"z\" =&gt; z\n",
    "    \"x\" =&gt; x\n",
    "    \"y\" =&gt; y\n",
    "    \"type\" =&gt; \"contour\"\n",
    "  ]\n",
    "]\n",
    "response = Plotly.plot(data, [\"filename\" =&gt; \"simple-contour\"; \"fileopt\" =&gt; \"overwrite\"])\n",
    "plot_url = response[\"url\"]"
   ]
  },
  {
   "cell_type": "markdown",
   "metadata": {},
   "source": [
    "### <span style=\"color:#00B8DE\"> II - Backtracking </span>"
   ]
  },
  {
   "cell_type": "code",
   "execution_count": 27,
   "metadata": {},
   "outputs": [],
   "source": [
    "# Gradient algorithm\n",
    "# constant stepsize\n",
    "#-------------------\n",
    "using LinearAlgebra: norm, transpose\n",
    "precision = 1.e-8\n",
    "max_iter  = 10e4\n",
    "init      = [-4, -2]#[-5,-.5]\n",
    "\n",
    "# Constant stepsize\n",
    "pt         = init\n",
    "nb_const   = 0 # number of loops\n",
    "resu_const = pt\n",
    "while norm(pt-opt)>precision && nb_const<max_iter\n",
    "    pt = pt- 0.01 * ∇f(pt[1],pt[2])\n",
    "    resu_const  = [resu_const pt]\n",
    "    nb_const+=1\n",
    "end"
   ]
  },
  {
   "cell_type": "code",
   "execution_count": 28,
   "metadata": {},
   "outputs": [
    {
     "data": {
      "text/plain": [
       "backtracking (generic function with 1 method)"
      ]
     },
     "execution_count": 28,
     "metadata": {},
     "output_type": "execute_result"
    }
   ],
   "source": [
    "# Backtracking\n",
    "#-------------\n",
    "function backtracking(x,f,∇f,d)\n",
    "    \"\"\"\n",
    "    bactracking: \n",
    "    see e.g. https://web.stanford.edu/~boyd/cvxbook/bv_cvxbook.pdf - p.464\n",
    "    IN:\n",
    "    ---\n",
    "    x: initial point\n",
    "    f, ∇f: function to be minimized and its gradient\n",
    "    d: searc direction\n",
    "    OUT:\n",
    "    ----\n",
    "    y: final point\n",
    "    n: number of loops\n",
    "    \"\"\"\n",
    "    t = 1\n",
    "    alpha = 0.25\n",
    "    beta = 0.7\n",
    "    numberLoop = 0\n",
    "    gradient = ∇f(x[1],x[2])\n",
    "    while(f(x[1]+t*d[1],x[2]+t*d[2]) >f(x[1],x[2])+(alpha*t)*(transpose(gradient)*d))\n",
    "        t=beta*t\n",
    "        numberLoop+=1\n",
    "    end\n",
    "    x = x- t* ∇f(x[1],x[2]) \n",
    "    #d=.-∇f(pt[1],pt[2])   \n",
    "    return (x, numberLoop)\n",
    "    \n",
    "end"
   ]
  },
  {
   "cell_type": "code",
   "execution_count": 29,
   "metadata": {},
   "outputs": [],
   "source": [
    "# Gradient algorithm\n",
    "# with backtracking\n",
    "#-------------------\n",
    "pt             = init\n",
    "nb_iter_grad   = 0  # number of loops\n",
    "nb_loops_grad  = 0  # number of inner loops count for backtracking\n",
    "resu_grad      = pt\n",
    "while norm(pt-opt)>precision && nb_iter_grad<max_iter\n",
    "    (pt,numberLoop)=backtracking(pt,f,∇f, -∇f(pt[1],pt[2]))\n",
    "    nb_loops_grad+=numberLoop\n",
    "    nb_iter_grad+=1\n",
    "    resu_grad      = [resu_grad pt]\n",
    "end"
   ]
  },
  {
   "cell_type": "code",
   "execution_count": 30,
   "metadata": {},
   "outputs": [
    {
     "name": "stdout",
     "output_type": "stream",
     "text": [
      "Error with constant stepsize: 9.980669070114126e-9\n",
      "Number of iterations with constant stepsize: 1491\n",
      "\n",
      "\n",
      "Error with backtracking: 7.651366552586751e-9\n",
      "Number of iterations for backtracking= 45\n",
      "Number of inner loops for backtracking = 223\n"
     ]
    }
   ],
   "source": [
    "println(\"Error with constant stepsize: $(norm(resu_const[:,end]-opt))\")\n",
    "println(\"Number of iterations with constant stepsize: $nb_const\\n\\n\")\n",
    "    \n",
    "println(\"Error with backtracking: $(norm(resu_grad[:,end]-opt))\")\n",
    "println(\"Number of iterations for backtracking= $nb_iter_grad\")\n",
    "println(\"Number of inner loops for backtracking = $nb_loops_grad\")"
   ]
  },
  {
   "cell_type": "markdown",
   "metadata": {},
   "source": [
    "### <span style=\"color:#00B8DE\"> III - Gradient and Newton </span>"
   ]
  },
  {
   "cell_type": "code",
   "execution_count": 31,
   "metadata": {},
   "outputs": [
    {
     "data": {
      "text/plain": [
       "backtracking (generic function with 2 methods)"
      ]
     },
     "execution_count": 31,
     "metadata": {},
     "output_type": "execute_result"
    }
   ],
   "source": [
    "function backtracking(x,f,∇f,∇2f, d)\n",
    "    \"\"\"\n",
    "    bactracking: \n",
    "    see e.g. https://web.stanford.edu/~boyd/cvxbook/bv_cvxbook.pdf - p.464\n",
    "    IN:\n",
    "    ---\n",
    "    x: initial point\n",
    "    f, ∇f: function to be minimized and its gradient\n",
    "    d: searc direction\n",
    "    OUT:\n",
    "    ----\n",
    "    y: final point\n",
    "    n: number of loops\n",
    "    \"\"\"\n",
    "    t = 1\n",
    "    alpha = 0.25\n",
    "    beta = 0.7\n",
    "    numberLoop = 0\n",
    "    gradient = ∇f(x[1],x[2])\n",
    "    while(f(x[1]+t*d[1],x[2]+t*d[2]) >f(x[1],x[2])+(alpha*t)*(transpose(gradient)*d))\n",
    "        t=beta*t\n",
    "        numberLoop+=1\n",
    "    end\n",
    "    x = x - inv(∇2f(x[1],x[2])) * ∇f(x[1],x[2])\n",
    "    #d=.-∇f(pt[1],pt[2])   \n",
    "    return (x, numberLoop)\n",
    "    \n",
    "end"
   ]
  },
  {
   "cell_type": "code",
   "execution_count": 32,
   "metadata": {},
   "outputs": [],
   "source": [
    "# Newton algorithm (with backtracking)\n",
    "#-------------------------------------\n",
    "∇2f(x,y) = [[2*(sin(y-1)^2)+2 2*(x-2)*sin(2y-2)];[2*(x-2)*sin(2y-2) 2*(x-2)^2*cos(2*y-2)+2]]\n",
    "\n",
    "pt        = init\n",
    "nb_iter   = 0        # number of loops\n",
    "nb_loops  = 0        # number of inner loops count for backtracking\n",
    "resu_N    = pt\n",
    "while norm(pt-opt)>precision && nb_iter<max_iter\n",
    "    (pt,numberLoop) = backtracking(pt,f,∇f,∇2f,-∇f(pt[1],pt[2]))\n",
    "    nb_loops+=numberLoop\n",
    "    nb_iter+=1\n",
    "    resu_N = [resu_N pt]\n",
    "end"
   ]
  },
  {
   "cell_type": "code",
   "execution_count": 33,
   "metadata": {},
   "outputs": [
    {
     "name": "stdout",
     "output_type": "stream",
     "text": [
      "Error with Newton+backtracking: 6.996747706783417e-10\n",
      "Number of iterations for Newton= 60\n",
      "Number of inner loops for Newton = 160\n"
     ]
    }
   ],
   "source": [
    "println(\"Error with Newton+backtracking: $(norm(resu_N[:,end]-opt))\")\n",
    "println(\"Number of iterations for Newton= $nb_iter\")\n",
    "println(\"Number of inner loops for Newton = $nb_loops\")"
   ]
  },
  {
   "cell_type": "code",
   "execution_count": 34,
   "metadata": {},
   "outputs": [
    {
     "name": "stdout",
     "output_type": "stream",
     "text": [
      "[1.7083207988800078, 8.97065095290153]\n"
     ]
    }
   ],
   "source": [
    "using LinearAlgebra: eigvals\n",
    "println(eigvals(∇2f(pt[1],pt[2])))"
   ]
  },
  {
   "cell_type": "code",
   "execution_count": 35,
   "metadata": {},
   "outputs": [
    {
     "ename": "LoadError",
     "evalue": "syntax: invalid identifier name \"...\"",
     "output_type": "error",
     "traceback": [
      "syntax: invalid identifier name \"...\"",
      ""
     ]
    }
   ],
   "source": [
    "# Figure: gradient and Newton with backtracking\n",
    "..."
   ]
  },
  {
   "cell_type": "markdown",
   "metadata": {},
   "source": [
    "### <span style=\"color:#00B8DE\"> IV - Conjugate gradient </span>"
   ]
  },
  {
   "cell_type": "code",
   "execution_count": 36,
   "metadata": {},
   "outputs": [
    {
     "data": {
      "text/plain": [
       "2-element Array{Float64,1}:\n",
       " 1.0\n",
       " 0.2"
      ]
     },
     "execution_count": 36,
     "metadata": {},
     "output_type": "execute_result"
    }
   ],
   "source": [
    "using LinearAlgebra: norm\n",
    "\n",
    "A=[1 0;0 5]\n",
    "b=[1,1]\n",
    "p(x,y)  = 0.5*transpose([x;y])*A*[x;y] - transpose([x;y])*b\n",
    "∇p(x,y) = A * [x;y] - b\n",
    "opt= inv(A)*b"
   ]
  },
  {
   "cell_type": "code",
   "execution_count": 37,
   "metadata": {},
   "outputs": [],
   "source": [
    "precision = 1.e-8\n",
    "max_iter  = 10e4\n",
    "init      = [-2,3]\n",
    "\n",
    "# optimal stepsize\n",
    "pt            = init\n",
    "nb_opt_grad   = 0 # number of loops\n",
    "resu_opt_grad = pt\n",
    "alpha = 0.01\n",
    "#r = - ∇p(pt[1],pt[2])\n",
    "#pd = r\n",
    "while norm(pt-opt)>precision && nb_opt_grad<max_iter\n",
    "    pt = pt - alpha * ∇p(pt[1], pt[2])\n",
    "    resu_opt_grad = [resu_opt_grad pt]\n",
    "    nb_opt_grad+=1\n",
    "end"
   ]
  },
  {
   "cell_type": "code",
   "execution_count": 38,
   "metadata": {},
   "outputs": [
    {
     "name": "stdout",
     "output_type": "stream",
     "text": [
      "Error with gradient with optimal stepsize: 9.915265608562155e-9\n",
      "Number of iterations = 1943\n"
     ]
    }
   ],
   "source": [
    "println(\"Error with gradient with optimal stepsize: $(norm(resu_opt_grad[:,end]-opt))\")\n",
    "println(\"Number of iterations = $nb_opt_grad\")"
   ]
  },
  {
   "cell_type": "code",
   "execution_count": 39,
   "metadata": {},
   "outputs": [
    {
     "ename": "LoadError",
     "evalue": "syntax: invalid identifier name \"...\"",
     "output_type": "error",
     "traceback": [
      "syntax: invalid identifier name \"...\"",
      ""
     ]
    }
   ],
   "source": [
    "# For options of Plots.jl, see https://docs.juliaplots.org/latest/\n",
    "using Plots\n",
    "pyplot()\n",
    "\n",
    "..."
   ]
  },
  {
   "cell_type": "code",
   "execution_count": 40,
   "metadata": {},
   "outputs": [
    {
     "name": "stdout",
     "output_type": "stream",
     "text": [
      "[-2, 3][-2.0 -1.378159757330637; 3.0 0.09807886754297268][-2.0 -1.378159757330637 1.0; 3.0 0.09807886754297268 0.19999999999999923]"
     ]
    }
   ],
   "source": [
    "# Conjugate gradient\n",
    "#--------------------\n",
    "pt          = init\n",
    "nb_iter_CG  = 0        # number of iterations\n",
    "nb_loops_CG = 0        # number of inner loops count for backtracking\n",
    "err_CG      = norm(pt-opt)\n",
    "# initialization\n",
    "r = - ∇p(pt[1],pt[2])\n",
    "pd = r          \n",
    "resu_CG = pt\n",
    "# iterations\n",
    "for k = 1:2\n",
    "    alpha = (transpose(r) * r)/(transpose(pd)*A*pd)\n",
    "    pt = pt + alpha * pd\n",
    "    rOld = r\n",
    "    r = r - alpha*A*pd\n",
    "    beta = (transpose(r)*r)/(transpose(rOld)*rOld)\n",
    "    pd= r + beta*pd\n",
    "    nb_opt_grad+=1\n",
    "    print(resu_CG)\n",
    "    resu_CG = [resu_CG pt]\n",
    "    err_CG = [err_CG norm(pt-opt)]\n",
    "end\n",
    "print(resu_CG)"
   ]
  },
  {
   "cell_type": "code",
   "execution_count": 41,
   "metadata": {},
   "outputs": [
    {
     "name": "stdout",
     "output_type": "stream",
     "text": [
      "Error with CG: 7.771561172376096e-16\n",
      "Error number of iterations with CG: 3\n"
     ]
    }
   ],
   "source": [
    "println(\"Error with CG: $(err_CG[end])\")\n",
    "println(\"Error number of iterations with CG: $(size(resu_CG)[2])\")"
   ]
  },
  {
   "cell_type": "code",
   "execution_count": 42,
   "metadata": {},
   "outputs": [],
   "source": [
    "# Figure: gradient with optimal step"
   ]
  },
  {
   "cell_type": "markdown",
   "metadata": {},
   "source": [
    "### A larger problem"
   ]
  },
  {
   "cell_type": "code",
   "execution_count": 43,
   "metadata": {
    "scrolled": true
   },
   "outputs": [
    {
     "name": "stdout",
     "output_type": "stream",
     "text": [
      "382.0133736243563\n"
     ]
    },
    {
     "data": {
      "image/png": "[encoded data removed]"
     },
     "execution_count": 43,
     "metadata": {},
     "output_type": "execute_result"
    }
   ],
   "source": [
    "using Plots:plot\n",
    "using LinearAlgebra: cond, diagm, norm\n",
    "\n",
    "n = 100\n",
    "A = randn(n,n)\n",
    "A = A'*A + diagm(0=>ones(n))\n",
    "println(cond(A))\n",
    "b = randn(n)\n",
    "opt = inv(A) * b\n",
    "\n",
    "pt          = randn(n)\n",
    "err_CG      = norm(pt-opt)\n",
    "\n",
    "# initialization\n",
    "p(x)  = 0.5*transpose(x)*A*x - transpose(x)*b\n",
    "∇p(x) = A * x - b\n",
    "r = - ∇p(pt)\n",
    "pd = r                    \n",
    "# iterations\n",
    "for k = 1:n\n",
    "    alpha = (transpose(r) * r)/(transpose(pd)*A*pd)\n",
    "    pt = pt + alpha * pd\n",
    "    rOld = r\n",
    "    r = r - alpha*A*pd\n",
    "    beta = (transpose(r)*r)/(transpose(rOld)*rOld)\n",
    "    pd= r + beta*pd\n",
    "    err_CG = [err_CG;norm(pt.-opt)]\n",
    "end\n",
    "plot(err_CG/norm(opt),yscale=:log10,label=\"error norm of CG\",size=(400,300))"
   ]
  },
  {
   "cell_type": "markdown",
   "metadata": {},
   "source": [
    "### <span style=\"color:#00B8DE\"> V - Polak-Ribière </span>"
   ]
  },
  {
   "cell_type": "markdown",
   "metadata": {},
   "source": [
    "#### <span style=\"color:#00B8DE\">Polack-Ribière method</span>\n",
    "\n",
    "Initialization: \n",
    "\n",
    "> 1. initialize ${\\bf x_0}$ and calculate $\\Delta {\\bf x_0}$, where $\\Delta {\\bf x_n}= - \\nabla f ({\\bf x_n})$ \n",
    "> 2. $\\alpha_0 = \\arg \\min_\\alpha f({\\bf x_0}+\\alpha \\Delta {\\bf x_0})$\n",
    "> 3. ${\\bf x_1}={\\bf x_0}+\\alpha_0 \\Delta {\\bf x_0}$\n",
    "\n",
    "Iterations: \n",
    "\n",
    "> 1. $\\beta_{n} = \\frac{\\nabla f ({\\bf x_n})^{\\top} (\\nabla f ( {\\bf x_n})-\\nabla f ({\\bf x_{n-1}}))} {\\nabla f ({\\bf x_{n-1})^{\\top}} \\nabla f ({\\bf x_{n-1}})}$\n",
    "> 2. ${\\bf d_n}= -\\nabla f ({\\bf x_n})+\\beta_n {\\bf d_{n-1}}$\n",
    "> 3. $\\alpha_n=\\arg \\min_{\\alpha} f({\\bf x_n}+\\alpha {\\bf d_n})$\n",
    "> 4. ${\\bf x_{n+1}}={\\bf x_n}+\\alpha_{n} {\\bf d_n}$\n"
   ]
  },
  {
   "cell_type": "code",
   "execution_count": 44,
   "metadata": {},
   "outputs": [
    {
     "data": {
      "text/plain": [
       "backtracking (generic function with 2 methods)"
      ]
     },
     "execution_count": 44,
     "metadata": {},
     "output_type": "execute_result"
    }
   ],
   "source": [
    "function backtracking(x,f,∇f,d)\n",
    "    \"\"\"\n",
    "    bactracking: \n",
    "    see e.g. https://web.stanford.edu/~boyd/cvxbook/bv_cvxbook.pdf - p.464\n",
    "    IN:\n",
    "    ---\n",
    "    x: initial point\n",
    "    f, ∇f: function to be minimized and its gradient\n",
    "    d: searc direction\n",
    "    OUT:\n",
    "    ----\n",
    "    t: stepsize\n",
    "    n: number of loops\n",
    "    \"\"\"\n",
    "    t = 1\n",
    "    alpha = 0.25\n",
    "    beta = 0.7\n",
    "    numberLoop = 0\n",
    "    gradient = ∇f(x[1],x[2])\n",
    "    while(f(x[1]+t*d[1],x[2]+t*d[2]) >f(x[1],x[2])+(alpha*t)*(transpose(gradient)*d))\n",
    "        t=beta*t\n",
    "        numberLoop+=1\n",
    "    end  \n",
    "    return (t, numberLoop)\n",
    "    \n",
    "end"
   ]
  },
  {
   "cell_type": "code",
   "execution_count": 45,
   "metadata": {},
   "outputs": [],
   "source": [
    "# Polak-Ribière\n",
    "#---------------\n",
    "using LinearAlgebra: norm, transpose\n",
    "precision = 1.e-8\n",
    "max_iter  = 10e4\n",
    "init      = [-4, -2]#[-5,-.5]\n",
    "pt          = init\n",
    "nb_iter_PR  = 0        # number of iterations\n",
    "nb_loops_PR = 0        # number of inner loops count for backtracking\n",
    "resu_PR     = pt\n",
    "opt = [0.09172811859570773;0.7789586896619789]\n",
    "\n",
    "f(x,y)  = ((x-2)*sin(y-1))^2 + x^2 + y^2 \n",
    "∇f(x,y)  =[2*(x-2)*(sin(y-1))^2+2*x; 2*(x-2)^2 * sin(y-1) * cos(y-1)+2*y]\n",
    "\n",
    "# initialization\n",
    "r = -∇f(pt[1],pt[2])\n",
    "pd = r \n",
    "(alpha, numberLoop)= backtracking(pt,f,∇f,pd)\n",
    "nb_loops_PR+=numberLoop\n",
    "ptOld = pt\n",
    "pt = pt + alpha * pd\n",
    "\n",
    "# iterations\n",
    "while norm(pt-opt)>precision && nb_iter_PR<max_iter\n",
    "    # iterations\n",
    "    gradPt = ∇f(pt[1],pt[2])\n",
    "    gradOldPt = ∇f(ptOld[1],ptOld[2])\n",
    "    beta = transpose(gradPt)*(gradPt-gradOldPt)/(transpose(gradOldPt)*gradOldPt)\n",
    "    pd = -gradPt + beta*pd\n",
    "    (alpha, numberLoop)= backtracking(pt,f,∇f,pd)\n",
    "    nb_loops_PR+=numberLoop\n",
    "    ptOld = pt\n",
    "    pt = pt + alpha * pd\n",
    "    resu_PR = [resu_PR pt]\n",
    "    nb_iter_PR+=1\n",
    "end"
   ]
  },
  {
   "cell_type": "code",
   "execution_count": 46,
   "metadata": {},
   "outputs": [
    {
     "name": "stdout",
     "output_type": "stream",
     "text": [
      "Error with gradient = 7.651366552586751e-9\n",
      "Number of iterations = 45\n",
      "Number of inner loops = 223\n",
      "\n",
      "Error with Polack-Ribière = 4.364291720413405e-9\n",
      "Number of iterations = 45\n",
      "Number of inner loops = 522\n"
     ]
    }
   ],
   "source": [
    "println(\"Error with gradient = $(norm(resu_grad[:,end]-opt))\")\n",
    "println(\"Number of iterations = $nb_iter_grad\")\n",
    "println(\"Number of inner loops = $nb_loops_grad\\n\")\n",
    "\n",
    "println(\"Error with Polack-Ribière = $(norm(resu_PR[:,end]-opt))\")\n",
    "println(\"Number of iterations = $nb_iter_PR\")\n",
    "println(\"Number of inner loops = $nb_loops_PR\")"
   ]
  },
  {
   "cell_type": "code",
   "execution_count": null,
   "metadata": {},
   "outputs": [],
   "source": [
    "#Figure: Gradient and Polack-Ribière (with backtraking)\n",
    "..."
   ]
  },
  {
   "cell_type": "code",
   "execution_count": null,
   "metadata": {},
   "outputs": [],
   "source": []
  }
 ],
 "metadata": {
  "@webio": {
   "lastCommId": null,
   "lastKernelId": null
  },
  "kernelspec": {
   "display_name": "Julia 1.2.0",
   "language": "julia",
   "name": "julia-1.2"
  },
  "language_info": {
   "file_extension": ".jl",
   "mimetype": "application/julia",
   "name": "julia",
   "version": "1.2.0"
  }
 },
 "nbformat": 4,
 "nbformat_minor": 1
}
