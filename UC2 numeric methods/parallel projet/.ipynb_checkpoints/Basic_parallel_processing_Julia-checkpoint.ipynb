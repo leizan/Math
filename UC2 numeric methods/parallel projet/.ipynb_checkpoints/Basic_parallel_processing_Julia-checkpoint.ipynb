{
 "cells": [
  {
   "cell_type": "markdown",
   "metadata": {},
   "source": [
    "<img\n",
    "src=\"http://www.telecom-em.eu/sites/default/files/logoimt2016.JPG\"\n",
    "WIDTH=180 HEIGHT=180>\n",
    "\n",
    "<CENTER>\n",
    "<p>\n",
    "<font size=\"5\"> Introduction to parallel computing</font></p>\n",
    "</CENTER>"
   ]
  },
  {
   "cell_type": "markdown",
   "metadata": {},
   "source": [
    "----------------\n",
    "\n",
    "# Parallel programming\n",
    "\n",
    "Use the official documentation \n",
    "https://docs.julialang.org/en/v1/manual/parallel-computing/index.html\n",
    "\n",
    "Julia evolves quickly so you will be sure that the official documentation is up to date.\n",
    "\n",
    "Other resources can be found on the internet but not all of them are up to date...\n",
    "(e.g. https://codingclubuc3m.github.io/2018-06-06-Parallel-computing-Julia.html , replace all occurences of  @parallel by @distributed)\n",
    "\n"
   ]
  },
  {
   "cell_type": "code",
   "execution_count": 1,
   "metadata": {},
   "outputs": [
    {
     "data": {
      "text/plain": [
       "3-element Array{Int64,1}:\n",
       " 2\n",
       " 3\n",
       " 4"
      ]
     },
     "execution_count": 1,
     "metadata": {},
     "output_type": "execute_result"
    }
   ],
   "source": [
    "# Using Pkg\n",
    "# Pkg.add(\"Distributed\")\n",
    "\n",
    "using Distributed\n",
    "\n",
    "CPU_CORES = 4 # number of cores on the machine\n",
    "\n",
    "# Before adding workers.\n",
    "nprocs()\n",
    "nworkers() # when there are no no extra workers, nprocs() = nworkers().\n",
    "\n",
    "# After adding them.\n",
    "addprocs(CPU_CORES - 1) # 4 cores\n",
    "# addprocs(1) # 2 cores\n",
    "nprocs()\n",
    "nworkers()\n",
    "workers()\n",
    "\n",
    "# nworkers() #Number of available worker processes. nworkers() = nprocs() - 1.\n"
   ]
  },
  {
   "cell_type": "markdown",
   "metadata": {},
   "source": [
    "### Using tasks"
   ]
  },
  {
   "cell_type": "code",
   "execution_count": 2,
   "metadata": {},
   "outputs": [
    {
     "data": {
      "text/plain": [
       "Task (runnable) @0x00007f1388cfba90"
      ]
     },
     "execution_count": 2,
     "metadata": {},
     "output_type": "execute_result"
    }
   ],
   "source": [
    "a() = sum(i for i in 1:1000) # sum of integers from 1 to 1000 = 500500\n",
    "b   = Task(a)  # or b = @task a()  # associate task to this function"
   ]
  },
  {
   "cell_type": "code",
   "execution_count": 3,
   "metadata": {},
   "outputs": [
    {
     "data": {
      "text/plain": [
       "false"
      ]
     },
     "execution_count": 3,
     "metadata": {},
     "output_type": "execute_result"
    }
   ],
   "source": [
    "istaskstarted(b) "
   ]
  },
  {
   "cell_type": "code",
   "execution_count": 4,
   "metadata": {},
   "outputs": [
    {
     "data": {
      "text/plain": [
       "Task (done) @0x00007f1388cfba90"
      ]
     },
     "execution_count": 4,
     "metadata": {},
     "output_type": "execute_result"
    }
   ],
   "source": [
    "schedule(b) # Adds the task to the scheduler's queue"
   ]
  },
  {
   "cell_type": "code",
   "execution_count": 5,
   "metadata": {},
   "outputs": [
    {
     "data": {
      "text/plain": [
       "true"
      ]
     },
     "execution_count": 5,
     "metadata": {},
     "output_type": "execute_result"
    }
   ],
   "source": [
    "istaskstarted(b)"
   ]
  },
  {
   "cell_type": "code",
   "execution_count": 6,
   "metadata": {},
   "outputs": [
    {
     "data": {
      "text/plain": [
       "true"
      ]
     },
     "execution_count": 6,
     "metadata": {},
     "output_type": "execute_result"
    }
   ],
   "source": [
    "istaskdone(b)"
   ]
  },
  {
   "cell_type": "code",
   "execution_count": 7,
   "metadata": {},
   "outputs": [
    {
     "data": {
      "text/plain": [
       "Task (done) @0x00007f1388cfba90"
      ]
     },
     "execution_count": 7,
     "metadata": {},
     "output_type": "execute_result"
    }
   ],
   "source": [
    "b"
   ]
  },
  {
   "cell_type": "code",
   "execution_count": 8,
   "metadata": {},
   "outputs": [
    {
     "data": {
      "text/plain": [
       "500500"
      ]
     },
     "execution_count": 8,
     "metadata": {},
     "output_type": "execute_result"
    }
   ],
   "source": [
    "fetch(b) # get the answer of task"
   ]
  },
  {
   "cell_type": "markdown",
   "metadata": {},
   "source": [
    "### Using several workers"
   ]
  },
  {
   "cell_type": "code",
   "execution_count": 9,
   "metadata": {},
   "outputs": [
    {
     "data": {
      "text/plain": [
       "3-element Array{Int64,1}:\n",
       " 2\n",
       " 3\n",
       " 4"
      ]
     },
     "execution_count": 9,
     "metadata": {},
     "output_type": "execute_result"
    }
   ],
   "source": [
    "workers() # find out how many workers are active"
   ]
  },
  {
   "cell_type": "code",
   "execution_count": 3,
   "metadata": {},
   "outputs": [
    {
     "data": {
      "text/plain": [
       "2-element Array{Int64,1}:\n",
       " 2\n",
       " 3"
      ]
     },
     "execution_count": 3,
     "metadata": {},
     "output_type": "execute_result"
    }
   ],
   "source": [
    "addprocs(2) # add two workers"
   ]
  },
  {
   "cell_type": "code",
   "execution_count": 4,
   "metadata": {},
   "outputs": [
    {
     "data": {
      "text/plain": [
       "2-element Array{Int64,1}:\n",
       " 2\n",
       " 3"
      ]
     },
     "execution_count": 4,
     "metadata": {},
     "output_type": "execute_result"
    }
   ],
   "source": [
    "workers() "
   ]
  },
  {
   "cell_type": "code",
   "execution_count": 7,
   "metadata": {},
   "outputs": [
    {
     "data": {
      "text/plain": [
       "(3, Task (done) @0x00007f37b5395600)"
      ]
     },
     "execution_count": 7,
     "metadata": {},
     "output_type": "execute_result"
    }
   ],
   "source": [
    "nprocs(),rmprocs(7) # list number of active processes, remove process with PID 7\n",
    "                      # rmprocs(1) does not work because procs = 1 is not a worker"
   ]
  },
  {
   "cell_type": "code",
   "execution_count": 12,
   "metadata": {},
   "outputs": [
    {
     "data": {
      "text/plain": [
       "Future(2, 1, 7, nothing)"
      ]
     },
     "execution_count": 12,
     "metadata": {},
     "output_type": "execute_result"
    }
   ],
   "source": [
    "w = 2 # worker number 2\n",
    "r = remotecall(rand, w, 2, 2) # RemoteRef: reference to computed result.\n",
    "# call rand function to be executed on worker 2.A \"Future\" object is returned (something that will be fetched later on)"
   ]
  },
  {
   "cell_type": "code",
   "execution_count": 11,
   "metadata": {},
   "outputs": [
    {
     "data": {
      "text/plain": [
       "2×2 Array{Float64,2}:\n",
       " 0.755939  0.880594 \n",
       " 0.117979  0.0646422"
      ]
     },
     "execution_count": 11,
     "metadata": {},
     "output_type": "execute_result"
    }
   ],
   "source": [
    "fetch(r)  # gets the computed result\n",
    "          # blocks main processor until result is available "
   ]
  },
  {
   "cell_type": "code",
   "execution_count": null,
   "metadata": {},
   "outputs": [],
   "source": [
    "x,y = 3,4\n",
    "ψ= (x,y)->sqrt(x^2+y^2)\n",
    "remotecall_fetch(ψ,w,x,y) # obtain value of computation of psi by worker number w and passing arguments x,y (both remotecall and fetch are performed at the same time)"
   ]
  },
  {
   "cell_type": "code",
   "execution_count": 13,
   "metadata": {},
   "outputs": [
    {
     "data": {
      "text/plain": [
       "2×2 Array{Float64,2}:\n",
       " 1.22988   0.824312\n",
       " 0.923996  1.16082 "
      ]
     },
     "execution_count": 13,
     "metadata": {},
     "output_type": "execute_result"
    }
   ],
   "source": [
    "using LinearAlgebra: diagm\n",
    "\n",
    "w  = 3\n",
    "d  = diagm(0=>[1,1]) # diagonal matrix with ones on the diagonal (first argument is the index of the diagonal used)\n",
    "ex = :($d+fetch($r)) # this computes the value of d + r (which was computed by process 2)\n",
    "s  = @spawnat w eval(ex) # worker w calculates expression ex\n",
    "         # equivalent to s = @spawnat 3 [1 0;0 1]+fetch(r)\n",
    "fetch(s)\n",
    "\n",
    "# here we just passed information from worker 2 to 3 (if task performed at 3 requires info from task performed at 2)"
   ]
  },
  {
   "cell_type": "code",
   "execution_count": null,
   "metadata": {},
   "outputs": [],
   "source": [
    "s= @spawn  sin.(randn(2,2)) #worker is chosen automatically if not specified\n",
    "fetch(s)"
   ]
  },
  {
   "cell_type": "code",
   "execution_count": null,
   "metadata": {},
   "outputs": [],
   "source": [
    "@everywhere using LinearAlgebra: det # execute this on all processes (load this function on every process)\n",
    "result = [@spawnat w det(randn(10,10)) for w in workers()] # execute this function on all processes through a loop\n",
    "# all processes have access to the function det\n",
    "[fetch(result[k]) for k=1:nprocs()-1] # get results on all current processes"
   ]
  },
  {
   "cell_type": "code",
   "execution_count": null,
   "metadata": {},
   "outputs": [],
   "source": [
    "@everywhere println(det(randn(10,10))) # same calculation on each worker"
   ]
  },
  {
   "cell_type": "code",
   "execution_count": null,
   "metadata": {},
   "outputs": [],
   "source": [
    "@everywhere function f(x::Float64)\n",
    "    println(x +randn())\n",
    "end \n",
    "@everywhere x=5.\n",
    "@everywhere f(x)"
   ]
  },
  {
   "cell_type": "markdown",
   "metadata": {},
   "source": [
    "### Parallel loops"
   ]
  },
  {
   "cell_type": "code",
   "execution_count": null,
   "metadata": {
    "scrolled": true
   },
   "outputs": [],
   "source": [
    "function MC_pi(n) # approximation of pi using MC method\n",
    "    s = 0\n",
    "    for k in 1:n\n",
    "        if rand()^2+rand()^2<1. # if we fall in the disk (all possible numbers are in the square)\n",
    "            s=s+1 # add 1\n",
    "        end\n",
    "    end\n",
    "    4*s/n # ratio between area of circle and square is π/4, s/n is an estimation of that ratio \n",
    "    #(number of points falling in the circle/total)\n",
    "end\n",
    "@time MC_pi(10^6)"
   ]
  },
  {
   "cell_type": "code",
   "execution_count": null,
   "metadata": {},
   "outputs": [],
   "source": [
    "workers()\n",
    "addprocs(3)\n",
    "workers()"
   ]
  },
  {
   "cell_type": "markdown",
   "metadata": {},
   "source": [
    "### The map and pmaps functions\n",
    "\n",
    "map allows to call the same function for different inputs of the same sizes.\n",
    "\n",
    "pmap does the same but distributes all the arguments to the different processes"
   ]
  },
  {
   "cell_type": "code",
   "execution_count": null,
   "metadata": {},
   "outputs": [],
   "source": [
    "function MC_pi_parallel(n)\n",
    "    @everywhere function g(x) # function computing whether a point is in the circle or not\n",
    "        rand()^2+rand()^2<1. ? 1 : 0 # no data is required here\n",
    "    end\n",
    "    s = sum(pmap(g,collect(1:n))) # \n",
    "    4*s/n\n",
    "end\n",
    "@time MC_pi_parallel(10^4)"
   ]
  },
  {
   "cell_type": "code",
   "execution_count": null,
   "metadata": {},
   "outputs": [],
   "source": [
    "M = [randn(1000,1000) for k=1:100];\n",
    "@time [det(m) for m in M];\n",
    "@time pmap(det,M);  #parallel mapping of a function"
   ]
  },
  {
   "cell_type": "markdown",
   "metadata": {},
   "source": [
    "### Recovering returned values, Sending data and passing arguments to pmap"
   ]
  },
  {
   "cell_type": "code",
   "execution_count": 30,
   "metadata": {},
   "outputs": [
    {
     "name": "stdout",
     "output_type": "stream",
     "text": [
      "  0.178263 seconds (224.81 k allocations: 11.327 MiB)\n",
      "  1.816960 seconds (57.17 k allocations: 156.194 MiB, 0.88% gc time)\n",
      "(1000,)\n",
      "0.0\n"
     ]
    }
   ],
   "source": [
    "M = 100\n",
    "N = 1000\n",
    "X = randn(M,N)\n",
    "\n",
    "X_parallel = [X[:,k] for k = 1:N]; # this creates an array containing all columns of X that can be iterated over\n",
    "\n",
    "@everywhere using LinearAlgebra: det\n",
    "\n",
    "@time dets = pmap(x -> det(x*x'),X_parallel);\n",
    "@time dets = map(x -> det(x*x'),X_parallel);\n",
    "\n",
    "println(size(dets))\n",
    "println(dets[2]) # this is 0 because matrix has always a rank of 1"
   ]
  },
  {
   "cell_type": "code",
   "execution_count": 40,
   "metadata": {},
   "outputs": [
    {
     "name": "stdout",
     "output_type": "stream",
     "text": [
      "  0.223467 seconds (214.78 k allocations: 10.697 MiB)\n",
      "  2.003184 seconds (97.06 k allocations: 310.673 MiB, 1.51% gc time)\n",
      "(1000,)\n",
      "9024.493195489647\n"
     ]
    }
   ],
   "source": [
    "# we need anonymous functions to call custom functions with pmap\n",
    "# need the correct prototype to send parameters\n",
    "@everywhere using LinearAlgebra: I\n",
    "\n",
    "@everywhere function custom_det(x,λ,M) # computes the determinant of a new matrix with parameters\n",
    "    return  determinant = det(x'*x .+ λ*Matrix{Float64}(I, M, M))\n",
    "end\n",
    "λ = 1\n",
    "\n",
    "@time dets = pmap(x -> custom_det(x,λ,M),X_parallel);\n",
    "@time dets = map(x -> custom_det(x,λ,M),X_parallel);\n",
    "\n",
    "println(size(dets))\n",
    "println(dets[2]) # this is 0 because matrix has always a rank of 1"
   ]
  },
  {
   "cell_type": "code",
   "execution_count": null,
   "metadata": {},
   "outputs": [],
   "source": []
  },
  {
   "cell_type": "code",
   "execution_count": null,
   "metadata": {},
   "outputs": [],
   "source": []
  },
  {
   "cell_type": "markdown",
   "metadata": {},
   "source": [
    "### Distributed arrays"
   ]
  },
  {
   "cell_type": "code",
   "execution_count": null,
   "metadata": {},
   "outputs": [],
   "source": [
    "# using Pkg\n",
    "# Pkg.add(\"DistributedArrays\") # compatibility pb with julia 1.2\n"
   ]
  },
  {
   "cell_type": "code",
   "execution_count": 41,
   "metadata": {},
   "outputs": [],
   "source": [
    "@everywhere using DistributedArrays # distributed arrays are arrays that can be accessed and modified by any process"
   ]
  },
  {
   "cell_type": "code",
   "execution_count": 43,
   "metadata": {},
   "outputs": [],
   "source": [
    "A = drandn(100,100) # directly generate distributed array\n",
    "B = randn(100,100) \n",
    "dB = distribute(B) # convert array to distributed array\n",
    "#C = @DArray [i+j for i = 1:100, j = 1:100];"
   ]
  },
  {
   "cell_type": "code",
   "execution_count": 45,
   "metadata": {},
   "outputs": [
    {
     "name": "stdout",
     "output_type": "stream",
     "text": [
      "  0.004561 seconds (1.74 k allocations: 73.469 KiB)\n",
      "  0.003906 seconds (1.77 k allocations: 74.672 KiB)\n",
      "  0.000148 seconds (6 allocations: 78.359 KiB)\n"
     ]
    }
   ],
   "source": [
    "@time A*A; # distributed array\n",
    "@time dB*dB; # converted distributed array\n",
    "@time B*B; # standard array"
   ]
  },
  {
   "cell_type": "code",
   "execution_count": 47,
   "metadata": {},
   "outputs": [
    {
     "name": "stdout",
     "output_type": "stream",
     "text": [
      "  0.040618 seconds (104.26 k allocations: 4.849 MiB)\n",
      "  0.144409 seconds (405.71 k allocations: 20.409 MiB, 4.49% gc time)\n"
     ]
    }
   ],
   "source": [
    "@time [i+j for i = 1:100, j = 1:100];\n",
    "@time @DArray [i+j for i = 1:100, j = 1:100];"
   ]
  },
  {
   "cell_type": "code",
   "execution_count": null,
   "metadata": {},
   "outputs": [],
   "source": [
    "println(nprocs())\n",
    "# addprocs(7)\n",
    "# rmprocs(12:13)\n",
    "@everywhere using DistributedArrays\n",
    "# WorkerPool([2,3,4])\n",
    "# @DArray [@show x^2 for x = 1:10]; # print all squares from 1 to 10 (not in order because taken care of by different processes)"
   ]
  },
  {
   "cell_type": "code",
   "execution_count": 55,
   "metadata": {},
   "outputs": [
    {
     "name": "stdout",
     "output_type": "stream",
     "text": [
      "  0.291654 seconds (359.45 k allocations: 18.755 MiB)\n",
      "  0.343424 seconds (54.34 k allocations: 765.607 MiB, 16.70% gc time)\n"
     ]
    }
   ],
   "source": [
    "# results depending on nb of procs and data size\n",
    "@time @DArray [x^2 for x = 1:10^8]; # distributed version (only advantageous for large datasets)\n",
    "@time [x^2 for x = 1:10^8]; # standard version\n",
    "\n",
    "# test as a function of number of processes and data size"
   ]
  },
  {
   "cell_type": "code",
   "execution_count": null,
   "metadata": {},
   "outputs": [],
   "source": []
  },
  {
   "cell_type": "markdown",
   "metadata": {},
   "source": [
    "------------"
   ]
  }
 ],
 "metadata": {
  "@webio": {
   "lastCommId": null,
   "lastKernelId": null
  },
  "kernelspec": {
   "display_name": "Julia 1.2.0",
   "language": "julia",
   "name": "julia-1.2"
  },
  "language_info": {
   "file_extension": ".jl",
   "mimetype": "application/julia",
   "name": "julia",
   "version": "1.2.0"
  },
  "latex_envs": {
   "LaTeX_envs_menu_present": true,
   "autoclose": false,
   "autocomplete": true,
   "bibliofile": "biblio.bib",
   "cite_by": "apalike",
   "current_citInitial": 1,
   "eqLabelWithNumbers": true,
   "eqNumInitial": 1,
   "hotkeys": {
    "equation": "Ctrl-E",
    "itemize": "Ctrl-I"
   },
   "labels_anchors": false,
   "latex_user_defs": false,
   "report_style_numbering": false,
   "user_envs_cfg": false
  }
 },
 "nbformat": 4,
 "nbformat_minor": 1
}
