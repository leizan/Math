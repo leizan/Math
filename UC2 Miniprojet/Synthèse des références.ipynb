{
 "cells": [
  {
   "cell_type": "markdown",
   "metadata": {},
   "source": [
    "## Synthèse des références"
   ]
  },
  {
   "cell_type": "markdown",
   "metadata": {},
   "source": [
    "### Espace de Hilbert"
   ]
  },
  {
   "cell_type": "markdown",
   "metadata": {},
   "source": [
    "Un espace de Hilbert est un espace vectoriel réel (resp. complexe) muni d'un produit scalaire hermitien, un produit scalaire hermitien est une application $\\langle\\,f,g\\rangle$ ,définie sur H*H, autrement dit, $\\forall(f,g)\\in\\mathcal{L}^{2}(X, \\Sigma, P)*\\mathcal{L}^{2}(X, \\Sigma, P)$, $\\langle\\,f,g\\rangle$= $\\int{fg}dP$, si f=g, l'équation dernière devient $\\|f\\|$ = $\\sqrt{\\int{{\\lvert f\\rvert}}^{2}dP}$, cela est la norme quadratique de f."
   ]
  },
  {
   "cell_type": "markdown",
   "metadata": {},
   "source": [
    "Pour une fonction aléatoire réelle X(t), elle est d'ordre 2 si quel que soit $t\\in T$\n",
    "\n",
    "$$E[X(t)^{2}] = \\langle\\,X(t),X(t)\\rangle =\\int{{X(t)}^2}dP =  {\\|X(t)\\|}^2 < \\infty$$ \n",
    "\n",
    "qui implique:\n",
    "\n",
    "$$E[X(t)] < \\infty$$ \n",
    "\n",
    "Et l'inégalité de Schwarz montre que l'existance de la covariance:\n",
    "\n",
    "$$\\Gamma(t,t') = E[X(t)\\overline{\\rm X}(t')]$$ \n",
    "\n",
    "Et la covariance est hermitique:\n",
    "\n",
    "$$\\Gamma(t,t') =\\Gamma^{*}(t,t') $$\n",
    "\n"
   ]
  },
  {
   "cell_type": "markdown",
   "metadata": {},
   "source": [
    "###  Convergence au sens en moyenne quadratique"
   ]
  },
  {
   "cell_type": "markdown",
   "metadata": {},
   "source": [
    "Nous dirons qu'une suite $(X_n)_{n\\in N}$ d'éléments de H converge en moyenne quadratique vers un élément X de H, nous écrirons que \n",
    "\n",
    "$$\\lim_{\\substack{n \\to \\infty}} X_{n} = X$$\n",
    "\n",
    "Et aussi on peut montre cette convergence est au sens de la norme $\\| .\\|$, donc on obtient:\n",
    "\n",
    "$$\\lim_{\\substack{n \\to \\infty}} X_{n} = X \\iff \\lim_{\\substack{n \\to \\infty}} \\|X_{n} -X\\| = 0$$\n",
    "\n",
    "On a aussi lemme de Loève:\n",
    "\n",
    "Soit $(X_{n})_{n>1}$ une suite d'éléments d'un espace de Hilbert H. Soit $Y\\in H$. La suite $(X_{n})_{n>1}$ converge en moyenne quadratique converge si et seulement si la suite $(\\langle\\,X{n},X{m}\\rangle)_{n>=1, m>=1}$               admet une limite dans R lorsque n et m tendent vers l'infini. Si Y est la limite en moyenne quadratique de la suite $(X_{n})_{n>1}$, la limite de la suite $(\\langle\\,X{n},X{m}\\rangle)_{n>=1, m>=1}$ est alors ${\\|Y\\|}^{2}$\n",
    "\n",
    "$$\\lim_{\\substack{n \\to \\infty}} X_{n} = Y \\iff \\lim_{\\substack{n, m}} \\|X_{n} -X{m}\\| = {\\|Y\\|}^{2}$$\n",
    "\n",
    "Donc, maintenant on a la définition de la convergence en moyenne quadratique et il peut nous aider à definir une continuité m.q., une dérivation m.q. et une intégration m.q. des processus du $2^{nd}$ ordre."
   ]
  },
  {
   "cell_type": "markdown",
   "metadata": {},
   "source": [
    "#### Continuité m.q:\n",
    "\n",
    "La C.N.S. que X(t) soit continu m.q. en $t \\in T$ il faut que la covariance Γ(t,t′) soit continue au point (t,t) et la continuité de la covariance en chaque point de la diagonale T*T peut assurer la continiuté dans la totalité de l'ensemble T*T.\n",
    "\n",
    "$X(t)$ continue en m.q.: $X(t+h) \\substack{ \\to \\\\ m.q.} X(t)$ quand $h \\to 0$.\n",
    "\n",
    "On suppose $\\Gamma (t,t')$ continue en tout point de $t \\in T$. \n",
    "$||X(t+h) - X(t)||^{2} = ||X(t+h)||^{2} - \\langle\\,X(t+h),X(t)\\rangle - \\langle\\,X(t),X(t+h)\\rangle + ||X(t)||^{2} = \\Gamma(t+h, t+h) -\\Gamma(t+h, t) - \\Gamma(t, t+h) + \\Gamma(t, t)$\n",
    "\n",
    "L'hypothèse entraine donc $||X(t+h) - X(t)||^{2} \\to 0$ quand $h \\to 0$ c'est-à-dire $X(t+h) \\substack { \\to \\\\ m.q.}$ quand $h \\to 0$."
   ]
  },
  {
   "cell_type": "markdown",
   "metadata": {},
   "source": [
    "#### Dérivation m.q:\n",
    "\n",
    "Un processus aléatoire $X(t)$ a une dérivée en m.q. en $t$ si $\\dfrac{X(t+h) - X(t)}{h}$ a une limite en moyenne quadratique quand $h \\to 0$. Cette limite est la dérivée en m.q. notée $X'(t)_{m.q.}$.\n",
    "\n",
    "Critère dérivabilité m.q.:\n",
    "\n",
    "1. La C.N.S que X(t) soit dérivable m.q. en $t \\in T$ est que la dérivée seconde mixte $\\Gamma^{''}_{tt'}(t, t')$ existe en (t,t).\n",
    "\n",
    "2. Les dérivée $\\Gamma^{'}_{t}$, $\\Gamma^{'}_{t'}$, $\\Gamma^{''}_{tt'}$, existent alors sur T *T.\n",
    "\n",
    "3. $\\Gamma^{''}_{tt'}(t,t')$ est la covariance du processus dérivé. "
   ]
  },
  {
   "cell_type": "markdown",
   "metadata": {},
   "source": [
    "#### Intégration m.q.\n",
    "\n",
    "Soient $X(t)$ et $Y(t)$ deux fonctions aléatoires du second ordre, de covariance $\\Gamma_{X}(t,t')$ et $\\Gamma_{Y}(t,t')$, qui ne sont pas suposées centrées. En effet en considèrera des cas particuliers dans lesquels l'une ou l'autre de ces fonctions sera un fonction sûre.\n",
    "\n",
    "\n",
    "- Définition $\\int_{a}^{b} X(t) dY(t)$ intégrale de Riemann en m.q.\n",
    "\n",
    "Soit $a = t_{1}  \\leqslant \\theta_{1} < t_{2}  \\leqslant \\theta_{2} ... t_{n}  \\leqslant \\theta_{n} < t_{n+1} = b$, $D = (a, \\theta_{1}, t_{2}, ..., \\theta_{n}, b )$. $|D| = \\sup_{k}|t_{k+1} - t_{k}|$\n",
    "\n",
    "$S_{D} = \\sum_{k=1}^{n} X(\\theta_{k})(Y(t_{k+1}) - Y(t_{k}))$.\n",
    "\n",
    "Si $S_{D}$ a une limite en m.q. quand $|D| \\to 0$ on pose:\n",
    "\n",
    "Integrale en m.q. $\\int_{a}^{b} X(t) dY(t) = \\lim_{\\substack{|D| \\to 0 \\\\ m.q.}} \\sum_{k=1}^{n} = X(\\theta_{k})(Y(t_{k+1}) - Y(t_{k}))$\n",
    "\n",
    "Il suffit de se donner Y(t) définie à l'addition près d'une variable aléatoire (indépendante de t).\n",
    "\n",
    "Integrale en m.q.  $\\int_{a}^{+\\infty}X(t) dY(t) = \\lim_{\\substack{b \\to +\\infty \\\\ m.q.}} \\int_{a}^{b} X(t)dY(t)$ à condition que cette limite existe."
   ]
  },
  {
   "cell_type": "markdown",
   "metadata": {},
   "source": [
    "Référence:\n",
    "\n",
    "1.Fauconnet. Calcul en moyenne quadratique : continuité, dérivation et intégration. Publications mathématiques et informatique de Rennes (1964-1965), Exposé no. 7, 9 p. http://www.numdam.org/item/PSMIR_1964-1965____A7_0/\n",
    "\n",
    "2.\"Décomosition en paquets d'ondelettes: Espace de Hilbert(rappels)\", Dominique Pastor"
   ]
  }
 ],
 "metadata": {
  "kernelspec": {
   "display_name": "Python 3",
   "language": "python",
   "name": "python3"
  },
  "language_info": {
   "codemirror_mode": {
    "name": "ipython",
    "version": 3
   },
   "file_extension": ".py",
   "mimetype": "text/x-python",
   "name": "python",
   "nbconvert_exporter": "python",
   "pygments_lexer": "ipython3",
   "version": "3.6.9"
  }
 },
 "nbformat": 4,
 "nbformat_minor": 2
}
